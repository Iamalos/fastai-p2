{
 "cells": [
  {
   "cell_type": "markdown",
   "id": "7f85aade-5764-4800-b231-55701cf97674",
   "metadata": {},
   "source": [
    "# Prepare "
   ]
  },
  {
   "cell_type": "code",
   "execution_count": null,
   "id": "3483af97-441f-40e2-9b0e-05d6e7629af7",
   "metadata": {},
   "outputs": [],
   "source": [
    "#| default_exp datasets"
   ]
  },
  {
   "cell_type": "code",
   "execution_count": null,
   "id": "c7764229-971f-4cb5-be98-f0d88a0bf149",
   "metadata": {},
   "outputs": [],
   "source": [
    "%load_ext autoreload\n",
    "%autoreload 2"
   ]
  },
  {
   "cell_type": "code",
   "execution_count": null,
   "id": "e759a061-4da1-477d-b856-8efe44f17954",
   "metadata": {},
   "outputs": [],
   "source": [
    "#| export\n",
    "from __future__ import annotations\n",
    "import math, numpy as np, matplotlib.pyplot as plt\n",
    "from operator import itemgetter\n",
    "from itertools import zip_longest\n",
    "import fastcore.all as fc\n",
    "\n",
    "from torch.utils.data import default_collate\n",
    "\n",
    "from miniai.training import *"
   ]
  },
  {
   "cell_type": "code",
   "execution_count": null,
   "id": "8ce61136-233d-4d01-8903-246d18cc97a0",
   "metadata": {},
   "outputs": [],
   "source": [
    "import logging,pickle,gzip,os,time,shutil,torch,matplotlib as mpl\n",
    "from pathlib import Path\n",
    "\n",
    "from torch import tensor,nn,optim\n",
    "from torch.utils.data import DataLoader\n",
    "import torch.nn.functional as F\n",
    "from datasets import load_dataset,load_dataset_builder\n",
    "\n",
    "import torchvision.transforms.functional as TF\n",
    "from fastcore.test import test_close"
   ]
  },
  {
   "cell_type": "code",
   "execution_count": null,
   "id": "12970579-2415-44ef-811a-b8c4de5e65cf",
   "metadata": {},
   "outputs": [],
   "source": [
    "torch.set_printoptions(precision=2, linewidth=140, sci_mode=False)\n",
    "torch.manual_seed(1)\n",
    "mpl.rcParams['image.cmap'] = 'gray'"
   ]
  },
  {
   "cell_type": "code",
   "execution_count": null,
   "id": "442c9bde-e902-4151-8e11-8d15fceed39c",
   "metadata": {},
   "outputs": [],
   "source": [
    "logging.disable(logging.WARNING)"
   ]
  },
  {
   "cell_type": "markdown",
   "id": "d7055e4f-c3d2-4e50-bba0-7fea13c3c9e8",
   "metadata": {},
   "source": [
    "# Hugging Face Datasets "
   ]
  },
  {
   "cell_type": "markdown",
   "id": "0796e55e-088d-404d-ad82-6182683a4ed9",
   "metadata": {},
   "source": [
    "Load a dataset builder from the Hugging Face Hub, or a local dataset. A dataset builder can be used to inspect general information that is required to build a dataset (cache directory, config, dataset info, etc.)\n",
    "without downloading the dataset itself."
   ]
  },
  {
   "cell_type": "code",
   "execution_count": null,
   "id": "f4bdfdee-2f9a-45c8-a4f7-c076938342ee",
   "metadata": {},
   "outputs": [
    {
     "data": {
      "application/vnd.jupyter.widget-view+json": {
       "model_id": "5ce0fc6979bb4104a4d2c20177d1486a",
       "version_major": 2,
       "version_minor": 0
      },
      "text/plain": [
       "Downloading builder script:   0%|          | 0.00/2.00k [00:00<?, ?B/s]"
      ]
     },
     "metadata": {},
     "output_type": "display_data"
    },
    {
     "data": {
      "application/vnd.jupyter.widget-view+json": {
       "model_id": "4de7898dfe264a6e9c10b6ecd5900d0b",
       "version_major": 2,
       "version_minor": 0
      },
      "text/plain": [
       "Downloading metadata:   0%|          | 0.00/1.36k [00:00<?, ?B/s]"
      ]
     },
     "metadata": {},
     "output_type": "display_data"
    },
    {
     "name": "stdout",
     "output_type": "stream",
     "text": [
      "Fashion-MNIST is a dataset of Zalando's article images—consisting of a training set of\n",
      "60,000 examples and a test set of 10,000 examples. Each example is a 28x28 grayscale image,\n",
      "associated with a label from 10 classes. We intend Fashion-MNIST to serve as a direct drop-in\n",
      "replacement for the original MNIST dataset for benchmarking machine learning algorithms.\n",
      "It shares the same image size and structure of training and testing splits.\n",
      "\n"
     ]
    }
   ],
   "source": [
    "name = 'fashion_mnist'\n",
    "ds_builder = load_dataset_builder(name)\n",
    "print(ds_builder.info.description)"
   ]
  },
  {
   "cell_type": "code",
   "execution_count": null,
   "id": "37c26ef4-978e-4239-9fdb-25cd843b5cf5",
   "metadata": {},
   "outputs": [
    {
     "data": {
      "text/plain": [
       "{'image': Image(decode=True, id=None),\n",
       " 'label': ClassLabel(num_classes=10, names=['T - shirt / top', 'Trouser', 'Pullover', 'Dress', 'Coat', 'Sandal', 'Shirt', 'Sneaker', 'Bag', 'Ankle boot'], id=None)}"
      ]
     },
     "execution_count": null,
     "metadata": {},
     "output_type": "execute_result"
    }
   ],
   "source": [
    "ds_builder.info.features"
   ]
  },
  {
   "cell_type": "markdown",
   "id": "ae3b6d05",
   "metadata": {},
   "source": [
    "We can get the information about the train/test splits"
   ]
  },
  {
   "cell_type": "code",
   "execution_count": null,
   "id": "d58e6bc1-c468-49f7-9b08-e74cf743bbb5",
   "metadata": {},
   "outputs": [
    {
     "data": {
      "text/plain": [
       "{'train': SplitInfo(name='train', num_bytes=31296655, num_examples=60000, dataset_name='fashion_mnist'),\n",
       " 'test': SplitInfo(name='test', num_bytes=5233818, num_examples=10000, dataset_name='fashion_mnist')}"
      ]
     },
     "execution_count": null,
     "metadata": {},
     "output_type": "execute_result"
    }
   ],
   "source": [
    "ds_builder.info.splits"
   ]
  },
  {
   "cell_type": "code",
   "execution_count": null,
   "id": "83891827-ee52-4103-b7e7-7ba604f64bda",
   "metadata": {},
   "outputs": [
    {
     "name": "stdout",
     "output_type": "stream",
     "text": [
      "Downloading and preparing dataset fashion_mnist/fashion_mnist (download: 29.45 MiB, generated: 34.84 MiB, post-processed: Unknown size, total: 64.29 MiB) to /root/.cache/huggingface/datasets/fashion_mnist/fashion_mnist/1.0.0/8d6c32399aa01613d96e2cbc9b13638f359ef62bb33612b077b4c247f6ef99c1...\n"
     ]
    },
    {
     "data": {
      "application/vnd.jupyter.widget-view+json": {
       "model_id": "2696ba27ffe04cc4b3ab42e4c43b9151",
       "version_major": 2,
       "version_minor": 0
      },
      "text/plain": [
       "Downloading data files:   0%|          | 0/4 [00:00<?, ?it/s]"
      ]
     },
     "metadata": {},
     "output_type": "display_data"
    },
    {
     "data": {
      "application/vnd.jupyter.widget-view+json": {
       "model_id": "b712404188604910b3422c7cd0651562",
       "version_major": 2,
       "version_minor": 0
      },
      "text/plain": [
       "Downloading data:   0%|          | 0.00/26.4M [00:00<?, ?B/s]"
      ]
     },
     "metadata": {},
     "output_type": "display_data"
    },
    {
     "data": {
      "application/vnd.jupyter.widget-view+json": {
       "model_id": "0b0df7be39014344b5f87516594a0621",
       "version_major": 2,
       "version_minor": 0
      },
      "text/plain": [
       "Downloading data:   0%|          | 0.00/29.5k [00:00<?, ?B/s]"
      ]
     },
     "metadata": {},
     "output_type": "display_data"
    },
    {
     "data": {
      "application/vnd.jupyter.widget-view+json": {
       "model_id": "ddc0b9b1aead494895eef488f563fa58",
       "version_major": 2,
       "version_minor": 0
      },
      "text/plain": [
       "Downloading data:   0%|          | 0.00/4.42M [00:00<?, ?B/s]"
      ]
     },
     "metadata": {},
     "output_type": "display_data"
    },
    {
     "data": {
      "application/vnd.jupyter.widget-view+json": {
       "model_id": "d158154afbe442a090ee97f0b066cd8b",
       "version_major": 2,
       "version_minor": 0
      },
      "text/plain": [
       "Downloading data:   0%|          | 0.00/5.15k [00:00<?, ?B/s]"
      ]
     },
     "metadata": {},
     "output_type": "display_data"
    },
    {
     "data": {
      "application/vnd.jupyter.widget-view+json": {
       "model_id": "cf986eed4d2049588a56863a1ce33711",
       "version_major": 2,
       "version_minor": 0
      },
      "text/plain": [
       "Extracting data files:   0%|          | 0/4 [00:00<?, ?it/s]"
      ]
     },
     "metadata": {},
     "output_type": "display_data"
    },
    {
     "data": {
      "application/vnd.jupyter.widget-view+json": {
       "model_id": "",
       "version_major": 2,
       "version_minor": 0
      },
      "text/plain": [
       "Generating train split:   0%|          | 0/60000 [00:00<?, ? examples/s]"
      ]
     },
     "metadata": {},
     "output_type": "display_data"
    },
    {
     "data": {
      "application/vnd.jupyter.widget-view+json": {
       "model_id": "",
       "version_major": 2,
       "version_minor": 0
      },
      "text/plain": [
       "Generating test split:   0%|          | 0/10000 [00:00<?, ? examples/s]"
      ]
     },
     "metadata": {},
     "output_type": "display_data"
    },
    {
     "name": "stdout",
     "output_type": "stream",
     "text": [
      "Dataset fashion_mnist downloaded and prepared to /root/.cache/huggingface/datasets/fashion_mnist/fashion_mnist/1.0.0/8d6c32399aa01613d96e2cbc9b13638f359ef62bb33612b077b4c247f6ef99c1. Subsequent calls will reuse this data.\n"
     ]
    },
    {
     "data": {
      "application/vnd.jupyter.widget-view+json": {
       "model_id": "a1c901b44cf04ebfb3298c2e6ff333c0",
       "version_major": 2,
       "version_minor": 0
      },
      "text/plain": [
       "  0%|          | 0/2 [00:00<?, ?it/s]"
      ]
     },
     "metadata": {},
     "output_type": "display_data"
    },
    {
     "data": {
      "text/plain": [
       "DatasetDict({\n",
       "    train: Dataset({\n",
       "        features: ['image', 'label'],\n",
       "        num_rows: 60000\n",
       "    })\n",
       "    test: Dataset({\n",
       "        features: ['image', 'label'],\n",
       "        num_rows: 10000\n",
       "    })\n",
       "})"
      ]
     },
     "execution_count": null,
     "metadata": {},
     "output_type": "execute_result"
    }
   ],
   "source": [
    "dsd = load_dataset(name)\n",
    "dsd"
   ]
  },
  {
   "cell_type": "code",
   "execution_count": null,
   "id": "fc81f5b6-75c0-433a-a4b5-4aeb63bbc9e7",
   "metadata": {},
   "outputs": [
    {
     "data": {
      "text/plain": [
       "{'image': <PIL.PngImagePlugin.PngImageFile image mode=L size=28x28>,\n",
       " 'label': 9}"
      ]
     },
     "execution_count": null,
     "metadata": {},
     "output_type": "execute_result"
    }
   ],
   "source": [
    "train, test = dsd['train'], dsd['test']\n",
    "train[0]"
   ]
  },
  {
   "cell_type": "markdown",
   "id": "ac2c1f7f",
   "metadata": {},
   "source": [
    "Save x,y to variables for ease of using"
   ]
  },
  {
   "cell_type": "code",
   "execution_count": null,
   "id": "94db1282-6d1e-4058-a018-f3c63d1ebf90",
   "metadata": {},
   "outputs": [],
   "source": [
    "x,y = ds_builder.info.features"
   ]
  },
  {
   "cell_type": "code",
   "execution_count": null,
   "id": "e710fd8e-95ed-440b-8733-c058e900ce2e",
   "metadata": {},
   "outputs": [
    {
     "data": {
      "text/plain": [
       "('image', 'label')"
      ]
     },
     "execution_count": null,
     "metadata": {},
     "output_type": "execute_result"
    }
   ],
   "source": [
    "x,y"
   ]
  },
  {
   "cell_type": "code",
   "execution_count": null,
   "id": "a42b76a3-412a-4d9e-ac93-6db2c695b437",
   "metadata": {},
   "outputs": [
    {
     "data": {
      "image/png": "[encoded data removed]",
      "text/plain": [
       "<PIL.PngImagePlugin.PngImageFile image mode=L size=28x28>"
      ]
     },
     "execution_count": null,
     "metadata": {},
     "output_type": "execute_result"
    }
   ],
   "source": [
    "img = train[x][0]\n",
    "img"
   ]
  },
  {
   "cell_type": "code",
   "execution_count": null,
   "id": "4b26c6b8-1716-477f-8e8f-14bf693bdc32",
   "metadata": {},
   "outputs": [
    {
     "data": {
      "text/plain": [
       "[9, 0, 0, 3, 0]"
      ]
     },
     "execution_count": null,
     "metadata": {},
     "output_type": "execute_result"
    }
   ],
   "source": [
    "xb = train[:5][x]\n",
    "yb = train[:5][y]\n",
    "yb"
   ]
  },
  {
   "cell_type": "markdown",
   "id": "30eb2452",
   "metadata": {},
   "source": [
    "Target variable is stored as ints. We can lookup the corresponding titles in a `train.features` using `int2str`"
   ]
  },
  {
   "cell_type": "code",
   "execution_count": null,
   "id": "fab9f082-3729-42d6-8cee-b1cfef6c95a8",
   "metadata": {},
   "outputs": [
    {
     "data": {
      "text/plain": [
       "ClassLabel(num_classes=10, names=['T - shirt / top', 'Trouser', 'Pullover', 'Dress', 'Coat', 'Sandal', 'Shirt', 'Sneaker', 'Bag', 'Ankle boot'], id=None)"
      ]
     },
     "execution_count": null,
     "metadata": {},
     "output_type": "execute_result"
    }
   ],
   "source": [
    "featy = train.features[y]\n",
    "featy"
   ]
  },
  {
   "cell_type": "code",
   "execution_count": null,
   "id": "04241f0b-9dff-4572-9e9d-9d38851500dc",
   "metadata": {},
   "outputs": [
    {
     "data": {
      "text/plain": [
       "['Ankle boot',\n",
       " 'T - shirt / top',\n",
       " 'T - shirt / top',\n",
       " 'Dress',\n",
       " 'T - shirt / top']"
      ]
     },
     "execution_count": null,
     "metadata": {},
     "output_type": "execute_result"
    }
   ],
   "source": [
    "featy.int2str(yb)"
   ]
  },
  {
   "cell_type": "markdown",
   "id": "410da4cb",
   "metadata": {},
   "source": [
    "Using `int2str` is similar to the following comprehension:"
   ]
  },
  {
   "cell_type": "code",
   "execution_count": null,
   "id": "9cd77cfa",
   "metadata": {},
   "outputs": [
    {
     "data": {
      "text/plain": [
       "['Ankle boot',\n",
       " 'T - shirt / top',\n",
       " 'T - shirt / top',\n",
       " 'Dress',\n",
       " 'T - shirt / top']"
      ]
     },
     "execution_count": null,
     "metadata": {},
     "output_type": "execute_result"
    }
   ],
   "source": [
    "[featy.names[o] for o in yb]"
   ]
  },
  {
   "cell_type": "code",
   "execution_count": null,
   "id": "11393a62-c29b-4ebb-a9e9-1569b36dc282",
   "metadata": {},
   "outputs": [
    {
     "data": {
      "text/plain": [
       "\u001b[0;31mSignature:\u001b[0m \u001b[0mTF\u001b[0m\u001b[0;34m.\u001b[0m\u001b[0mto_tensor\u001b[0m\u001b[0;34m(\u001b[0m\u001b[0mpic\u001b[0m\u001b[0;34m)\u001b[0m \u001b[0;34m->\u001b[0m \u001b[0mtorch\u001b[0m\u001b[0;34m.\u001b[0m\u001b[0mTensor\u001b[0m\u001b[0;34m\u001b[0m\u001b[0;34m\u001b[0m\u001b[0m\n",
       "\u001b[0;31mDocstring:\u001b[0m\n",
       "Convert a ``PIL Image`` or ``numpy.ndarray`` to tensor.\n",
       "This function does not support torchscript.\n",
       "\n",
       "See :class:`~torchvision.transforms.ToTensor` for more details.\n",
       "\n",
       "Args:\n",
       "    pic (PIL Image or numpy.ndarray): Image to be converted to tensor.\n",
       "\n",
       "Returns:\n",
       "    Tensor: Converted image.\n",
       "\u001b[0;31mFile:\u001b[0m      /usr/local/lib/python3.9/dist-packages/torchvision/transforms/functional.py\n",
       "\u001b[0;31mType:\u001b[0m      function\n"
      ]
     },
     "metadata": {},
     "output_type": "display_data"
    }
   ],
   "source": [
    "TF.to_tensor?"
   ]
  },
  {
   "cell_type": "markdown",
   "id": "66c2eff7-1ab8-40f1-83ae-6e9c0e6f1a8f",
   "metadata": {},
   "source": [
    "We can understand what is going on with collate fn and why do we need it by setting trace.\n",
    "\n",
    "`Train` is a list of dictionaries, each dictionary consists of `x` and `y`. A batch is a slice of a list and also contains list of dictionaries. PyTorch works with tuples , so we use a coolate_fn to:\n",
    "* convert PIL image to a tensor and \n",
    "* stack xs and ys in separate tensors\n"
   ]
  },
  {
   "cell_type": "code",
   "execution_count": null,
   "id": "59d56cad-49b4-4844-923e-8c866b15fd1b",
   "metadata": {},
   "outputs": [],
   "source": [
    "def collate_fn(b):\n",
    "#     import ipdb; ipdb.set_trace()\n",
    "    return {x: torch.stack([TF.to_tensor(o[x]) for o in b]),\n",
    "            # o[y] are integers, so we just convert a list of ints to a tensor\n",
    "            y: tensor([o[y] for o in b])}"
   ]
  },
  {
   "cell_type": "code",
   "execution_count": null,
   "id": "6babfe20",
   "metadata": {},
   "outputs": [
    {
     "data": {
      "text/plain": [
       "{'image': tensor([[[[1, 6]]],\n",
       " \n",
       " \n",
       "         [[[3, 5]]]]),\n",
       " 'label': tensor([2, 4])}"
      ]
     },
     "execution_count": null,
     "metadata": {},
     "output_type": "execute_result"
    }
   ],
   "source": [
    "t = [{'image': np.array([[1,6]]), 'label': 2}, {'image': np.array([[3,5]]), 'label': 4}]\n",
    "collate_fn(t)"
   ]
  },
  {
   "cell_type": "code",
   "execution_count": null,
   "id": "3546cfc2-7b9f-4a66-b406-3d1533025d44",
   "metadata": {},
   "outputs": [],
   "source": [
    "dl = DataLoader(train,collate_fn=collate_fn, batch_size=16)\n",
    "b = next(iter(dl))"
   ]
  },
  {
   "cell_type": "code",
   "execution_count": null,
   "id": "a726d6c8-91fc-462f-992f-ee14bdab2360",
   "metadata": {},
   "outputs": [
    {
     "data": {
      "text/plain": [
       "(torch.Size([16, 1, 28, 28]), torch.Size([16]))"
      ]
     },
     "execution_count": null,
     "metadata": {},
     "output_type": "execute_result"
    }
   ],
   "source": [
    "b[x].shape, b[y].shape"
   ]
  },
  {
   "cell_type": "markdown",
   "id": "68955e04-1636-4b39-a1ab-ef828694cd5c",
   "metadata": {},
   "source": [
    "Instead of writing a `collate_fn` we can skip it altogether and just use transforms. Behind the curtain, DataLoader will call `transforms` on each item when it calls `__getitem__`. Note that we need to return the changed batch du to the internals of HF."
   ]
  },
  {
   "cell_type": "code",
   "execution_count": null,
   "id": "12c45889-6972-4654-948e-207eeb4e9c95",
   "metadata": {},
   "outputs": [],
   "source": [
    "def transforms(b):\n",
    "    # we can index into HuggingFace Dataset and get back a dict of all xs and ys.\n",
    "    # check below\n",
    "    b[x] = [TF.to_tensor(o) for o in b[x]]\n",
    "    # because HF `with_transforms` requires a return value\n",
    "    return b"
   ]
  },
  {
   "cell_type": "markdown",
   "id": "136b57ba",
   "metadata": {},
   "source": [
    "If we don't provide custom collation function, built-in 'defualt_collate' will be used"
   ]
  },
  {
   "cell_type": "code",
   "execution_count": null,
   "id": "e61ece2d",
   "metadata": {},
   "outputs": [
    {
     "data": {
      "text/plain": [
       "{'a': tensor([ 1, 10]), 'b': tensor([ 2, 20])}"
      ]
     },
     "execution_count": null,
     "metadata": {},
     "output_type": "execute_result"
    }
   ],
   "source": [
    "t = [{'a':1, 'b':2}, {'a':10, 'b':20}]\n",
    "default_collate(t)"
   ]
  },
  {
   "cell_type": "code",
   "execution_count": null,
   "id": "5d75b47d-6d38-409a-bb45-965516d37f1b",
   "metadata": {},
   "outputs": [
    {
     "data": {
      "text/plain": [
       "(torch.Size([16, 1, 28, 28]), torch.Size([16]))"
      ]
     },
     "execution_count": null,
     "metadata": {},
     "output_type": "execute_result"
    }
   ],
   "source": [
    "tds = train.with_transform(transforms) # uses default collation\n",
    "dl = DataLoader(tds, batch_size=16)\n",
    "b = next(iter(dl))\n",
    "b[x].shape, b[y].shape"
   ]
  },
  {
   "cell_type": "markdown",
   "id": "173e7913-4b27-43a6-a344-8ebb421fa3b1",
   "metadata": {},
   "source": [
    "Returning `b` in `transforms` is a bit redundant so we can rewrite it as follows."
   ]
  },
  {
   "cell_type": "code",
   "execution_count": null,
   "id": "df1dbb6b-e4e1-449f-a551-967a2f982996",
   "metadata": {},
   "outputs": [],
   "source": [
    "def _transforms(b): b[x] = [TF.to_tensor(o) for o in b[x]]"
   ]
  },
  {
   "cell_type": "code",
   "execution_count": null,
   "id": "29a9551c-7f8c-4fb0-9586-18ea3457ed97",
   "metadata": {},
   "outputs": [],
   "source": [
    "#|export\n",
    "def inplace(f):\n",
    "    def _f(b):\n",
    "        f(b)\n",
    "        return b\n",
    "    return _f"
   ]
  },
  {
   "cell_type": "code",
   "execution_count": null,
   "id": "c2f3b2c7-b741-4f12-b9c1-3f5490208d5c",
   "metadata": {},
   "outputs": [],
   "source": [
    "transformi = inplace(_transforms)"
   ]
  },
  {
   "cell_type": "code",
   "execution_count": null,
   "id": "8646ecd3-8b4c-4d18-a781-80f76e96200f",
   "metadata": {},
   "outputs": [
    {
     "data": {
      "text/plain": [
       "(torch.Size([1, 28, 28]), 9)"
      ]
     },
     "execution_count": null,
     "metadata": {},
     "output_type": "execute_result"
    }
   ],
   "source": [
    "r = train.with_transform(transformi)[0] \n",
    "r[x].shape, r[y]"
   ]
  },
  {
   "cell_type": "markdown",
   "id": "6bb80da4-fab2-419e-95d9-576c4b009697",
   "metadata": {},
   "source": [
    "We can use a Python decorator to simplify further and avoid calling `_transforms`"
   ]
  },
  {
   "cell_type": "code",
   "execution_count": null,
   "id": "d78efb8a-d89e-48ab-b415-221daa25191f",
   "metadata": {},
   "outputs": [],
   "source": [
    "@inplace\n",
    "def transformi(b): b[x] = [TF.to_tensor(o) for o in b[x]]"
   ]
  },
  {
   "cell_type": "code",
   "execution_count": null,
   "id": "c049c604-5b5c-471e-a509-959554cd1335",
   "metadata": {},
   "outputs": [
    {
     "data": {
      "text/plain": [
       "(torch.Size([1, 28, 28]), 9)"
      ]
     },
     "execution_count": null,
     "metadata": {},
     "output_type": "execute_result"
    }
   ],
   "source": [
    "tdsf = train.with_transform(transformi)\n",
    "r = tdsf[0]\n",
    "r[x].shape, r[y]"
   ]
  },
  {
   "cell_type": "markdown",
   "id": "c9821c3e-a7ef-4246-ace2-ec5e5599793e",
   "metadata": {},
   "source": [
    "In Python an `itemgetter` is a function that returns a function."
   ]
  },
  {
   "cell_type": "code",
   "execution_count": null,
   "id": "8d4a060d-6e9f-4980-b30b-e5840e272a2b",
   "metadata": {},
   "outputs": [
    {
     "data": {
      "text/plain": [
       "(1, 3)"
      ]
     },
     "execution_count": null,
     "metadata": {},
     "output_type": "execute_result"
    }
   ],
   "source": [
    "d = dict(a=1, b=2, c=3)\n",
    "ig = itemgetter('a', 'c')\n",
    "ig(d)"
   ]
  },
  {
   "cell_type": "code",
   "execution_count": null,
   "id": "1df452db-ff4e-4f4e-9bcc-5c33e6547ad0",
   "metadata": {},
   "outputs": [],
   "source": [
    "class D:\n",
    "    def __getitem__(self, k): return 1 if k=='a' else 2 if k=='b' else 3"
   ]
  },
  {
   "cell_type": "code",
   "execution_count": null,
   "id": "84d84aca-3fd9-4126-be87-284578d2395e",
   "metadata": {},
   "outputs": [
    {
     "data": {
      "text/plain": [
       "(1, 3)"
      ]
     },
     "execution_count": null,
     "metadata": {},
     "output_type": "execute_result"
    }
   ],
   "source": [
    "d = D()\n",
    "ig(d)"
   ]
  },
  {
   "cell_type": "markdown",
   "id": "cdaa05e4-c23c-49ba-adc2-9a6e5ee5ba93",
   "metadata": {},
   "source": [
    "itemgetter works not only with dictionaries but with anything that has `__getitem__` method"
   ]
  },
  {
   "cell_type": "code",
   "execution_count": null,
   "id": "9b4caea5-041e-40f6-8756-bf3486b1b187",
   "metadata": {},
   "outputs": [
    {
     "data": {
      "text/plain": [
       "({'a': [1], 'b': [2]}, {'a': [3], 'b': [4]})"
      ]
     },
     "execution_count": null,
     "metadata": {},
     "output_type": "execute_result"
    }
   ],
   "source": [
    "batch = dict(a=[1], b=[2]), dict(a=[3], b=[4]) \n",
    "batch"
   ]
  },
  {
   "cell_type": "code",
   "execution_count": null,
   "id": "952485c4-c40d-47a0-bc49-e3ffb7e9284c",
   "metadata": {},
   "outputs": [
    {
     "data": {
      "text/plain": [
       "{'a': [tensor([1, 3])], 'b': [tensor([2, 4])]}"
      ]
     },
     "execution_count": null,
     "metadata": {},
     "output_type": "execute_result"
    }
   ],
   "source": [
    "default_collate(batch)"
   ]
  },
  {
   "cell_type": "markdown",
   "id": "ba990828-28ae-4915-ae80-da25c459b39f",
   "metadata": {},
   "source": [
    "We can now get it all together and create a function `collate_dict` that returns a function that turns a dict of tensors into a tuple of tensors:\n",
    "* creates an itemgetter that will use features and labels from a dataset to separate xs and ys \n",
    "* creates an internal function that default_collates a dictionary and retturns xs and ys in a tuple\n",
    "* returns that function to be called on an input batch\n"
   ]
  },
  {
   "cell_type": "code",
   "execution_count": null,
   "id": "7d470ad3-4f6b-463e-8974-74fe25e1aab8",
   "metadata": {},
   "outputs": [
    {
     "data": {
      "text/plain": [
       "['image', 'label']"
      ]
     },
     "execution_count": null,
     "metadata": {},
     "output_type": "execute_result"
    }
   ],
   "source": [
    "list(tdsf.features)"
   ]
  },
  {
   "cell_type": "code",
   "execution_count": null,
   "id": "05179171-12fa-496e-adb8-0dc811e79e4e",
   "metadata": {},
   "outputs": [],
   "source": [
    "#|export\n",
    "def collate_dict(ds):\n",
    "    # import ipdb; ipdb.set_trace()\n",
    "    get = itemgetter(*ds.features) # get x and y values\n",
    "    def _f(b): return get(default_collate(b))\n",
    "    return _f"
   ]
  },
  {
   "cell_type": "code",
   "execution_count": null,
   "id": "a8dc62c9-7e7d-454c-8f53-cfa75fcbac0f",
   "metadata": {},
   "outputs": [
    {
     "data": {
      "text/plain": [
       "(torch.Size([4, 1, 28, 28]), tensor([9, 0, 0, 3]))"
      ]
     },
     "execution_count": null,
     "metadata": {},
     "output_type": "execute_result"
    }
   ],
   "source": [
    "dlf = DataLoader(tdsf, batch_size=4, collate_fn=collate_dict(tdsf))\n",
    "xb, yb = next(iter(dlf))\n",
    "xb.shape, yb"
   ]
  },
  {
   "cell_type": "code",
   "execution_count": null,
   "id": "b26e1865-21db-4aeb-a1d6-675fefb8e239",
   "metadata": {},
   "outputs": [],
   "source": [
    "cl = collate_dict(tdsf)"
   ]
  },
  {
   "cell_type": "code",
   "execution_count": null,
   "id": "14f7bddb-30bf-4600-af74-0df7ced5aac3",
   "metadata": {},
   "outputs": [
    {
     "data": {
      "text/plain": [
       "<function __main__.collate_dict.<locals>._f(b)>"
      ]
     },
     "execution_count": null,
     "metadata": {},
     "output_type": "execute_result"
    }
   ],
   "source": [
    "cl"
   ]
  },
  {
   "cell_type": "markdown",
   "id": "79ebb0aa-99f5-4226-a614-1129dcace76b",
   "metadata": {},
   "source": [
    "## Plotting images"
   ]
  },
  {
   "cell_type": "markdown",
   "id": "5083d470-1732-42cd-9559-573486fc3b1d",
   "metadata": {},
   "source": [
    "It is very important to be able to vizualize things."
   ]
  },
  {
   "cell_type": "code",
   "execution_count": null,
   "id": "711f6a5c-737b-4312-931d-3f4fb57b395d",
   "metadata": {},
   "outputs": [
    {
     "data": {
      "image/png": "[encoded data removed]",
      "text/plain": [
       "<Figure size 432x288 with 1 Axes>"
      ]
     },
     "metadata": {
      "needs_background": "light"
     },
     "output_type": "display_data"
    }
   ],
   "source": [
    "b = next(iter(dl))\n",
    "xb = b[x]\n",
    "img = xb[0]\n",
    "plt.imshow(img[0]);"
   ]
  },
  {
   "cell_type": "code",
   "execution_count": null,
   "id": "b29a8462-60fe-4b7e-942b-77532d907ab5",
   "metadata": {},
   "outputs": [],
   "source": [
    "#| export\n",
    "@fc.delegates(plt.Axes.imshow)\n",
    "def show_image(im, # image-like to show\n",
    "               ax=None, # axes to show image on\n",
    "               figsize=None, # size of a figure\n",
    "               title=None, # titile of a figure\n",
    "               noframe=True, # whether to show frame\n",
    "               **kwargs):\n",
    "    \"Show a PIL or PyTorch image on ax\"\n",
    "    # check if image has tensor attributes\n",
    "    if fc.hasattrs(im, ('cpu', 'permute', 'detach')):\n",
    "        # move to cpu\n",
    "        im = im.detach().cpu()\n",
    "        # if 3 dimensions and first dimension is less than 5: make channels last dimension:\n",
    "        # (M, N, 3): an image with RGB values (0-1 float or 0-255 int).\n",
    "        # (M, N, 4): an image with RGBA values (0-1 float or 0-255 int), i.e. including transparency.\n",
    "        if len(im.shape)==3 and im.shape[0]<5: im = im.permute(1,2,0)\n",
    "    # if not tensor and not itself ndarray - cast as ndarray\n",
    "    elif not isinstance(im, np.ndarray): im = np.array(im)\n",
    "    # remove channels if it is 1 (greyscale image)\n",
    "    if im.shape[-1]==1: im = im[...,0]\n",
    "    # create ax if it is None\n",
    "    if ax is None: _, ax = plt.subplots(figsize=figsize)\n",
    "    # show image\n",
    "    ax.imshow(im, **kwargs)\n",
    "    # add title\n",
    "    if title is not None: ax.set_title(title)\n",
    "    # remove xticks and yticks\n",
    "    ax.set_xticks([])\n",
    "    ax.set_yticks([])\n",
    "    # remove axis\n",
    "    if noframe: ax.axis('off')\n",
    "    return ax"
   ]
  },
  {
   "cell_type": "code",
   "execution_count": null,
   "id": "c09db5c1-d18a-4dec-b7e6-47423f33ed60",
   "metadata": {},
   "outputs": [
    {
     "name": "stdout",
     "output_type": "stream",
     "text": [
      "Help on function show_image in module __main__:\n",
      "\n",
      "show_image(im, ax=None, figsize=None, title=None, noframe=True, *, cmap=None, norm=None, aspect=None, interpolation=None, alpha=None, vmin=None, vmax=None, origin=None, extent=None, interpolation_stage=None, filternorm=True, filterrad=4.0, resample=None, url=None, data=None)\n",
      "    Show a PIL or PyTorch image on ax\n",
      "\n"
     ]
    }
   ],
   "source": [
    "help(show_image)"
   ]
  },
  {
   "cell_type": "code",
   "execution_count": null,
   "id": "943162dd-d9d3-4d11-96a0-2e1bd40d5ba2",
   "metadata": {},
   "outputs": [
    {
     "data": {
      "image/png": "[encoded data removed]",
      "text/plain": [
       "<Figure size 144x144 with 1 Axes>"
      ]
     },
     "metadata": {},
     "output_type": "display_data"
    }
   ],
   "source": [
    "show_image(img, figsize=(2,2));"
   ]
  },
  {
   "cell_type": "code",
   "execution_count": null,
   "id": "cc905e80-8773-4549-93a8-5fb52646734f",
   "metadata": {},
   "outputs": [
    {
     "data": {
      "image/png": "[encoded data removed]",
      "text/plain": [
       "<Figure size 432x288 with 2 Axes>"
      ]
     },
     "metadata": {},
     "output_type": "display_data"
    }
   ],
   "source": [
    "fig, axs = plt.subplots(1,2)\n",
    "show_image(img, axs[0])\n",
    "show_image(xb[1], axs[1]);"
   ]
  },
  {
   "cell_type": "code",
   "execution_count": null,
   "id": "02dc68a4-f8fa-4760-9e7a-c589585ca74e",
   "metadata": {},
   "outputs": [],
   "source": [
    "#|export\n",
    "@fc.delegates(plt.subplots, keep=True)\n",
    "def subplots(\n",
    "    nrows:int = 1, # Number of rows in returned axes grid\n",
    "    ncols:int = 1, # Number of columns in returned axes grid\n",
    "    figsize:tuple = None, # (Width, height) in inches of the returned figure\n",
    "    imsize:int = 3, # Size (in inches) of images that will be displayed\n",
    "    suptitle:str = None, # Title to be set to returned figure\n",
    "    **kwargs,\n",
    "): # fig and axes\n",
    "    \" A figure and set of subplots to display images of `imsize` inches.\"\n",
    "    # if figure is not given, estimate it as ncols x imsize and nrows x imsize\n",
    "    if figsize is None: figsize=(ncols*imsize, nrows*imsize)\n",
    "    fig,ax = plt.subplots(nrows, ncols, figsize=figsize, **kwargs)\n",
    "    # add suptitles\n",
    "    if suptitle is not None: fig.suptitle(suptitle)\n",
    "    # if we have a single image, create an array of it\n",
    "    if nrows*ncols==1: ax = np.array([ax])\n",
    "    return fig, ax"
   ]
  },
  {
   "cell_type": "code",
   "execution_count": null,
   "id": "792b60a8-c66c-46aa-9cac-a5dbe179f6dc",
   "metadata": {},
   "outputs": [],
   "source": [
    "from nbdev.showdoc import *"
   ]
  },
  {
   "cell_type": "code",
   "execution_count": null,
   "id": "93456815-efe8-4315-854c-528ef2b4f01f",
   "metadata": {},
   "outputs": [
    {
     "data": {
      "text/markdown": [
       "---\n",
       "\n",
       "[source](https://github.com/Iamalos/fastai-p2/blob/main/miniai/datasets.py#L51){target=\"_blank\" style=\"float:right; font-size:smaller\"}\n",
       "\n",
       "### subplots\n",
       "\n",
       ">      subplots (nrows:int=1, ncols:int=1, figsize:tuple=None, imsize:int=3,\n",
       ">                suptitle:str=None, sharex=False, sharey=False, squeeze=True,\n",
       ">                subplot_kw=None, gridspec_kw=None, **kwargs)\n",
       "\n",
       "A figure and set of subplots to display images of `imsize` inches.\n",
       "\n",
       "|    | **Type** | **Default** | **Details** |\n",
       "| -- | -------- | ----------- | ----------- |\n",
       "| nrows | int | 1 | Number of rows in returned axes grid |\n",
       "| ncols | int | 1 | Number of columns in returned axes grid |\n",
       "| figsize | tuple | None | (Width, height) in inches of the returned figure |\n",
       "| imsize | int | 3 | Size (in inches) of images that will be displayed |\n",
       "| suptitle | str | None | Title to be set to returned figure |\n",
       "| sharex | bool | False |  |\n",
       "| sharey | bool | False |  |\n",
       "| squeeze | bool | True |  |\n",
       "| subplot_kw | NoneType | None |  |\n",
       "| gridspec_kw | NoneType | None |  |\n",
       "| kwargs |  |  |  |"
      ],
      "text/plain": [
       "---\n",
       "\n",
       "[source](https://github.com/Iamalos/fastai-p2/blob/main/miniai/datasets.py#L51){target=\"_blank\" style=\"float:right; font-size:smaller\"}\n",
       "\n",
       "### subplots\n",
       "\n",
       ">      subplots (nrows:int=1, ncols:int=1, figsize:tuple=None, imsize:int=3,\n",
       ">                suptitle:str=None, sharex=False, sharey=False, squeeze=True,\n",
       ">                subplot_kw=None, gridspec_kw=None, **kwargs)\n",
       "\n",
       "A figure and set of subplots to display images of `imsize` inches.\n",
       "\n",
       "|    | **Type** | **Default** | **Details** |\n",
       "| -- | -------- | ----------- | ----------- |\n",
       "| nrows | int | 1 | Number of rows in returned axes grid |\n",
       "| ncols | int | 1 | Number of columns in returned axes grid |\n",
       "| figsize | tuple | None | (Width, height) in inches of the returned figure |\n",
       "| imsize | int | 3 | Size (in inches) of images that will be displayed |\n",
       "| suptitle | str | None | Title to be set to returned figure |\n",
       "| sharex | bool | False |  |\n",
       "| sharey | bool | False |  |\n",
       "| squeeze | bool | True |  |\n",
       "| subplot_kw | NoneType | None |  |\n",
       "| gridspec_kw | NoneType | None |  |\n",
       "| kwargs |  |  |  |"
      ]
     },
     "execution_count": null,
     "metadata": {},
     "output_type": "execute_result"
    }
   ],
   "source": [
    "show_doc(subplots)"
   ]
  },
  {
   "cell_type": "code",
   "execution_count": null,
   "id": "696df5de-ea93-4f06-805c-4e2fd572e3dc",
   "metadata": {},
   "outputs": [
    {
     "data": {
      "image/png": "[encoded data removed]",
      "text/plain": [
       "<Figure size 216x216 with 9 Axes>"
      ]
     },
     "metadata": {
      "needs_background": "light"
     },
     "output_type": "display_data"
    }
   ],
   "source": [
    "fig,axs = subplots(3,3,imsize=1)\n",
    "imgs=xb[:8]\n",
    "for ax, img in zip(axs.flat, imgs): show_image(img,ax)"
   ]
  },
  {
   "cell_type": "code",
   "execution_count": null,
   "id": "52fa2e99-1474-49d9-a1ec-8001adebe921",
   "metadata": {},
   "outputs": [],
   "source": [
    "#| export\n",
    "@fc.delegates(subplots)\n",
    "def get_grid(\n",
    "    n:int, # Number of axes\n",
    "    nrows:int = None, # Number of rows, defaulting to `int(math.sqrt(n))`\n",
    "    ncols:int = None, # Number of cols, defaulting to `ceil(n/rows)`\n",
    "    title:str = None, # If passed, title set to the figure\n",
    "    weight:str = 'bold', # Title font weight\n",
    "    size:int = 14, # Title font size\n",
    "    **kwargs,\n",
    "): # fig and axs\n",
    "    \"Return a grid of `n` axes, `rows` by `cols`\"\n",
    "    # if rows but no cols, find the necessary ncols\n",
    "    if nrows: ncols = ncols or int(np.ceil(n/nrows)) # I believe there is a mistake here in course\n",
    "    # vice-versa to rows\n",
    "    elif ncols: nrows = nrows or int(np.ceil(n/ncols)) \n",
    "    else:\n",
    "        # if no rows and no cols, estimate rows and cols to make a square figure\n",
    "        nrows = int(np.sqrt(n))\n",
    "        ncols = int(np.floor(n/nrows))\n",
    "    # create fig and axs\n",
    "    fig, axs = subplots(nrows, ncols, **kwargs)\n",
    "    # import ipdb; ipdb.set_trace()\n",
    "    # remove axis for empty grid cells\n",
    "    for i in range(n, nrows*ncols): axs.flat[i].set_axis_off() # if there are unused axis\n",
    "    # add titles\n",
    "    if title is not None: fig.suptitle(title, weight=weight, size=size)\n",
    "    return fig, axs"
   ]
  },
  {
   "cell_type": "code",
   "execution_count": null,
   "id": "dd1c6187-f9f0-4643-9160-c6b2e74375dd",
   "metadata": {},
   "outputs": [
    {
     "data": {
      "image/png": "[encoded data removed]",
      "text/plain": [
       "<Figure size 216x216 with 9 Axes>"
      ]
     },
     "metadata": {
      "needs_background": "light"
     },
     "output_type": "display_data"
    }
   ],
   "source": [
    "fig,axs = get_grid(8,3,imsize=1)\n",
    "imgs=xb[:8]\n",
    "for ax, img in zip(axs.flat, imgs): show_image(img,ax)"
   ]
  },
  {
   "cell_type": "code",
   "execution_count": null,
   "id": "22192fe9-884c-4fe1-8b73-54a745ad74dc",
   "metadata": {},
   "outputs": [],
   "source": [
    "#|export\n",
    "@fc.delegates(subplots)\n",
    "def show_images(ims: list, # Images to show\n",
    "                nrows: int|None=None, # Number of rows in a grid\n",
    "                ncols: int|None=None, # Number of columns in grid(auto-calculated if None)\n",
    "                titles:list|None=None, # Optional list of titles for each image\n",
    "                **kwargs\n",
    "               ):\n",
    "    \"Show all images `ims` as subplots with `rows` using `titles`\"\n",
    "    # import ipdb; ipdb.set_trace()\n",
    "    # get axs from `get_grid`\n",
    "    axs = get_grid(len(ims), nrows, ncols, **kwargs)[1].flat\n",
    "    # loop through images, titles and axes and show image\n",
    "    for im, t, ax in zip_longest(ims, titles or [], axs): show_image(im, ax=ax, title=t)"
   ]
  },
  {
   "cell_type": "code",
   "execution_count": null,
   "id": "029a6e47-a742-4943-85d4-f4f431354351",
   "metadata": {},
   "outputs": [],
   "source": [
    "yb = b[y]\n",
    "lbls = yb[:8]"
   ]
  },
  {
   "cell_type": "code",
   "execution_count": null,
   "id": "3a98edd0-df3c-44aa-9aa3-69dda36dab09",
   "metadata": {},
   "outputs": [
    {
     "data": {
      "text/plain": [
       "'Boot Top Top Dress Top Pullover Sneaker Pullover'"
      ]
     },
     "execution_count": null,
     "metadata": {},
     "output_type": "execute_result"
    }
   ],
   "source": [
    "names = \"Top Trouser Pullover Dress Coat Sandal Shirt Sneaker Bag Boot\".split()\n",
    "titles = itemgetter(*lbls)(names)\n",
    "' '.join(titles)"
   ]
  },
  {
   "cell_type": "code",
   "execution_count": null,
   "id": "9e06bd8b-7838-4e45-bea6-50a72e453994",
   "metadata": {},
   "outputs": [
    {
     "data": {
      "image/png": "[encoded data removed]",
      "text/plain": [
       "<Figure size 489.6x244.8 with 8 Axes>"
      ]
     },
     "metadata": {},
     "output_type": "display_data"
    }
   ],
   "source": [
    "show_images(imgs, imsize=1.7, titles=titles)"
   ]
  },
  {
   "cell_type": "code",
   "execution_count": null,
   "id": "5eff0d89-1189-442b-9081-4b14a8a4b3d3",
   "metadata": {},
   "outputs": [],
   "source": [
    "#|export\n",
    "class DataLoaders: \n",
    "    def __init__(self, *dls): self.train, self.valid = dls[:2]\n",
    "    \n",
    "    @classmethod\n",
    "    def from_dd(cls, dd, batch_size, as_tuple=True, **kwargs):\n",
    "        f = collate_dict(dd['train'])\n",
    "        return cls(*get_dls(*dd.values(), bs=batch_size, collate_fn=f, **kwargs))"
   ]
  },
  {
   "cell_type": "markdown",
   "id": "27cbcf54-9b7f-4927-9596-76c71801920d",
   "metadata": {},
   "source": [
    "## Export - "
   ]
  },
  {
   "cell_type": "code",
   "execution_count": null,
   "id": "06c97ae7-3250-4585-939c-71697ed4a9cc",
   "metadata": {},
   "outputs": [],
   "source": [
    "import nbdev; nbdev.nbdev_export()"
   ]
  }
 ],
 "metadata": {
  "kernelspec": {
   "display_name": "python3",
   "language": "python",
   "name": "python3"
  }
 },
 "nbformat": 4,
 "nbformat_minor": 5
}
