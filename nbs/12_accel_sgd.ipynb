{
 "cells": [
  {
   "cell_type": "code",
   "execution_count": null,
   "id": "2a4ad79e-317f-4f2f-baa3-82d6749744e7",
   "metadata": {},
   "outputs": [],
   "source": [
    "#| default_exp sgd"
   ]
  },
  {
   "cell_type": "markdown",
   "id": "954ad576-a19f-47c7-be44-d4382b87d19d",
   "metadata": {},
   "source": [
    "## Accelerated SGD"
   ]
  },
  {
   "cell_type": "code",
   "execution_count": null,
   "id": "43bed454-65ae-4c45-a17c-d0816286eba0",
   "metadata": {},
   "outputs": [],
   "source": [
    "#|export\n",
    "import torch\n",
    "\n",
    "from miniai.datasets import *\n",
    "from miniai.conv import *\n",
    "from miniai.learner import *\n",
    "from miniai.activations import *\n",
    "from miniai.init import *\n",
    "from typing import Callable"
   ]
  },
  {
   "cell_type": "code",
   "execution_count": null,
   "id": "149c789f-bc36-496c-a013-165f77d907b1",
   "metadata": {},
   "outputs": [],
   "source": [
    "import pickle,gzip,math,os,time,shutil,torch,matplotlib as mpl,numpy as np,matplotlib.pyplot as plt\n",
    "import fastcore.all as fc\n",
    "from collections.abc import Mapping\n",
    "from pathlib import Path\n",
    "from operator import attrgetter,itemgetter\n",
    "from functools import partial\n",
    "from copy import copy\n",
    "from contextlib import contextmanager\n",
    "\n",
    "import torchvision.transforms.functional as TF,torch.nn.functional as F\n",
    "from torch import tensor,nn,optim\n",
    "from torch.utils.data import DataLoader,default_collate\n",
    "from torch.nn import init\n",
    "from torch.optim import lr_scheduler\n",
    "from torcheval.metrics import MulticlassAccuracy\n",
    "from datasets import load_dataset,load_dataset_builder\n",
    "\n",
    "from miniai.datasets import *\n",
    "from miniai.conv import *\n",
    "from miniai.learner import *\n",
    "from miniai.activations import *\n",
    "from miniai.init import *"
   ]
  },
  {
   "cell_type": "code",
   "execution_count": null,
   "id": "f858b673-7795-499b-a332-f3790a8a7c29",
   "metadata": {},
   "outputs": [],
   "source": [
    "from fastcore.test import test_close\n",
    "\n",
    "torch.set_printoptions(precision=2, linewidth=170, sci_mode=False)\n",
    "torch.manual_seed(1)\n",
    "\n",
    "import logging\n",
    "logging.disable(logging.WARNING)\n",
    "\n",
    "plt.style.use('dark_background')\n",
    "set_seed(42)"
   ]
  },
  {
   "cell_type": "code",
   "execution_count": null,
   "id": "34d5d9f8-bd59-4176-a497-3b780d44e8ca",
   "metadata": {},
   "outputs": [
    {
     "data": {
      "application/vnd.jupyter.widget-view+json": {
       "model_id": "24be6e7ccef44f1493384129265c31fb",
       "version_major": 2,
       "version_minor": 0
      },
      "text/plain": [
       "Downloading builder script:   0%|          | 0.00/2.00k [00:00<?, ?B/s]"
      ]
     },
     "metadata": {},
     "output_type": "display_data"
    },
    {
     "data": {
      "application/vnd.jupyter.widget-view+json": {
       "model_id": "e25bc48669ea423e979aebb86bf97293",
       "version_major": 2,
       "version_minor": 0
      },
      "text/plain": [
       "Downloading metadata:   0%|          | 0.00/1.36k [00:00<?, ?B/s]"
      ]
     },
     "metadata": {},
     "output_type": "display_data"
    },
    {
     "name": "stdout",
     "output_type": "stream",
     "text": [
      "Downloading and preparing dataset fashion_mnist/fashion_mnist (download: 29.45 MiB, generated: 34.84 MiB, post-processed: Unknown size, total: 64.29 MiB) to /root/.cache/huggingface/datasets/fashion_mnist/fashion_mnist/1.0.0/8d6c32399aa01613d96e2cbc9b13638f359ef62bb33612b077b4c247f6ef99c1...\n"
     ]
    },
    {
     "data": {
      "application/vnd.jupyter.widget-view+json": {
       "model_id": "9771348809934af39afdcc88a99f7be6",
       "version_major": 2,
       "version_minor": 0
      },
      "text/plain": [
       "Downloading data files:   0%|          | 0/4 [00:00<?, ?it/s]"
      ]
     },
     "metadata": {},
     "output_type": "display_data"
    },
    {
     "data": {
      "application/vnd.jupyter.widget-view+json": {
       "model_id": "4ae427a7068441df98cfb932c9217789",
       "version_major": 2,
       "version_minor": 0
      },
      "text/plain": [
       "Downloading data:   0%|          | 0.00/26.4M [00:00<?, ?B/s]"
      ]
     },
     "metadata": {},
     "output_type": "display_data"
    },
    {
     "data": {
      "application/vnd.jupyter.widget-view+json": {
       "model_id": "03bcb9ac73864f47ad87a65fa660a083",
       "version_major": 2,
       "version_minor": 0
      },
      "text/plain": [
       "Downloading data:   0%|          | 0.00/29.5k [00:00<?, ?B/s]"
      ]
     },
     "metadata": {},
     "output_type": "display_data"
    },
    {
     "data": {
      "application/vnd.jupyter.widget-view+json": {
       "model_id": "7ca5058a323545f882ec39c9574e08bf",
       "version_major": 2,
       "version_minor": 0
      },
      "text/plain": [
       "Downloading data:   0%|          | 0.00/4.42M [00:00<?, ?B/s]"
      ]
     },
     "metadata": {},
     "output_type": "display_data"
    },
    {
     "data": {
      "application/vnd.jupyter.widget-view+json": {
       "model_id": "c94030cd68b44698a4763541b7d7f1bf",
       "version_major": 2,
       "version_minor": 0
      },
      "text/plain": [
       "Downloading data:   0%|          | 0.00/5.15k [00:00<?, ?B/s]"
      ]
     },
     "metadata": {},
     "output_type": "display_data"
    },
    {
     "data": {
      "application/vnd.jupyter.widget-view+json": {
       "model_id": "2f1ddc31dda34c1a85b548010cf04fa6",
       "version_major": 2,
       "version_minor": 0
      },
      "text/plain": [
       "Extracting data files:   0%|          | 0/4 [00:00<?, ?it/s]"
      ]
     },
     "metadata": {},
     "output_type": "display_data"
    },
    {
     "data": {
      "application/vnd.jupyter.widget-view+json": {
       "model_id": "",
       "version_major": 2,
       "version_minor": 0
      },
      "text/plain": [
       "Generating train split:   0%|          | 0/60000 [00:00<?, ? examples/s]"
      ]
     },
     "metadata": {},
     "output_type": "display_data"
    },
    {
     "data": {
      "application/vnd.jupyter.widget-view+json": {
       "model_id": "",
       "version_major": 2,
       "version_minor": 0
      },
      "text/plain": [
       "Generating test split:   0%|          | 0/10000 [00:00<?, ? examples/s]"
      ]
     },
     "metadata": {},
     "output_type": "display_data"
    },
    {
     "name": "stdout",
     "output_type": "stream",
     "text": [
      "Dataset fashion_mnist downloaded and prepared to /root/.cache/huggingface/datasets/fashion_mnist/fashion_mnist/1.0.0/8d6c32399aa01613d96e2cbc9b13638f359ef62bb33612b077b4c247f6ef99c1. Subsequent calls will reuse this data.\n"
     ]
    },
    {
     "data": {
      "application/vnd.jupyter.widget-view+json": {
       "model_id": "223ab71543624c75b44ee4bb64590e44",
       "version_major": 2,
       "version_minor": 0
      },
      "text/plain": [
       "  0%|          | 0/2 [00:00<?, ?it/s]"
      ]
     },
     "metadata": {},
     "output_type": "display_data"
    }
   ],
   "source": [
    "xl, yl = 'image', 'label'\n",
    "name = 'fashion_mnist'\n",
    "dsd = load_dataset(name)\n",
    "\n",
    "bs = 1024\n",
    "# from previous nb\n",
    "xmean, xstd = 0.28, 0.35\n",
    "\n",
    "@inplace\n",
    "def transformi(b): b[xl] = [TF.to_tensor(o) for o in b[xl]]\n",
    "\n",
    "tds = dsd.with_transform(transformi)\n",
    "dls = DataLoaders.from_dd(tds, bs, num_workers=4)"
   ]
  },
  {
   "cell_type": "code",
   "execution_count": null,
   "id": "64c9e53c-3c96-4d77-a57b-b30d23153c16",
   "metadata": {},
   "outputs": [],
   "source": [
    "# create Multiclass accuracy metrics\n",
    "metrics = MetricsCB(accuracy=MulticlassAccuracy())\n",
    "# create ActivationStats for GeneralRelu\n",
    "astats = ActivationStats(fc.risinstance(GeneralRelu))\n",
    "# callbacks for device, metrics, progress and activation stats\n",
    "cbs = [DeviceCB(), metrics, ProgressCB(plot=True), astats]\n",
    "# activation function general relu with leak 0.1 and sub 0.4\n",
    "act_gr = partial(GeneralRelu, leak=0.1, sub=0.4)\n",
    "# weight initialization function with leaky 0.1\n",
    "iw = partial(init_weights, leaky=0.1)\n",
    "# separate callbacks for learning rate finder (device and lrfinder)\n",
    "lrf_cbs = [DeviceCB(), LRFinderCB()]"
   ]
  },
  {
   "cell_type": "markdown",
   "id": "f60cc00c-47cd-42c5-8034-09b2c0b5ff0e",
   "metadata": {},
   "source": [
    "## Optimizers"
   ]
  },
  {
   "cell_type": "markdown",
   "id": "7f7634e7-dacb-4860-930e-2843358df7ea",
   "metadata": {},
   "source": [
    "### SGD"
   ]
  },
  {
   "cell_type": "markdown",
   "id": "5c4bc4ec-7c77-4b37-b26a-eeec546b5eb9",
   "metadata": {},
   "source": [
    "Optimizers generally have two key methods: optimizer step and regularizer step"
   ]
  },
  {
   "cell_type": "code",
   "execution_count": null,
   "id": "eab1cba2-ca59-45aa-a600-b40d3fb94d07",
   "metadata": {},
   "outputs": [],
   "source": [
    "class SGD:\n",
    "    def __init__(self, params, lr, wd=0.):\n",
    "        # import ipdb; ipdb.set_trace()\n",
    "        # cast params to list this is important to make it able to be changed\n",
    "        params = list(params)\n",
    "        # store attrs and set self.i to zero to track\n",
    "        fc.store_attr()\n",
    "        self.i = 0\n",
    "    \n",
    "    def step(self):\n",
    "        # with no grad for each parameter perform teg step and opt step\n",
    "        with torch.no_grad():\n",
    "            for p in self.params:\n",
    "                self.reg_step(p)\n",
    "                self.opt_step(p)\n",
    "        # add to counter\n",
    "        self.i += 1\n",
    "    \n",
    "    # opt step is a simple update of parameter\n",
    "    def opt_step(self, p): p -= p.grad * self.lr\n",
    "    def reg_step(self, p):\n",
    "        # weight = weight - lr*wd*weight\n",
    "        # weight = weight*(1-lr*wd)\n",
    "        # accout for weight decay if it is not none\n",
    "        if self.wd != 0: p *= 1-self.lr*self.wd\n",
    "        \n",
    "    def zero_grad(self):\n",
    "        # if use `.data` can skip `torch.no_grad`\n",
    "        for p in self.params: p.grad.data.zero_()"
   ]
  },
  {
   "cell_type": "code",
   "execution_count": null,
   "id": "d064c593-049f-4a7e-a43a-e7ab93e8de07",
   "metadata": {},
   "outputs": [],
   "source": [
    "set_seed(42)\n",
    "# get model with BN and weights initialization\n",
    "model = get_model(act_gr, norm=nn.BatchNorm2d).apply(iw)\n",
    "# TrainLearner\n",
    "learn = TrainLearner(model, dls, F.cross_entropy, cbs=cbs, opt_func=SGD)"
   ]
  },
  {
   "cell_type": "code",
   "execution_count": null,
   "id": "6735e227-575d-4ca2-83d8-c2ae21ebf76c",
   "metadata": {},
   "outputs": [
    {
     "data": {
      "text/html": [
       "\n",
       "<style>\n",
       "    /* Turns off some styling */\n",
       "    progress {\n",
       "        /* gets rid of default border in Firefox and Opera. */\n",
       "        border: none;\n",
       "        /* Needs to be in here for Safari polyfill so background images work as expected. */\n",
       "        background-size: auto;\n",
       "    }\n",
       "    progress:not([value]), progress:not([value])::-webkit-progress-bar {\n",
       "        background: repeating-linear-gradient(45deg, #7e7e7e, #7e7e7e 10px, #5c5c5c 10px, #5c5c5c 20px);\n",
       "    }\n",
       "    .progress-bar-interrupted, .progress-bar-interrupted::-webkit-progress-bar {\n",
       "        background: #F44336;\n",
       "    }\n",
       "</style>\n"
      ],
      "text/plain": [
       "<IPython.core.display.HTML object>"
      ]
     },
     "metadata": {},
     "output_type": "display_data"
    },
    {
     "data": {
      "text/html": [
       "<table border=\"1\" class=\"dataframe\">\n",
       "  <thead>\n",
       "    <tr style=\"text-align: left;\">\n",
       "      <th>accuracy</th>\n",
       "      <th>loss</th>\n",
       "      <th>epoch</th>\n",
       "      <th>train</th>\n",
       "    </tr>\n",
       "  </thead>\n",
       "  <tbody>\n",
       "    <tr>\n",
       "      <td>0.707</td>\n",
       "      <td>0.897</td>\n",
       "      <td>0</td>\n",
       "      <td>train</td>\n",
       "    </tr>\n",
       "    <tr>\n",
       "      <td>0.775</td>\n",
       "      <td>0.620</td>\n",
       "      <td>0</td>\n",
       "      <td>eval</td>\n",
       "    </tr>\n",
       "    <tr>\n",
       "      <td>0.807</td>\n",
       "      <td>0.545</td>\n",
       "      <td>1</td>\n",
       "      <td>train</td>\n",
       "    </tr>\n",
       "    <tr>\n",
       "      <td>0.811</td>\n",
       "      <td>0.526</td>\n",
       "      <td>1</td>\n",
       "      <td>eval</td>\n",
       "    </tr>\n",
       "    <tr>\n",
       "      <td>0.830</td>\n",
       "      <td>0.476</td>\n",
       "      <td>2</td>\n",
       "      <td>train</td>\n",
       "    </tr>\n",
       "    <tr>\n",
       "      <td>0.826</td>\n",
       "      <td>0.483</td>\n",
       "      <td>2</td>\n",
       "      <td>eval</td>\n",
       "    </tr>\n",
       "  </tbody>\n",
       "</table>"
      ],
      "text/plain": [
       "<IPython.core.display.HTML object>"
      ]
     },
     "metadata": {},
     "output_type": "display_data"
    },
    {
     "data": {
      "image/png": "[encoded data removed]",
      "text/plain": [
       "<Figure size 432x288 with 1 Axes>"
      ]
     },
     "metadata": {},
     "output_type": "display_data"
    }
   ],
   "source": [
    "learn.fit(3)"
   ]
  },
  {
   "cell_type": "markdown",
   "id": "562eb318-755f-4ecf-9a68-7657da1fabc7",
   "metadata": {},
   "source": [
    "Consider the difference between weight decay and L2 regularization:\n",
    "```python\n",
    "weight -= lr*wd*weight\n",
    "```\n",
    "...vs...\n",
    "```python\n",
    "weight.grad += wd*weight\n",
    "```\n",
    "\n",
    "The resoning: usual gradient update is:`weight -= lr * weight.grad`. In regularization we add `weight**2` to the loss which is equivalent to updating the weight gradient by adding weight decay times the weight: `weight.grad += wd*weight`. So we can rewrite the whole reg update like this: `weight -= lr*wd*weight` -> `weight = weight*(1-lr*wd)`"
   ]
  },
  {
   "cell_type": "markdown",
   "id": "3d524949-d722-44b0-ab8b-eef7bf61a95a",
   "metadata": {},
   "source": [
    "### Momentum "
   ]
  },
  {
   "cell_type": "markdown",
   "id": "1e1656b0-5972-47c2-ba70-8c6c6aa67422",
   "metadata": {},
   "source": [
    "Let's see what momentum looks like in practice."
   ]
  },
  {
   "cell_type": "code",
   "execution_count": null,
   "id": "e1c351de-7877-42c4-a074-ed60abfcb991",
   "metadata": {},
   "outputs": [],
   "source": [
    "xs = torch.linspace(-4, 4, 100)\n",
    "ys = 1 - (xs/3) ** 2 + torch.randn(100) * 0.1"
   ]
  },
  {
   "cell_type": "code",
   "execution_count": null,
   "id": "c35e123e-0143-40c7-bbb4-51e9548d4a39",
   "metadata": {},
   "outputs": [
    {
     "data": {
      "image/png": "[encoded data removed]",
      "text/plain": [
       "<Figure size 864x576 with 4 Axes>"
      ]
     },
     "metadata": {
      "needs_background": "dark"
     },
     "output_type": "display_data"
    }
   ],
   "source": [
    "_,axs = plt.subplots(2,2, figsize=(12,8))\n",
    "betas = [0.5,0.7,0.9,0.99]\n",
    "for beta,ax in zip(betas, axs.flatten()):\n",
    "    ax.scatter(xs,ys)\n",
    "    avg,res = 0,[]\n",
    "    for yi in ys:\n",
    "        # momentum (torch.lerp)\n",
    "        avg = beta*avg + (1-beta)*yi\n",
    "        res.append(avg)\n",
    "    ax.plot(xs,np.array(res), color='red');\n",
    "    ax.set_title(f'beta={beta}')"
   ]
  },
  {
   "cell_type": "code",
   "execution_count": null,
   "id": "663e2096-2142-49a2-8c6b-65a2f8a86186",
   "metadata": {},
   "outputs": [],
   "source": [
    "class Momentum(SGD):\n",
    "    def __init__(self, params, lr, wd=0., mom=0.9):\n",
    "        # super init and save mom\n",
    "        super().__init__(params, lr, wd)\n",
    "        self.mom = mom\n",
    "        \n",
    "    def opt_step(self, p):\n",
    "        # if there is no `grad_avg`, create it with the shape of grad\n",
    "        if not hasattr(p, 'grad_avg'): p.grad_avg = torch.zeros_like(p.grad)\n",
    "        # calculate moving grad_avg\n",
    "        p.grad_avg = p.grad_avg * self.mom + p.grad * (1-self.mom)\n",
    "        # perform the update\n",
    "        p -= self.lr * p.grad_avg"
   ]
  },
  {
   "cell_type": "markdown",
   "id": "ff7c7d06-a5c3-4df3-8ab4-2a25a2e31e4d",
   "metadata": {},
   "source": [
    "Because Momentum smoothes out the loss function, it allows us to increase the learning rate."
   ]
  },
  {
   "cell_type": "code",
   "execution_count": null,
   "id": "8fbd3154-7e4b-4146-9146-b89821bc6102",
   "metadata": {},
   "outputs": [],
   "source": [
    "set_seed(42)\n",
    "# get model\n",
    "model = get_model(act_gr, norm=nn.BatchNorm2d).apply(iw)\n",
    "# Train Learner with lr = 1.5 and opt_func Momentum\n",
    "learn = TrainLearner(model, dls, F.cross_entropy, lr=1.5, cbs=cbs, opt_func=Momentum)"
   ]
  },
  {
   "cell_type": "code",
   "execution_count": null,
   "id": "e1995121-4524-4f44-b2c5-623493d242de",
   "metadata": {},
   "outputs": [
    {
     "data": {
      "text/html": [
       "\n",
       "<style>\n",
       "    /* Turns off some styling */\n",
       "    progress {\n",
       "        /* gets rid of default border in Firefox and Opera. */\n",
       "        border: none;\n",
       "        /* Needs to be in here for Safari polyfill so background images work as expected. */\n",
       "        background-size: auto;\n",
       "    }\n",
       "    progress:not([value]), progress:not([value])::-webkit-progress-bar {\n",
       "        background: repeating-linear-gradient(45deg, #7e7e7e, #7e7e7e 10px, #5c5c5c 10px, #5c5c5c 20px);\n",
       "    }\n",
       "    .progress-bar-interrupted, .progress-bar-interrupted::-webkit-progress-bar {\n",
       "        background: #F44336;\n",
       "    }\n",
       "</style>\n"
      ],
      "text/plain": [
       "<IPython.core.display.HTML object>"
      ]
     },
     "metadata": {},
     "output_type": "display_data"
    },
    {
     "data": {
      "text/html": [
       "<table border=\"1\" class=\"dataframe\">\n",
       "  <thead>\n",
       "    <tr style=\"text-align: left;\">\n",
       "      <th>accuracy</th>\n",
       "      <th>loss</th>\n",
       "      <th>epoch</th>\n",
       "      <th>train</th>\n",
       "    </tr>\n",
       "  </thead>\n",
       "  <tbody>\n",
       "    <tr>\n",
       "      <td>0.787</td>\n",
       "      <td>0.592</td>\n",
       "      <td>0</td>\n",
       "      <td>train</td>\n",
       "    </tr>\n",
       "    <tr>\n",
       "      <td>0.851</td>\n",
       "      <td>0.412</td>\n",
       "      <td>0</td>\n",
       "      <td>eval</td>\n",
       "    </tr>\n",
       "    <tr>\n",
       "      <td>0.869</td>\n",
       "      <td>0.356</td>\n",
       "      <td>1</td>\n",
       "      <td>train</td>\n",
       "    </tr>\n",
       "    <tr>\n",
       "      <td>0.848</td>\n",
       "      <td>0.399</td>\n",
       "      <td>1</td>\n",
       "      <td>eval</td>\n",
       "    </tr>\n",
       "    <tr>\n",
       "      <td>0.884</td>\n",
       "      <td>0.316</td>\n",
       "      <td>2</td>\n",
       "      <td>train</td>\n",
       "    </tr>\n",
       "    <tr>\n",
       "      <td>0.869</td>\n",
       "      <td>0.357</td>\n",
       "      <td>2</td>\n",
       "      <td>eval</td>\n",
       "    </tr>\n",
       "  </tbody>\n",
       "</table>"
      ],
      "text/plain": [
       "<IPython.core.display.HTML object>"
      ]
     },
     "metadata": {},
     "output_type": "display_data"
    },
    {
     "data": {
      "image/png": "[encoded data removed]",
      "text/plain": [
       "<Figure size 432x288 with 1 Axes>"
      ]
     },
     "metadata": {},
     "output_type": "display_data"
    }
   ],
   "source": [
    "learn.fit(3)"
   ]
  },
  {
   "cell_type": "code",
   "execution_count": null,
   "id": "447ff672-45c7-43ca-8f6b-e49d7bf5d817",
   "metadata": {},
   "outputs": [
    {
     "data": {
      "image/png": "[encoded data removed]",
      "text/plain": [
       "<Figure size 792x360 with 4 Axes>"
      ]
     },
     "metadata": {},
     "output_type": "display_data"
    }
   ],
   "source": [
    "# check color dims\n",
    "astats.color_dim()"
   ]
  },
  {
   "cell_type": "markdown",
   "id": "5d764728-2cf0-4445-9815-682f259767eb",
   "metadata": {},
   "source": [
    "### RMSProp"
   ]
  },
  {
   "cell_type": "markdown",
   "id": "cda10dc7-6bec-4684-8945-c0ff4a0d3031",
   "metadata": {},
   "source": [
    "Similar idea is RMSProp, which incldes in the update step the squared gradients. If squared gradients are large, this means that there is high volatility and our gradients are all over the place. In such case we don't want to make a large update to the parameter. During update we divide by the square root of squared gradients"
   ]
  },
  {
   "cell_type": "code",
   "execution_count": null,
   "id": "e3adff94-949e-41d4-8dc1-58bdb50bb2ba",
   "metadata": {},
   "outputs": [],
   "source": [
    "class RMSProp(SGD):\n",
    "    def __init__(self, params, lr, wd=0., sqr_mom=0.99, eps=1e-5):\n",
    "        # super init + new variables\n",
    "        super().__init__(params, lr=lr, wd=wd)\n",
    "        self.sqr_mom, self.eps = sqr_mom, eps\n",
    "        \n",
    "    def opt_step(self, p):\n",
    "        # we initialize the first p.sqr_avg to the squared grad itself and not zero\n",
    "        # because zero will lead to dividing by very small number(epsilon)\n",
    "        if not hasattr(p, 'sqr_avg'): p.sqr_avg = p.grad**2\n",
    "        # calculate moving squared grad_avg\n",
    "        p.sqr_avg = p.sqr_avg*self.sqr_mom + p.grad**2*(1-self.sqr_mom)\n",
    "        # perform the update\n",
    "        p -= self.lr * p.grad / (p.sqr_avg.sqrt() + self.eps)"
   ]
  },
  {
   "cell_type": "markdown",
   "id": "b34df1ee-ac05-4107-b437-ede7b39d993d",
   "metadata": {},
   "source": [
    "Generally we have to decrease the LR because we might be dividing by a small number"
   ]
  },
  {
   "cell_type": "code",
   "execution_count": null,
   "id": "2e35e42f-ddfd-4408-83ec-14aa6f793818",
   "metadata": {},
   "outputs": [
    {
     "data": {
      "text/html": [
       "\n",
       "<style>\n",
       "    /* Turns off some styling */\n",
       "    progress {\n",
       "        /* gets rid of default border in Firefox and Opera. */\n",
       "        border: none;\n",
       "        /* Needs to be in here for Safari polyfill so background images work as expected. */\n",
       "        background-size: auto;\n",
       "    }\n",
       "    progress:not([value]), progress:not([value])::-webkit-progress-bar {\n",
       "        background: repeating-linear-gradient(45deg, #7e7e7e, #7e7e7e 10px, #5c5c5c 10px, #5c5c5c 20px);\n",
       "    }\n",
       "    .progress-bar-interrupted, .progress-bar-interrupted::-webkit-progress-bar {\n",
       "        background: #F44336;\n",
       "    }\n",
       "</style>\n"
      ],
      "text/plain": [
       "<IPython.core.display.HTML object>"
      ]
     },
     "metadata": {},
     "output_type": "display_data"
    },
    {
     "data": {
      "text/html": [
       "<table border=\"1\" class=\"dataframe\">\n",
       "  <thead>\n",
       "    <tr style=\"text-align: left;\">\n",
       "      <th>accuracy</th>\n",
       "      <th>loss</th>\n",
       "      <th>epoch</th>\n",
       "      <th>train</th>\n",
       "    </tr>\n",
       "  </thead>\n",
       "  <tbody>\n",
       "    <tr>\n",
       "      <td>0.762</td>\n",
       "      <td>0.691</td>\n",
       "      <td>0</td>\n",
       "      <td>train</td>\n",
       "    </tr>\n",
       "    <tr>\n",
       "      <td>0.797</td>\n",
       "      <td>0.547</td>\n",
       "      <td>0</td>\n",
       "      <td>eval</td>\n",
       "    </tr>\n",
       "    <tr>\n",
       "      <td>0.853</td>\n",
       "      <td>0.397</td>\n",
       "      <td>1</td>\n",
       "      <td>train</td>\n",
       "    </tr>\n",
       "    <tr>\n",
       "      <td>0.848</td>\n",
       "      <td>0.430</td>\n",
       "      <td>1</td>\n",
       "      <td>eval</td>\n",
       "    </tr>\n",
       "    <tr>\n",
       "      <td>0.868</td>\n",
       "      <td>0.356</td>\n",
       "      <td>2</td>\n",
       "      <td>train</td>\n",
       "    </tr>\n",
       "    <tr>\n",
       "      <td>0.851</td>\n",
       "      <td>0.399</td>\n",
       "      <td>2</td>\n",
       "      <td>eval</td>\n",
       "    </tr>\n",
       "  </tbody>\n",
       "</table>"
      ],
      "text/plain": [
       "<IPython.core.display.HTML object>"
      ]
     },
     "metadata": {},
     "output_type": "display_data"
    },
    {
     "data": {
      "image/png": "[encoded data removed]",
      "text/plain": [
       "<Figure size 432x288 with 1 Axes>"
      ]
     },
     "metadata": {},
     "output_type": "display_data"
    }
   ],
   "source": [
    "set_seed(42)\n",
    "# get model\n",
    "model = get_model(act_gr, norm=nn.BatchNorm2d).apply(iw)\n",
    "# Train Learner with lr = 1e-2 and opt_func RMSProp\n",
    "learn = TrainLearner(model, dls, F.cross_entropy, lr=1e-2, cbs=cbs, opt_func=RMSProp)\n",
    "\n",
    "learn.fit(3)"
   ]
  },
  {
   "cell_type": "code",
   "execution_count": null,
   "id": "b37e4bea-e245-47c4-bd02-8c1b536dfcf4",
   "metadata": {},
   "outputs": [
    {
     "data": {
      "image/png": "[encoded data removed]",
      "text/plain": [
       "<Figure size 792x360 with 4 Axes>"
      ]
     },
     "metadata": {},
     "output_type": "display_data"
    }
   ],
   "source": [
    "# check color dim\n",
    "astats.color_dim()"
   ]
  },
  {
   "cell_type": "markdown",
   "id": "9d1cc70c-a182-4111-90b7-da3e7f92e1bf",
   "metadata": {},
   "source": [
    "### Adam"
   ]
  },
  {
   "cell_type": "markdown",
   "id": "524921d1-87a2-4006-b2a6-7c837ed7acd3",
   "metadata": {},
   "source": [
    "RMSProp + Momentum = Adam"
   ]
  },
  {
   "cell_type": "code",
   "execution_count": null,
   "id": "7a5c374d-4d8f-4e60-810c-6e9564650b31",
   "metadata": {},
   "outputs": [],
   "source": [
    "class Adam(SGD):\n",
    "    def __init__(self, params, lr, wd=0., beta1=0.9, beta2=0.99, eps=1e-5):\n",
    "        # super + new parameters\n",
    "        super().__init__(params, lr, wd)\n",
    "        self.beta1, self.beta2, self.eps = beta1, beta2, eps\n",
    "        \n",
    "    def opt_step(self, p):\n",
    "        # if no avg attribute, create it with zeros\n",
    "        if not hasattr(p, 'avg'): p.avg = torch.zeros_like(p.grad)\n",
    "        # here we don't use trick with initializing to initial values of grads squared\n",
    "        # but we will unbias avg and sqr_avg below\n",
    "        # if no sqr_avg attribute, create it with zeros\n",
    "        if not hasattr(p, 'sqr_avg'): p.sqr_avg = torch.zeros_like(p.grad)\n",
    "        # calculate avg\n",
    "        p.avg = self.beta1 * p.avg + (1-self.beta1)*p.grad\n",
    "        # unbias avg\n",
    "        unbias_avg = p.avg / (1 - (self.beta1**(self.i+1)))\n",
    "        # calculate sqr_avg\n",
    "        p.sqr_avg = self.beta2*p.sqr_avg + (1-self.beta2)*(p.grad**2)\n",
    "        # unbias sqr_avg\n",
    "        unbias_sqr_avg = p.sqr_avg / (1 - (self.beta2**(self.i+1)))\n",
    "        # update parameters\n",
    "        p -= self.lr * unbias_avg / (unbias_sqr_avg + self.eps).sqrt()"
   ]
  },
  {
   "cell_type": "code",
   "execution_count": null,
   "id": "b913e701-523d-46ec-b8c6-314567541660",
   "metadata": {},
   "outputs": [
    {
     "name": "stdout",
     "output_type": "stream",
     "text": [
      "0.6\n",
      "1.0\n"
     ]
    }
   ],
   "source": [
    "avg = 0.4*0 + 0.6*1\n",
    "print(avg); print(avg/(1-0.4))"
   ]
  },
  {
   "cell_type": "code",
   "execution_count": null,
   "id": "a54ef66c-9902-48a5-ae6e-b1abf668b1a0",
   "metadata": {},
   "outputs": [
    {
     "data": {
      "text/plain": [
       "1.0"
      ]
     },
     "execution_count": null,
     "metadata": {},
     "output_type": "execute_result"
    }
   ],
   "source": [
    "0.4*1 + 0.6*1"
   ]
  },
  {
   "cell_type": "markdown",
   "id": "0bfab996-55c9-4169-b1d9-1604513eed82",
   "metadata": {},
   "source": [
    "$avg = a * 0 + (1-a) * b$ <br>\n",
    "$avg = (1-a)*b$\n",
    "\n",
    "if distribution was equal: $avg = a*b + (1-a)*b = a*b +b -a*b = b $ so we divide by $(1-a)$"
   ]
  },
  {
   "cell_type": "code",
   "execution_count": null,
   "id": "1e7233c2-b712-4a9b-bebf-73f849822fbb",
   "metadata": {},
   "outputs": [
    {
     "data": {
      "text/html": [
       "\n",
       "<style>\n",
       "    /* Turns off some styling */\n",
       "    progress {\n",
       "        /* gets rid of default border in Firefox and Opera. */\n",
       "        border: none;\n",
       "        /* Needs to be in here for Safari polyfill so background images work as expected. */\n",
       "        background-size: auto;\n",
       "    }\n",
       "    progress:not([value]), progress:not([value])::-webkit-progress-bar {\n",
       "        background: repeating-linear-gradient(45deg, #7e7e7e, #7e7e7e 10px, #5c5c5c 10px, #5c5c5c 20px);\n",
       "    }\n",
       "    .progress-bar-interrupted, .progress-bar-interrupted::-webkit-progress-bar {\n",
       "        background: #F44336;\n",
       "    }\n",
       "</style>\n"
      ],
      "text/plain": [
       "<IPython.core.display.HTML object>"
      ]
     },
     "metadata": {},
     "output_type": "display_data"
    },
    {
     "data": {
      "text/html": [
       "<table border=\"1\" class=\"dataframe\">\n",
       "  <thead>\n",
       "    <tr style=\"text-align: left;\">\n",
       "      <th>accuracy</th>\n",
       "      <th>loss</th>\n",
       "      <th>epoch</th>\n",
       "      <th>train</th>\n",
       "    </tr>\n",
       "  </thead>\n",
       "  <tbody>\n",
       "    <tr>\n",
       "      <td>0.760</td>\n",
       "      <td>0.684</td>\n",
       "      <td>0</td>\n",
       "      <td>train</td>\n",
       "    </tr>\n",
       "    <tr>\n",
       "      <td>0.827</td>\n",
       "      <td>0.470</td>\n",
       "      <td>0</td>\n",
       "      <td>eval</td>\n",
       "    </tr>\n",
       "    <tr>\n",
       "      <td>0.857</td>\n",
       "      <td>0.399</td>\n",
       "      <td>1</td>\n",
       "      <td>train</td>\n",
       "    </tr>\n",
       "    <tr>\n",
       "      <td>0.852</td>\n",
       "      <td>0.401</td>\n",
       "      <td>1</td>\n",
       "      <td>eval</td>\n",
       "    </tr>\n",
       "    <tr>\n",
       "      <td>0.875</td>\n",
       "      <td>0.345</td>\n",
       "      <td>2</td>\n",
       "      <td>train</td>\n",
       "    </tr>\n",
       "    <tr>\n",
       "      <td>0.862</td>\n",
       "      <td>0.370</td>\n",
       "      <td>2</td>\n",
       "      <td>eval</td>\n",
       "    </tr>\n",
       "  </tbody>\n",
       "</table>"
      ],
      "text/plain": [
       "<IPython.core.display.HTML object>"
      ]
     },
     "metadata": {},
     "output_type": "display_data"
    },
    {
     "data": {
      "image/png": "[encoded data removed]",
      "text/plain": [
       "<Figure size 432x288 with 1 Axes>"
      ]
     },
     "metadata": {},
     "output_type": "display_data"
    }
   ],
   "source": [
    "set_seed(42)\n",
    "model = get_model(act_gr, norm=nn.BatchNorm2d).apply(iw)\n",
    "learn = TrainLearner(model, dls, F.cross_entropy, lr=3e-3, cbs=cbs, opt_func=Adam)\n",
    "learn.fit(3)"
   ]
  },
  {
   "cell_type": "markdown",
   "id": "d50b73b9-6cfc-4b0c-b8ef-ed45fa64df13",
   "metadata": {},
   "source": [
    "## Schedulers"
   ]
  },
  {
   "cell_type": "markdown",
   "id": "20eb2226-0b1c-47ab-a643-b4bd61f97570",
   "metadata": {},
   "source": [
    "We've already seen how we can easily write a custom LR-adjusting callback or Learner, or can use the predefined PyTorch schedulers. We'll use the predefined ones for now since there's nothing new to learn in implementing them ourselves."
   ]
  },
  {
   "cell_type": "code",
   "execution_count": null,
   "id": "b846e5e8-8aad-473c-97e0-9d34c564bb0b",
   "metadata": {},
   "outputs": [
    {
     "data": {
      "text/plain": [
       "'ChainedScheduler ConstantLR CosineAnnealingLR CosineAnnealingWarmRestarts Counter CyclicLR ExponentialLR LambdaLR LinearLR MultiStepLR MultiplicativeLR OneCycleLR Optimizer ReduceLROnPlateau SequentialLR StepLR'"
      ]
     },
     "execution_count": null,
     "metadata": {},
     "output_type": "execute_result"
    }
   ],
   "source": [
    "' '.join(o for o in dir(lr_scheduler) if o[0].isupper() and o[1].islower())"
   ]
  },
  {
   "cell_type": "code",
   "execution_count": null,
   "id": "fa2092f7-45c1-41a8-b6d4-b61a2d3f7b2d",
   "metadata": {},
   "outputs": [
    {
     "data": {
      "text/plain": [
       "'ChainedScheduler ConstantLR CosineAnnealingLR CosineAnnealingWarmRestarts Counter CyclicLR ExponentialLR LambdaLR LinearLR MultiStepLR MultiplicativeLR OneCycleLR Optimizer ReduceLROnPlateau SequentialLR StepLR'"
      ]
     },
     "execution_count": null,
     "metadata": {},
     "output_type": "execute_result"
    }
   ],
   "source": [
    "' '.join(filter(lambda x: x[0].isupper() and x[1].islower(), dir(lr_scheduler)))"
   ]
  },
  {
   "cell_type": "markdown",
   "id": "32c013b1-30fb-4ba6-95fe-0a84c7db3a28",
   "metadata": {},
   "source": [
    "Pytorch schedulers work with pytorch optimizers. We can grab a pytorch optimizer using our TrainLearner and a SingleBatch callback to initialize the optimizer."
   ]
  },
  {
   "cell_type": "code",
   "execution_count": null,
   "id": "654c0917-df15-4924-b063-65bc52f6eb9d",
   "metadata": {},
   "outputs": [],
   "source": [
    "learn = TrainLearner(get_model(), dls, F.cross_entropy, lr=6e-3, cbs=[DeviceCB(), SingleBatchCB()])\n",
    "learn.fit(1)"
   ]
  },
  {
   "cell_type": "markdown",
   "id": "fe6a13ce-b5e8-4d38-978e-801b8a179c29",
   "metadata": {},
   "source": [
    "Let's look what methods pytorch optimizer has."
   ]
  },
  {
   "cell_type": "code",
   "execution_count": null,
   "id": "5101f023-bdce-4cd8-9a6f-3f1f7cd84520",
   "metadata": {},
   "outputs": [
    {
     "data": {
      "text/plain": [
       "'add_param_group defaults load_state_dict param_groups state state_dict step zero_grad'"
      ]
     },
     "execution_count": null,
     "metadata": {},
     "output_type": "execute_result"
    }
   ],
   "source": [
    "opt = learn.opt\n",
    "' '.join(o for o in dir(opt) if o[0] != '_')"
   ]
  },
  {
   "cell_type": "markdown",
   "id": "4cbcaa8c-6453-4904-8c97-056c2a4bd6eb",
   "metadata": {},
   "source": [
    "pytorch optmizer spits parameters into groups that can have different learning rates and othe hyperparameters. Note that we can index into optimizer state dict wit tensor (parameter). In miniai we stored state inside parameters using attributes, pytorch stores state in separate state dict."
   ]
  },
  {
   "cell_type": "code",
   "execution_count": null,
   "id": "b0d91bbc-12c4-4d8b-83f4-413258297e77",
   "metadata": {},
   "outputs": [
    {
     "data": {
      "text/plain": [
       "SGD (\n",
       "Parameter Group 0\n",
       "    dampening: 0\n",
       "    foreach: None\n",
       "    lr: 0.006\n",
       "    maximize: False\n",
       "    momentum: 0\n",
       "    nesterov: False\n",
       "    weight_decay: 0\n",
       ")"
      ]
     },
     "execution_count": null,
     "metadata": {},
     "output_type": "execute_result"
    }
   ],
   "source": [
    "opt"
   ]
  },
  {
   "cell_type": "code",
   "execution_count": null,
   "id": "31ea89eb-eebe-4865-a7e4-85c1a8d89df7",
   "metadata": {},
   "outputs": [
    {
     "data": {
      "text/plain": [
       "defaultdict(dict,\n",
       "            {Parameter containing:\n",
       "             tensor([[[[ 0.15, -0.19,  0.08],\n",
       "                       [-0.01, -0.06,  0.26],\n",
       "                       [ 0.16, -0.30,  0.23]]],\n",
       "             \n",
       "             \n",
       "                     [[[ 0.05,  0.14,  0.03],\n",
       "                       [ 0.33,  0.18, -0.04],\n",
       "                       [-0.31,  0.18, -0.31]]],\n",
       "             \n",
       "             \n",
       "                     [[[ 0.18,  0.06,  0.13],\n",
       "                       [ 0.10, -0.25, -0.14],\n",
       "                       [-0.07, -0.31,  0.22]]],\n",
       "             \n",
       "             \n",
       "                     [[[-0.16, -0.16, -0.12],\n",
       "                       [ 0.18, -0.00,  0.15],\n",
       "                       [ 0.17, -0.01,  0.27]]],\n",
       "             \n",
       "             \n",
       "                     [[[ 0.16,  0.19,  0.33],\n",
       "                       [ 0.13,  0.27,  0.18],\n",
       "                       [-0.14,  0.01, -0.17]]],\n",
       "             \n",
       "             \n",
       "                     [[[ 0.26,  0.10, -0.23],\n",
       "                       [ 0.30,  0.19,  0.02],\n",
       "                       [-0.24, -0.16, -0.30]]],\n",
       "             \n",
       "             \n",
       "                     [[[-0.22,  0.32, -0.02],\n",
       "                       [ 0.29,  0.17,  0.30],\n",
       "                       [ 0.11, -0.19,  0.31]]],\n",
       "             \n",
       "             \n",
       "                     [[[-0.28,  0.09,  0.09],\n",
       "                       [ 0.22, -0.24,  0.12],\n",
       "                       [ 0.04, -0.24,  0.05]]]], device='cuda:0', requires_grad=True): {'momentum_buffer': None},\n",
       "             Parameter containing:\n",
       "             tensor([-0.03,  0.27, -0.31,  0.06,  0.31, -0.22,  0.31, -0.07], device='cuda:0', requires_grad=True): {'momentum_buffer': None},\n",
       "             Parameter containing:\n",
       "             tensor([[[[ 0.10, -0.02,  0.09],\n",
       "                       [-0.11,  0.04, -0.07],\n",
       "                       [ 0.04, -0.11, -0.06]],\n",
       "             \n",
       "                      [[ 0.00, -0.09,  0.07],\n",
       "                       [-0.06, -0.02, -0.02],\n",
       "                       [ 0.06, -0.05,  0.04]],\n",
       "             \n",
       "                      [[-0.06,  0.01, -0.11],\n",
       "                       [-0.04, -0.10, -0.09],\n",
       "                       [ 0.11, -0.11,  0.06]],\n",
       "             \n",
       "                      ...,\n",
       "             \n",
       "                      [[ 0.03, -0.10,  0.09],\n",
       "                       [-0.02,  0.06,  0.07],\n",
       "                       [ 0.05, -0.04,  0.03]],\n",
       "             \n",
       "                      [[-0.12, -0.08, -0.12],\n",
       "                       [-0.01, -0.07, -0.09],\n",
       "                       [-0.03, -0.07,  0.05]],\n",
       "             \n",
       "                      [[-0.03,  0.10,  0.07],\n",
       "                       [-0.03, -0.01, -0.11],\n",
       "                       [ 0.05, -0.01,  0.09]]],\n",
       "             \n",
       "             \n",
       "                     [[[-0.11,  0.01, -0.06],\n",
       "                       [-0.07, -0.01,  0.05],\n",
       "                       [ 0.05, -0.06, -0.09]],\n",
       "             \n",
       "                      [[ 0.04, -0.08,  0.00],\n",
       "                       [ 0.11, -0.10, -0.06],\n",
       "                       [ 0.01, -0.04,  0.01]],\n",
       "             \n",
       "                      [[ 0.07,  0.00,  0.08],\n",
       "                       [-0.09, -0.09, -0.10],\n",
       "                       [ 0.02, -0.08,  0.09]],\n",
       "             \n",
       "                      ...,\n",
       "             \n",
       "                      [[ 0.08, -0.02, -0.01],\n",
       "                       [-0.01,  0.09,  0.07],\n",
       "                       [ 0.08,  0.07, -0.12]],\n",
       "             \n",
       "                      [[-0.06,  0.06,  0.04],\n",
       "                       [-0.11,  0.07, -0.01],\n",
       "                       [ 0.04,  0.02, -0.07]],\n",
       "             \n",
       "                      [[ 0.06,  0.03,  0.11],\n",
       "                       [ 0.11, -0.06, -0.02],\n",
       "                       [-0.09,  0.05, -0.09]]],\n",
       "             \n",
       "             \n",
       "                     [[[ 0.06, -0.08,  0.12],\n",
       "                       [ 0.08, -0.11, -0.01],\n",
       "                       [ 0.02, -0.03, -0.09]],\n",
       "             \n",
       "                      [[-0.04, -0.08, -0.03],\n",
       "                       [ 0.11, -0.05,  0.05],\n",
       "                       [ 0.01,  0.04,  0.06]],\n",
       "             \n",
       "                      [[-0.00,  0.00, -0.05],\n",
       "                       [ 0.09,  0.04,  0.04],\n",
       "                       [-0.00, -0.08, -0.10]],\n",
       "             \n",
       "                      ...,\n",
       "             \n",
       "                      [[ 0.02, -0.03,  0.10],\n",
       "                       [-0.09,  0.05,  0.01],\n",
       "                       [-0.12,  0.00, -0.06]],\n",
       "             \n",
       "                      [[-0.07, -0.04,  0.07],\n",
       "                       [ 0.02, -0.05,  0.01],\n",
       "                       [-0.01,  0.02,  0.00]],\n",
       "             \n",
       "                      [[-0.05,  0.08, -0.02],\n",
       "                       [ 0.03,  0.04,  0.08],\n",
       "                       [ 0.02,  0.05,  0.01]]],\n",
       "             \n",
       "             \n",
       "                     ...,\n",
       "             \n",
       "             \n",
       "                     [[[-0.06,  0.10,  0.00],\n",
       "                       [ 0.00, -0.08,  0.09],\n",
       "                       [ 0.07,  0.08, -0.07]],\n",
       "             \n",
       "                      [[-0.09,  0.02, -0.03],\n",
       "                       [-0.03,  0.07, -0.01],\n",
       "                       [ 0.07, -0.09,  0.03]],\n",
       "             \n",
       "                      [[-0.10, -0.04,  0.06],\n",
       "                       [-0.08,  0.06,  0.07],\n",
       "                       [ 0.04, -0.02,  0.02]],\n",
       "             \n",
       "                      ...,\n",
       "             \n",
       "                      [[ 0.01,  0.09, -0.05],\n",
       "                       [ 0.11,  0.04, -0.02],\n",
       "                       [-0.11,  0.02, -0.11]],\n",
       "             \n",
       "                      [[ 0.05, -0.06, -0.07],\n",
       "                       [-0.00, -0.08,  0.01],\n",
       "                       [ 0.02,  0.04,  0.10]],\n",
       "             \n",
       "                      [[ 0.09,  0.08, -0.06],\n",
       "                       [-0.04,  0.11, -0.06],\n",
       "                       [ 0.02,  0.06,  0.11]]],\n",
       "             \n",
       "             \n",
       "                     [[[ 0.04,  0.04,  0.11],\n",
       "                       [ 0.08, -0.05,  0.04],\n",
       "                       [ 0.02,  0.06, -0.06]],\n",
       "             \n",
       "                      [[-0.02,  0.04,  0.09],\n",
       "                       [ 0.06, -0.08,  0.02],\n",
       "                       [-0.03,  0.03,  0.04]],\n",
       "             \n",
       "                      [[ 0.03, -0.06,  0.09],\n",
       "                       [ 0.00,  0.09,  0.07],\n",
       "                       [ 0.05, -0.03,  0.08]],\n",
       "             \n",
       "                      ...,\n",
       "             \n",
       "                      [[-0.05, -0.01, -0.12],\n",
       "                       [ 0.04,  0.02, -0.00],\n",
       "                       [ 0.06, -0.07, -0.02]],\n",
       "             \n",
       "                      [[ 0.04,  0.03,  0.04],\n",
       "                       [-0.04, -0.04, -0.03],\n",
       "                       [-0.10,  0.06, -0.10]],\n",
       "             \n",
       "                      [[ 0.09, -0.02,  0.03],\n",
       "                       [ 0.10,  0.01,  0.09],\n",
       "                       [ 0.03, -0.05, -0.03]]],\n",
       "             \n",
       "             \n",
       "                     [[[-0.04,  0.10, -0.06],\n",
       "                       [-0.05, -0.01, -0.04],\n",
       "                       [-0.08,  0.01,  0.07]],\n",
       "             \n",
       "                      [[-0.04, -0.03, -0.09],\n",
       "                       [ 0.03,  0.02,  0.06],\n",
       "                       [ 0.10, -0.06,  0.08]],\n",
       "             \n",
       "                      [[-0.08, -0.03, -0.09],\n",
       "                       [-0.03, -0.08, -0.11],\n",
       "                       [-0.07, -0.05, -0.10]],\n",
       "             \n",
       "                      ...,\n",
       "             \n",
       "                      [[-0.04, -0.03,  0.04],\n",
       "                       [-0.03,  0.07,  0.04],\n",
       "                       [ 0.10,  0.07, -0.05]],\n",
       "             \n",
       "                      [[-0.05, -0.00, -0.11],\n",
       "                       [-0.07, -0.07,  0.09],\n",
       "                       [-0.07, -0.07, -0.09]],\n",
       "             \n",
       "                      [[-0.01, -0.07, -0.10],\n",
       "                       [ 0.11, -0.04, -0.01],\n",
       "                       [ 0.02,  0.01,  0.03]]]], device='cuda:0', requires_grad=True): {'momentum_buffer': None},\n",
       "             Parameter containing:\n",
       "             tensor([ 0.05, -0.04, -0.05, -0.01, -0.11, -0.06,  0.05, -0.00, -0.08, -0.08, -0.04,  0.11,  0.07, -0.08,  0.05, -0.09], device='cuda:0', requires_grad=True): {'momentum_buffer': None},\n",
       "             Parameter containing:\n",
       "             tensor([[[[ 0.08,  0.01, -0.01],\n",
       "                       [ 0.07, -0.01, -0.08],\n",
       "                       [ 0.06,  0.01, -0.07]],\n",
       "             \n",
       "                      [[ 0.01,  0.06,  0.05],\n",
       "                       [-0.08, -0.05,  0.08],\n",
       "                       [ 0.07,  0.02, -0.02]],\n",
       "             \n",
       "                      [[ 0.08,  0.01,  0.06],\n",
       "                       [-0.08, -0.06,  0.01],\n",
       "                       [-0.00, -0.00, -0.04]],\n",
       "             \n",
       "                      ...,\n",
       "             \n",
       "                      [[-0.05, -0.06, -0.02],\n",
       "                       [-0.08, -0.00,  0.04],\n",
       "                       [-0.04,  0.08,  0.05]],\n",
       "             \n",
       "                      [[ 0.05, -0.05,  0.05],\n",
       "                       [ 0.05,  0.05, -0.06],\n",
       "                       [ 0.03,  0.02,  0.01]],\n",
       "             \n",
       "                      [[ 0.07, -0.00, -0.03],\n",
       "                       [-0.05, -0.06, -0.03],\n",
       "                       [ 0.06,  0.04,  0.04]]],\n",
       "             \n",
       "             \n",
       "                     [[[ 0.04,  0.02, -0.03],\n",
       "                       [ 0.03, -0.02,  0.03],\n",
       "                       [ 0.04, -0.06, -0.06]],\n",
       "             \n",
       "                      [[-0.08,  0.02, -0.03],\n",
       "                       [-0.01,  0.01,  0.01],\n",
       "                       [-0.07, -0.01, -0.02]],\n",
       "             \n",
       "                      [[-0.02, -0.08, -0.06],\n",
       "                       [-0.02,  0.02,  0.06],\n",
       "                       [-0.04, -0.00,  0.06]],\n",
       "             \n",
       "                      ...,\n",
       "             \n",
       "                      [[ 0.02, -0.07, -0.01],\n",
       "                       [ 0.04,  0.03,  0.02],\n",
       "                       [ 0.05,  0.02, -0.02]],\n",
       "             \n",
       "                      [[ 0.06,  0.02,  0.05],\n",
       "                       [-0.03, -0.08, -0.03],\n",
       "                       [-0.02,  0.05,  0.03]],\n",
       "             \n",
       "                      [[-0.01, -0.04, -0.00],\n",
       "                       [ 0.00,  0.07, -0.01],\n",
       "                       [ 0.01, -0.01,  0.01]]],\n",
       "             \n",
       "             \n",
       "                     [[[-0.08,  0.00,  0.02],\n",
       "                       [ 0.00,  0.06,  0.05],\n",
       "                       [-0.02,  0.05, -0.06]],\n",
       "             \n",
       "                      [[ 0.01,  0.02,  0.04],\n",
       "                       [ 0.02, -0.01, -0.04],\n",
       "                       [-0.02,  0.01, -0.08]],\n",
       "             \n",
       "                      [[ 0.03,  0.08, -0.03],\n",
       "                       [ 0.03,  0.03, -0.03],\n",
       "                       [ 0.05,  0.00,  0.06]],\n",
       "             \n",
       "                      ...,\n",
       "             \n",
       "                      [[ 0.08,  0.05,  0.02],\n",
       "                       [-0.07, -0.06, -0.00],\n",
       "                       [ 0.06, -0.04,  0.04]],\n",
       "             \n",
       "                      [[-0.02, -0.06, -0.00],\n",
       "                       [ 0.00, -0.03,  0.02],\n",
       "                       [ 0.06,  0.03,  0.02]],\n",
       "             \n",
       "                      [[-0.01,  0.08,  0.07],\n",
       "                       [ 0.00,  0.06,  0.04],\n",
       "                       [ 0.05, -0.07,  0.03]]],\n",
       "             \n",
       "             \n",
       "                     ...,\n",
       "             \n",
       "             \n",
       "                     [[[ 0.01, -0.03,  0.04],\n",
       "                       [ 0.01,  0.03,  0.08],\n",
       "                       [ 0.00,  0.01, -0.07]],\n",
       "             \n",
       "                      [[ 0.01,  0.07,  0.05],\n",
       "                       [-0.06,  0.04, -0.02],\n",
       "                       [-0.04, -0.03,  0.06]],\n",
       "             \n",
       "                      [[ 0.08, -0.03,  0.05],\n",
       "                       [ 0.06, -0.01, -0.07],\n",
       "                       [-0.07, -0.01,  0.02]],\n",
       "             \n",
       "                      ...,\n",
       "             \n",
       "                      [[ 0.03, -0.03, -0.04],\n",
       "                       [-0.06, -0.07, -0.05],\n",
       "                       [-0.07, -0.03, -0.03]],\n",
       "             \n",
       "                      [[ 0.02,  0.03,  0.06],\n",
       "                       [ 0.01,  0.07,  0.04],\n",
       "                       [ 0.05,  0.03,  0.06]],\n",
       "             \n",
       "                      [[-0.07,  0.07, -0.01],\n",
       "                       [-0.01,  0.04,  0.02],\n",
       "                       [-0.02, -0.08,  0.04]]],\n",
       "             \n",
       "             \n",
       "                     [[[-0.00, -0.04, -0.06],\n",
       "                       [-0.08,  0.07, -0.03],\n",
       "                       [ 0.00,  0.08, -0.04]],\n",
       "             \n",
       "                      [[-0.06, -0.06, -0.04],\n",
       "                       [ 0.05,  0.07, -0.06],\n",
       "                       [-0.02,  0.04,  0.07]],\n",
       "             \n",
       "                      [[-0.03, -0.08,  0.01],\n",
       "                       [-0.06,  0.04, -0.05],\n",
       "                       [-0.04,  0.07,  0.02]],\n",
       "             \n",
       "                      ...,\n",
       "             \n",
       "                      [[-0.04,  0.01, -0.04],\n",
       "                       [-0.04,  0.06, -0.02],\n",
       "                       [-0.01, -0.01, -0.07]],\n",
       "             \n",
       "                      [[-0.04,  0.00, -0.05],\n",
       "                       [ 0.07, -0.01,  0.05],\n",
       "                       [-0.07, -0.03, -0.03]],\n",
       "             \n",
       "                      [[ 0.04,  0.07,  0.03],\n",
       "                       [-0.08,  0.05,  0.08],\n",
       "                       [ 0.00, -0.05,  0.00]]],\n",
       "             \n",
       "             \n",
       "                     [[[-0.05, -0.07, -0.03],\n",
       "                       [ 0.06,  0.07,  0.03],\n",
       "                       [ 0.00, -0.00, -0.05]],\n",
       "             \n",
       "                      [[-0.05,  0.07,  0.04],\n",
       "                       [ 0.02, -0.00, -0.00],\n",
       "                       [-0.07,  0.05,  0.07]],\n",
       "             \n",
       "                      [[-0.07, -0.05, -0.03],\n",
       "                       [-0.01, -0.04,  0.07],\n",
       "                       [ 0.01, -0.06, -0.03]],\n",
       "             \n",
       "                      ...,\n",
       "             \n",
       "                      [[ 0.01, -0.08, -0.06],\n",
       "                       [ 0.05, -0.06, -0.00],\n",
       "                       [ 0.05, -0.03,  0.03]],\n",
       "             \n",
       "                      [[ 0.03,  0.03,  0.01],\n",
       "                       [-0.03, -0.04,  0.05],\n",
       "                       [-0.07,  0.08,  0.05]],\n",
       "             \n",
       "                      [[ 0.02,  0.07, -0.06],\n",
       "                       [ 0.02, -0.04,  0.05],\n",
       "                       [-0.02,  0.07, -0.06]]]], device='cuda:0', requires_grad=True): {'momentum_buffer': None},\n",
       "             Parameter containing:\n",
       "             tensor([-0.04,  0.07, -0.03,  0.01,  0.02,  0.03,  0.03,  0.03, -0.01,  0.00,  0.06, -0.08,  0.06,  0.02, -0.07, -0.02, -0.07,  0.06, -0.08, -0.01,  0.06,  0.02, -0.07,\n",
       "                      0.00,  0.08,  0.04,  0.01, -0.06,  0.05,  0.07,  0.08,  0.08], device='cuda:0', requires_grad=True): {'momentum_buffer': None},\n",
       "             Parameter containing:\n",
       "             tensor([[[[ 0.06,  0.01, -0.03],\n",
       "                       [ 0.03, -0.02, -0.00],\n",
       "                       [ 0.03,  0.02, -0.03]],\n",
       "             \n",
       "                      [[-0.04, -0.03,  0.01],\n",
       "                       [-0.05, -0.05, -0.00],\n",
       "                       [-0.05,  0.02, -0.01]],\n",
       "             \n",
       "                      [[ 0.00,  0.02, -0.05],\n",
       "                       [-0.02,  0.02,  0.04],\n",
       "                       [ 0.05,  0.05,  0.02]],\n",
       "             \n",
       "                      ...,\n",
       "             \n",
       "                      [[ 0.01, -0.02,  0.04],\n",
       "                       [ 0.04, -0.03,  0.00],\n",
       "                       [-0.04,  0.02, -0.05]],\n",
       "             \n",
       "                      [[ 0.01,  0.03,  0.04],\n",
       "                       [-0.01,  0.02,  0.03],\n",
       "                       [ 0.05,  0.06,  0.05]],\n",
       "             \n",
       "                      [[-0.04,  0.01, -0.06],\n",
       "                       [ 0.03,  0.03,  0.03],\n",
       "                       [ 0.01, -0.05, -0.02]]],\n",
       "             \n",
       "             \n",
       "                     [[[ 0.02,  0.06, -0.02],\n",
       "                       [-0.01,  0.03, -0.01],\n",
       "                       [ 0.01, -0.01, -0.06]],\n",
       "             \n",
       "                      [[ 0.03, -0.00,  0.05],\n",
       "                       [ 0.01, -0.02,  0.00],\n",
       "                       [-0.03,  0.03,  0.04]],\n",
       "             \n",
       "                      [[-0.02, -0.06, -0.03],\n",
       "                       [-0.01,  0.05, -0.00],\n",
       "                       [ 0.04, -0.01, -0.01]],\n",
       "             \n",
       "                      ...,\n",
       "             \n",
       "                      [[ 0.04,  0.01,  0.04],\n",
       "                       [-0.05, -0.01, -0.04],\n",
       "                       [ 0.03,  0.02, -0.03]],\n",
       "             \n",
       "                      [[ 0.01, -0.01, -0.06],\n",
       "                       [ 0.03,  0.05, -0.05],\n",
       "                       [ 0.04,  0.06,  0.02]],\n",
       "             \n",
       "                      [[ 0.03, -0.03,  0.02],\n",
       "                       [ 0.05, -0.05, -0.03],\n",
       "                       [-0.01,  0.03, -0.03]]],\n",
       "             \n",
       "             \n",
       "                     [[[ 0.05,  0.01, -0.06],\n",
       "                       [-0.04,  0.03,  0.03],\n",
       "                       [-0.03,  0.01,  0.01]],\n",
       "             \n",
       "                      [[ 0.05, -0.04, -0.04],\n",
       "                       [ 0.03,  0.02,  0.01],\n",
       "                       [-0.04, -0.05, -0.05]],\n",
       "             \n",
       "                      [[ 0.06,  0.04,  0.02],\n",
       "                       [-0.02,  0.03, -0.01],\n",
       "                       [-0.01, -0.02, -0.03]],\n",
       "             \n",
       "                      ...,\n",
       "             \n",
       "                      [[ 0.00, -0.04, -0.04],\n",
       "                       [-0.03, -0.04, -0.05],\n",
       "                       [ 0.01,  0.05,  0.06]],\n",
       "             \n",
       "                      [[ 0.06, -0.01, -0.06],\n",
       "                       [-0.02, -0.01, -0.03],\n",
       "                       [ 0.02,  0.06, -0.02]],\n",
       "             \n",
       "                      [[ 0.06, -0.06, -0.03],\n",
       "                       [ 0.04,  0.02,  0.04],\n",
       "                       [-0.04, -0.03, -0.01]]],\n",
       "             \n",
       "             \n",
       "                     ...,\n",
       "             \n",
       "             \n",
       "                     [[[-0.01, -0.04,  0.04],\n",
       "                       [-0.04, -0.04,  0.01],\n",
       "                       [-0.04, -0.00, -0.02]],\n",
       "             \n",
       "                      [[ 0.05,  0.04,  0.03],\n",
       "                       [ 0.03, -0.03,  0.04],\n",
       "                       [ 0.00, -0.02, -0.00]],\n",
       "             \n",
       "                      [[ 0.02,  0.03,  0.02],\n",
       "                       [-0.02,  0.02,  0.01],\n",
       "                       [-0.00,  0.04,  0.01]],\n",
       "             \n",
       "                      ...,\n",
       "             \n",
       "                      [[-0.05,  0.04, -0.00],\n",
       "                       [ 0.00,  0.04,  0.03],\n",
       "                       [ 0.02, -0.00,  0.05]],\n",
       "             \n",
       "                      [[-0.02,  0.00, -0.05],\n",
       "                       [ 0.03, -0.01, -0.04],\n",
       "                       [ 0.05, -0.02,  0.03]],\n",
       "             \n",
       "                      [[-0.00,  0.02,  0.05],\n",
       "                       [ 0.01, -0.05, -0.00],\n",
       "                       [ 0.03,  0.04,  0.05]]],\n",
       "             \n",
       "             \n",
       "                     [[[ 0.05, -0.00,  0.04],\n",
       "                       [-0.01, -0.01, -0.05],\n",
       "                       [ 0.04, -0.05,  0.00]],\n",
       "             \n",
       "                      [[-0.01,  0.05, -0.02],\n",
       "                       [-0.02, -0.02,  0.04],\n",
       "                       [ 0.01,  0.05,  0.00]],\n",
       "             \n",
       "                      [[ 0.00, -0.04,  0.06],\n",
       "                       [-0.01, -0.04,  0.03],\n",
       "                       [-0.04,  0.02, -0.01]],\n",
       "             \n",
       "                      ...,\n",
       "             \n",
       "                      [[-0.03,  0.02,  0.05],\n",
       "                       [ 0.05,  0.04, -0.04],\n",
       "                       [-0.00, -0.02,  0.04]],\n",
       "             \n",
       "                      [[ 0.05, -0.04,  0.04],\n",
       "                       [ 0.01, -0.03, -0.05],\n",
       "                       [ 0.03, -0.02,  0.02]],\n",
       "             \n",
       "                      [[-0.04,  0.00, -0.02],\n",
       "                       [ 0.04,  0.05, -0.01],\n",
       "                       [ 0.04, -0.01,  0.04]]],\n",
       "             \n",
       "             \n",
       "                     [[[ 0.00, -0.02, -0.04],\n",
       "                       [-0.03,  0.03, -0.01],\n",
       "                       [-0.01, -0.02,  0.02]],\n",
       "             \n",
       "                      [[-0.01, -0.01,  0.05],\n",
       "                       [-0.03,  0.02,  0.05],\n",
       "                       [ 0.01, -0.04, -0.04]],\n",
       "             \n",
       "                      [[-0.05, -0.00,  0.04],\n",
       "                       [-0.03, -0.02,  0.00],\n",
       "                       [ 0.03, -0.01,  0.01]],\n",
       "             \n",
       "                      ...,\n",
       "             \n",
       "                      [[-0.02, -0.02, -0.05],\n",
       "                       [ 0.02, -0.06,  0.03],\n",
       "                       [ 0.01,  0.01,  0.06]],\n",
       "             \n",
       "                      [[-0.02, -0.02, -0.05],\n",
       "                       [-0.05,  0.04, -0.01],\n",
       "                       [-0.06,  0.05, -0.03]],\n",
       "             \n",
       "                      [[ 0.02,  0.05,  0.01],\n",
       "                       [ 0.04,  0.02, -0.00],\n",
       "                       [ 0.04,  0.04, -0.06]]]], device='cuda:0', requires_grad=True): {'momentum_buffer': None},\n",
       "             Parameter containing:\n",
       "             tensor([ 0.04,  0.05, -0.01, -0.04,  0.00, -0.01,  0.03, -0.05, -0.03,  0.04,  0.01,  0.05,  0.01,  0.02,  0.01, -0.03,  0.06, -0.03, -0.03, -0.04, -0.04, -0.02, -0.02,\n",
       "                     -0.05, -0.01,  0.03,  0.01, -0.05,  0.04,  0.00, -0.00,  0.04,  0.01,  0.01,  0.06, -0.05, -0.03,  0.03,  0.05, -0.03,  0.05,  0.05, -0.02,  0.05,  0.06,  0.01,\n",
       "                      0.01, -0.00,  0.04,  0.04,  0.02, -0.05, -0.03, -0.04, -0.01, -0.01, -0.01, -0.02,  0.04,  0.06,  0.06, -0.01,  0.05,  0.02], device='cuda:0',\n",
       "                    requires_grad=True): {'momentum_buffer': None},\n",
       "             Parameter containing:\n",
       "             tensor([[[[     0.02,     -0.02,      0.01],\n",
       "                       [    -0.02,      0.04,     -0.02],\n",
       "                       [    -0.02,     -0.02,      0.02]],\n",
       "             \n",
       "                      [[    -0.02,     -0.01,     -0.01],\n",
       "                       [    -0.04,     -0.02,     -0.02],\n",
       "                       [    -0.04,     -0.03,      0.02]],\n",
       "             \n",
       "                      [[    -0.04,      0.04,      0.02],\n",
       "                       [    -0.01,     -0.01,     -0.01],\n",
       "                       [     0.02,      0.02,     -0.04]],\n",
       "             \n",
       "                      ...,\n",
       "             \n",
       "                      [[    -0.01,     -0.04,     -0.03],\n",
       "                       [    -0.01,     -0.02,     -0.03],\n",
       "                       [    -0.00,      0.02,     -0.04]],\n",
       "             \n",
       "                      [[     0.04,      0.04,      0.04],\n",
       "                       [     0.02,      0.03,      0.02],\n",
       "                       [    -0.02,      0.02,     -0.02]],\n",
       "             \n",
       "                      [[    -0.02,      0.03,      0.02],\n",
       "                       [     0.03,     -0.03,      0.01],\n",
       "                       [    -0.00,     -0.02,     -0.01]]],\n",
       "             \n",
       "             \n",
       "                     [[[     0.02,      0.01,     -0.02],\n",
       "                       [    -0.01,      0.00,      0.02],\n",
       "                       [    -0.01,      0.01,     -0.04]],\n",
       "             \n",
       "                      [[    -0.03,     -0.03,     -0.01],\n",
       "                       [    -0.03,      0.01,     -0.01],\n",
       "                       [     0.01,      0.01,     -0.03]],\n",
       "             \n",
       "                      [[    -0.02,     -0.00,      0.04],\n",
       "                       [     0.00,      0.00,     -0.02],\n",
       "                       [    -0.02,      0.03,      0.03]],\n",
       "             \n",
       "                      ...,\n",
       "             \n",
       "                      [[    -0.01,     -0.03,      0.01],\n",
       "                       [     0.01,     -0.01,      0.02],\n",
       "                       [     0.00,      0.04,      0.00]],\n",
       "             \n",
       "                      [[     0.03,      0.03,     -0.00],\n",
       "                       [     0.02,      0.01,     -0.01],\n",
       "                       [     0.02,      0.02,     -0.02]],\n",
       "             \n",
       "                      [[    -0.02,     -0.03,     -0.03],\n",
       "                       [    -0.02,     -0.03,      0.02],\n",
       "                       [    -0.03,     -0.03,     -0.03]]],\n",
       "             \n",
       "             \n",
       "                     [[[    -0.01,      0.04,     -0.00],\n",
       "                       [    -0.04,     -0.01,      0.01],\n",
       "                       [     0.03,      0.00,      0.04]],\n",
       "             \n",
       "                      [[     0.01,      0.03,     -0.02],\n",
       "                       [    -0.01,      0.00,      0.04],\n",
       "                       [    -0.02,      0.01,     -0.04]],\n",
       "             \n",
       "                      [[    -0.02,     -0.01,     -0.01],\n",
       "                       [     0.00,      0.01,      0.04],\n",
       "                       [     0.02,     -0.01,      0.02]],\n",
       "             \n",
       "                      ...,\n",
       "             \n",
       "                      [[     0.00,      0.00,      0.03],\n",
       "                       [    -0.04,      0.03,      0.01],\n",
       "                       [    -0.02,     -0.02,     -0.03]],\n",
       "             \n",
       "                      [[    -0.02,      0.04,      0.00],\n",
       "                       [    -0.02,      0.01,     -0.01],\n",
       "                       [    -0.03,     -0.01,     -0.00]],\n",
       "             \n",
       "                      [[     0.03,     -0.04,     -0.01],\n",
       "                       [     0.03,     -0.04,      0.03],\n",
       "                       [     0.03,     -0.01,     -0.00]]],\n",
       "             \n",
       "             \n",
       "                     ...,\n",
       "             \n",
       "             \n",
       "                     [[[     0.01,      0.00,      0.04],\n",
       "                       [     0.01,     -0.03,      0.02],\n",
       "                       [     0.00,     -0.03,     -0.02]],\n",
       "             \n",
       "                      [[    -0.01,     -0.01,     -0.00],\n",
       "                       [     0.03,     -0.02,      0.03],\n",
       "                       [     0.03,     -0.00,     -0.03]],\n",
       "             \n",
       "                      [[    -0.03,     -0.00,      0.04],\n",
       "                       [     0.01,     -0.00,     -0.03],\n",
       "                       [    -0.03,     -0.04,      0.01]],\n",
       "             \n",
       "                      ...,\n",
       "             \n",
       "                      [[    -0.00,     -0.03,     -0.03],\n",
       "                       [     0.00,      0.04,      0.04],\n",
       "                       [    -0.01,      0.01,     -0.04]],\n",
       "             \n",
       "                      [[    -0.03,      0.03,      0.01],\n",
       "                       [     0.01,      0.00,     -0.02],\n",
       "                       [     0.03,      0.04,      0.02]],\n",
       "             \n",
       "                      [[     0.04,      0.01,      0.03],\n",
       "                       [    -0.03,      0.01,     -0.03],\n",
       "                       [    -0.01,     -0.03,      0.01]]],\n",
       "             \n",
       "             \n",
       "                     [[[    -0.04,     -0.01,     -0.02],\n",
       "                       [     0.03,     -0.03,     -0.02],\n",
       "                       [     0.03,      0.02,      0.03]],\n",
       "             \n",
       "                      [[     0.04,     -0.03,      0.01],\n",
       "                       [    -0.03,     -0.01,     -0.01],\n",
       "                       [    -0.02,      0.01,      0.01]],\n",
       "             \n",
       "                      [[     0.01,      0.02,     -0.01],\n",
       "                       [     0.03,     -0.00,      0.03],\n",
       "                       [     0.03,      0.04,     -0.02]],\n",
       "             \n",
       "                      ...,\n",
       "             \n",
       "                      [[    -0.03,     -0.00,     -0.01],\n",
       "                       [    -0.03,     -0.03,      0.03],\n",
       "                       [    -0.00,      0.01,     -0.03]],\n",
       "             \n",
       "                      [[    -0.01,      0.01,      0.04],\n",
       "                       [    -0.00,      0.01,     -0.04],\n",
       "                       [    -0.02,     -0.03,      0.03]],\n",
       "             \n",
       "                      [[     0.02,      0.03,     -0.01],\n",
       "                       [     0.03,      0.01,      0.00],\n",
       "                       [     0.02,      0.02,      0.03]]],\n",
       "             \n",
       "             \n",
       "                     [[[     0.01,     -0.02,      0.02],\n",
       "                       [     0.00,      0.01,      0.03],\n",
       "                       [     0.03,     -0.02,      0.04]],\n",
       "             \n",
       "                      [[     0.03,     -0.02,      0.01],\n",
       "                       [    -0.03,     -0.00,     -0.03],\n",
       "                       [     0.04,     -0.04,     -0.00]],\n",
       "             \n",
       "                      [[    -0.03,     -0.00,     -0.04],\n",
       "                       [    -0.03,      0.04,     -0.00],\n",
       "                       [     0.03,     -0.03,     -0.02]],\n",
       "             \n",
       "                      ...,\n",
       "             \n",
       "                      [[     0.01,      0.03,      0.01],\n",
       "                       [     0.04,      0.01,      0.03],\n",
       "                       [     0.04,     -0.04,     -0.02]],\n",
       "             \n",
       "                      [[    -0.02,      0.04,     -0.03],\n",
       "                       [     0.00,     -0.02,     -0.03],\n",
       "                       [     0.02,     -0.03,      0.00]],\n",
       "             \n",
       "                      [[    -0.00,      0.04,      0.03],\n",
       "                       [    -0.02,      0.04,      0.02],\n",
       "                       [    -0.03,      0.03,     -0.01]]]], device='cuda:0', requires_grad=True): {'momentum_buffer': None},\n",
       "             Parameter containing:\n",
       "             tensor([-0.03,  0.00, -0.04,  0.02, -0.02, -0.01, -0.04, -0.03,  0.03,  0.02], device='cuda:0', requires_grad=True): {'momentum_buffer': None}})"
      ]
     },
     "execution_count": null,
     "metadata": {},
     "output_type": "execute_result"
    }
   ],
   "source": [
    "opt.state"
   ]
  },
  {
   "cell_type": "code",
   "execution_count": null,
   "id": "563986ec-fc4d-4a1a-b1f4-2b28c8770939",
   "metadata": {},
   "outputs": [],
   "source": [
    "param = next(iter(learn.model.parameters()))\n",
    "st = opt.state[param]"
   ]
  },
  {
   "cell_type": "code",
   "execution_count": null,
   "id": "4a95981c-ff1a-4ae7-8a00-464edc155f7b",
   "metadata": {},
   "outputs": [
    {
     "data": {
      "text/plain": [
       "{'momentum_buffer': None}"
      ]
     },
     "execution_count": null,
     "metadata": {},
     "output_type": "execute_result"
    }
   ],
   "source": [
    "st"
   ]
  },
  {
   "cell_type": "code",
   "execution_count": null,
   "id": "59d2ebc4-1669-4f2a-ad02-6eff48e00db2",
   "metadata": {},
   "outputs": [
    {
     "data": {
      "text/plain": [
       "1"
      ]
     },
     "execution_count": null,
     "metadata": {},
     "output_type": "execute_result"
    }
   ],
   "source": [
    "len(opt.param_groups)"
   ]
  },
  {
   "cell_type": "code",
   "execution_count": null,
   "id": "5cfd5130-d7b6-4c50-831c-993a0c24357b",
   "metadata": {},
   "outputs": [
    {
     "data": {
      "text/plain": [
       "['params',\n",
       " 'lr',\n",
       " 'momentum',\n",
       " 'dampening',\n",
       " 'weight_decay',\n",
       " 'nesterov',\n",
       " 'maximize',\n",
       " 'foreach']"
      ]
     },
     "execution_count": null,
     "metadata": {},
     "output_type": "execute_result"
    }
   ],
   "source": [
    "pg = opt.param_groups[0]\n",
    "# quick way to get all the keys of a dict\n",
    "list(pg)"
   ]
  },
  {
   "cell_type": "code",
   "execution_count": null,
   "id": "73372afe-f017-43b3-9709-c67d17f26858",
   "metadata": {},
   "outputs": [],
   "source": [
    "# we need to provide max number of steps. so it is `bs * epochs` for batch step \n",
    "# and epoch for epoch step \n",
    "# this is needed because scheduler will use a half-wave of a cosine\n",
    "sched = lr_scheduler.CosineAnnealingLR(opt, 100)"
   ]
  },
  {
   "cell_type": "code",
   "execution_count": null,
   "id": "626cd0c4-9f5c-48ca-b2d1-cbd908157fef",
   "metadata": {},
   "outputs": [
    {
     "data": {
      "text/plain": [
       "[0.006]"
      ]
     },
     "execution_count": null,
     "metadata": {},
     "output_type": "execute_result"
    }
   ],
   "source": [
    "sched.base_lrs"
   ]
  },
  {
   "cell_type": "code",
   "execution_count": null,
   "id": "a2d7c184-83a4-4d1d-bfd0-75fb9d792e70",
   "metadata": {},
   "outputs": [
    {
     "data": {
      "text/plain": [
       "[0.006]"
      ]
     },
     "execution_count": null,
     "metadata": {},
     "output_type": "execute_result"
    }
   ],
   "source": [
    "sched.get_last_lr()"
   ]
  },
  {
   "cell_type": "markdown",
   "id": "42dd373c-bb30-4ee8-8ecc-30bdd4eae4e4",
   "metadata": {},
   "source": [
    "Let's create a simple plotting function to step optimizer, scheduler and plot scheduler learning rates"
   ]
  },
  {
   "cell_type": "code",
   "execution_count": null,
   "id": "8f996cb5-11c5-49cd-87ee-365fe9c063cb",
   "metadata": {},
   "outputs": [],
   "source": [
    "def sched_lrs(sched, steps):\n",
    "    lrs = [sched.get_last_lr()]\n",
    "    for i in range(steps):\n",
    "        sched.optimizer.step()\n",
    "        sched.step()\n",
    "        lrs.append(sched.get_last_lr())\n",
    "    plt.plot(lrs)"
   ]
  },
  {
   "cell_type": "code",
   "execution_count": null,
   "id": "0bbb458f-bfa3-49fd-8677-1b59bda7f91d",
   "metadata": {},
   "outputs": [
    {
     "data": {
      "image/png": "[encoded data removed]",
      "text/plain": [
       "<Figure size 432x288 with 1 Axes>"
      ]
     },
     "metadata": {
      "needs_background": "dark"
     },
     "output_type": "display_data"
    }
   ],
   "source": [
    "sched_lrs(sched, 110)"
   ]
  },
  {
   "cell_type": "markdown",
   "id": "c3f2fbe5-5ed2-4ee3-bda4-86add2a38ec2",
   "metadata": {},
   "source": [
    "## Scheduler callbacks"
   ]
  },
  {
   "cell_type": "code",
   "execution_count": null,
   "id": "7ae0db38-b3d0-495c-a406-c582b7d11397",
   "metadata": {},
   "outputs": [],
   "source": [
    "#| export\n",
    "class BaseSchedCB(Callback):\n",
    "    def __init__(self, sched: Callable): self.sched = sched\n",
    "    def before_fit(self, learn): self.schedo = self.sched(learn.opt)\n",
    "    def _step(self, learn):\n",
    "        # step with a scheduler\n",
    "        if learn.training: self.schedo.step()"
   ]
  },
  {
   "cell_type": "code",
   "execution_count": null,
   "id": "9c83b8aa-b79e-447b-9fee-265ca59e4e22",
   "metadata": {},
   "outputs": [],
   "source": [
    "#| export\n",
    "class BatchSchedCB(BaseSchedCB):\n",
    "    def after_batch(self, learn): self._step(learn)"
   ]
  },
  {
   "cell_type": "code",
   "execution_count": null,
   "id": "0c886e2f-9540-4648-83b4-e6cd5f52b460",
   "metadata": {},
   "outputs": [],
   "source": [
    "#| export\n",
    "class HasLearnCB(Callback):\n",
    "    def before_fit(self, learn): self.learn = learn\n",
    "    def after_fit(self, learn): self.learn = None"
   ]
  },
  {
   "cell_type": "markdown",
   "id": "35e3b5d1-7706-449d-a6aa-5092d5575588",
   "metadata": {},
   "source": [
    "To keep track of what is going on we create a Recorder Callback"
   ]
  },
  {
   "cell_type": "code",
   "execution_count": null,
   "id": "73a22892-52d8-4473-86ef-a1da145cd2c2",
   "metadata": {},
   "outputs": [],
   "source": [
    "#| export\n",
    "class RecorderCB(Callback):\n",
    "    def __init__(self, **d): self.d = d\n",
    "    \n",
    "    def before_fit(self, learn):\n",
    "        # create a dict of names (of stuff to track) and function (to grab that stuff)\n",
    "        # the function will take a cb as input and index into cb.pg to grab what it needs\n",
    "        self.recs = {k:[] for k in self.d}\n",
    "        # grab the first parameter group to track\n",
    "        self.pg = learn.opt.param_groups[0]\n",
    "    \n",
    "    def after_batch(self, learn):\n",
    "        if not learn.training: return\n",
    "        for k,v in self.d.items():\n",
    "            self.recs[k].append(v(self))\n",
    "    \n",
    "    def plot(self):\n",
    "        for k,v in self.recs.items():\n",
    "            plt.plot(v, label=k)\n",
    "            plt.legend()\n",
    "            plt.show()"
   ]
  },
  {
   "cell_type": "code",
   "execution_count": null,
   "id": "013be05c-6574-4d09-9423-71a5b9b93b66",
   "metadata": {},
   "outputs": [
    {
     "data": {
      "text/plain": [
       "{'a': 1, 'b': 2}"
      ]
     },
     "execution_count": null,
     "metadata": {},
     "output_type": "execute_result"
    }
   ],
   "source": [
    "a = RecorderCB(a=1,b=2)\n",
    "a.d"
   ]
  },
  {
   "cell_type": "code",
   "execution_count": null,
   "id": "029d3fef-b7cb-4e62-82b6-f9c6b7c7ac5a",
   "metadata": {},
   "outputs": [],
   "source": [
    "def _lr(cb): return cb.pg['lr']"
   ]
  },
  {
   "cell_type": "code",
   "execution_count": null,
   "id": "c0f740a2-9527-4055-b5fe-9c73ec4afb6c",
   "metadata": {},
   "outputs": [
    {
     "data": {
      "text/plain": [
       "59"
      ]
     },
     "execution_count": null,
     "metadata": {},
     "output_type": "execute_result"
    }
   ],
   "source": [
    "len(dls.train)"
   ]
  },
  {
   "cell_type": "code",
   "execution_count": null,
   "id": "35ff8443-c398-4e69-baf8-cecb02e56980",
   "metadata": {},
   "outputs": [],
   "source": [
    "tmax = 3 * len(dls.train)\n",
    "# use partial to pass tmax\n",
    "sched = partial(lr_scheduler.CosineAnnealingLR, T_max=tmax)"
   ]
  },
  {
   "cell_type": "markdown",
   "id": "2641193b-563d-4eec-99fc-b00bea48341a",
   "metadata": {},
   "source": [
    "Now let's train a model and record its learing rate"
   ]
  },
  {
   "cell_type": "code",
   "execution_count": null,
   "id": "c45d908a-e53f-4f59-8ae2-242e9d5cd7a3",
   "metadata": {},
   "outputs": [
    {
     "data": {
      "text/html": [
       "\n",
       "<style>\n",
       "    /* Turns off some styling */\n",
       "    progress {\n",
       "        /* gets rid of default border in Firefox and Opera. */\n",
       "        border: none;\n",
       "        /* Needs to be in here for Safari polyfill so background images work as expected. */\n",
       "        background-size: auto;\n",
       "    }\n",
       "    progress:not([value]), progress:not([value])::-webkit-progress-bar {\n",
       "        background: repeating-linear-gradient(45deg, #7e7e7e, #7e7e7e 10px, #5c5c5c 10px, #5c5c5c 20px);\n",
       "    }\n",
       "    .progress-bar-interrupted, .progress-bar-interrupted::-webkit-progress-bar {\n",
       "        background: #F44336;\n",
       "    }\n",
       "</style>\n"
      ],
      "text/plain": [
       "<IPython.core.display.HTML object>"
      ]
     },
     "metadata": {},
     "output_type": "display_data"
    },
    {
     "data": {
      "text/html": [
       "<table border=\"1\" class=\"dataframe\">\n",
       "  <thead>\n",
       "    <tr style=\"text-align: left;\">\n",
       "      <th>accuracy</th>\n",
       "      <th>loss</th>\n",
       "      <th>epoch</th>\n",
       "      <th>train</th>\n",
       "    </tr>\n",
       "  </thead>\n",
       "  <tbody>\n",
       "    <tr>\n",
       "      <td>0.810</td>\n",
       "      <td>0.517</td>\n",
       "      <td>0</td>\n",
       "      <td>train</td>\n",
       "    </tr>\n",
       "    <tr>\n",
       "      <td>0.846</td>\n",
       "      <td>0.411</td>\n",
       "      <td>0</td>\n",
       "      <td>eval</td>\n",
       "    </tr>\n",
       "    <tr>\n",
       "      <td>0.881</td>\n",
       "      <td>0.323</td>\n",
       "      <td>1</td>\n",
       "      <td>train</td>\n",
       "    </tr>\n",
       "    <tr>\n",
       "      <td>0.879</td>\n",
       "      <td>0.328</td>\n",
       "      <td>1</td>\n",
       "      <td>eval</td>\n",
       "    </tr>\n",
       "    <tr>\n",
       "      <td>0.899</td>\n",
       "      <td>0.276</td>\n",
       "      <td>2</td>\n",
       "      <td>train</td>\n",
       "    </tr>\n",
       "    <tr>\n",
       "      <td>0.882</td>\n",
       "      <td>0.318</td>\n",
       "      <td>2</td>\n",
       "      <td>eval</td>\n",
       "    </tr>\n",
       "  </tbody>\n",
       "</table>"
      ],
      "text/plain": [
       "<IPython.core.display.HTML object>"
      ]
     },
     "metadata": {},
     "output_type": "display_data"
    },
    {
     "data": {
      "image/png": "[encoded data removed]",
      "text/plain": [
       "<Figure size 432x288 with 1 Axes>"
      ]
     },
     "metadata": {},
     "output_type": "display_data"
    }
   ],
   "source": [
    "set_seed(42)\n",
    "model = get_model(act_gr, norm=nn.BatchNorm2d).apply(iw)\n",
    "rec = RecorderCB(lr=_lr)\n",
    "xtra = [BatchSchedCB(sched), rec]\n",
    "learn = TrainLearner(model, dls, F.cross_entropy, \n",
    "                     lr=2e-2, cbs=cbs+xtra, opt_func=optim.AdamW)\n",
    "learn.fit(3)"
   ]
  },
  {
   "cell_type": "code",
   "execution_count": null,
   "id": "ea49f368-cfdd-4e08-993d-58b178cfdfd7",
   "metadata": {},
   "outputs": [
    {
     "data": {
      "image/png": "[encoded data removed]",
      "text/plain": [
       "<Figure size 432x288 with 1 Axes>"
      ]
     },
     "metadata": {
      "needs_background": "dark"
     },
     "output_type": "display_data"
    }
   ],
   "source": [
    "rec.plot()"
   ]
  },
  {
   "cell_type": "code",
   "execution_count": null,
   "id": "03efda69-58ba-4714-abd5-c3bf956e408b",
   "metadata": {},
   "outputs": [],
   "source": [
    "#| export \n",
    "class EpochSchedStep(BaseSchedCB):\n",
    "    def after_epoch(self, learn): self._step(learn)"
   ]
  },
  {
   "cell_type": "code",
   "execution_count": null,
   "id": "377965ad-4bd4-481b-962b-1bb779b58883",
   "metadata": {},
   "outputs": [
    {
     "data": {
      "text/html": [
       "\n",
       "<style>\n",
       "    /* Turns off some styling */\n",
       "    progress {\n",
       "        /* gets rid of default border in Firefox and Opera. */\n",
       "        border: none;\n",
       "        /* Needs to be in here for Safari polyfill so background images work as expected. */\n",
       "        background-size: auto;\n",
       "    }\n",
       "    progress:not([value]), progress:not([value])::-webkit-progress-bar {\n",
       "        background: repeating-linear-gradient(45deg, #7e7e7e, #7e7e7e 10px, #5c5c5c 10px, #5c5c5c 20px);\n",
       "    }\n",
       "    .progress-bar-interrupted, .progress-bar-interrupted::-webkit-progress-bar {\n",
       "        background: #F44336;\n",
       "    }\n",
       "</style>\n"
      ],
      "text/plain": [
       "<IPython.core.display.HTML object>"
      ]
     },
     "metadata": {},
     "output_type": "display_data"
    },
    {
     "data": {
      "text/html": [
       "<table border=\"1\" class=\"dataframe\">\n",
       "  <thead>\n",
       "    <tr style=\"text-align: left;\">\n",
       "      <th>accuracy</th>\n",
       "      <th>loss</th>\n",
       "      <th>epoch</th>\n",
       "      <th>train</th>\n",
       "    </tr>\n",
       "  </thead>\n",
       "  <tbody>\n",
       "    <tr>\n",
       "      <td>0.810</td>\n",
       "      <td>0.517</td>\n",
       "      <td>0</td>\n",
       "      <td>train</td>\n",
       "    </tr>\n",
       "    <tr>\n",
       "      <td>0.853</td>\n",
       "      <td>0.399</td>\n",
       "      <td>0</td>\n",
       "      <td>eval</td>\n",
       "    </tr>\n",
       "    <tr>\n",
       "      <td>0.882</td>\n",
       "      <td>0.322</td>\n",
       "      <td>1</td>\n",
       "      <td>train</td>\n",
       "    </tr>\n",
       "    <tr>\n",
       "      <td>0.871</td>\n",
       "      <td>0.340</td>\n",
       "      <td>1</td>\n",
       "      <td>eval</td>\n",
       "    </tr>\n",
       "    <tr>\n",
       "      <td>0.901</td>\n",
       "      <td>0.268</td>\n",
       "      <td>2</td>\n",
       "      <td>train</td>\n",
       "    </tr>\n",
       "    <tr>\n",
       "      <td>0.886</td>\n",
       "      <td>0.309</td>\n",
       "      <td>2</td>\n",
       "      <td>eval</td>\n",
       "    </tr>\n",
       "  </tbody>\n",
       "</table>"
      ],
      "text/plain": [
       "<IPython.core.display.HTML object>"
      ]
     },
     "metadata": {},
     "output_type": "display_data"
    },
    {
     "data": {
      "image/png": "[encoded data removed]",
      "text/plain": [
       "<Figure size 432x288 with 1 Axes>"
      ]
     },
     "metadata": {},
     "output_type": "display_data"
    }
   ],
   "source": [
    "sched = partial(lr_scheduler.CosineAnnealingLR, T_max=3)\n",
    "set_seed(42)\n",
    "model = get_model(act_gr, norm=nn.BatchNorm2d).apply(iw)\n",
    "rec = RecorderCB(lr=_lr)\n",
    "xtra = [EpochSchedStep(sched), rec]\n",
    "learn = TrainLearner(model, dls, F.cross_entropy, \n",
    "                     lr=2e-2, cbs=cbs+xtra, opt_func=optim.AdamW)\n",
    "learn.fit(3)"
   ]
  },
  {
   "cell_type": "code",
   "execution_count": null,
   "id": "d501a4f2-048f-430e-8bd4-12e7913b4fde",
   "metadata": {},
   "outputs": [
    {
     "data": {
      "image/png": "[encoded data removed]",
      "text/plain": [
       "<Figure size 432x288 with 1 Axes>"
      ]
     },
     "metadata": {
      "needs_background": "dark"
     },
     "output_type": "display_data"
    }
   ],
   "source": [
    "rec.plot()"
   ]
  },
  {
   "cell_type": "markdown",
   "id": "2702da8c-b3e2-4dcc-86db-320c055accfb",
   "metadata": {},
   "source": [
    "## 1cycle training"
   ]
  },
  {
   "cell_type": "markdown",
   "id": "7d3a0424-b90c-4ce9-8569-cd4fc42727ec",
   "metadata": {},
   "source": [
    "[Paper](https://arxiv.org/abs/1803.09820) by Leslie Smith."
   ]
  },
  {
   "cell_type": "code",
   "execution_count": null,
   "id": "21172fe7-7c15-40c0-a0e4-8b8d3eac0879",
   "metadata": {},
   "outputs": [],
   "source": [
    "# function to grab momentum (beta1) from callback using parameter groups\n",
    "def _beta1(cb): return cb.pg['betas'][0]\n",
    "rec = RecorderCB(lr=_lr, mom=_beta1)"
   ]
  },
  {
   "cell_type": "code",
   "execution_count": null,
   "id": "21802942-1272-4cc6-84d5-b41d3b70cf9a",
   "metadata": {},
   "outputs": [
    {
     "data": {
      "text/html": [
       "\n",
       "<style>\n",
       "    /* Turns off some styling */\n",
       "    progress {\n",
       "        /* gets rid of default border in Firefox and Opera. */\n",
       "        border: none;\n",
       "        /* Needs to be in here for Safari polyfill so background images work as expected. */\n",
       "        background-size: auto;\n",
       "    }\n",
       "    progress:not([value]), progress:not([value])::-webkit-progress-bar {\n",
       "        background: repeating-linear-gradient(45deg, #7e7e7e, #7e7e7e 10px, #5c5c5c 10px, #5c5c5c 20px);\n",
       "    }\n",
       "    .progress-bar-interrupted, .progress-bar-interrupted::-webkit-progress-bar {\n",
       "        background: #F44336;\n",
       "    }\n",
       "</style>\n"
      ],
      "text/plain": [
       "<IPython.core.display.HTML object>"
      ]
     },
     "metadata": {},
     "output_type": "display_data"
    },
    {
     "data": {
      "text/html": [
       "<table border=\"1\" class=\"dataframe\">\n",
       "  <thead>\n",
       "    <tr style=\"text-align: left;\">\n",
       "      <th>accuracy</th>\n",
       "      <th>loss</th>\n",
       "      <th>epoch</th>\n",
       "      <th>train</th>\n",
       "    </tr>\n",
       "  </thead>\n",
       "  <tbody>\n",
       "    <tr>\n",
       "      <td>0.770</td>\n",
       "      <td>0.655</td>\n",
       "      <td>0</td>\n",
       "      <td>train</td>\n",
       "    </tr>\n",
       "    <tr>\n",
       "      <td>0.848</td>\n",
       "      <td>0.448</td>\n",
       "      <td>0</td>\n",
       "      <td>eval</td>\n",
       "    </tr>\n",
       "    <tr>\n",
       "      <td>0.861</td>\n",
       "      <td>0.378</td>\n",
       "      <td>1</td>\n",
       "      <td>train</td>\n",
       "    </tr>\n",
       "    <tr>\n",
       "      <td>0.859</td>\n",
       "      <td>0.387</td>\n",
       "      <td>1</td>\n",
       "      <td>eval</td>\n",
       "    </tr>\n",
       "    <tr>\n",
       "      <td>0.887</td>\n",
       "      <td>0.303</td>\n",
       "      <td>2</td>\n",
       "      <td>train</td>\n",
       "    </tr>\n",
       "    <tr>\n",
       "      <td>0.882</td>\n",
       "      <td>0.316</td>\n",
       "      <td>2</td>\n",
       "      <td>eval</td>\n",
       "    </tr>\n",
       "    <tr>\n",
       "      <td>0.907</td>\n",
       "      <td>0.248</td>\n",
       "      <td>3</td>\n",
       "      <td>train</td>\n",
       "    </tr>\n",
       "    <tr>\n",
       "      <td>0.902</td>\n",
       "      <td>0.277</td>\n",
       "      <td>3</td>\n",
       "      <td>eval</td>\n",
       "    </tr>\n",
       "    <tr>\n",
       "      <td>0.924</td>\n",
       "      <td>0.209</td>\n",
       "      <td>4</td>\n",
       "      <td>train</td>\n",
       "    </tr>\n",
       "    <tr>\n",
       "      <td>0.903</td>\n",
       "      <td>0.268</td>\n",
       "      <td>4</td>\n",
       "      <td>eval</td>\n",
       "    </tr>\n",
       "  </tbody>\n",
       "</table>"
      ],
      "text/plain": [
       "<IPython.core.display.HTML object>"
      ]
     },
     "metadata": {},
     "output_type": "display_data"
    },
    {
     "data": {
      "image/png": "[encoded data removed]",
      "text/plain": [
       "<Figure size 432x288 with 1 Axes>"
      ]
     },
     "metadata": {},
     "output_type": "display_data"
    }
   ],
   "source": [
    "set_seed(42)\n",
    "lr,epochs = 6e-2, 5\n",
    "model = get_model(act_gr, norm=nn.BatchNorm2d).apply(iw)\n",
    "tmax = epochs * len(dls.train)\n",
    "sched = partial(lr_scheduler.OneCycleLR, max_lr=lr, total_steps=tmax)\n",
    "xtra = [BatchSchedCB(sched), rec]\n",
    "learn = TrainLearner(model, dls, F.cross_entropy, lr=lr, cbs=cbs+xtra, opt_func=optim.AdamW)\n",
    "learn.fit(epochs)"
   ]
  },
  {
   "cell_type": "code",
   "execution_count": null,
   "id": "844f6d7f-eca0-4967-a731-51be245689b9",
   "metadata": {},
   "outputs": [
    {
     "data": {
      "image/png": "[encoded data removed]",
      "text/plain": [
       "<Figure size 432x288 with 1 Axes>"
      ]
     },
     "metadata": {
      "needs_background": "dark"
     },
     "output_type": "display_data"
    },
    {
     "data": {
      "image/png": "[encoded data removed]",
      "text/plain": [
       "<Figure size 432x288 with 1 Axes>"
      ]
     },
     "metadata": {
      "needs_background": "dark"
     },
     "output_type": "display_data"
    }
   ],
   "source": [
    "rec.plot()"
   ]
  },
  {
   "cell_type": "markdown",
   "id": "88f7db1d-6822-4650-8f1a-4f9e3554c1ff",
   "metadata": {},
   "source": [
    "We see that learning rate starts low and then gets high, while momentum starts high and then gets low."
   ]
  },
  {
   "cell_type": "markdown",
   "id": "60a9242b-f274-47c7-bbb2-d5b1cca24e62",
   "metadata": {},
   "source": [
    "## Export -"
   ]
  },
  {
   "cell_type": "code",
   "execution_count": null,
   "id": "2f745a25-bc59-4705-a7c2-ca1188c5f5d9",
   "metadata": {},
   "outputs": [],
   "source": [
    "import nbdev; nbdev.nbdev_export()"
   ]
  },
  {
   "cell_type": "code",
   "execution_count": null,
   "id": "6e38e439-7e17-4bf2-9357-d919c39f4e55",
   "metadata": {},
   "outputs": [],
   "source": []
  }
 ],
 "metadata": {
  "kernelspec": {
   "display_name": "python3",
   "language": "python",
   "name": "python3"
  }
 },
 "nbformat": 4,
 "nbformat_minor": 5
}
