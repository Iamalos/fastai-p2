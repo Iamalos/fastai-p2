{
 "cells": [
  {
   "cell_type": "code",
   "execution_count": null,
   "id": "b3ca000c-90ba-4ed4-89a6-97df9919373e",
   "metadata": {},
   "outputs": [],
   "source": [
    "#| default_exp learner"
   ]
  },
  {
   "cell_type": "code",
   "execution_count": null,
   "id": "14ef97aa-0983-4143-9d6c-28a03a58562e",
   "metadata": {},
   "outputs": [],
   "source": [
    "%load_ext autoreload\n",
    "%autoreload 2"
   ]
  },
  {
   "cell_type": "code",
   "execution_count": null,
   "id": "090cf0f6-1ad1-4126-afb3-10d165ceaf22",
   "metadata": {},
   "outputs": [],
   "source": [
    "#| export \n",
    "import math, torch, matplotlib.pyplot as plt\n",
    "import fastcore.all as fc\n",
    "from collections.abc import Mapping\n",
    "from operator import attrgetter\n",
    "from functools import partial\n",
    "from copy import copy\n",
    "\n",
    "from torch import optim\n",
    "import torch.nn.functional as F\n",
    "\n",
    "from miniai.conv import *\n",
    "\n",
    "from fastprogress import progress_bar, master_bar"
   ]
  },
  {
   "cell_type": "code",
   "execution_count": null,
   "id": "7a2dd64c-b109-45a1-8697-3a1b8e42c4cc",
   "metadata": {},
   "outputs": [],
   "source": [
    "import matplotlib as mpl\n",
    "import torchvision.transforms.functional as TF\n",
    "from contextlib import contextmanager\n",
    "from torch import nn, tensor\n",
    "from datasets import load_dataset, load_dataset_builder\n",
    "from miniai.datasets import *\n",
    "import logging\n",
    "from fastcore.test import test_close"
   ]
  },
  {
   "cell_type": "code",
   "execution_count": null,
   "id": "84264e5e-523e-42fa-a1e4-0cbc0543c74a",
   "metadata": {},
   "outputs": [],
   "source": [
    "torch.set_printoptions(precision=2, linewidth=160, sci_mode=False)\n",
    "torch.manual_seed(1)\n",
    "mpl.rcParams['image.cmap'] = 'gray'"
   ]
  },
  {
   "cell_type": "code",
   "execution_count": null,
   "id": "fa3c8a55-2596-4872-9884-f6b118b84636",
   "metadata": {},
   "outputs": [],
   "source": [
    "logging.disable(logging.WARNING)"
   ]
  },
  {
   "cell_type": "code",
   "execution_count": null,
   "id": "c76b9019-2777-40ba-9169-23a074549e89",
   "metadata": {},
   "outputs": [],
   "source": [
    "# plt.style.use('dark_background')"
   ]
  },
  {
   "cell_type": "markdown",
   "id": "7ed751e6-c462-4562-a961-b3bea46a3bd6",
   "metadata": {},
   "source": [
    "## Warm Up"
   ]
  },
  {
   "cell_type": "code",
   "execution_count": null,
   "id": "39e951d3-fb8f-4091-bba2-e9a45f19a849",
   "metadata": {},
   "outputs": [
    {
     "data": {
      "application/vnd.jupyter.widget-view+json": {
       "model_id": "365e7b5f5d524c2ba4ce799fa867fef3",
       "version_major": 2,
       "version_minor": 0
      },
      "text/plain": [
       "Downloading builder script:   0%|          | 0.00/2.00k [00:00<?, ?B/s]"
      ]
     },
     "metadata": {},
     "output_type": "display_data"
    },
    {
     "data": {
      "application/vnd.jupyter.widget-view+json": {
       "model_id": "86b275f87c6f45149f7979c5a61f5df9",
       "version_major": 2,
       "version_minor": 0
      },
      "text/plain": [
       "Downloading metadata:   0%|          | 0.00/1.36k [00:00<?, ?B/s]"
      ]
     },
     "metadata": {},
     "output_type": "display_data"
    },
    {
     "name": "stdout",
     "output_type": "stream",
     "text": [
      "Downloading and preparing dataset fashion_mnist/fashion_mnist (download: 29.45 MiB, generated: 34.84 MiB, post-processed: Unknown size, total: 64.29 MiB) to /root/.cache/huggingface/datasets/fashion_mnist/fashion_mnist/1.0.0/8d6c32399aa01613d96e2cbc9b13638f359ef62bb33612b077b4c247f6ef99c1...\n"
     ]
    },
    {
     "data": {
      "application/vnd.jupyter.widget-view+json": {
       "model_id": "13ca04c912ee483a85c76f7493f41acf",
       "version_major": 2,
       "version_minor": 0
      },
      "text/plain": [
       "Downloading data files:   0%|          | 0/4 [00:00<?, ?it/s]"
      ]
     },
     "metadata": {},
     "output_type": "display_data"
    },
    {
     "data": {
      "application/vnd.jupyter.widget-view+json": {
       "model_id": "a9258313cbcb41d899ea62efe65f12e3",
       "version_major": 2,
       "version_minor": 0
      },
      "text/plain": [
       "Downloading data:   0%|          | 0.00/26.4M [00:00<?, ?B/s]"
      ]
     },
     "metadata": {},
     "output_type": "display_data"
    },
    {
     "data": {
      "application/vnd.jupyter.widget-view+json": {
       "model_id": "04111837fa224de884c4e6a151631d35",
       "version_major": 2,
       "version_minor": 0
      },
      "text/plain": [
       "Downloading data:   0%|          | 0.00/29.5k [00:00<?, ?B/s]"
      ]
     },
     "metadata": {},
     "output_type": "display_data"
    },
    {
     "data": {
      "application/vnd.jupyter.widget-view+json": {
       "model_id": "d2d613c7c859445783f1be83b58b78c6",
       "version_major": 2,
       "version_minor": 0
      },
      "text/plain": [
       "Downloading data:   0%|          | 0.00/4.42M [00:00<?, ?B/s]"
      ]
     },
     "metadata": {},
     "output_type": "display_data"
    },
    {
     "data": {
      "application/vnd.jupyter.widget-view+json": {
       "model_id": "7394054367a74e88a23aad2b9c07b52a",
       "version_major": 2,
       "version_minor": 0
      },
      "text/plain": [
       "Downloading data:   0%|          | 0.00/5.15k [00:00<?, ?B/s]"
      ]
     },
     "metadata": {},
     "output_type": "display_data"
    },
    {
     "data": {
      "application/vnd.jupyter.widget-view+json": {
       "model_id": "85943af1a9934ed486e6ff01dab98edd",
       "version_major": 2,
       "version_minor": 0
      },
      "text/plain": [
       "Extracting data files:   0%|          | 0/4 [00:00<?, ?it/s]"
      ]
     },
     "metadata": {},
     "output_type": "display_data"
    },
    {
     "data": {
      "application/vnd.jupyter.widget-view+json": {
       "model_id": "",
       "version_major": 2,
       "version_minor": 0
      },
      "text/plain": [
       "Generating train split:   0%|          | 0/60000 [00:00<?, ? examples/s]"
      ]
     },
     "metadata": {},
     "output_type": "display_data"
    },
    {
     "data": {
      "application/vnd.jupyter.widget-view+json": {
       "model_id": "",
       "version_major": 2,
       "version_minor": 0
      },
      "text/plain": [
       "Generating test split:   0%|          | 0/10000 [00:00<?, ? examples/s]"
      ]
     },
     "metadata": {},
     "output_type": "display_data"
    },
    {
     "name": "stdout",
     "output_type": "stream",
     "text": [
      "Dataset fashion_mnist downloaded and prepared to /root/.cache/huggingface/datasets/fashion_mnist/fashion_mnist/1.0.0/8d6c32399aa01613d96e2cbc9b13638f359ef62bb33612b077b4c247f6ef99c1. Subsequent calls will reuse this data.\n"
     ]
    },
    {
     "data": {
      "application/vnd.jupyter.widget-view+json": {
       "model_id": "e6af93c1ec3249b396a7a7a61273f3ce",
       "version_major": 2,
       "version_minor": 0
      },
      "text/plain": [
       "  0%|          | 0/2 [00:00<?, ?it/s]"
      ]
     },
     "metadata": {},
     "output_type": "display_data"
    }
   ],
   "source": [
    "x, y = 'image', 'label'\n",
    "name = 'fashion_mnist'\n",
    "dsd = load_dataset(name)"
   ]
  },
  {
   "cell_type": "code",
   "execution_count": null,
   "id": "c5400684-06df-47a0-bedf-f2ce731267d3",
   "metadata": {},
   "outputs": [
    {
     "data": {
      "text/plain": [
       "DatasetDict({\n",
       "    train: Dataset({\n",
       "        features: ['image', 'label'],\n",
       "        num_rows: 60000\n",
       "    })\n",
       "    test: Dataset({\n",
       "        features: ['image', 'label'],\n",
       "        num_rows: 10000\n",
       "    })\n",
       "})"
      ]
     },
     "execution_count": null,
     "metadata": {},
     "output_type": "execute_result"
    }
   ],
   "source": [
    "dsd"
   ]
  },
  {
   "cell_type": "markdown",
   "id": "08188e7f-6ca1-4c44-94c3-1dc684deea3a",
   "metadata": {},
   "source": [
    "Grab a single example from Dataset and check its shape. We will be working with flattened images, so we convert PIL to tensor and flatten it out to get 784 (28x28) long tensor"
   ]
  },
  {
   "cell_type": "code",
   "execution_count": null,
   "id": "2fcc797c-5ade-43ed-a9ea-1eece904155f",
   "metadata": {},
   "outputs": [
    {
     "data": {
      "text/plain": [
       "torch.Size([1, 28, 28])"
      ]
     },
     "execution_count": null,
     "metadata": {},
     "output_type": "execute_result"
    }
   ],
   "source": [
    "ex = TF.to_tensor(dsd['train'][0][x])\n",
    "ex.shape"
   ]
  },
  {
   "cell_type": "code",
   "execution_count": null,
   "id": "a0bb8273-24b3-4207-8ee7-be2c229e0dc3",
   "metadata": {},
   "outputs": [
    {
     "data": {
      "text/plain": [
       "torch.Size([784])"
      ]
     },
     "execution_count": null,
     "metadata": {},
     "output_type": "execute_result"
    }
   ],
   "source": [
    "torch.flatten(TF.to_tensor(dsd['train'][0][x])).shape"
   ]
  },
  {
   "cell_type": "code",
   "execution_count": null,
   "id": "10f03901-0bbb-4008-ae1e-088b946eeb65",
   "metadata": {},
   "outputs": [],
   "source": [
    "@inplace\n",
    "def transformi(b):\n",
    "    # b is a dictionary of image and label\n",
    "    # import ipdb; ipdb.set_trace()\n",
    "    b[x] = [torch.flatten(TF.to_tensor(o)) for o in b[x]]"
   ]
  },
  {
   "cell_type": "code",
   "execution_count": null,
   "id": "54c8902b-69d6-47ff-834a-dedcb58bb099",
   "metadata": {},
   "outputs": [],
   "source": [
    "bs = 1024\n",
    "tds = dsd.with_transform(transformi)"
   ]
  },
  {
   "cell_type": "code",
   "execution_count": null,
   "id": "dede909a-ae34-4899-94f0-d225749065a7",
   "metadata": {},
   "outputs": [
    {
     "data": {
      "text/plain": [
       "(torch.Size([1024, 784]), tensor([5, 4, 9, 4, 3, 0, 6, 5, 7, 6]))"
      ]
     },
     "execution_count": null,
     "metadata": {},
     "output_type": "execute_result"
    }
   ],
   "source": [
    "# remove number of workers during debugging\n",
    "dls = DataLoaders.from_dd(tds, bs, num_workers=4)\n",
    "\n",
    "dt = dls.train\n",
    "xb, yb = next(iter(dt))\n",
    "xb.shape, yb[:10]"
   ]
  },
  {
   "cell_type": "code",
   "execution_count": null,
   "id": "d6a75841-719c-49b4-af0a-c1a067a43cb5",
   "metadata": {},
   "outputs": [
    {
     "data": {
      "text/plain": [
       "<function miniai.datasets.collate_dict.<locals>._f(b)>"
      ]
     },
     "execution_count": null,
     "metadata": {},
     "output_type": "execute_result"
    }
   ],
   "source": [
    "collate_dict(tds['train'])"
   ]
  },
  {
   "cell_type": "code",
   "execution_count": null,
   "id": "4ccc7542-76b5-4a62-a08b-ce0b4d20efc1",
   "metadata": {},
   "outputs": [
    {
     "data": {
      "text/plain": [
       "{'image': tensor([[0., 0., 0.,  ..., 0., 0., 0.],\n",
       "         [0., 0., 0.,  ..., 0., 0., 0.],\n",
       "         [0., 0., 0.,  ..., 0., 0., 0.],\n",
       "         ...,\n",
       "         [0., 0., 0.,  ..., 0., 0., 0.],\n",
       "         [0., 0., 0.,  ..., 0., 0., 0.],\n",
       "         [0., 0., 0.,  ..., 0., 0., 0.]]),\n",
       " 'label': tensor([9, 0, 0,  ..., 3, 0, 5])}"
      ]
     },
     "execution_count": null,
     "metadata": {},
     "output_type": "execute_result"
    }
   ],
   "source": [
    "torch.utils.data.default_collate(tds['train'])"
   ]
  },
  {
   "cell_type": "code",
   "execution_count": null,
   "id": "4c127144-5254-4241-917e-d83e41de9b9e",
   "metadata": {},
   "outputs": [
    {
     "data": {
      "text/plain": [
       "[{'image': tensor([0.00, 0.00, 0.00, 0.00, 0.00, 0.00, 0.00, 0.00, 0.00, 0.00, 0.00, 0.00, 0.00, 0.00, 0.00, 0.00, 0.00, 0.00, 0.00, 0.00, 0.00, 0.00, 0.00, 0.00, 0.00,\n",
       "          0.00, 0.00, 0.00, 0.00, 0.00, 0.00, 0.00, 0.00, 0.00, 0.00, 0.00, 0.00, 0.00, 0.00, 0.00, 0.00, 0.00, 0.00, 0.00, 0.00, 0.00, 0.00, 0.00, 0.00, 0.00,\n",
       "          0.00, 0.00, 0.00, 0.00, 0.00, 0.00, 0.00, 0.00, 0.00, 0.00, 0.00, 0.00, 0.00, 0.00, 0.00, 0.00, 0.00, 0.00, 0.00, 0.00, 0.00, 0.00, 0.00, 0.00, 0.00,\n",
       "          0.00, 0.00, 0.00, 0.00, 0.00, 0.00, 0.00, 0.00, 0.00, 0.00, 0.00, 0.00, 0.00, 0.00, 0.00, 0.00, 0.00, 0.00, 0.00, 0.00, 0.00, 0.00, 0.00, 0.00, 0.05,\n",
       "          0.29, 0.00, 0.00, 0.00, 0.02, 0.00, 0.00, 0.00, 0.00, 0.00, 0.00, 0.00, 0.00, 0.00, 0.00, 0.00, 0.00, 0.00, 0.00, 0.00, 0.00, 0.00, 0.00, 0.00, 0.01,\n",
       "          0.00, 0.14, 0.53, 0.50, 0.24, 0.21, 0.00, 0.00, 0.00, 0.00, 0.01, 0.02, 0.00, 0.00, 0.01, 0.00, 0.00, 0.00, 0.00, 0.00, 0.00, 0.00, 0.00, 0.00, 0.00,\n",
       "          0.00, 0.00, 0.02, 0.00, 0.40, 0.80, 0.69, 0.53, 0.56, 0.48, 0.09, 0.00, 0.00, 0.00, 0.00, 0.05, 0.04, 0.00, 0.00, 0.00, 0.00, 0.00, 0.00, 0.00, 0.00,\n",
       "          0.00, 0.00, 0.00, 0.00, 0.00, 0.00, 0.00, 0.61, 0.93, 0.81, 0.70, 0.42, 0.61, 0.63, 0.43, 0.25, 0.09, 0.30, 0.51, 0.28, 0.06, 0.00, 0.00, 0.00, 0.00,\n",
       "          0.00, 0.00, 0.00, 0.00, 0.00, 0.00, 0.00, 0.00, 0.00, 0.27, 0.81, 0.87, 0.85, 0.85, 0.85, 0.64, 0.50, 0.47, 0.48, 0.57, 0.55, 0.35, 0.67, 0.26, 0.00,\n",
       "          0.00, 0.00, 0.00, 0.00, 0.00, 0.00, 0.00, 0.00, 0.00, 0.00, 0.00, 0.00, 0.78, 0.91, 0.91, 0.91, 0.90, 0.87, 0.87, 0.84, 0.84, 0.64, 0.50, 0.48, 0.77,\n",
       "          0.90, 0.00, 0.00, 0.00, 0.00, 0.00, 0.00, 0.00, 0.00, 0.00, 0.00, 0.00, 0.00, 0.00, 0.00, 0.72, 0.88, 0.85, 0.87, 0.89, 0.92, 0.89, 0.88, 0.87, 0.88,\n",
       "          0.87, 0.87, 0.96, 0.68, 0.00, 0.00, 0.00, 0.00, 0.00, 0.00, 0.00, 0.00, 0.00, 0.00, 0.00, 0.00, 0.00, 0.00, 0.76, 0.89, 0.85, 0.84, 0.78, 0.71, 0.83,\n",
       "          0.82, 0.83, 0.84, 0.87, 0.86, 0.95, 0.79, 0.00, 0.00, 0.00, 0.00, 0.00, 0.00, 0.00, 0.00, 0.00, 0.00, 0.00, 0.01, 0.00, 0.05, 0.86, 0.86, 0.83, 0.85,\n",
       "          0.75, 0.66, 0.89, 0.82, 0.85, 0.88, 0.83, 0.89, 0.77, 0.82, 0.20, 0.00, 0.00, 0.00, 0.00, 0.00, 0.00, 0.00, 0.00, 0.00, 0.00, 0.02, 0.00, 0.39, 0.96,\n",
       "          0.87, 0.86, 0.85, 0.80, 0.78, 0.87, 0.84, 0.84, 0.87, 0.86, 0.96, 0.47, 0.65, 0.22, 0.00, 0.00, 0.00, 0.00, 0.00, 0.00, 0.00, 0.00, 0.00, 0.02, 0.00,\n",
       "          0.00, 0.22, 0.93, 0.89, 0.90, 0.89, 0.94, 0.91, 0.84, 0.85, 0.87, 0.92, 0.85, 0.85, 0.82, 0.36, 0.00, 0.00, 0.00, 0.00, 0.02, 0.02, 0.03, 0.01, 0.00,\n",
       "          0.00, 0.00, 0.00, 0.00, 0.93, 0.89, 0.85, 0.87, 0.87, 0.86, 0.87, 0.87, 0.85, 0.87, 0.90, 0.84, 0.85, 1.00, 0.30, 0.00, 0.00, 0.01, 0.00, 0.00, 0.00,\n",
       "          0.00, 0.00, 0.00, 0.00, 0.24, 0.57, 0.80, 0.89, 0.81, 0.84, 0.87, 0.85, 0.82, 0.83, 0.85, 0.88, 0.87, 0.86, 0.84, 0.88, 0.96, 0.62, 0.00, 0.00, 0.00,\n",
       "          0.00, 0.00, 0.07, 0.17, 0.32, 0.42, 0.74, 0.89, 0.86, 0.87, 0.85, 0.89, 0.78, 0.80, 0.83, 0.90, 0.88, 0.92, 0.69, 0.74, 0.98, 0.97, 0.91, 0.93, 0.84,\n",
       "          0.00, 0.00, 0.22, 0.73, 0.82, 0.88, 0.87, 0.88, 0.82, 0.80, 0.84, 0.82, 0.82, 0.78, 0.62, 0.96, 0.76, 0.81, 0.87, 1.00, 1.00, 0.87, 0.92, 0.87, 0.83,\n",
       "          0.86, 0.91, 0.96, 0.00, 0.01, 0.79, 0.89, 0.88, 0.87, 0.83, 0.83, 0.84, 0.80, 0.80, 0.80, 0.86, 0.94, 0.31, 0.59, 1.00, 0.90, 0.87, 0.74, 0.60, 0.75,\n",
       "          0.82, 0.80, 0.82, 0.87, 0.89, 0.88, 0.00, 0.38, 0.91, 0.78, 0.82, 0.87, 0.90, 0.90, 0.92, 0.98, 0.86, 0.76, 0.84, 0.85, 0.95, 0.25, 0.29, 0.42, 0.46,\n",
       "          0.66, 0.86, 0.87, 0.84, 0.85, 0.87, 0.87, 0.88, 0.90, 0.11, 0.29, 0.80, 0.83, 0.80, 0.76, 0.80, 0.83, 0.88, 0.85, 0.73, 0.77, 0.81, 0.78, 0.84, 0.94,\n",
       "          0.76, 0.89, 0.96, 0.94, 0.87, 0.85, 0.83, 0.82, 0.87, 0.86, 0.87, 0.90, 0.26, 0.19, 0.80, 0.72, 0.76, 0.84, 0.77, 0.73, 0.75, 0.76, 0.75, 0.79, 0.84,\n",
       "          0.86, 0.87, 0.86, 0.93, 0.88, 0.85, 0.78, 0.81, 0.73, 0.71, 0.69, 0.67, 0.71, 0.80, 0.81, 0.45, 0.00, 0.48, 0.86, 0.76, 0.70, 0.67, 0.72, 0.77, 0.80,\n",
       "          0.82, 0.84, 0.81, 0.83, 0.82, 0.78, 0.77, 0.76, 0.75, 0.76, 0.75, 0.78, 0.75, 0.69, 0.61, 0.65, 0.69, 0.82, 0.36, 0.00, 0.00, 0.29, 0.74, 0.83, 0.75,\n",
       "          0.69, 0.67, 0.69, 0.71, 0.73, 0.74, 0.74, 0.74, 0.76, 0.78, 0.80, 0.82, 0.82, 0.82, 0.83, 0.74, 0.74, 0.76, 0.75, 0.85, 0.67, 0.00, 0.01, 0.00, 0.00,\n",
       "          0.00, 0.26, 0.78, 0.87, 0.93, 0.94, 0.95, 0.96, 0.95, 0.96, 0.87, 0.86, 0.76, 0.75, 0.70, 0.71, 0.71, 0.71, 0.69, 0.65, 0.66, 0.39, 0.23, 0.00, 0.00,\n",
       "          0.00, 0.00, 0.00, 0.00, 0.00, 0.00, 0.00, 0.16, 0.24, 0.17, 0.28, 0.16, 0.14, 0.00, 0.00, 0.00, 0.00, 0.00, 0.00, 0.00, 0.00, 0.00, 0.00, 0.00, 0.00,\n",
       "          0.00, 0.00, 0.00, 0.00, 0.00, 0.00, 0.00, 0.00, 0.00, 0.00, 0.00, 0.00, 0.00, 0.00, 0.00, 0.00, 0.00, 0.00, 0.00, 0.00, 0.00, 0.00, 0.00, 0.00, 0.00,\n",
       "          0.00, 0.00, 0.00, 0.00, 0.00, 0.00, 0.00, 0.00, 0.00, 0.00, 0.00, 0.00, 0.00, 0.00, 0.00, 0.00, 0.00, 0.00, 0.00, 0.00, 0.00, 0.00, 0.00, 0.00, 0.00,\n",
       "          0.00, 0.00, 0.00, 0.00, 0.00, 0.00, 0.00, 0.00, 0.00]),\n",
       "  'label': 9},\n",
       " {'image': tensor([0.00, 0.00, 0.00, 0.00, 0.00, 0.00, 0.00, 0.00, 0.00, 0.00, 0.16, 0.74, 0.40, 0.21, 0.19, 0.17, 0.34, 0.66, 0.52, 0.06, 0.00, 0.00, 0.00, 0.00, 0.00,\n",
       "          0.00, 0.00, 0.00, 0.00, 0.00, 0.00, 0.00, 0.00, 0.00, 0.00, 0.19, 0.53, 0.86, 0.85, 0.89, 0.93, 1.00, 1.00, 1.00, 1.00, 0.85, 0.84, 1.00, 0.91, 0.63,\n",
       "          0.18, 0.00, 0.00, 0.00, 0.00, 0.00, 0.00, 0.00, 0.00, 0.00, 0.00, 0.05, 0.69, 0.87, 0.88, 0.83, 0.80, 0.78, 0.77, 0.78, 0.84, 0.80, 0.79, 0.79, 0.79,\n",
       "          0.79, 0.82, 0.85, 0.88, 0.64, 0.00, 0.00, 0.00, 0.00, 0.00, 0.00, 0.00, 0.00, 0.00, 0.74, 0.86, 0.78, 0.78, 0.79, 0.78, 0.78, 0.78, 0.79, 0.77, 0.78,\n",
       "          0.78, 0.78, 0.78, 0.78, 0.78, 0.79, 0.78, 0.88, 0.16, 0.00, 0.00, 0.00, 0.00, 0.00, 0.00, 0.00, 0.20, 0.86, 0.78, 0.80, 0.80, 0.83, 0.93, 0.97, 0.98,\n",
       "          0.96, 0.98, 0.96, 0.97, 0.99, 0.97, 0.92, 0.81, 0.80, 0.80, 0.87, 0.55, 0.00, 0.00, 0.00, 0.00, 0.00, 0.00, 0.00, 0.45, 0.89, 0.81, 0.80, 0.81, 0.80,\n",
       "          0.40, 0.29, 0.18, 0.29, 0.19, 0.20, 0.18, 0.20, 0.25, 0.44, 0.87, 0.79, 0.81, 0.86, 0.88, 0.00, 0.00, 0.00, 0.00, 0.00, 0.00, 0.00, 0.78, 0.87, 0.82,\n",
       "          0.80, 0.84, 0.78, 0.00, 0.27, 0.38, 0.00, 0.40, 0.23, 0.27, 0.28, 0.19, 0.00, 0.86, 0.81, 0.84, 0.82, 0.98, 0.15, 0.00, 0.00, 0.00, 0.00, 0.00, 0.00,\n",
       "          0.97, 0.85, 0.83, 0.82, 0.84, 0.84, 0.00, 1.00, 0.95, 0.55, 1.00, 0.68, 0.98, 1.00, 0.80, 0.00, 0.84, 0.85, 0.84, 0.82, 0.86, 0.37, 0.00, 0.00, 0.00,\n",
       "          0.00, 0.00, 0.18, 0.89, 0.84, 0.84, 0.84, 0.88, 0.80, 0.00, 0.16, 0.14, 0.24, 0.06, 0.07, 0.05, 0.05, 0.27, 0.00, 0.74, 0.85, 0.83, 0.81, 0.83, 0.61,\n",
       "          0.00, 0.00, 0.00, 0.00, 0.00, 0.64, 0.92, 0.84, 0.83, 0.86, 0.85, 0.79, 0.20, 0.28, 0.35, 0.37, 0.33, 0.31, 0.27, 0.30, 0.36, 0.34, 0.81, 0.81, 0.87,\n",
       "          0.84, 0.86, 0.82, 0.00, 0.00, 0.00, 0.00, 0.00, 0.42, 0.73, 0.87, 0.93, 0.97, 0.83, 0.78, 0.99, 0.98, 0.97, 0.96, 0.97, 0.99, 0.99, 0.98, 0.99, 0.94,\n",
       "          0.79, 0.83, 0.88, 0.84, 0.76, 0.44, 0.00, 0.00, 0.00, 0.00, 0.00, 0.00, 0.00, 0.07, 0.21, 0.62, 0.87, 0.76, 0.82, 0.75, 0.77, 0.78, 0.78, 0.78, 0.78,\n",
       "          0.79, 0.80, 0.76, 0.82, 0.65, 0.00, 0.00, 0.00, 0.00, 0.00, 0.00, 0.00, 0.00, 0.00, 0.00, 0.00, 0.00, 0.00, 0.18, 0.88, 0.75, 0.84, 0.80, 0.81, 0.80,\n",
       "          0.80, 0.80, 0.81, 0.80, 0.83, 0.77, 0.85, 0.42, 0.00, 0.00, 0.00, 0.00, 0.00, 0.00, 0.00, 0.00, 0.00, 0.00, 0.00, 0.02, 0.00, 0.18, 0.83, 0.76, 0.83,\n",
       "          0.79, 0.81, 0.80, 0.80, 0.80, 0.81, 0.80, 0.83, 0.78, 0.85, 0.36, 0.00, 0.01, 0.00, 0.00, 0.00, 0.00, 0.00, 0.00, 0.00, 0.00, 0.00, 0.00, 0.00, 0.04,\n",
       "          0.77, 0.78, 0.80, 0.79, 0.80, 0.81, 0.80, 0.80, 0.81, 0.80, 0.80, 0.80, 0.85, 0.30, 0.00, 0.02, 0.00, 0.00, 0.00, 0.00, 0.00, 0.00, 0.00, 0.00, 0.00,\n",
       "          0.01, 0.00, 0.01, 0.75, 0.78, 0.79, 0.80, 0.81, 0.80, 0.80, 0.81, 0.82, 0.81, 0.78, 0.82, 0.86, 0.29, 0.00, 0.02, 0.00, 0.00, 0.00, 0.00, 0.00, 0.00,\n",
       "          0.00, 0.00, 0.00, 0.01, 0.00, 0.00, 0.74, 0.77, 0.78, 0.81, 0.81, 0.80, 0.81, 0.81, 0.82, 0.82, 0.78, 0.81, 0.87, 0.28, 0.00, 0.02, 0.00, 0.00, 0.00,\n",
       "          0.00, 0.00, 0.00, 0.00, 0.00, 0.00, 0.01, 0.00, 0.00, 0.84, 0.78, 0.80, 0.81, 0.82, 0.80, 0.81, 0.81, 0.82, 0.82, 0.78, 0.79, 0.87, 0.29, 0.00, 0.02,\n",
       "          0.00, 0.00, 0.00, 0.00, 0.00, 0.00, 0.00, 0.00, 0.00, 0.00, 0.00, 0.00, 0.83, 0.78, 0.82, 0.81, 0.82, 0.81, 0.82, 0.81, 0.83, 0.81, 0.80, 0.78, 0.87,\n",
       "          0.31, 0.00, 0.01, 0.00, 0.00, 0.00, 0.00, 0.00, 0.00, 0.00, 0.00, 0.00, 0.00, 0.00, 0.00, 0.80, 0.79, 0.80, 0.82, 0.81, 0.80, 0.83, 0.80, 0.82, 0.82,\n",
       "          0.82, 0.76, 0.87, 0.38, 0.00, 0.01, 0.00, 0.00, 0.00, 0.00, 0.00, 0.00, 0.00, 0.00, 0.00, 0.00, 0.00, 0.00, 0.79, 0.79, 0.80, 0.82, 0.81, 0.80, 0.84,\n",
       "          0.81, 0.82, 0.82, 0.82, 0.76, 0.85, 0.41, 0.00, 0.01, 0.00, 0.00, 0.00, 0.00, 0.00, 0.00, 0.00, 0.00, 0.00, 0.00, 0.00, 0.00, 0.80, 0.80, 0.80, 0.82,\n",
       "          0.81, 0.80, 0.84, 0.81, 0.82, 0.82, 0.83, 0.76, 0.84, 0.45, 0.00, 0.01, 0.00, 0.00, 0.00, 0.00, 0.00, 0.00, 0.00, 0.00, 0.00, 0.00, 0.00, 0.00, 0.80,\n",
       "          0.81, 0.81, 0.82, 0.81, 0.81, 0.84, 0.82, 0.82, 0.81, 0.83, 0.76, 0.82, 0.46, 0.00, 0.01, 0.00, 0.00, 0.00, 0.00, 0.00, 0.00, 0.00, 0.00, 0.00, 0.00,\n",
       "          0.00, 0.00, 0.78, 0.82, 0.82, 0.82, 0.80, 0.81, 0.83, 0.83, 0.82, 0.81, 0.83, 0.77, 0.81, 0.47, 0.00, 0.00, 0.00, 0.00, 0.00, 0.00, 0.00, 0.00, 0.00,\n",
       "          0.00, 0.00, 0.00, 0.00, 0.00, 0.78, 0.82, 0.81, 0.82, 0.81, 0.82, 0.84, 0.83, 0.83, 0.81, 0.82, 0.77, 0.81, 0.49, 0.00, 0.00, 0.00, 0.00, 0.00, 0.00,\n",
       "          0.00, 0.00, 0.00, 0.00, 0.00, 0.00, 0.00, 0.00, 0.67, 0.82, 0.80, 0.79, 0.78, 0.80, 0.81, 0.80, 0.80, 0.79, 0.80, 0.77, 0.81, 0.50, 0.00, 0.00, 0.00,\n",
       "          0.00, 0.00, 0.00, 0.00, 0.00, 0.00, 0.00, 0.00, 0.00, 0.00, 0.00, 0.74, 0.87, 0.84, 0.92, 0.93, 0.93, 0.96, 0.96, 0.96, 0.94, 0.95, 0.84, 0.88, 0.64,\n",
       "          0.00, 0.01, 0.00, 0.00, 0.00, 0.00, 0.00, 0.00, 0.00, 0.00, 0.00, 0.00, 0.00, 0.00, 0.55, 0.57, 0.51, 0.53, 0.53, 0.54, 0.49, 0.49, 0.49, 0.47, 0.47,\n",
       "          0.45, 0.51, 0.30, 0.00, 0.00, 0.00, 0.00, 0.00, 0.00]),\n",
       "  'label': 0},\n",
       " {'image': tensor([0.00, 0.00, 0.00, 0.00, 0.00, 0.00, 0.00, 0.00, 0.00, 0.09, 0.46, 0.09, 0.00, 0.00, 0.00, 0.00, 0.00, 0.19, 0.35, 0.02, 0.00, 0.00, 0.00, 0.00, 0.00,\n",
       "          0.00, 0.00, 0.00, 0.00, 0.00, 0.00, 0.00, 0.00, 0.00, 0.00, 0.00, 0.05, 0.39, 0.83, 0.80, 0.73, 0.70, 0.68, 0.73, 0.76, 0.87, 0.56, 0.33, 0.00, 0.00,\n",
       "          0.00, 0.00, 0.00, 0.00, 0.00, 0.00, 0.00, 0.00, 0.00, 0.00, 0.00, 0.00, 0.00, 0.00, 0.00, 0.33, 0.30, 0.78, 0.88, 0.97, 1.00, 0.93, 0.89, 0.62, 0.27,\n",
       "          0.31, 0.00, 0.00, 0.00, 0.00, 0.00, 0.00, 0.00, 0.00, 0.00, 0.00, 0.00, 0.00, 0.00, 0.00, 0.00, 0.00, 0.00, 0.36, 0.27, 0.36, 0.79, 0.85, 0.88, 0.82,\n",
       "          0.62, 0.24, 0.36, 0.28, 0.00, 0.00, 0.00, 0.00, 0.00, 0.00, 0.00, 0.00, 0.00, 0.00, 0.00, 0.00, 0.00, 0.00, 0.00, 0.00, 0.00, 0.31, 0.35, 0.24, 0.23,\n",
       "          0.34, 0.42, 0.29, 0.22, 0.30, 0.38, 0.29, 0.00, 0.00, 0.00, 0.00, 0.00, 0.00, 0.00, 0.00, 0.00, 0.00, 0.00, 0.00, 0.00, 0.00, 0.00, 0.00, 0.00, 0.29,\n",
       "          0.35, 0.31, 0.31, 0.26, 0.25, 0.29, 0.33, 0.31, 0.38, 0.28, 0.00, 0.00, 0.00, 0.00, 0.00, 0.00, 0.00, 0.00, 0.00, 0.00, 0.00, 0.00, 0.00, 0.00, 0.00,\n",
       "          0.00, 0.00, 0.30, 0.35, 0.30, 0.31, 0.33, 0.33, 0.33, 0.33, 0.32, 0.37, 0.30, 0.00, 0.00, 0.00, 0.00, 0.00, 0.00, 0.00, 0.00, 0.00, 0.00, 0.00, 0.00,\n",
       "          0.00, 0.00, 0.00, 0.00, 0.00, 0.35, 0.38, 0.31, 0.33, 0.32, 0.33, 0.33, 0.33, 0.33, 0.38, 0.33, 0.00, 0.00, 0.00, 0.00, 0.00, 0.00, 0.00, 0.00, 0.00,\n",
       "          0.00, 0.00, 0.00, 0.00, 0.00, 0.00, 0.00, 0.00, 0.36, 0.38, 0.32, 0.33, 0.33, 0.33, 0.34, 0.35, 0.33, 0.39, 0.34, 0.00, 0.00, 0.00, 0.00, 0.00, 0.00,\n",
       "          0.00, 0.00, 0.00, 0.00, 0.00, 0.00, 0.00, 0.00, 0.00, 0.00, 0.00, 0.37, 0.34, 0.33, 0.34, 0.35, 0.33, 0.34, 0.34, 0.33, 0.36, 0.34, 0.00, 0.00, 0.00,\n",
       "          0.00, 0.00, 0.00, 0.00, 0.00, 0.00, 0.00, 0.00, 0.00, 0.00, 0.00, 0.00, 0.00, 0.00, 0.38, 0.34, 0.34, 0.33, 0.35, 0.34, 0.34, 0.34, 0.35, 0.33, 0.42,\n",
       "          0.00, 0.00, 0.00, 0.00, 0.00, 0.00, 0.00, 0.00, 0.00, 0.00, 0.00, 0.00, 0.00, 0.00, 0.00, 0.00, 0.07, 0.39, 0.35, 0.34, 0.34, 0.35, 0.34, 0.34, 0.33,\n",
       "          0.35, 0.30, 0.46, 0.03, 0.00, 0.00, 0.00, 0.00, 0.00, 0.00, 0.00, 0.00, 0.00, 0.00, 0.00, 0.00, 0.00, 0.00, 0.00, 0.04, 0.36, 0.34, 0.34, 0.34, 0.34,\n",
       "          0.34, 0.35, 0.34, 0.35, 0.31, 0.40, 0.00, 0.00, 0.00, 0.00, 0.00, 0.00, 0.00, 0.00, 0.00, 0.00, 0.00, 0.00, 0.00, 0.00, 0.00, 0.00, 0.04, 0.38, 0.34,\n",
       "          0.34, 0.34, 0.34, 0.34, 0.35, 0.34, 0.35, 0.34, 0.40, 0.00, 0.00, 0.00, 0.00, 0.00, 0.00, 0.00, 0.00, 0.00, 0.00, 0.00, 0.00, 0.00, 0.00, 0.00, 0.00,\n",
       "          0.05, 0.38, 0.33, 0.34, 0.34, 0.34, 0.33, 0.34, 0.34, 0.35, 0.35, 0.39, 0.01, 0.00, 0.00, 0.00, 0.00, 0.00, 0.00, 0.00, 0.00, 0.00, 0.00, 0.00, 0.00,\n",
       "          0.00, 0.00, 0.00, 0.08, 0.37, 0.33, 0.35, 0.33, 0.34, 0.35, 0.35, 0.35, 0.35, 0.35, 0.39, 0.03, 0.00, 0.00, 0.00, 0.00, 0.00, 0.00, 0.00, 0.00, 0.00,\n",
       "          0.00, 0.00, 0.00, 0.00, 0.00, 0.00, 0.08, 0.38, 0.33, 0.34, 0.33, 0.35, 0.35, 0.35, 0.35, 0.35, 0.35, 0.39, 0.04, 0.00, 0.00, 0.00, 0.00, 0.00, 0.00,\n",
       "          0.00, 0.00, 0.00, 0.00, 0.00, 0.00, 0.00, 0.00, 0.00, 0.09, 0.38, 0.33, 0.34, 0.33, 0.34, 0.35, 0.35, 0.35, 0.35, 0.36, 0.40, 0.05, 0.00, 0.00, 0.00,\n",
       "          0.00, 0.00, 0.00, 0.00, 0.00, 0.00, 0.00, 0.00, 0.00, 0.00, 0.00, 0.00, 0.10, 0.36, 0.33, 0.35, 0.34, 0.34, 0.34, 0.34, 0.34, 0.35, 0.36, 0.40, 0.11,\n",
       "          0.00, 0.00, 0.00, 0.00, 0.00, 0.00, 0.00, 0.00, 0.00, 0.00, 0.00, 0.00, 0.00, 0.00, 0.00, 0.12, 0.37, 0.33, 0.35, 0.35, 0.34, 0.34, 0.34, 0.34, 0.35,\n",
       "          0.35, 0.40, 0.15, 0.00, 0.00, 0.00, 0.00, 0.00, 0.00, 0.00, 0.00, 0.00, 0.00, 0.00, 0.00, 0.00, 0.00, 0.00, 0.13, 0.38, 0.35, 0.34, 0.34, 0.34, 0.34,\n",
       "          0.34, 0.34, 0.33, 0.33, 0.38, 0.15, 0.00, 0.00, 0.00, 0.00, 0.00, 0.00, 0.00, 0.00, 0.00, 0.00, 0.00, 0.00, 0.00, 0.00, 0.00, 0.16, 0.38, 0.34, 0.33,\n",
       "          0.34, 0.34, 0.34, 0.34, 0.34, 0.33, 0.33, 0.36, 0.19, 0.00, 0.00, 0.00, 0.00, 0.00, 0.00, 0.00, 0.00, 0.00, 0.00, 0.00, 0.00, 0.00, 0.00, 0.00, 0.18,\n",
       "          0.37, 0.33, 0.33, 0.34, 0.34, 0.34, 0.34, 0.34, 0.34, 0.33, 0.34, 0.33, 0.00, 0.00, 0.00, 0.00, 0.00, 0.00, 0.00, 0.00, 0.00, 0.00, 0.00, 0.00, 0.00,\n",
       "          0.00, 0.00, 0.28, 0.37, 0.33, 0.33, 0.33, 0.35, 0.34, 0.34, 0.35, 0.34, 0.33, 0.33, 0.25, 0.00, 0.00, 0.00, 0.00, 0.00, 0.00, 0.00, 0.00, 0.00, 0.00,\n",
       "          0.00, 0.00, 0.00, 0.00, 0.00, 0.25, 0.39, 0.33, 0.34, 0.35, 0.33, 0.35, 0.35, 0.33, 0.34, 0.33, 0.37, 0.21, 0.00, 0.00, 0.00, 0.00, 0.00, 0.00, 0.00,\n",
       "          0.00, 0.00, 0.00, 0.00, 0.00, 0.00, 0.00, 0.00, 0.04, 0.40, 0.39, 0.36, 0.36, 0.35, 0.33, 0.33, 0.33, 0.34, 0.42, 0.42, 0.05, 0.00, 0.00, 0.00, 0.00,\n",
       "          0.00, 0.00, 0.00, 0.00, 0.00, 0.00, 0.00, 0.00, 0.00, 0.00, 0.00, 0.00, 0.03, 0.29, 0.36, 0.41, 0.42, 0.40, 0.40, 0.42, 0.40, 0.29, 0.04, 0.00, 0.00,\n",
       "          0.00, 0.00, 0.00, 0.00, 0.00, 0.00, 0.00, 0.00, 0.00, 0.00, 0.00, 0.00, 0.00, 0.00, 0.00, 0.00, 0.00, 0.00, 0.07, 0.16, 0.22, 0.22, 0.13, 0.03, 0.00,\n",
       "          0.00, 0.00, 0.00, 0.00, 0.00, 0.00, 0.00, 0.00, 0.00]),\n",
       "  'label': 0}]"
      ]
     },
     "execution_count": null,
     "metadata": {},
     "output_type": "execute_result"
    }
   ],
   "source": [
    "from itertools import islice\n",
    "list(islice(tds['train'], 3))"
   ]
  },
  {
   "cell_type": "code",
   "execution_count": null,
   "id": "148f5757-e628-4882-a77e-80ced3d4e597",
   "metadata": {},
   "outputs": [
    {
     "name": "stdout",
     "output_type": "stream",
     "text": [
      "Dataset({\n",
      "    features: ['image', 'label'],\n",
      "    num_rows: 60000\n",
      "})\n",
      "Dataset({\n",
      "    features: ['image', 'label'],\n",
      "    num_rows: 10000\n",
      "})\n"
     ]
    }
   ],
   "source": [
    "print(*tds.values(), sep='\\n')"
   ]
  },
  {
   "cell_type": "markdown",
   "id": "5728e8ca-eb4e-42c6-81a1-a172f03496ba",
   "metadata": {},
   "source": [
    "Let's remind ourselves how `DataLoaders.from_dd` actually works. \n",
    "\n",
    "```python\n",
    "def from_dd(cls, dd, batch_size, as_tuple=True, **kwargs):\n",
    "        f = collate_dict(dd['train'])\n",
    "        return cls(*get_dls(*dd.values(), bs=batch_size, collate_fn=f, **kwargs))\n",
    "```\n",
    "Let's first deal with the first line of code and `f` function. `f` is an internal collation function that collates a list of dicts to a dict of `x` and `y` values for a given batch. `x` and `y` values are grabbed using `itemgetter` from the training dataset features (label and image in our case). This is how it is done step by step in `collate_dict`:\n",
    "1. store feature names from `dd['train']` (`image` and `label`) into an itemgetter\n",
    "2. apply itemgetter to the result of a `default_collate` on a given dataset / batch returning a tuple of `x` and `y` values\n",
    "\n",
    "```python\n",
    "def collate_dict(ds):\n",
    "    get = itemgetter(*ds.features) # get x and y values\n",
    "    def _f(b): return get(default_collate(b))\n",
    "    return _f # return a function that can be applied to a given batch\n",
    "```\n",
    "\n",
    "The second line of code (returning) can be broken down into several parts: call `get_dls` and wrap its return value into `cls`. Let's tackle it one by one.\n",
    "\n",
    "```python\n",
    "def get_dls(train_ds, valid_ds, bs, **kwargs):\n",
    "    return (DataLoader(train_ds, bs, shuffle=True, **kwargs), DataLoader(valid_ds, bs*2, **kwargs))\n",
    "```\n",
    "\n",
    "`get_dls` takes unpacked train and valid datasets from the Dataset dictionary (`tds`) values and turns them into the respective DataLoaders (PyTorch). Our created `collate_dict` function (assigned to `f`) is passed to the DataLoader `__init__` method via `**kwargs`\n",
    "\n",
    "Wrapping the resulting tuple of DataLoaders inside `cls` simply allows us to get them by calling .train and .vaild on the DataLoaders class.\n",
    "\n",
    "```python\n",
    "def __init__(self, *dls): self.train, self.valid = dls[:2]\n",
    "```\n",
    "\n",
    "Now we should fully understand the initial code above. We create DataLoaders (train and valid), then we select train DataLoader and get one batch of size 1024 from it.\n",
    "\n",
    "```python\n",
    "dls = DataLoaders.from_dd(tds, bs)\n",
    "dt = dls.train\n",
    "xb, yb = next(iter(dt))\n",
    "```\n",
    "During the `next` call to iterator, our collation function (`f`) comes in play and merges the 1024 element list of dictionaries into a tuple of `x` and `y` tensors."
   ]
  },
  {
   "cell_type": "markdown",
   "id": "c0395dc7-534c-423b-81ec-42b35be02a35",
   "metadata": {},
   "source": [
    "Now let's move on to creating our first Learner framework."
   ]
  },
  {
   "cell_type": "markdown",
   "id": "0f12dbc8-38e8-4c78-8a1d-ebe4d5d59692",
   "metadata": {},
   "source": [
    "##  Learner"
   ]
  },
  {
   "cell_type": "markdown",
   "id": "0bc3fdd3-e566-4a8e-b873-fe45afb9e9b0",
   "metadata": {},
   "source": [
    "First we create a simplified learner that still has some nice structure to it."
   ]
  },
  {
   "cell_type": "code",
   "execution_count": null,
   "id": "2d92ec44-c8e2-4aab-b2d5-de57963ac8cf",
   "metadata": {},
   "outputs": [],
   "source": [
    "class Learner:\n",
    "    def __init__(self, model, dls, loss_func, lr, opt_func=optim.SGD): fc.store_attr()\n",
    "    \n",
    "    def one_batch(self):\n",
    "        # move xb and yb to device\n",
    "        self.xb, self.yb = to_device(self.batch)\n",
    "        # get preds and loss\n",
    "        self.preds = self.model(self.xb)\n",
    "        self.loss = self.loss_func(self.preds, self.yb)\n",
    "        # if model is in training - update weights\n",
    "        if model.training: \n",
    "            self.loss.backward()\n",
    "            self.opt.step()\n",
    "            self.opt.zero_grad()\n",
    "        # calculate stats\n",
    "        with torch.no_grad(): self.calc_stats()\n",
    "    \n",
    "    # Note that in the original code the statistics are calcualted over all data points accumulated over previois epochs.\n",
    "    # And validation metrics includes training data as well\n",
    "    def calc_stats(self):\n",
    "        # calculate accuracy,loss and ns and append to arrays\n",
    "        acc = (self.preds.argmax(-1)==self.yb.float()).sum()\n",
    "        self.accs.append(acc)\n",
    "        n = len(self.xb) # size of a batch\n",
    "        self.losses.append(self.loss*n)\n",
    "        self.ns.append(n)\n",
    "\n",
    "    def one_epoch(self, train):\n",
    "        # set training / eval mode and get relevant dl\n",
    "        self.model.training = train\n",
    "        dl = self.dls.train if train else self.dls.valid\n",
    "        # loop through the dl and calculate one batch; Note - self.batch in order to store it in class and access from any method\n",
    "        for self.batch in dl: self.one_batch()\n",
    "        # print epoch, training mode, losses and accuracy for an epoch (divide by batch size)\n",
    "        n = sum(self.ns)\n",
    "        print(self.epoch, self.model.training, \n",
    "              sum(self.losses).item()/n, sum(self.accs).item()/n)\n",
    "        \n",
    "    def fit(self, n_epochs):\n",
    "        # initialize accs, losses and ns lists\n",
    "        self.accs, self.losses, self.ns = [],[],[]\n",
    "        # move model to device, set optimizer and number of epochs\n",
    "        self.model.to(def_device)\n",
    "        self.opt = self.opt_func(self.model.parameters(), self.lr)\n",
    "        # run epochs for training and validaton\n",
    "        for self.epoch in range(n_epochs):\n",
    "            self.one_epoch(True)\n",
    "            self.accs, self.losses, self.ns = [],[],[]\n",
    "            with torch.no_grad(): self.one_epoch(False)\n",
    "            self.accs, self.losses, self.ns = [],[],[]\n",
    "       "
   ]
  },
  {
   "cell_type": "code",
   "execution_count": null,
   "id": "9255723b-43bb-4f29-aa59-6f672e91862e",
   "metadata": {},
   "outputs": [],
   "source": [
    "m, nh = 28*28, 50\n",
    "model = nn.Sequential(nn.Linear(m, nh), nn.ReLU(), nn.Linear(nh, 10))"
   ]
  },
  {
   "cell_type": "code",
   "execution_count": null,
   "id": "8c865a6b-d8f3-4fbb-a37a-e9409d213237",
   "metadata": {},
   "outputs": [
    {
     "name": "stdout",
     "output_type": "stream",
     "text": [
      "0 True 1.1753048177083334 0.5986833333333333\n",
      "0 False 0.790475390625 0.7026\n",
      "1 True 0.7143359375 0.7447333333333334\n",
      "1 False 0.637720654296875 0.7674\n"
     ]
    }
   ],
   "source": [
    "learn = Learner(model, dls, F.cross_entropy, lr=0.2)\n",
    "learn.fit(2)"
   ]
  },
  {
   "cell_type": "code",
   "execution_count": null,
   "id": "0c91c9ac-7544-4fd0-be57-d09d984a740c",
   "metadata": {},
   "outputs": [
    {
     "name": "stdout",
     "output_type": "stream",
     "text": [
      "0 True 0.60969453125 0.7833166666666667\n",
      "0 False 0.627907958984375 0.7792\n",
      "1 True 0.5702168619791667 0.7979333333333334\n",
      "1 False 0.5741076171875 0.7885\n"
     ]
    }
   ],
   "source": [
    "learn = Learner(model, dls, F.cross_entropy, lr=0.2)\n",
    "learn.fit(2)"
   ]
  },
  {
   "cell_type": "markdown",
   "id": "54458635-6ddd-4990-bbfa-94bebc343daa",
   "metadata": {},
   "source": [
    "## Basic Callbacks Learner "
   ]
  },
  {
   "cell_type": "markdown",
   "id": "d4b0057b-50e6-4fee-a1e3-8aa50de9619e",
   "metadata": {},
   "source": [
    "Now let's improve greatly upon our previus iteration and add `Callbacks` to our Learner"
   ]
  },
  {
   "cell_type": "code",
   "execution_count": null,
   "id": "6d2803c9-5867-46df-acc0-730b582a15f2",
   "metadata": {},
   "outputs": [],
   "source": [
    "#|export\n",
    "class CancelFitException(Exception): pass\n",
    "class CancelBatchException(Exception): pass\n",
    "class CancelEpochException(Exception): pass"
   ]
  },
  {
   "cell_type": "markdown",
   "id": "0148636c-5649-45b2-846f-ffb4dd7327fb",
   "metadata": {},
   "source": [
    "Note that we set order variable outside `__init__` and so it belongs to the class and is shared by all instances."
   ]
  },
  {
   "cell_type": "code",
   "execution_count": null,
   "id": "cfb20c4f-bf71-48f5-9c16-5d91ce3fadd7",
   "metadata": {},
   "outputs": [],
   "source": [
    "#|export\n",
    "class Callback: order = 0"
   ]
  },
  {
   "cell_type": "markdown",
   "id": "2873c7f3-89ad-4b53-b4c4-bc26b643b31b",
   "metadata": {},
   "source": [
    "In order to call callbacks we write a separate function that calls all the relevant callbacks in their `order`.\n",
    "\n",
    "We use `attrgetter` to get a callable object that fetches the given attribute(s) from its operand. Example:\n",
    "```python\n",
    "f = attrgetter('name')\n",
    "g = attrgetter('name', 'date')\n",
    "```\n",
    "Calling f(r) returns r.name, calling g(r) return (r.name, r.date). We use it instead of writing a lambda expression for key\n",
    "\n",
    "We use `getattr` to get a named attribute from an object; getattr(x, 'y') is equivalent to x.y. "
   ]
  },
  {
   "cell_type": "code",
   "execution_count": null,
   "id": "b0c8cf35-00fd-4ddc-9e6b-3e6fc5d99b45",
   "metadata": {},
   "outputs": [],
   "source": [
    "#|export\n",
    "def run_cbs(cbs, # List of callbacks, \n",
    "            method_nm: str, \n",
    "            learn=None):\n",
    "    # loop through all the callbacks in order of 'order'\n",
    "    # import ipdb; ipdb.set_trace()\n",
    "    for cb in sorted(cbs,key=attrgetter('order')):\n",
    "        # get their `method_nm` if it exists and call them on the learner\n",
    "        method = getattr(cb, method_nm, None)\n",
    "        if method is not None: method(learn)"
   ]
  },
  {
   "cell_type": "code",
   "execution_count": null,
   "id": "6a8f0625-2f15-4524-99aa-30fa59b510a3",
   "metadata": {},
   "outputs": [],
   "source": [
    "class CompletionCB(Callback):\n",
    "    def before_fit(self, learn): self.count = 0\n",
    "    def after_batch(self, learn): self.count += 1\n",
    "    def after_fit(self, learn): print(f'Completed {self.count} batches')"
   ]
  },
  {
   "cell_type": "code",
   "execution_count": null,
   "id": "446c51de-66d3-4937-a4bf-1f5e4f2bdc5f",
   "metadata": {},
   "outputs": [
    {
     "name": "stdout",
     "output_type": "stream",
     "text": [
      "Completed 1 batches\n"
     ]
    }
   ],
   "source": [
    "cbs = [CompletionCB()]\n",
    "run_cbs(cbs, 'before_fit')\n",
    "run_cbs(cbs, 'after_batch')\n",
    "run_cbs(cbs, 'after_fit')"
   ]
  },
  {
   "cell_type": "markdown",
   "id": "ba5fca79-9c77-433d-913a-2f7481d6948c",
   "metadata": {},
   "source": [
    "Now let's update our `Learner` code to include `callbacks`."
   ]
  },
  {
   "cell_type": "code",
   "execution_count": null,
   "id": "d6c3de39-20fb-4b02-8430-788f0f7f3ee8",
   "metadata": {},
   "outputs": [],
   "source": [
    "class Learner:\n",
    "    def __init__(self, model, dls, loss_func, lr, cbs, opt_func=optim.SGD): fc.store_attr()\n",
    "    \n",
    "    def one_batch(self):\n",
    "        # get preds and losses. If training update weights\n",
    "        self.preds = self.model(self.batch[0])\n",
    "        self.loss = self.loss_func(self.preds, self.batch[1])\n",
    "        if self.model.training:\n",
    "            self.loss.backward()\n",
    "            self.optim.step()\n",
    "            self.optim.zero_grad()\n",
    "            \n",
    "        \n",
    "    def one_epoch(self, train: bool):\n",
    "        # set model mode and get relevant dl\n",
    "        self.model.training = train\n",
    "        self.dl = dls.train if train else dls.valid\n",
    "        # try block with `epoch` callback unless exception\n",
    "        try:\n",
    "            self.callback('before_epoch')\n",
    "            # loop inside through batches, trying `batch` callback and calling one batch\n",
    "            for self.iter, self.batch in enumerate(self.dl):\n",
    "                try:\n",
    "                    self.callback('before_batch')\n",
    "                    self.one_batch()\n",
    "                    # import ipdb; ipdb.set_trace()\n",
    "                    self.callback('after_batch')\n",
    "                except CancelBatchException: pass\n",
    "            self.callback('after_epoch')\n",
    "        except CancelEpochException: pass\n",
    "            \n",
    "    def fit(self, n_epochs):\n",
    "        # set n_epochs, epochs range and optimizer\n",
    "        self.epochs = range(n_epochs)\n",
    "        self.optim = self.opt_func(self.model.parameters(), self.lr)\n",
    "        \n",
    "        # try block with `fit` callback unless exception\n",
    "        try: \n",
    "            self.callback('before_fit')\n",
    "            for self.epoch in self.epochs:\n",
    "            # Run inside one_epoch for training and validation\n",
    "                self.one_epoch(True)\n",
    "                with torch.no_grad(): self.one_epoch(False)\n",
    "            self.callback('after_fit')\n",
    "        except CancelFitException: pass\n",
    "        \n",
    "    # callback function for Learner        \n",
    "    def callback(self, method_nm): run_cbs(self.cbs, method_nm, self)"
   ]
  },
  {
   "cell_type": "code",
   "execution_count": null,
   "id": "fecb81d3-5024-4b6f-9653-cc044021ee67",
   "metadata": {},
   "outputs": [],
   "source": [
    "m,nh = 28*28, 50\n",
    "def get_model(): return nn.Sequential(nn.Linear(m, nh), nn.ReLU(), nn.Linear(nh, 10))"
   ]
  },
  {
   "cell_type": "code",
   "execution_count": null,
   "id": "d8f58861-0f3f-43b8-87e0-c3863a6f65ac",
   "metadata": {},
   "outputs": [
    {
     "name": "stdout",
     "output_type": "stream",
     "text": [
      "Completed 64 batches\n"
     ]
    }
   ],
   "source": [
    "model = get_model()\n",
    "learn = Learner(model, dls, F.cross_entropy, lr=0.2, cbs=[CompletionCB()])\n",
    "learn.fit(1)"
   ]
  },
  {
   "cell_type": "markdown",
   "id": "26ae608d-d083-46cb-80b9-b51963bf76e8",
   "metadata": {},
   "source": [
    "One epoch took 64 batches. Let's do a sanity check"
   ]
  },
  {
   "cell_type": "code",
   "execution_count": null,
   "id": "ed0d5de1-b54a-45d3-9df7-002586d5f679",
   "metadata": {},
   "outputs": [
    {
     "data": {
      "text/plain": [
       "DatasetDict({\n",
       "    train: Dataset({\n",
       "        features: ['image', 'label'],\n",
       "        num_rows: 60000\n",
       "    })\n",
       "    test: Dataset({\n",
       "        features: ['image', 'label'],\n",
       "        num_rows: 10000\n",
       "    })\n",
       "})"
      ]
     },
     "execution_count": null,
     "metadata": {},
     "output_type": "execute_result"
    }
   ],
   "source": [
    "tds"
   ]
  },
  {
   "cell_type": "markdown",
   "id": "e4b9bd37-dce0-4687-ab98-9c3ae8f80646",
   "metadata": {},
   "source": [
    "```python\n",
    "def get_dls(train_ds, valid_ds, bs, **kwargs):\n",
    "    return (DataLoader(train_ds, bs, shuffle=True, **kwargs), DataLoader(valid_ds, bs*2, **kwargs))\n",
    "```"
   ]
  },
  {
   "cell_type": "code",
   "execution_count": null,
   "id": "c2855e4c-cbd0-48cd-8db0-95f4cd7dfbf6",
   "metadata": {},
   "outputs": [
    {
     "data": {
      "text/plain": [
       "64"
      ]
     },
     "execution_count": null,
     "metadata": {},
     "output_type": "execute_result"
    }
   ],
   "source": [
    "# 1024 * 2 because our dataloader for validation takes twice the batch size\n",
    "math.ceil(60_000/1024) + math.ceil(10_000/(1024*2))"
   ]
  },
  {
   "cell_type": "code",
   "execution_count": null,
   "id": "4d11f161-df22-456a-bee4-4c93c2656201",
   "metadata": {},
   "outputs": [],
   "source": [
    "#| export\n",
    "class SingleBatchCB(Callback):\n",
    "    order = 1\n",
    "    def after_batch(self, learn): raise CancelFitException()"
   ]
  },
  {
   "cell_type": "code",
   "execution_count": null,
   "id": "31b427d8-418a-45d0-9a7d-4192f8ce8bbc",
   "metadata": {},
   "outputs": [],
   "source": [
    "learn = Learner(get_model(), dls, F.cross_entropy, lr=0.2, cbs=[SingleBatchCB(), CompletionCB()])\n",
    "learn.fit(1)"
   ]
  },
  {
   "cell_type": "code",
   "execution_count": null,
   "id": "75a392ff-135b-4cbe-bad2-5d965d3730c9",
   "metadata": {},
   "outputs": [
    {
     "data": {
      "text/plain": [
       "1"
      ]
     },
     "execution_count": null,
     "metadata": {},
     "output_type": "execute_result"
    }
   ],
   "source": [
    "learn.cbs[1].count"
   ]
  },
  {
   "cell_type": "markdown",
   "id": "9515a2d7-f989-43d4-9f21-2486ece2e493",
   "metadata": {},
   "source": [
    "## Metrics"
   ]
  },
  {
   "cell_type": "markdown",
   "id": "08a9a1ad-ea72-4b87-b6f0-fda2a91b71df",
   "metadata": {},
   "source": [
    "Note that we ignored stats calculation above. We want to be able to use different metrics with our learner so we create a base class below."
   ]
  },
  {
   "cell_type": "code",
   "execution_count": null,
   "id": "4ce49d67-f2c2-4c37-9c42-ed378a88e85f",
   "metadata": {},
   "outputs": [],
   "source": [
    "class Metric:\n",
    "    def __init__(self): self.reset() # reset stats\n",
    "    \n",
    "    def reset(self): self.ns, self.vals = [], [] # set `vals` and `ns` to empty lists \n",
    "    \n",
    "    def add(self, inp, targ=None, n=1):\n",
    "        # calculate `last` and append to `vals` and `ns`\n",
    "        self.last = self.calc(inp, targ)\n",
    "        self.vals.append(self.last)\n",
    "        self.ns.append(n)\n",
    "    \n",
    "    @property\n",
    "    def value(self):\n",
    "        # return weighted sum of metric (cast to tensors)\n",
    "        ns = tensor(self.ns)\n",
    "        return (tensor(self.vals)*ns).sum()/ns.sum()\n",
    "    \n",
    "    # in a base class simply return inputs\n",
    "    def calc(self, inps, targs):return inps"
   ]
  },
  {
   "cell_type": "markdown",
   "id": "ec4aa344-62e1-4c26-9882-42c3a3c9cb59",
   "metadata": {},
   "source": [
    "Using the base class defined above we can write an Accuracy metric simply by implementing `calc` method"
   ]
  },
  {
   "cell_type": "code",
   "execution_count": null,
   "id": "489f6c0d-659b-4890-abaa-f3cfcdcf67af",
   "metadata": {},
   "outputs": [],
   "source": [
    "class Accuracy(Metric):\n",
    "    # override calc method to get accuracy. Assume inps is already a tensor of resulting classes\n",
    "    def calc(self, inps, targs): return (inps==targs).float().mean()"
   ]
  },
  {
   "cell_type": "code",
   "execution_count": null,
   "id": "0801f336-82f3-49c8-8991-84abf3d202a9",
   "metadata": {},
   "outputs": [
    {
     "data": {
      "text/plain": [
       "tensor(0.45)"
      ]
     },
     "execution_count": null,
     "metadata": {},
     "output_type": "execute_result"
    }
   ],
   "source": [
    "acc = Accuracy()\n",
    "acc.add(tensor([0,1,2,0,1,2]),tensor([0,1,1,2,1,0]))\n",
    "acc.add(tensor([1,1,2,0,1]),tensor([0,1,1,2,1]))\n",
    "acc.value"
   ]
  },
  {
   "cell_type": "markdown",
   "id": "a77c0f44-8b4a-4b38-84d6-52693ce79209",
   "metadata": {},
   "source": [
    "Basic Metric can serve as a weighted average calculator because its `calc` method simply return input back."
   ]
  },
  {
   "cell_type": "code",
   "execution_count": null,
   "id": "054e852a-9d35-4d26-bfdf-14a315dbb649",
   "metadata": {},
   "outputs": [
    {
     "data": {
      "text/plain": [
       "(tensor(0.62), 0.62)"
      ]
     },
     "execution_count": null,
     "metadata": {},
     "output_type": "execute_result"
    }
   ],
   "source": [
    "loss = Metric()\n",
    "loss.add(0.6, n=32)\n",
    "loss.add(0.9, n=2)\n",
    "loss.value, round((0.6*32 + 0.9*2)/(32+2),2)"
   ]
  },
  {
   "cell_type": "markdown",
   "id": "1f1bf145-3f83-4303-a0d3-390790c7dec6",
   "metadata": {},
   "source": [
    "## Some callbacks"
   ]
  },
  {
   "cell_type": "markdown",
   "id": "d3d43fcd-e472-4540-8a37-a81d93821042",
   "metadata": {},
   "source": [
    "Let's build upon the Metric class and add some metrics defined in PyTorch. Note the similarities between our implementation and PyTorch."
   ]
  },
  {
   "cell_type": "code",
   "execution_count": null,
   "id": "326e7de9-7ffb-4492-82e2-5973014c712e",
   "metadata": {},
   "outputs": [],
   "source": [
    "#| export\n",
    "from torcheval.metrics import MulticlassAccuracy, Mean"
   ]
  },
  {
   "cell_type": "code",
   "execution_count": null,
   "id": "17ba4b96-f669-4127-bfe2-542b683877bf",
   "metadata": {},
   "outputs": [
    {
     "data": {
      "text/plain": [
       "tensor(0.50)"
      ]
     },
     "execution_count": null,
     "metadata": {},
     "output_type": "execute_result"
    }
   ],
   "source": [
    "metric = MulticlassAccuracy()\n",
    "metric.update(tensor([0, 2, 1, 3]), tensor([0, 1, 2, 3]))\n",
    "metric.compute()"
   ]
  },
  {
   "cell_type": "code",
   "execution_count": null,
   "id": "ae20a25f-54f7-4a12-8a39-85a30d470138",
   "metadata": {},
   "outputs": [
    {
     "data": {
      "text/plain": [
       "tensor(nan)"
      ]
     },
     "execution_count": null,
     "metadata": {},
     "output_type": "execute_result"
    }
   ],
   "source": [
    "metric.reset()\n",
    "metric.compute()"
   ]
  },
  {
   "cell_type": "markdown",
   "id": "a8499851-ce65-4bae-adfd-8ebf185e2f5f",
   "metadata": {},
   "source": [
    "Metrics are usually calculated using data that is on the `cpu`. We create a function similar to `to_device`"
   ]
  },
  {
   "cell_type": "code",
   "execution_count": null,
   "id": "0a232bc9-10c7-4e7e-bfe9-06c626237074",
   "metadata": {},
   "outputs": [],
   "source": [
    "#| export\n",
    "def to_cpu(x):\n",
    "    \"\"\"Recursively move data to cpu\"\"\"\n",
    "    # mapping case\n",
    "    if isinstance(x, Mapping): return {k:to_cpu(v) for k,v in x.items()}\n",
    "    # list case\n",
    "    if isinstance(x, list): return [to_cpu(o) for o in x]\n",
    "    # tuple case (via list)\n",
    "    if isinstance(x, tuple): return tuple(to_cpu(list(x)))\n",
    "    # base case (tensor - remove gradient and move to cpu)\n",
    "    res = x.detach().to('cpu')\n",
    "    # cast to float if tensor.dtype was float16\n",
    "    return res.float() if res.dtype == torch.float16 else res"
   ]
  },
  {
   "cell_type": "code",
   "execution_count": null,
   "id": "27cbb04e-a84d-4e11-9020-f143fbcf9431",
   "metadata": {},
   "outputs": [
    {
     "data": {
      "text/plain": [
       "(tensor(1, device='cuda:0'), tensor(2, device='cuda:0'))"
      ]
     },
     "execution_count": null,
     "metadata": {},
     "output_type": "execute_result"
    }
   ],
   "source": [
    "test = (tensor(1, device='cuda'), tensor(2, device='cuda'))\n",
    "test"
   ]
  },
  {
   "cell_type": "code",
   "execution_count": null,
   "id": "89ba6c71-4a57-41d7-9529-2b1a89d78899",
   "metadata": {},
   "outputs": [
    {
     "data": {
      "text/plain": [
       "(tensor(1), tensor(2))"
      ]
     },
     "execution_count": null,
     "metadata": {},
     "output_type": "execute_result"
    }
   ],
   "source": [
    "test = to_cpu(test)\n",
    "test"
   ]
  },
  {
   "cell_type": "code",
   "execution_count": null,
   "id": "35cb45be-ac83-4421-bba8-25f4f85660e5",
   "metadata": {},
   "outputs": [],
   "source": [
    "#| export\n",
    "class MetricsCB(Callback):\n",
    "    def __init__(self, \n",
    "                 *ms, # list of metrics\n",
    "                 **metrics, # dictionary of metrics\n",
    "                ):\n",
    "        # pool all unnamed metrics into a dictionary `metrics` using __name__ of its type as key\n",
    "        for o in ms: metrics[type(o).__name__] = o\n",
    "        # save to self.metrics\n",
    "        self.metrics = metrics\n",
    "        # make a shallow copy of metrics into `all_metrics`\n",
    "        self.all_metrics = copy(self.metrics)\n",
    "        # add 'loss' metric (Mean()) to `all_metrics`, add it to `self.loss` for quick access\n",
    "        self.all_metrics['loss'] = self.loss = Mean()\n",
    "        \n",
    "    def _log(self, d): print(d)\n",
    "    def before_fit(self, learn): learn.metrics = self # attach MetricsCB to a learner `metrics` property\n",
    "    def before_epoch(self, learn): [o.reset() for o in self.all_metrics.values()] # reset `all_metrics`\n",
    "   \n",
    "    def after_epoch(self, learn): \n",
    "        # save log of `all_metrics`, using metric `compute` method and 3 floating points\n",
    "        log = {k: f'{v.compute():.3f}' for k,v in self.all_metrics.items()} \n",
    "        # add `epoch` to log and `train` mode: `train` or `eval`\n",
    "        log['epoch'] = learn.epoch\n",
    "        log['train'] = 'train' if learn.model.training else 'valid'\n",
    "        # pass to _log\n",
    "        self._log(log)\n",
    "    \n",
    "    def after_batch(self, learn):\n",
    "        # move learner batch to cpu and unpack to x, y and all remaining values into *\n",
    "        x,y,*_ = to_cpu(learn.batch)\n",
    "        # loop through metric values and call `update` using `learn.preds` (on cpu)\n",
    "        for o in self.metrics.values(): o.update(to_cpu(learn.preds), y)\n",
    "        # update loss separately using `learn.loss` and batch size as weight\n",
    "        self.loss.update(to_cpu(learn.loss), weight=len(x))"
   ]
  },
  {
   "cell_type": "code",
   "execution_count": null,
   "id": "46fe758a-5085-4e63-ace9-ff9c91711200",
   "metadata": {},
   "outputs": [
    {
     "data": {
      "text/plain": [
       "{'int': 1, 'str': '2', 'float': 3.0, 'list': [4]}"
      ]
     },
     "execution_count": null,
     "metadata": {},
     "output_type": "execute_result"
    }
   ],
   "source": [
    "test = MetricsCB(1,'2',3.0,[4])\n",
    "test.metrics"
   ]
  },
  {
   "cell_type": "code",
   "execution_count": null,
   "id": "0a5b19f0-586b-4957-a8c6-e0b1ae4d924e",
   "metadata": {},
   "outputs": [],
   "source": [
    "def o(): return 1,2,3,4,5\n",
    "x1, x2, *_ = o()"
   ]
  },
  {
   "cell_type": "code",
   "execution_count": null,
   "id": "9005ddbc-960e-4a87-bd3f-afa4f68ffd55",
   "metadata": {},
   "outputs": [],
   "source": [
    "#| export \n",
    "class DeviceCB(Callback):\n",
    "    # init with def_device (cuda)\n",
    "    def __init__(self, device=def_device): fc.store_attr()\n",
    "    # put model to device before fitting\n",
    "    def before_fit(self, learn):\n",
    "        if hasattr(learn.model, 'to'): learn.model.to(self.device)\n",
    "    # put batch to device before batch\n",
    "    def before_batch(self, learn): learn.batch = to_device(learn.batch, self.device)"
   ]
  },
  {
   "cell_type": "code",
   "execution_count": null,
   "id": "b33d9b39-fbd0-450e-8ade-1a2522dcec2c",
   "metadata": {},
   "outputs": [
    {
     "name": "stdout",
     "output_type": "stream",
     "text": [
      "{'accuracy': '0.593', 'loss': '1.191', 'epoch': 0, 'train': 'train'}\n",
      "{'accuracy': '0.704', 'loss': '0.802', 'epoch': 0, 'train': 'valid'}\n"
     ]
    }
   ],
   "source": [
    "model = get_model()\n",
    "metrics = MetricsCB(accuracy=MulticlassAccuracy())\n",
    "learn = Learner(model, dls, F.cross_entropy, lr=0.2, cbs=[DeviceCB(), metrics])\n",
    "learn.fit(1)"
   ]
  },
  {
   "cell_type": "markdown",
   "id": "71626a06-685b-4f36-9b4c-707d06152526",
   "metadata": {},
   "source": [
    "## Flexible learner"
   ]
  },
  {
   "cell_type": "markdown",
   "id": "f2a5e6ee-e178-4d04-b98e-441b11cbf1c4",
   "metadata": {},
   "source": [
    "Let's continue improving upon our Learner. Below we discuss the key concepts that we will use."
   ]
  },
  {
   "cell_type": "markdown",
   "id": "3bb8c4d8-091e-4657-822b-f9968de26d79",
   "metadata": {},
   "source": [
    "<h3>1. __Contexmanager__ </h3>\n",
    "\n",
    "Context managers are objects that define the behavior to be performed when entering and exiting a context (e.g., acquiring and releasing resources).\n",
    "\n",
    "```python\n",
    "class FileManager:\n",
    "    def __init__(self, filename):\n",
    "        self.filename = filename\n",
    "\n",
    "    def __enter__(self):\n",
    "        print(\"Opening file...\")\n",
    "        self.file = open(self.filename, \"w\")  # Open the file\n",
    "        return self.file  # Return the file object for use within the with block\n",
    "\n",
    "    def __exit__(self, exc_type, exc_val, exc_tb):\n",
    "        print(\"Closing file...\")\n",
    "        self.file.close()  # Ensure file is closed\n",
    "\n",
    "# Usage\n",
    "with FileManager(\"my_file.txt\") as file:\n",
    "    file.write(\"Hello, world!\")\n",
    "    \n",
    "```\n",
    "The `contextmanager` decorator simplifies the creation of context managers by eliminating the need to define a class with `__enter__` and `__exit__` methods. Here is the same example with a `contextmanager` decorator.\n",
    "\n",
    "```python\n",
    "from contextlib import contextmanager\n",
    "\n",
    "@contextmanager\n",
    "def file_manager(filename):\n",
    "    print(\"Opening file...\")\n",
    "    file = open(filename, \"w\")\n",
    "    try:\n",
    "        yield file  # Pause execution and yield the file object\n",
    "    finally:\n",
    "        print(\"Closing file...\")\n",
    "        file.close()\n",
    "\n",
    "# Usage\n",
    "with file_manager(\"my_file.txt\") as file:\n",
    "    file.write(\"Hello, world!\")\n",
    "\n",
    "```\n",
    "When you enter the `with` block, the context manager protocol calls the generator function (`file_manager`). Execution proceeds until it reaches the `yield file` statement. In other words, everything you want to do in the context manager `__enter__` phase has to take place before the yield. The yield statement pauses the function, returns the file object for use within the `with` block, and suspends the generator function's state.The code within the `with` block executes, using the yielded file object. Upon exiting the `with` block, the generator function resumes execution from where it left off and calls the `__exit__` part of the protocol, which does one of two things:\n",
    "\n",
    "* If there was no exception - resume your generator. The generator unpauses at the yield line, and enter the cleanup phase\n",
    "* If there was an exception, the decorator uses generator.throw() to raise that exception in the generator. It'll be as if the `yield` line caused that exception. Because we have a `finally` clause, it'll be executed before your generator exits because of the exception.\n",
    "\n",
    "See https://stackoverflow.com/questions/35489844/what-does-yield-without-value-do-in-context-manager/35489897#35489897\n",
    "\n",
    "<h3> 2. __self.parameter__ </h3>\n",
    "\n",
    "Every parameter in our class is `self` which allows us to change it from anywhere.\n",
    "\n",
    "\n",
    "<h3> 3. __globals()__ </h3>\n",
    "\n",
    "Dictionary that stores all global variables\n",
    "\n",
    "<h3> 4. __Callbacks__ </h3>\n",
    "\n",
    "Callbacks provides us with additional flexibility and allow us to change the behavior of a Learner by changing the callbacks\n",
    "\n",
    "\n",
    "<h3> 5. __Try block__ </h3>\n",
    "\n",
    "The try statement works as follows.\n",
    "\n",
    "* First, the try clause (the statement(s) between the try and except keywords) is executed.\n",
    "* If no exception occurs, the except clause is skipped and execution of the try statement is finished.\n",
    "* If an exception occurs during execution of the try clause, the rest of the clause is skipped. Then, if its type matches the exception named after the except keyword, the except clause is executed, and then execution continues after the try/except block.\n",
    "* If an exception occurs which does not match the exception named in the except clause, it is passed on to outer try statements; if no handler is found, it is an unhandled exception and execution stops with a message.\n",
    "\n",
    "<h3> 6. torch.no_grad()  </h3>\n",
    "We can call torch.no_grad() directly on a function, treating it as a callable object.\n",
    "This creates a temporary context where gradients are disabled and then immediately executes the function within that context.\n"
   ]
  },
  {
   "cell_type": "code",
   "execution_count": null,
   "id": "25128aa9-1dd5-4d4b-b64d-cc45e72e2e4f",
   "metadata": {},
   "outputs": [
    {
     "data": {
      "text/plain": [
       "1024"
      ]
     },
     "execution_count": null,
     "metadata": {},
     "output_type": "execute_result"
    }
   ],
   "source": [
    "globals()['bs']"
   ]
  },
  {
   "cell_type": "code",
   "execution_count": null,
   "id": "9ec5618d-7a1c-408e-bebf-341e53f8f91f",
   "metadata": {},
   "outputs": [],
   "source": [
    "#| export\n",
    "class TrainCB(Callback):\n",
    "    \"\"\"Basic training callback\"\"\"\n",
    "    # n_inp allows to train models with more than one input\n",
    "    def __init__(self, n_inp=1): self.n_inp = n_inp\n",
    "    def predict(self, learn): learn.preds = learn.model(*learn.batch[:self.n_inp])\n",
    "    def get_loss(self, learn): learn.loss = learn.loss_func(learn.preds, *learn.batch[self.n_inp:])\n",
    "    def backward(self, learn): learn.loss.backward()\n",
    "    def step(self, learn): learn.opt.step()\n",
    "    def zero_grad(self, learn): learn.opt.zero_grad()"
   ]
  },
  {
   "cell_type": "code",
   "execution_count": null,
   "id": "d3be3194-7ce6-4fc0-8a07-fff08fd2bf89",
   "metadata": {},
   "outputs": [],
   "source": [
    "class Learner:\n",
    "    def __init__(self, model, dls=(0,), loss_func=F.mse_loss, lr=0.1, cbs=None, opt_func=optim.SGD): \n",
    "        # import ipdb; ipdb.set_trace()\n",
    "        # cast cbs to fastcore List. It will be used by fc.store_attr()\n",
    "        cbs = fc.L(cbs)\n",
    "        fc.store_attr()\n",
    "    \n",
    "    \n",
    "    @contextmanager\n",
    "    def cb_ctx(self, nm):\n",
    "        # try block with callbacks `before_nm` and `after_nm`\n",
    "        try:\n",
    "            self.callback(f'before_{nm}')\n",
    "            yield\n",
    "            self.callback(f'after_{nm}')\n",
    "        # check for exception in globals() and finally run `cleanup`\n",
    "        except globals()[f'Cancel{nm.title()}Exception']: pass\n",
    "        finally: self.callback(f'cleanup_{nm}')\n",
    "    \n",
    "\n",
    "    def one_epoch(self, train: bool):\n",
    "        \"\"\"Train for one epoch\"\"\"\n",
    "        # set the model to the right mode and select relevant dataloader\n",
    "        self.model.train(train)\n",
    "        self.dl = self.dls.train if train else self.dls.valid\n",
    "        # enter context for an epoch\n",
    "        with self.cb_ctx('epoch'):\n",
    "            \n",
    "            # NB: here learn.dl is substituted by progress_bar via ProgressCB\n",
    "            # loop through batches\n",
    "            for self.iter, self.batch in enumerate(self.dl):\n",
    "                # enter context for a batch and run predict and get loss\n",
    "                with self.cb_ctx('batch'):\n",
    "                    self.predict()\n",
    "                    self.get_loss()\n",
    "                    # if training mode update weights\n",
    "                    if self.training: \n",
    "                        self.backward()\n",
    "                        self.step()\n",
    "                        self.zero_grad()\n",
    "\n",
    "    \n",
    "    def fit(self, n_epochs=1, train=True, valid=True, cbs=None, lr=None):\n",
    "        # cast cbs to L\n",
    "        cbs = fc.L(cbs)\n",
    "        # if additional cbs are provided, pass it to the Learner for fitting and remove later\n",
    "        for cb in cbs: self.cbs.append(cb)\n",
    "        # try block\n",
    "        try:\n",
    "            # create number of epochs, their range and optimizer\n",
    "            self.n_epochs = n_epochs\n",
    "            self.epochs = range(n_epochs)\n",
    "            self.opt = self.opt_func(self.model.parameters(), lr if lr else self.lr)\n",
    "            # enter fit context\n",
    "            with self.cb_ctx('fit'):\n",
    "                # train and validate (using torch.no_grad()(f-n) for a given number of epochs\n",
    "                for self.epoch in self.epochs:\n",
    "                    if train: self.one_epoch(True)\n",
    "                    # acts like a context manager with grad calculation disabled\n",
    "                    if valid: torch.no_grad()(self.one_epoch)(False)    \n",
    "        # remove cbs in finally block\n",
    "        finally: \n",
    "            for cb in cbs: self.cbs.remove(cb)\n",
    "            \n",
    "\n",
    "    def __getattr__(self, name):\n",
    "        \"\"\"\n",
    "        Use __getattr__ method to call predict, get_loss, backward, step and zero_grad directly on Learner instead of its TrainCB\n",
    "        Runs `callback` method to loop through all callbacks and call those that have a specified name. For example `predict` from TrainCB\n",
    "        Return partial (instead of self.callback(name)) because we want to return a function, not a value (which is None). In run_cbs \n",
    "        the last line is method(learn) - see how it works with TrainCB class methods that actually implement methods below\n",
    "        \"\"\"\n",
    "        if name in ('predict', 'get_loss', 'backward', 'step', 'zero_grad'):\n",
    "            #import ipdb; ipdb.set_trace()\n",
    "            return partial(self.callback, name)\n",
    "        raise AttributeError(name)\n",
    "       \n",
    "    # run callback on a Learner\n",
    "    def callback(self, method_nm): run_cbs(self.cbs, method_nm, self)\n",
    "    \n",
    "    # for ease of reference return model mode\n",
    "    @property\n",
    "    def training(self): return self.model.training        "
   ]
  },
  {
   "cell_type": "code",
   "execution_count": null,
   "id": "536bf662-5f26-4d5a-af0e-6572401e6671",
   "metadata": {},
   "outputs": [],
   "source": [
    "#| export\n",
    "class ProgressCB(Callback):\n",
    "    # decrease callback priority\n",
    "    order = MetricsCB.order + 1\n",
    "    def __init__(self, plot=False): self.plot = plot\n",
    "    \n",
    "    def before_fit(self, learn):\n",
    "        # create master_bar and set it to both mbar and learn.epochs\n",
    "        learn.epochs = self.mbar = master_bar(learn.epochs)\n",
    "        self.first = True\n",
    "        # substitute _log method of learn's metrics (simple print) with progress bar\n",
    "        if hasattr(learn, 'metrics'): learn.metrics._log = self._log\n",
    "        # keep track of train and valid losses\n",
    "        self.losses = []\n",
    "        self.val_losses = []\n",
    "    \n",
    "    def _log(self, d):\n",
    "        # import ipdb; ipdb.set_trace()\n",
    "        # if first run setup the column titles (['accuracy', 'loss', 'epoch', 'train'])\n",
    "        if self.first:\n",
    "            self.mbar.write(list(d), table=True)\n",
    "            self.first = False\n",
    "        self.mbar.write(list(d.values()), table=True)\n",
    "        \n",
    "    def before_epoch(self, learn): \n",
    "        # here learn.dl is wrapped by progress_bar\n",
    "        # During the call to enumerate in Learner progress_bar gen (learner dataloader) attribute is used\n",
    "        learn.dl = progress_bar(learn.dl, leave=False, parent=self.mbar)\n",
    "        \n",
    "    def after_batch(self, learn):\n",
    "        # print our batch loss (comment on the right of the progress_bar)\n",
    "        learn.dl.comment = f'{learn.loss:.3f}'\n",
    "        if self.plot and hasattr(learn, 'metrics') and learn.training:\n",
    "            self.losses.append(learn.loss.item())\n",
    "            if self.val_losses: \n",
    "                self.mbar.update_graph(\n",
    "                    [[fc.L.range(self.losses), self.losses],\n",
    "                     [fc.L.range(learn.epoch).map(lambda x: (x+1)*len(learn.dls.train)), \n",
    "                      self.val_losses]])\n",
    "                   \n",
    "    def after_epoch(self, learn):\n",
    "        if not learn.training:\n",
    "            if self.plot and hasattr(learn, 'metrics'):\n",
    "                # import ipdb; ipdb.set_trace()\n",
    "                # append to validation losses\n",
    "                self.val_losses.append(learn.metrics.all_metrics['loss'].compute())\n",
    "                self.mbar.update_graph(\n",
    "                    # plot training losses\n",
    "                    [[fc.L.range(self.losses), self.losses],\n",
    "                     # plot validation losses, converting from epochs to batches\n",
    "                     [fc.L.range(learn.epoch+1).map(lambda x: (x+1)*len(learn.dls.train)), \n",
    "                      self.val_losses]])"
   ]
  },
  {
   "cell_type": "markdown",
   "id": "358d38d4-15cd-4746-af71-4e888779ccef",
   "metadata": {},
   "source": [
    "See below example for `master_bar` and `progress_bar`. Additionally see docs - https://github.com/fastai/fastprogress"
   ]
  },
  {
   "cell_type": "code",
   "execution_count": null,
   "id": "b6759474-91e7-4b6b-91dd-96a95a2b769b",
   "metadata": {},
   "outputs": [
    {
     "data": {
      "text/plain": [
       "(#5) [0,1,2,3,4]"
      ]
     },
     "execution_count": null,
     "metadata": {},
     "output_type": "execute_result"
    }
   ],
   "source": [
    "losses_ = [1,2,10,55,22]\n",
    "fc.L.range(losses_)"
   ]
  },
  {
   "cell_type": "code",
   "execution_count": null,
   "id": "fe8bb268-6e8d-4a38-a8e9-6d0f94206004",
   "metadata": {},
   "outputs": [
    {
     "data": {
      "text/html": [
       "\n",
       "<style>\n",
       "    /* Turns off some styling */\n",
       "    progress {\n",
       "        /* gets rid of default border in Firefox and Opera. */\n",
       "        border: none;\n",
       "        /* Needs to be in here for Safari polyfill so background images work as expected. */\n",
       "        background-size: auto;\n",
       "    }\n",
       "    progress:not([value]), progress:not([value])::-webkit-progress-bar {\n",
       "        background: repeating-linear-gradient(45deg, #7e7e7e, #7e7e7e 10px, #5c5c5c 10px, #5c5c5c 20px);\n",
       "    }\n",
       "    .progress-bar-interrupted, .progress-bar-interrupted::-webkit-progress-bar {\n",
       "        background: #F44336;\n",
       "    }\n",
       "</style>\n"
      ],
      "text/plain": [
       "<IPython.core.display.HTML object>"
      ]
     },
     "metadata": {},
     "output_type": "display_data"
    },
    {
     "data": {
      "text/html": [
       "<table border=\"1\" class=\"dataframe\">\n",
       "  <thead>\n",
       "    <tr style=\"text-align: left;\">\n",
       "      <th>i*2</th>\n",
       "      <th>i^2</th>\n",
       "      <th>epoch</th>\n",
       "    </tr>\n",
       "  </thead>\n",
       "  <tbody>\n",
       "    <tr>\n",
       "      <td>0</td>\n",
       "      <td>0</td>\n",
       "      <td>0</td>\n",
       "    </tr>\n",
       "    <tr>\n",
       "      <td>2</td>\n",
       "      <td>2</td>\n",
       "      <td>1</td>\n",
       "    </tr>\n",
       "    <tr>\n",
       "      <td>4</td>\n",
       "      <td>4</td>\n",
       "      <td>2</td>\n",
       "    </tr>\n",
       "    <tr>\n",
       "      <td>6</td>\n",
       "      <td>6</td>\n",
       "      <td>3</td>\n",
       "    </tr>\n",
       "    <tr>\n",
       "      <td>8</td>\n",
       "      <td>8</td>\n",
       "      <td>4</td>\n",
       "    </tr>\n",
       "  </tbody>\n",
       "</table>"
      ],
      "text/plain": [
       "<IPython.core.display.HTML object>"
      ]
     },
     "metadata": {},
     "output_type": "display_data"
    },
    {
     "data": {
      "image/png": "[encoded data removed]",
      "text/plain": [
       "<Figure size 432x288 with 1 Axes>"
      ]
     },
     "metadata": {},
     "output_type": "display_data"
    }
   ],
   "source": [
    "from time import sleep\n",
    "mb = master_bar(range(5))\n",
    "mb.write(['i*2', 'i^2', 'epoch'], table=True)\n",
    "pb = progress_bar(range(10), parent=mb)\n",
    "losses = []\n",
    "for i in mb:\n",
    "    for j in pb:\n",
    "        sleep(0.1)\n",
    "        pb.comment = f'stat is {j}'\n",
    "    losses.append(i**2)\n",
    "    mb.write([i*2,i*2,i],table=True)\n",
    "    mb.update_graph([[fc.L.range(losses),losses]])\n",
    "   "
   ]
  },
  {
   "cell_type": "code",
   "execution_count": null,
   "id": "cddaa7a4-1bfc-445b-bc6e-6f975fd05c44",
   "metadata": {},
   "outputs": [],
   "source": [
    "model = get_model()\n",
    "metrics = MetricsCB(accuracy=MulticlassAccuracy())\n",
    "cbs = [TrainCB(), DeviceCB(), metrics, ProgressCB(plot=True)]\n",
    "learn = Learner(model, dls, F.cross_entropy, lr=0.2, cbs=cbs)"
   ]
  },
  {
   "cell_type": "code",
   "execution_count": null,
   "id": "ac29da18-19d8-4156-9ee0-373a041e511c",
   "metadata": {},
   "outputs": [
    {
     "data": {
      "text/html": [
       "\n",
       "<style>\n",
       "    /* Turns off some styling */\n",
       "    progress {\n",
       "        /* gets rid of default border in Firefox and Opera. */\n",
       "        border: none;\n",
       "        /* Needs to be in here for Safari polyfill so background images work as expected. */\n",
       "        background-size: auto;\n",
       "    }\n",
       "    progress:not([value]), progress:not([value])::-webkit-progress-bar {\n",
       "        background: repeating-linear-gradient(45deg, #7e7e7e, #7e7e7e 10px, #5c5c5c 10px, #5c5c5c 20px);\n",
       "    }\n",
       "    .progress-bar-interrupted, .progress-bar-interrupted::-webkit-progress-bar {\n",
       "        background: #F44336;\n",
       "    }\n",
       "</style>\n"
      ],
      "text/plain": [
       "<IPython.core.display.HTML object>"
      ]
     },
     "metadata": {},
     "output_type": "display_data"
    },
    {
     "data": {
      "text/html": [
       "<table border=\"1\" class=\"dataframe\">\n",
       "  <thead>\n",
       "    <tr style=\"text-align: left;\">\n",
       "      <th>accuracy</th>\n",
       "      <th>loss</th>\n",
       "      <th>epoch</th>\n",
       "      <th>train</th>\n",
       "    </tr>\n",
       "  </thead>\n",
       "  <tbody>\n",
       "    <tr>\n",
       "      <td>0.604</td>\n",
       "      <td>1.155</td>\n",
       "      <td>0</td>\n",
       "      <td>train</td>\n",
       "    </tr>\n",
       "    <tr>\n",
       "      <td>0.715</td>\n",
       "      <td>0.773</td>\n",
       "      <td>0</td>\n",
       "      <td>valid</td>\n",
       "    </tr>\n",
       "    <tr>\n",
       "      <td>0.745</td>\n",
       "      <td>0.708</td>\n",
       "      <td>1</td>\n",
       "      <td>train</td>\n",
       "    </tr>\n",
       "    <tr>\n",
       "      <td>0.740</td>\n",
       "      <td>0.728</td>\n",
       "      <td>1</td>\n",
       "      <td>valid</td>\n",
       "    </tr>\n",
       "  </tbody>\n",
       "</table>"
      ],
      "text/plain": [
       "<IPython.core.display.HTML object>"
      ]
     },
     "metadata": {},
     "output_type": "display_data"
    },
    {
     "data": {
      "image/png": "[encoded data removed]",
      "text/plain": [
       "<Figure size 432x288 with 1 Axes>"
      ]
     },
     "metadata": {},
     "output_type": "display_data"
    }
   ],
   "source": [
    "learn.fit(2)"
   ]
  },
  {
   "cell_type": "markdown",
   "id": "c4c2cbad-af6a-40fd-9265-9cb56513be4f",
   "metadata": {},
   "source": [
    "## Updated versions since the lesson"
   ]
  },
  {
   "cell_type": "markdown",
   "id": "a29f8762-6c64-4654-9be6-967af137a622",
   "metadata": {},
   "source": [
    "After the lesson we noticed that `contextlib.context_manager` has a surprising \"feature\" which doesn't let us raise an exception before the `yield`. Therefore we've replaced the context manager with a decorator in this updated version of `Learner`. We have also added a few more callbacks in `one_epoch()`. To use a decorator we first create a class with `__call__` method.\n",
    "\n",
    "```python\n",
    "def my_decorator(func):\n",
    "    # Code to execute before and/or after the original function\n",
    "    def wrapper(*args, **kwargs):\n",
    "        # Code to execute before the original function\n",
    "        result = func(*args, **kwargs)\n",
    "        # Code to execute after the original function\n",
    "        return result\n",
    "    return wrapper\n",
    "\n",
    "@my_decorator\n",
    "def my_function():\n",
    "    # Function code\n",
    "\n",
    "```\n"
   ]
  },
  {
   "cell_type": "code",
   "execution_count": null,
   "id": "1cb7a7a1-9fdc-40b1-9819-b0128821c189",
   "metadata": {},
   "outputs": [],
   "source": [
    "#| export \n",
    "class with_cbs:\n",
    "    def __init__(self, nm: str): self.nm = nm\n",
    "    def __call__(self, f):\n",
    "        # create internal _f that uses try block and calls `before_nm` and `after_nm` callbacks on `o`\n",
    "        # checkng for exception in globals() and finally calling cleanup\n",
    "        def _f(o, *args, **kwargs):\n",
    "            try:\n",
    "                o.callback(f'before_{self.nm}') \n",
    "                # we need to pass `o` as well as *args will not include it\n",
    "                # because it is separately stored to o\n",
    "                f(o, *args, **kwargs)\n",
    "                o.callback(f'after_{self.nm}')\n",
    "            # if there is another exception - it runs finally directly\n",
    "            except globals()[f'Cancel{self.nm.title()}Exception']: print(f\"Got Cancel{self.nm.title()}Exception\") # pass\n",
    "            finally: o.callback(f'cleanup_{self.nm}')\n",
    "        return _f"
   ]
  },
  {
   "cell_type": "code",
   "execution_count": null,
   "id": "bc0cfdd3-9b18-4bdc-8021-12f16c725f02",
   "metadata": {},
   "outputs": [
    {
     "data": {
      "text/plain": [
       "__main__.CancelEpochException"
      ]
     },
     "execution_count": null,
     "metadata": {},
     "output_type": "execute_result"
    }
   ],
   "source": [
    "globals()['CancelEpochException']"
   ]
  },
  {
   "cell_type": "code",
   "execution_count": null,
   "id": "f5270746-36da-4e3c-8abf-8205b79df2c3",
   "metadata": {},
   "outputs": [],
   "source": [
    "#| export\n",
    "class Learner:\n",
    "    def __init__(self, \n",
    "                 model, # model to be used for training\n",
    "                 dls=(0,), # dataloaders\n",
    "                 loss_func=F.mse_loss, # loss-function\n",
    "                 lr=0.1, # learning rate to be used\n",
    "                 cbs=None, # callbacks\n",
    "                 opt_func=optim.SGD # optimizer\n",
    "                ):\n",
    "        fc.store_attr()\n",
    "        \n",
    "    \n",
    "    @with_cbs('batch')\n",
    "    def _one_batch(self):\n",
    "        # predict followed by an after callback\n",
    "        self.predict()\n",
    "        self.callback('after_predict')\n",
    "        # get loss followed by an after callback\n",
    "        self.get_loss()\n",
    "        self.callback('after_loss')\n",
    "        # if training\n",
    "        if self.training:\n",
    "            # backward followed by an after callback\n",
    "            self.backward()\n",
    "            self.callback('after_backward')\n",
    "            # step followed by an after callback\n",
    "            self.step()\n",
    "            self.callback('after_step')\n",
    "            # zero grad\n",
    "            self.zero_grad()\n",
    "\n",
    "\n",
    "    @with_cbs('epoch')\n",
    "    def _one_epoch(self):\n",
    "        # iterate through dls calling one batch\n",
    "        for self.iter, self.batch in enumerate(self.dl): self._one_batch()\n",
    "        \n",
    "    \n",
    "    def one_epoch(self, training):\n",
    "        # set the model mode and get dl\n",
    "        self.model.train(training)\n",
    "        self.dl = self.dls.train if training else self.dls.valid\n",
    "        # run one epoch\n",
    "        self._one_epoch()\n",
    "        \n",
    "    \n",
    "    @with_cbs('fit')\n",
    "    def _fit(self, train: bool, valid: bool):\n",
    "        # loop through epochs for train and valid\n",
    "        for self.epoch in self.epochs:\n",
    "            if train: self.one_epoch(True)\n",
    "            if valid: torch.no_grad()(self.one_epoch)(False)\n",
    "    \n",
    "        \n",
    "    def fit(self, n_epochs=1, train=True, valid=True, cbs=None, lr=None):\n",
    "        # cast callbacks to L\n",
    "        cbs = fc.L(cbs)\n",
    "        # add extra temporary callbacks to the Learner callbacks\n",
    "        for cb in cbs: self.cbs.append(cb)\n",
    "        # try block\n",
    "        try:\n",
    "            # create number of epochs, their range, lr (if not passed) and optimizer\n",
    "            self.n_epochs = n_epochs\n",
    "            self.epochs = range(n_epochs)\n",
    "            if lr is None: lr = self.lr\n",
    "            self.opt = self.opt_func(self.model.parameters(), lr)\n",
    "            # fit train and valid\n",
    "            self._fit(train, valid)\n",
    "        # remove cbs in finally\n",
    "        finally: \n",
    "            for cb in cbs: self.cbs.remove(cb)\n",
    "    \n",
    "\n",
    "    def __getattr__(self, name):\n",
    "        \"\"\"\n",
    "        Use __getattr__ method to call predict, get_loss, backward, step and zero_grad directly on Learner instead of its TrainCB\n",
    "        Runs `callback` method to loop through all callbacks and call those that have a specified name. For example `predict` from TrainCB\n",
    "        Return partial (instead of self.callback(name)) because we want to return a function, not a value (which is None). In run_cbs \n",
    "        the last line is method(learn) - see how it works with TrainCB class methods that actually implement methods below\n",
    "        \"\"\"\n",
    "        if name in ('predict', 'get_loss', 'backward', 'step', 'zero_grad'):\n",
    "            return partial(self.callback, name)\n",
    "        raise AttributeError(name)\n",
    "        \n",
    "        \n",
    "    def callback(self, method_nm): run_cbs(self.cbs, method_nm, self)\n",
    "        \n",
    "        \n",
    "    @property\n",
    "    def training(self): return self.model.training"
   ]
  },
  {
   "cell_type": "code",
   "execution_count": null,
   "id": "9aab9d15-37df-4a5d-80f1-68342c03b786",
   "metadata": {},
   "outputs": [
    {
     "data": {
      "text/html": [
       "\n",
       "<style>\n",
       "    /* Turns off some styling */\n",
       "    progress {\n",
       "        /* gets rid of default border in Firefox and Opera. */\n",
       "        border: none;\n",
       "        /* Needs to be in here for Safari polyfill so background images work as expected. */\n",
       "        background-size: auto;\n",
       "    }\n",
       "    progress:not([value]), progress:not([value])::-webkit-progress-bar {\n",
       "        background: repeating-linear-gradient(45deg, #7e7e7e, #7e7e7e 10px, #5c5c5c 10px, #5c5c5c 20px);\n",
       "    }\n",
       "    .progress-bar-interrupted, .progress-bar-interrupted::-webkit-progress-bar {\n",
       "        background: #F44336;\n",
       "    }\n",
       "</style>\n"
      ],
      "text/plain": [
       "<IPython.core.display.HTML object>"
      ]
     },
     "metadata": {},
     "output_type": "display_data"
    },
    {
     "data": {
      "text/html": [
       "<table border=\"1\" class=\"dataframe\">\n",
       "  <thead>\n",
       "    <tr style=\"text-align: left;\">\n",
       "      <th>accuracy</th>\n",
       "      <th>loss</th>\n",
       "      <th>epoch</th>\n",
       "      <th>train</th>\n",
       "    </tr>\n",
       "  </thead>\n",
       "  <tbody>\n",
       "    <tr>\n",
       "      <td>0.612</td>\n",
       "      <td>1.172</td>\n",
       "      <td>0</td>\n",
       "      <td>train</td>\n",
       "    </tr>\n",
       "    <tr>\n",
       "      <td>0.706</td>\n",
       "      <td>0.877</td>\n",
       "      <td>0</td>\n",
       "      <td>valid</td>\n",
       "    </tr>\n",
       "  </tbody>\n",
       "</table>"
      ],
      "text/plain": [
       "<IPython.core.display.HTML object>"
      ]
     },
     "metadata": {},
     "output_type": "display_data"
    },
    {
     "data": {
      "image/png": "[encoded data removed]",
      "text/plain": [
       "<Figure size 432x288 with 1 Axes>"
      ]
     },
     "metadata": {},
     "output_type": "display_data"
    }
   ],
   "source": [
    "model = get_model()\n",
    "metrics = MetricsCB(accuracy=MulticlassAccuracy())\n",
    "cbs = [TrainCB(), DeviceCB(), metrics, ProgressCB(plot=True)]\n",
    "learn = Learner(model, dls, F.cross_entropy, lr=0.2, cbs=cbs)\n",
    "learn.fit(1)"
   ]
  },
  {
   "cell_type": "markdown",
   "id": "21f6f341-f7cc-4d7b-8317-d0eeb74995c6",
   "metadata": {},
   "source": [
    "## TrainLearner and MomentumLearner"
   ]
  },
  {
   "cell_type": "code",
   "execution_count": null,
   "id": "22dd0127-399b-4cf2-89c6-db00d8431a78",
   "metadata": {},
   "outputs": [],
   "source": [
    "#| export\n",
    "class TrainLearner(Learner):\n",
    "    # note that we sublcass Learner and implement below methods directly in it\n",
    "    # not through cbs. So __getattr__ will not be called\n",
    "    def predict(self): self.preds = self.model(self.batch[0])\n",
    "    def get_loss(self): self.loss = self.loss_func(self.preds, self.batch[1])\n",
    "    def backward(self): self.loss.backward()\n",
    "    def step(self): self.opt.step()\n",
    "    def zero_grad(self): self.opt.zero_grad()"
   ]
  },
  {
   "cell_type": "code",
   "execution_count": null,
   "id": "e7998aaf-b55a-49d0-99ce-58486720de1d",
   "metadata": {},
   "outputs": [],
   "source": [
    "#| export\n",
    "class MomentumLearner(TrainLearner):\n",
    "    def __init__(self, model, dls, loss_func, lr=None, cbs=None, opt=optim.SGD, mom=0.85):\n",
    "        # save mom and call super init\n",
    "        self.mom = mom\n",
    "        super().__init__(model, dls, loss_func, lr, cbs, opt)\n",
    "       \n",
    "    def zero_grad(self):\n",
    "        # update zero_grad method to account for momentum - not zero grads completely but multiply by a constant\n",
    "        with torch.no_grad():\n",
    "            for p in self.model.parameters(): p.grad *= self.mom"
   ]
  },
  {
   "cell_type": "code",
   "execution_count": null,
   "id": "ca966f1c-6258-4a0e-bffb-38edee542c5a",
   "metadata": {},
   "outputs": [
    {
     "data": {
      "text/plain": [
       "__main__.DeviceCB"
      ]
     },
     "execution_count": null,
     "metadata": {},
     "output_type": "execute_result"
    }
   ],
   "source": [
    "DeviceCB"
   ]
  },
  {
   "cell_type": "code",
   "execution_count": null,
   "id": "4b941051-e210-4157-958f-48617ba21308",
   "metadata": {},
   "outputs": [
    {
     "data": {
      "text/html": [
       "\n",
       "<style>\n",
       "    /* Turns off some styling */\n",
       "    progress {\n",
       "        /* gets rid of default border in Firefox and Opera. */\n",
       "        border: none;\n",
       "        /* Needs to be in here for Safari polyfill so background images work as expected. */\n",
       "        background-size: auto;\n",
       "    }\n",
       "    progress:not([value]), progress:not([value])::-webkit-progress-bar {\n",
       "        background: repeating-linear-gradient(45deg, #7e7e7e, #7e7e7e 10px, #5c5c5c 10px, #5c5c5c 20px);\n",
       "    }\n",
       "    .progress-bar-interrupted, .progress-bar-interrupted::-webkit-progress-bar {\n",
       "        background: #F44336;\n",
       "    }\n",
       "</style>\n"
      ],
      "text/plain": [
       "<IPython.core.display.HTML object>"
      ]
     },
     "metadata": {},
     "output_type": "display_data"
    },
    {
     "data": {
      "text/html": [
       "<table border=\"1\" class=\"dataframe\">\n",
       "  <thead>\n",
       "    <tr style=\"text-align: left;\">\n",
       "      <th>accuracy</th>\n",
       "      <th>loss</th>\n",
       "      <th>epoch</th>\n",
       "      <th>train</th>\n",
       "    </tr>\n",
       "  </thead>\n",
       "  <tbody>\n",
       "    <tr>\n",
       "      <td>0.680</td>\n",
       "      <td>0.919</td>\n",
       "      <td>0</td>\n",
       "      <td>train</td>\n",
       "    </tr>\n",
       "    <tr>\n",
       "      <td>0.798</td>\n",
       "      <td>0.576</td>\n",
       "      <td>0</td>\n",
       "      <td>valid</td>\n",
       "    </tr>\n",
       "  </tbody>\n",
       "</table>"
      ],
      "text/plain": [
       "<IPython.core.display.HTML object>"
      ]
     },
     "metadata": {},
     "output_type": "display_data"
    },
    {
     "data": {
      "image/png": "[encoded data removed]",
      "text/plain": [
       "<Figure size 432x288 with 1 Axes>"
      ]
     },
     "metadata": {},
     "output_type": "display_data"
    }
   ],
   "source": [
    "metrics = MetricsCB(accuracy=MulticlassAccuracy())\n",
    "cbs = [DeviceCB(), metrics, ProgressCB(plot=True)]\n",
    "learn = MomentumLearner(get_model(), dls, F.cross_entropy, lr=0.1, cbs=cbs)\n",
    "learn.fit()"
   ]
  },
  {
   "cell_type": "markdown",
   "id": "bdb7aa5a-4c73-4a47-b50b-9ed0afaf6f63",
   "metadata": {},
   "source": [
    "## LRFinderCB"
   ]
  },
  {
   "cell_type": "markdown",
   "id": "9b0e82eb-41d3-475c-809f-c47518209f8c",
   "metadata": {},
   "source": [
    "Let's implement a learning-rate finder callback that allows us to find the maximum learning rate that can result in training of the model.\n",
    "\n",
    "learn.opt.param_groups[0].keys()"
   ]
  },
  {
   "cell_type": "code",
   "execution_count": null,
   "id": "7d45a4b3-86e1-489c-9d13-b7eccbfa9f3c",
   "metadata": {},
   "outputs": [],
   "source": [
    "class LRFinderCB(Callback):\n",
    "    def __init__(self, lr_mult=1.3): fc.store_attr()\n",
    "    \n",
    "    def before_fit(self, learn):\n",
    "        # create lists for storing lrs and losses\n",
    "        self.lrs, self.losses = [], []\n",
    "        # starting value for a loss (self.min)\n",
    "        self.min = torch.inf\n",
    "        \n",
    "    def after_batch(self, learn):\n",
    "        # if not in training - CancelEpoch\n",
    "        if not learn.training:\n",
    "            print('Wrong mode')\n",
    "            raise CancelEpochException()\n",
    "        # append learning rate and loss (remember to move to cpu) to the lists\n",
    "        self.lrs.append(learn.opt.param_groups[0]['lr'])\n",
    "        loss = learn.loss.item()\n",
    "        self.losses.append(loss)\n",
    "        # update min loss or cancel fit if it exceeds min by a factor of 3\n",
    "        if loss < self.min: self.min = loss\n",
    "        if loss > self.min * 3:\n",
    "            # import ipdb;ipdb.set_trace()\n",
    "            raise CancelFitException()\n",
    "        # update learning rate for each parameter group by a factor lr_mult\n",
    "        for g in learn.opt.param_groups: g['lr'] *= self.lr_mult"
   ]
  },
  {
   "cell_type": "code",
   "execution_count": null,
   "id": "6f8181e6-1013-49f0-8fe2-1e30f4207944",
   "metadata": {},
   "outputs": [
    {
     "name": "stdout",
     "output_type": "stream",
     "text": [
      "Got CancelFitException\n"
     ]
    },
    {
     "data": {
      "image/png": "[encoded data removed]",
      "text/plain": [
       "<Figure size 432x288 with 1 Axes>"
      ]
     },
     "metadata": {
      "needs_background": "light"
     },
     "output_type": "display_data"
    }
   ],
   "source": [
    "lrfind = LRFinderCB()\n",
    "cbs = [DeviceCB(), lrfind]\n",
    "learn = MomentumLearner(get_model(), dls, F.cross_entropy, lr=1e-4, cbs=cbs)\n",
    "learn.fit(1)\n",
    "plt.plot(lrfind.lrs, lrfind.losses)\n",
    "plt.xscale('log')"
   ]
  },
  {
   "cell_type": "markdown",
   "id": "b43d376e-3a54-40c5-82d1-d96b2e276309",
   "metadata": {},
   "source": [
    "## ExponentialLR"
   ]
  },
  {
   "cell_type": "markdown",
   "id": "aa74107f-929b-4f76-9f3f-2dbb67cbe9e7",
   "metadata": {},
   "source": [
    "Now we can use a Pytorch built-in scheduler"
   ]
  },
  {
   "cell_type": "code",
   "execution_count": null,
   "id": "c254a334-472b-449c-9676-8c135b9a6743",
   "metadata": {},
   "outputs": [],
   "source": [
    "#| export \n",
    "from torch.optim.lr_scheduler import ExponentialLR"
   ]
  },
  {
   "cell_type": "code",
   "execution_count": null,
   "id": "d6caabb9-194a-40b9-a59c-6bf8811ac266",
   "metadata": {},
   "outputs": [],
   "source": [
    "#| export \n",
    "class LRFinderCB(Callback):\n",
    "    def __init__(self, gamma=1.3, max_mult=3): fc.store_attr()\n",
    "    \n",
    "    def before_fit(self, learn):\n",
    "        self.sched = ExponentialLR(learn.opt, self.gamma)\n",
    "        self.lrs, self.losses = [],[]\n",
    "        # starting value for a loss\n",
    "        self.min = math.inf\n",
    "        \n",
    "    def after_batch(self, learn):\n",
    "        if not learn.training: raise CancelEpochException()\n",
    "        self.lrs.append(learn.opt.param_groups[0]['lr'])\n",
    "        loss = to_cpu(learn.loss)\n",
    "        self.losses.append(loss)\n",
    "        if loss < self.min: self.min = loss\n",
    "        if math.isnan(loss) or (loss > self.min*self.max_mult): \n",
    "            raise CancelFitException()\n",
    "        self.sched.step()\n",
    "    \n",
    "    def cleanup_fit(self, learn):\n",
    "       \n",
    "        plt.plot(self.lrs, self.losses)\n",
    "        plt.xscale('log')"
   ]
  },
  {
   "cell_type": "code",
   "execution_count": null,
   "id": "57197659-99d1-47af-bdb3-26da0bb2e98f",
   "metadata": {},
   "outputs": [
    {
     "name": "stdout",
     "output_type": "stream",
     "text": [
      "Got CancelFitException\n"
     ]
    },
    {
     "data": {
      "image/png": "[encoded data removed]",
      "text/plain": [
       "<Figure size 432x288 with 1 Axes>"
      ]
     },
     "metadata": {
      "needs_background": "light"
     },
     "output_type": "display_data"
    }
   ],
   "source": [
    "cbs = [DeviceCB()]\n",
    "learn = MomentumLearner(get_model(), dls, F.cross_entropy, lr=1e-5, cbs=cbs)\n",
    "learn.fit(3, cbs=LRFinderCB())"
   ]
  },
  {
   "cell_type": "markdown",
   "id": "96f03ae6-007a-4a59-b98f-e44a114446b6",
   "metadata": {},
   "source": [
    "`lr_find` was added in lesson 18. It's just a shorter way of using `LRFinderCB`."
   ]
  },
  {
   "cell_type": "code",
   "execution_count": null,
   "id": "b1e6ea3f-00ef-460b-9111-c2d472daa0fb",
   "metadata": {},
   "outputs": [],
   "source": [
    "#| export \n",
    "@fc.patch\n",
    "def lr_find(self: Learner, gamma=1.3, max_mult=3, start_lr=1e-5, max_epochs=10):\n",
    "    self.fit(max_epochs, lr=start_lr, cbs=LRFinderCB(gamma=gamma, max_mult=max_mult))"
   ]
  },
  {
   "cell_type": "code",
   "execution_count": null,
   "id": "a4032bb9-6d0d-4d02-864e-6440350b3426",
   "metadata": {},
   "outputs": [
    {
     "name": "stdout",
     "output_type": "stream",
     "text": [
      "Got CancelFitException\n"
     ]
    },
    {
     "data": {
      "image/png": "[encoded data removed]",
      "text/plain": [
       "<Figure size 432x288 with 1 Axes>"
      ]
     },
     "metadata": {
      "needs_background": "light"
     },
     "output_type": "display_data"
    }
   ],
   "source": [
    "cbs = [DeviceCB()]\n",
    "MomentumLearner(get_model(), dls, F.cross_entropy, cbs=cbs).lr_find()"
   ]
  },
  {
   "cell_type": "markdown",
   "id": "19b324db-ade2-4aa5-bb6b-67794e004142",
   "metadata": {},
   "source": [
    "## Export - "
   ]
  },
  {
   "cell_type": "code",
   "execution_count": null,
   "id": "1003758b-f52c-48cd-81aa-5f9227b253b0",
   "metadata": {},
   "outputs": [],
   "source": [
    "import nbdev; nbdev.nbdev_export()"
   ]
  },
  {
   "cell_type": "code",
   "execution_count": null,
   "id": "cdb1ab09-77e3-4d55-b0f0-efb86770dd3f",
   "metadata": {},
   "outputs": [],
   "source": []
  }
 ],
 "metadata": {
  "kernelspec": {
   "display_name": "python3",
   "language": "python",
   "name": "python3"
  }
 },
 "nbformat": 4,
 "nbformat_minor": 5
}
