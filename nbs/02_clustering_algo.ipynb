{
 "cells": [
  {
   "cell_type": "markdown",
   "id": "ec95a6fc-8876-41b6-a345-cf17da00d763",
   "metadata": {},
   "source": [
    "# Clustering"
   ]
  },
  {
   "cell_type": "code",
   "execution_count": null,
   "id": "341aafb6-4dda-419b-b0d2-f2d208fa938a",
   "metadata": {},
   "outputs": [],
   "source": [
    "import math, matplotlib.pyplot as plt, operator, torch\n",
    "from functools import partial\n",
    "torch.set_printoptions(precision=3, linewidth=140, sci_mode=False)"
   ]
  },
  {
   "cell_type": "code",
   "execution_count": null,
   "id": "d25b64df-8602-459e-b666-b42a9a360342",
   "metadata": {},
   "outputs": [],
   "source": [
    "import numpy as np"
   ]
  },
  {
   "cell_type": "code",
   "execution_count": null,
   "id": "2b0e0afb-ad7e-43db-8fa7-68ee55bd1b5b",
   "metadata": {},
   "outputs": [],
   "source": [
    "from torch.distributions.multivariate_normal import MultivariateNormal\n",
    "from torch import tensor"
   ]
  },
  {
   "cell_type": "markdown",
   "id": "fe65d9ee-b02e-4e6e-9851-db19f6bcf838",
   "metadata": {},
   "source": [
    "# Create data"
   ]
  },
  {
   "cell_type": "markdown",
   "id": "d414eab0-a54d-44cf-b195-d22f57f358a7",
   "metadata": {},
   "source": [
    "We will use the same data as in [02_meanshift] notebook. Later we will try other data samples."
   ]
  },
  {
   "cell_type": "code",
   "execution_count": null,
   "id": "07036e9c-8ff1-4dfc-b309-bf4b4cf15a55",
   "metadata": {},
   "outputs": [],
   "source": [
    "torch.manual_seed(42);"
   ]
  },
  {
   "cell_type": "code",
   "execution_count": null,
   "id": "77e75599-a294-44cd-b15b-0b76e14773a8",
   "metadata": {},
   "outputs": [],
   "source": [
    "n_clusters = 6\n",
    "n_samples = 250"
   ]
  },
  {
   "cell_type": "code",
   "execution_count": null,
   "id": "37b53a20-1e3d-41c4-abeb-46c04ccea8ad",
   "metadata": {},
   "outputs": [
    {
     "data": {
      "text/plain": [
       "tensor([[ 26.759,  29.050],\n",
       "        [ -8.200,  32.151],\n",
       "        [ -7.669,   7.063],\n",
       "        [-17.040,  20.555],\n",
       "        [ 30.854, -25.677],\n",
       "        [ 30.422,   6.551]])"
      ]
     },
     "execution_count": null,
     "metadata": {},
     "output_type": "execute_result"
    }
   ],
   "source": [
    "centroids = torch.rand(n_clusters, 2)*70-35\n",
    "centroids"
   ]
  },
  {
   "cell_type": "code",
   "execution_count": null,
   "id": "aafa26c9-2620-4639-a473-216a3cbf6174",
   "metadata": {},
   "outputs": [],
   "source": [
    "def sample(m):\n",
    "    dist = MultivariateNormal(m, torch.diag(tensor([5., 5.])))\n",
    "    return dist.sample((n_samples,))"
   ]
  },
  {
   "cell_type": "code",
   "execution_count": null,
   "id": "50f28e9e-9095-4e59-a203-9601f231c4b3",
   "metadata": {},
   "outputs": [
    {
     "data": {
      "text/plain": [
       "tensor([[26.204, 26.349],\n",
       "        [25.691, 30.213],\n",
       "        [30.431, 28.693],\n",
       "        ...,\n",
       "        [30.772,  9.323],\n",
       "        [29.354,  3.960],\n",
       "        [31.168,  5.309]])"
      ]
     },
     "execution_count": null,
     "metadata": {},
     "output_type": "execute_result"
    }
   ],
   "source": [
    "slices = [sample(c) for c in centroids]\n",
    "data = torch.cat(slices)\n",
    "data"
   ]
  },
  {
   "cell_type": "markdown",
   "id": "e00d3030-fa59-4ec7-93bf-a729b5eb43ac",
   "metadata": {},
   "source": [
    "Below we can see each centroid marked w/ X, and the coloring associated to each respective cluster."
   ]
  },
  {
   "cell_type": "code",
   "execution_count": null,
   "id": "b834f852-5b5c-467c-8e01-c4142c788723",
   "metadata": {},
   "outputs": [],
   "source": [
    "def plot_data(centroids, data, n_samples, ax=None):\n",
    "    if ax is None: _, ax = plt.subplots()\n",
    "    for i, centroid in enumerate(centroids):\n",
    "        sample = data[i*n_samples:(i+1)*n_samples]\n",
    "        ax.scatter(sample[:,0], sample[:,1], s=1, alpha=0.7)\n",
    "        ax.plot(*centroid, marker='x', color='k', markersize=10, mew=5)\n",
    "        ax.plot(*centroid, marker='x', color='m', markersize=5, mew=2)"
   ]
  },
  {
   "cell_type": "code",
   "execution_count": null,
   "id": "b8076677-2424-4810-b72b-d8d86dd0b05a",
   "metadata": {},
   "outputs": [
    {
     "data": {
      "image/png": "[encoded data removed]",
      "text/plain": [
       "<Figure size 432x288 with 1 Axes>"
      ]
     },
     "metadata": {
      "needs_background": "light"
     },
     "output_type": "display_data"
    }
   ],
   "source": [
    "plot_data(centroids, data, n_samples)"
   ]
  },
  {
   "cell_type": "markdown",
   "id": "71e29dc7-41f8-441c-ba82-20135561a99f",
   "metadata": {},
   "source": [
    "# K-means clustering "
   ]
  },
  {
   "cell_type": "markdown",
   "id": "db760f50-1fef-4398-ac21-8d514529d551",
   "metadata": {},
   "source": [
    "K-means algorithm is considered one of the most popular clustering algorithms, mainly due to its simplicity. The main idea it to separate the data into K separate clusters, each cluster should as homogeneous as possible. This is achieved by minimizing the sum of squares between each point and the centroid of its cluster. \n",
    "\n",
    "1. Specify number of clusters K.\n",
    "2. Initialize centroids by first shuffling the dataset and then randomly selecting K data points for the centroids without replacement.\n",
    "3. Keep iterating until there is no change to the centroids. i.e assignment of data points to clusters isn’t changing:\n",
    "    * Compute the sum of the squared distance between data points and all centroids.\n",
    "    * Assign each data point to the closest cluster (centroid).\n",
    "    * Compute the centroids for the clusters by taking the average of the all data points that belong to each cluster."
   ]
  },
  {
   "cell_type": "code",
   "execution_count": null,
   "id": "469cde17-1b6d-4d2f-8688-b11340ebd913",
   "metadata": {},
   "outputs": [],
   "source": [
    "torch.manual_seed(42);\n",
    "X = data.clone()"
   ]
  },
  {
   "cell_type": "code",
   "execution_count": null,
   "id": "7d046891-8e09-4ab6-bbf0-2e11b380ea15",
   "metadata": {},
   "outputs": [],
   "source": [
    "# number of clusters\n",
    "K = 6\n",
    "\n",
    "# shuffle the dataset\n",
    "random_indices = torch.randperm(len(X))\n",
    "shuffled = X[random_indices] "
   ]
  },
  {
   "cell_type": "code",
   "execution_count": null,
   "id": "ebcf493d-002b-49e0-ab8d-1333f71fe447",
   "metadata": {},
   "outputs": [
    {
     "data": {
      "text/plain": [
       "tensor([[ 21.147,  30.141],\n",
       "        [ -8.459,  35.216],\n",
       "        [ 33.263, -27.666],\n",
       "        [-14.092,  20.555],\n",
       "        [ 31.336, -28.549],\n",
       "        [ 28.315, -27.046]])"
      ]
     },
     "execution_count": null,
     "metadata": {},
     "output_type": "execute_result"
    }
   ],
   "source": [
    "centroids = shuffled[:K]\n",
    "centroids"
   ]
  },
  {
   "cell_type": "code",
   "execution_count": null,
   "id": "49c59295-dec7-4019-aa51-58f8d17fe889",
   "metadata": {},
   "outputs": [
    {
     "data": {
      "image/png": "[encoded data removed]",
      "text/plain": [
       "<Figure size 432x288 with 1 Axes>"
      ]
     },
     "metadata": {
      "needs_background": "light"
     },
     "output_type": "display_data"
    }
   ],
   "source": [
    "plot_data(centroids, data, n_samples)"
   ]
  },
  {
   "cell_type": "code",
   "execution_count": null,
   "id": "d6e8c7a9-3f16-4f13-98a6-3e317b93f108",
   "metadata": {},
   "outputs": [
    {
     "data": {
      "text/plain": [
       "(torch.Size([6, 2]), torch.Size([1500, 2]))"
      ]
     },
     "execution_count": null,
     "metadata": {},
     "output_type": "execute_result"
    }
   ],
   "source": [
    "centroids.shape, shuffled.shape"
   ]
  },
  {
   "cell_type": "code",
   "execution_count": null,
   "id": "5a40f505-89d1-48a1-a6dc-580fcf126c75",
   "metadata": {},
   "outputs": [],
   "source": [
    "dist = ((centroids[:, None] - shuffled[None])**2).sum(2)"
   ]
  },
  {
   "cell_type": "code",
   "execution_count": null,
   "id": "094a48d5-2241-4983-b755-e5fac8b2178c",
   "metadata": {},
   "outputs": [
    {
     "data": {
      "text/plain": [
       "torch.Size([6, 1500])"
      ]
     },
     "execution_count": null,
     "metadata": {},
     "output_type": "execute_result"
    }
   ],
   "source": [
    "dist.shape"
   ]
  },
  {
   "cell_type": "markdown",
   "id": "ffd5c75a-a59f-49cd-aacf-69f1453127d1",
   "metadata": {},
   "source": [
    "`dist` stores the distance for each centroid to each of the points. We can now check to what centroid the data point is closer to. This will allow us to reshufle the data."
   ]
  },
  {
   "cell_type": "code",
   "execution_count": null,
   "id": "3dbff87e-76b5-47f2-8ca7-08fa2f95fbe0",
   "metadata": {},
   "outputs": [
    {
     "data": {
      "text/plain": [
       "tensor([[    0.000,   902.303,  3488.547,  ...,  1407.141,  1535.139,  1544.097],\n",
       "        [  902.303,     0.000,  5694.972,  ...,   283.403,   206.787,   301.390],\n",
       "        [ 3488.547,  5694.972,     0.000,  ...,  4555.254,  5261.373,  4779.967],\n",
       "        [ 1333.688,   246.670,  4567.792,  ...,     1.423,    24.501,     7.732],\n",
       "        [ 3548.317,  5649.557,     4.494,  ...,  4457.672,  5161.225,  4675.489],\n",
       "        [ 3321.757,  5228.859,    24.874,  ...,  4045.043,  4718.980,  4250.030]])"
      ]
     },
     "execution_count": null,
     "metadata": {},
     "output_type": "execute_result"
    }
   ],
   "source": [
    "dist"
   ]
  },
  {
   "cell_type": "code",
   "execution_count": null,
   "id": "1f9dd88e-c169-44e5-9eff-e314cb37ecb8",
   "metadata": {},
   "outputs": [
    {
     "data": {
      "text/plain": [
       "tensor([0, 1, 2,  ..., 3, 3, 3])"
      ]
     },
     "execution_count": null,
     "metadata": {},
     "output_type": "execute_result"
    }
   ],
   "source": [
    "clusters_idx = torch.argmin(dist, dim=0)\n",
    "clusters_idx"
   ]
  },
  {
   "cell_type": "markdown",
   "id": "d3071dc3-c4e2-4694-825d-ba01a4786a79",
   "metadata": {},
   "source": [
    "We now need to update centroids based on the average of observations that falls into their cluster! Trivial implementation involves looping through the centroids and indexing into the `data` that is closest to this cluster (via `clusters_idx`)"
   ]
  },
  {
   "cell_type": "code",
   "execution_count": null,
   "id": "c4a96c9d-3fbc-4548-8609-756639a85a96",
   "metadata": {},
   "outputs": [
    {
     "data": {
      "text/plain": [
       "tensor([28.582, 18.077])"
      ]
     },
     "execution_count": null,
     "metadata": {},
     "output_type": "execute_result"
    }
   ],
   "source": [
    "shuffled[clusters_idx==0].mean(dim=0)"
   ]
  },
  {
   "cell_type": "code",
   "execution_count": null,
   "id": "ccccc440-2b3c-4281-a4e0-d93d59356bff",
   "metadata": {},
   "outputs": [
    {
     "data": {
      "text/plain": [
       "tensor([[ 28.582,  18.077],\n",
       "        [ -8.142,  32.233],\n",
       "        [ 33.339, -24.982],\n",
       "        [-12.269,  13.860],\n",
       "        [ 31.092, -27.936],\n",
       "        [ 29.056, -23.473]])"
      ]
     },
     "execution_count": null,
     "metadata": {},
     "output_type": "execute_result"
    }
   ],
   "source": [
    "for i in range(K):\n",
    "    centroids[i] = (shuffled[clusters_idx==i]).mean(dim=0)\n",
    "centroids"
   ]
  },
  {
   "cell_type": "markdown",
   "id": "51223f47-2503-49fe-a2cf-5858324ff3f3",
   "metadata": {},
   "source": [
    "How to do it more efficiently? Maybe one-hot encode the clusters_idx?"
   ]
  },
  {
   "cell_type": "code",
   "execution_count": null,
   "id": "db01dbd7-e3d2-494b-be4e-68bdbfe0c35c",
   "metadata": {},
   "outputs": [],
   "source": [
    "import torch.nn.functional as F"
   ]
  },
  {
   "cell_type": "code",
   "execution_count": null,
   "id": "607d18df-f595-424b-903d-4d906ebfddaf",
   "metadata": {},
   "outputs": [
    {
     "data": {
      "text/plain": [
       "tensor([[1., 0., 0., 0., 0., 0.],\n",
       "        [0., 1., 0., 0., 0., 0.],\n",
       "        [0., 0., 1., 0., 0., 0.],\n",
       "        ...,\n",
       "        [0., 0., 0., 1., 0., 0.],\n",
       "        [0., 0., 0., 1., 0., 0.],\n",
       "        [0., 0., 0., 1., 0., 0.]])"
      ]
     },
     "execution_count": null,
     "metadata": {},
     "output_type": "execute_result"
    }
   ],
   "source": [
    "coh_idx = F.one_hot(clusters_idx, num_classes = 6).to(torch.float32);coh_idx"
   ]
  },
  {
   "cell_type": "code",
   "execution_count": null,
   "id": "c1d4643f-29dc-44c9-8afa-50a89fb37de4",
   "metadata": {},
   "outputs": [
    {
     "data": {
      "text/plain": [
       "(torch.Size([6, 2]), torch.Size([1500, 2]), torch.Size([1500, 6]))"
      ]
     },
     "execution_count": null,
     "metadata": {},
     "output_type": "execute_result"
    }
   ],
   "source": [
    "centroids.shape, shuffled.shape, coh_idx.shape"
   ]
  },
  {
   "cell_type": "code",
   "execution_count": null,
   "id": "552e3ecb-211f-40c0-abcd-ee17549f7859",
   "metadata": {},
   "outputs": [
    {
     "data": {
      "text/plain": [
       "torch.Size([1500, 1, 2])"
      ]
     },
     "execution_count": null,
     "metadata": {},
     "output_type": "execute_result"
    }
   ],
   "source": [
    "shuffled[:, None].shape"
   ]
  },
  {
   "cell_type": "code",
   "execution_count": null,
   "id": "8290a00c-2680-47d3-bc2d-0da787ee0eb0",
   "metadata": {},
   "outputs": [
    {
     "data": {
      "text/plain": [
       "tensor([[1., 0., 0.,  ..., 0., 0., 0.],\n",
       "        [0., 1., 0.,  ..., 0., 0., 0.],\n",
       "        [0., 0., 1.,  ..., 0., 0., 0.],\n",
       "        [0., 0., 0.,  ..., 1., 1., 1.],\n",
       "        [0., 0., 0.,  ..., 0., 0., 0.],\n",
       "        [0., 0., 0.,  ..., 0., 0., 0.]])"
      ]
     },
     "execution_count": null,
     "metadata": {},
     "output_type": "execute_result"
    }
   ],
   "source": [
    "coh_idx.T"
   ]
  },
  {
   "cell_type": "code",
   "execution_count": null,
   "id": "d81a38e3-a5ac-49d3-a2d6-86b6e93d8646",
   "metadata": {},
   "outputs": [
    {
     "data": {
      "text/plain": [
       "tensor([[ 21.147,  30.141],\n",
       "        [ -8.459,  35.216],\n",
       "        [ 33.263, -27.666],\n",
       "        ...,\n",
       "        [-14.867,  19.649],\n",
       "        [-17.562,  24.084],\n",
       "        [-16.816,  19.999]])"
      ]
     },
     "execution_count": null,
     "metadata": {},
     "output_type": "execute_result"
    }
   ],
   "source": [
    "shuffled"
   ]
  },
  {
   "cell_type": "markdown",
   "id": "ea8efaa8-7612-4523-af79-67fdaf0a7f7b",
   "metadata": {},
   "source": [
    "The idea is to treat clusters_idx as a lookup table by one-hot encoding it. Then we transpose and matrix-multiply it by X which allows to pluck all of the Xs relevant to the cluster (where row of coh_idx.T is 1) and sum them up. Then we divide by the sum of the items in each cluster."
   ]
  },
  {
   "cell_type": "code",
   "execution_count": null,
   "id": "501d26f1-86d2-4286-986a-e2834da3686b",
   "metadata": {},
   "outputs": [
    {
     "data": {
      "text/plain": [
       "tensor([[ 28.582,  18.077],\n",
       "        [ -8.142,  32.233],\n",
       "        [ 33.339, -24.982],\n",
       "        [-12.269,  13.860],\n",
       "        [ 31.092, -27.936],\n",
       "        [ 29.056, -23.473]])"
      ]
     },
     "execution_count": null,
     "metadata": {},
     "output_type": "execute_result"
    }
   ],
   "source": [
    "(coh_idx.T @ shuffled) / (coh_idx.T).sum(1, keepdim=True)"
   ]
  },
  {
   "cell_type": "markdown",
   "id": "7a416a2b-fe13-4f57-9702-e03c51185347",
   "metadata": {},
   "source": [
    "We get the same result!!!! That's amazing!"
   ]
  },
  {
   "cell_type": "code",
   "execution_count": null,
   "id": "b527e4ca-4225-4220-b258-f382fd34272f",
   "metadata": {},
   "outputs": [],
   "source": []
  },
  {
   "cell_type": "code",
   "execution_count": null,
   "id": "60695fb9-17b4-4631-a9ae-7f96d586605b",
   "metadata": {},
   "outputs": [],
   "source": []
  },
  {
   "cell_type": "code",
   "execution_count": null,
   "id": "f36565dc-61b6-41e6-986d-9ef3afe34bdd",
   "metadata": {},
   "outputs": [],
   "source": []
  },
  {
   "cell_type": "code",
   "execution_count": null,
   "id": "95346f31-5f1a-44e5-b935-0abef957bd40",
   "metadata": {},
   "outputs": [
    {
     "data": {
      "image/png": "[encoded data removed]",
      "text/plain": [
       "<Figure size 432x288 with 1 Axes>"
      ]
     },
     "metadata": {
      "needs_background": "light"
     },
     "output_type": "display_data"
    }
   ],
   "source": [
    "plot_data(centroids, data, n_samples)"
   ]
  },
  {
   "cell_type": "markdown",
   "id": "97acbdb3-6e8e-4673-a967-8f62a5457063",
   "metadata": {},
   "source": [
    "### Now let's group it all in a function"
   ]
  },
  {
   "cell_type": "code",
   "execution_count": null,
   "id": "bc17ca53-0bcf-4134-9c4b-e0f13c2bfc02",
   "metadata": {},
   "outputs": [],
   "source": [
    "def one_update(centroids, X):\n",
    "    dist = ((centroids[:, None] - X[None])**2).sum(2)\n",
    "    clusters_idx = torch.argmin(dist, dim=0)\n",
    "    \n",
    "    for j in range(centroids.shape[0]):\n",
    "        centroids[j] = (shuffled[clusters_idx==j]).mean(dim=0)"
   ]
  },
  {
   "cell_type": "code",
   "execution_count": null,
   "id": "8afa01a2-b90d-48bf-a676-e072151937b4",
   "metadata": {},
   "outputs": [],
   "source": [
    "def kmeans(data, K=6, n=5, seed=None): \n",
    "    X = data.clone()\n",
    "    \n",
    "    if seed: torch.manual_seed(seed) # for reproducibility\n",
    "    random_indices = torch.randperm(len(X)) # shuffle the dataset\n",
    "    X = X[random_indices]\n",
    "    \n",
    "    centroids = X[:K] # initialize centroids\n",
    "    # print(centroids)\n",
    "    for _ in range(n):\n",
    "        one_update(centroids, X)\n",
    "    return centroids\n",
    "\n",
    "\n"
   ]
  },
  {
   "cell_type": "code",
   "execution_count": null,
   "id": "1d6bdec4-b638-4892-b8a3-88c35b578023",
   "metadata": {},
   "outputs": [
    {
     "data": {
      "text/plain": [
       "tensor([[ 28.618,  17.822],\n",
       "        [ -8.626,  31.652],\n",
       "        [ 33.621, -24.804],\n",
       "        [-12.189,  13.323],\n",
       "        [ 30.231, -27.496],\n",
       "        [ 29.248, -23.620]])"
      ]
     },
     "execution_count": null,
     "metadata": {},
     "output_type": "execute_result"
    }
   ],
   "source": [
    "centroids = kmeans(data, n=100, seed=42)\n",
    "centroids"
   ]
  },
  {
   "cell_type": "code",
   "execution_count": null,
   "id": "c9d33309-35a9-46af-b490-21595425b8b9",
   "metadata": {},
   "outputs": [
    {
     "data": {
      "image/png": "[encoded data removed]",
      "text/plain": [
       "<Figure size 432x288 with 1 Axes>"
      ]
     },
     "metadata": {
      "needs_background": "light"
     },
     "output_type": "display_data"
    }
   ],
   "source": [
    "plot_data(centroids, data, n_samples)"
   ]
  },
  {
   "cell_type": "code",
   "execution_count": null,
   "id": "58557ff1-dceb-4f48-b94a-11c53b0e53db",
   "metadata": {},
   "outputs": [],
   "source": [
    "def predict(X):\n",
    "    distance = self.compute_distance(X, self.centroids)\n",
    "    return self.find_closest_cluster(distance)"
   ]
  },
  {
   "cell_type": "code",
   "execution_count": null,
   "id": "4e577dbf-7c98-455d-b253-48ea5fb5c4ae",
   "metadata": {},
   "outputs": [],
   "source": [
    "x = np.linspace(data[:,0].min()-0.5, data[:,0].max()+0.5, 100)\n",
    "y =  np.linspace(data[:,1].min()-0.5, data[:,1].max()+0.5, 100)\n",
    "xx, yy = np.meshgrid(x,y)\n",
    "xy = np.array([xx.ravel(), yy.ravel()]).T"
   ]
  },
  {
   "cell_type": "code",
   "execution_count": null,
   "id": "bbbb780d-c86e-470a-a541-5c98e70e80cd",
   "metadata": {},
   "outputs": [],
   "source": [
    "dist = ((centroids[:, None] - xy[None])**2).sum(2)\n",
    "zz = torch.argmin(dist, dim=0)\n",
    "Z = zz.reshape(xx.shape)"
   ]
  },
  {
   "cell_type": "code",
   "execution_count": null,
   "id": "adb936d5-5e4d-4dea-afcb-bdd09bb6fa36",
   "metadata": {},
   "outputs": [
    {
     "data": {
      "image/png": "[encoded data removed]",
      "text/plain": [
       "<Figure size 720x504 with 1 Axes>"
      ]
     },
     "metadata": {
      "needs_background": "light"
     },
     "output_type": "display_data"
    }
   ],
   "source": [
    "fig, ax = plt.subplots(figsize=(10,7))\n",
    "plot_data(centroids, data, n_samples, ax)\n",
    "ax.contourf(xx, yy, Z, alpha=0.4, cmap='jet');"
   ]
  },
  {
   "cell_type": "markdown",
   "id": "d39d6a80-dbb5-46cd-a209-d892adeab6a2",
   "metadata": {},
   "source": [
    "###  Now let's try with sklearn"
   ]
  },
  {
   "cell_type": "markdown",
   "id": "5bc45639-b496-4405-82c9-095b54ca7f06",
   "metadata": {},
   "source": [
    "Check how much better it is and implement some tricks. Namely: scaling, running several inits"
   ]
  },
  {
   "cell_type": "code",
   "execution_count": null,
   "id": "118f93ee-d829-4a23-8f81-22af5c5d330f",
   "metadata": {},
   "outputs": [],
   "source": [
    "from sklearn.cluster import KMeans, SpectralClustering\n",
    "from sklearn.preprocessing import StandardScaler"
   ]
  },
  {
   "cell_type": "code",
   "execution_count": null,
   "id": "c6879472-ba69-44a6-8f04-5dd9d5dd009f",
   "metadata": {},
   "outputs": [],
   "source": [
    "X = data.clone()"
   ]
  },
  {
   "cell_type": "code",
   "execution_count": null,
   "id": "e3e059b7-7e32-45d4-acfc-b1a64d4dd522",
   "metadata": {},
   "outputs": [],
   "source": [
    "# Standardize the data\n",
    "# X_std = StandardScaler().fit_transform(df)\n",
    "\n",
    "# Run local implementation of kmeans\n",
    "km = KMeans(n_clusters=6, init='random', n_init=1, max_iter=1, random_state=42)\n",
    "km.fit(X)\n",
    "centroids = km.cluster_centers_"
   ]
  },
  {
   "cell_type": "code",
   "execution_count": null,
   "id": "ac40e081-20b2-4ef7-91fd-c1240edd9b57",
   "metadata": {},
   "outputs": [
    {
     "data": {
      "text/plain": [
       "array([[ 30.93681081, -25.43389354],\n",
       "       [ 28.60331163,  17.84659426],\n",
       "       [ -9.30821544,  30.76070928],\n",
       "       [ -6.70268567,  32.75873214],\n",
       "       [-12.32155014,  32.16915598],\n",
       "       [-12.29342662,  13.58124001]])"
      ]
     },
     "execution_count": null,
     "metadata": {},
     "output_type": "execute_result"
    }
   ],
   "source": [
    "centroids"
   ]
  },
  {
   "cell_type": "code",
   "execution_count": null,
   "id": "8a3615bf-ff43-4816-9c74-d310bbff12e8",
   "metadata": {},
   "outputs": [
    {
     "data": {
      "image/png": "[encoded data removed]",
      "text/plain": [
       "<Figure size 432x288 with 1 Axes>"
      ]
     },
     "metadata": {
      "needs_background": "light"
     },
     "output_type": "display_data"
    }
   ],
   "source": [
    "plot_data(centroids, data, n_samples)"
   ]
  },
  {
   "cell_type": "code",
   "execution_count": null,
   "id": "2afd5b57-4727-4670-a31d-c89f6c17a2ce",
   "metadata": {},
   "outputs": [
    {
     "data": {
      "text/plain": [
       "\u001b[0;31mInit signature:\u001b[0m\n",
       "\u001b[0mKMeans\u001b[0m\u001b[0;34m(\u001b[0m\u001b[0;34m\u001b[0m\n",
       "\u001b[0;34m\u001b[0m    \u001b[0mn_clusters\u001b[0m\u001b[0;34m=\u001b[0m\u001b[0;36m8\u001b[0m\u001b[0;34m,\u001b[0m\u001b[0;34m\u001b[0m\n",
       "\u001b[0;34m\u001b[0m    \u001b[0;34m*\u001b[0m\u001b[0;34m,\u001b[0m\u001b[0;34m\u001b[0m\n",
       "\u001b[0;34m\u001b[0m    \u001b[0minit\u001b[0m\u001b[0;34m=\u001b[0m\u001b[0;34m'k-means++'\u001b[0m\u001b[0;34m,\u001b[0m\u001b[0;34m\u001b[0m\n",
       "\u001b[0;34m\u001b[0m    \u001b[0mn_init\u001b[0m\u001b[0;34m=\u001b[0m\u001b[0;36m10\u001b[0m\u001b[0;34m,\u001b[0m\u001b[0;34m\u001b[0m\n",
       "\u001b[0;34m\u001b[0m    \u001b[0mmax_iter\u001b[0m\u001b[0;34m=\u001b[0m\u001b[0;36m300\u001b[0m\u001b[0;34m,\u001b[0m\u001b[0;34m\u001b[0m\n",
       "\u001b[0;34m\u001b[0m    \u001b[0mtol\u001b[0m\u001b[0;34m=\u001b[0m\u001b[0;36m0.0001\u001b[0m\u001b[0;34m,\u001b[0m\u001b[0;34m\u001b[0m\n",
       "\u001b[0;34m\u001b[0m    \u001b[0mverbose\u001b[0m\u001b[0;34m=\u001b[0m\u001b[0;36m0\u001b[0m\u001b[0;34m,\u001b[0m\u001b[0;34m\u001b[0m\n",
       "\u001b[0;34m\u001b[0m    \u001b[0mrandom_state\u001b[0m\u001b[0;34m=\u001b[0m\u001b[0;32mNone\u001b[0m\u001b[0;34m,\u001b[0m\u001b[0;34m\u001b[0m\n",
       "\u001b[0;34m\u001b[0m    \u001b[0mcopy_x\u001b[0m\u001b[0;34m=\u001b[0m\u001b[0;32mTrue\u001b[0m\u001b[0;34m,\u001b[0m\u001b[0;34m\u001b[0m\n",
       "\u001b[0;34m\u001b[0m    \u001b[0malgorithm\u001b[0m\u001b[0;34m=\u001b[0m\u001b[0;34m'lloyd'\u001b[0m\u001b[0;34m,\u001b[0m\u001b[0;34m\u001b[0m\n",
       "\u001b[0;34m\u001b[0m\u001b[0;34m)\u001b[0m\u001b[0;34m\u001b[0m\u001b[0;34m\u001b[0m\u001b[0m\n",
       "\u001b[0;31mSource:\u001b[0m        \n",
       "\u001b[0;32mclass\u001b[0m \u001b[0mKMeans\u001b[0m\u001b[0;34m(\u001b[0m\u001b[0m_BaseKMeans\u001b[0m\u001b[0;34m)\u001b[0m\u001b[0;34m:\u001b[0m\u001b[0;34m\u001b[0m\n",
       "\u001b[0;34m\u001b[0m    \u001b[0;34m\"\"\"K-Means clustering.\u001b[0m\n",
       "\u001b[0;34m\u001b[0m\n",
       "\u001b[0;34m    Read more in the :ref:`User Guide <k_means>`.\u001b[0m\n",
       "\u001b[0;34m\u001b[0m\n",
       "\u001b[0;34m    Parameters\u001b[0m\n",
       "\u001b[0;34m    ----------\u001b[0m\n",
       "\u001b[0;34m\u001b[0m\n",
       "\u001b[0;34m    n_clusters : int, default=8\u001b[0m\n",
       "\u001b[0;34m        The number of clusters to form as well as the number of\u001b[0m\n",
       "\u001b[0;34m        centroids to generate.\u001b[0m\n",
       "\u001b[0;34m\u001b[0m\n",
       "\u001b[0;34m    init : {'k-means++', 'random'}, callable or array-like of shape \\\u001b[0m\n",
       "\u001b[0;34m            (n_clusters, n_features), default='k-means++'\u001b[0m\n",
       "\u001b[0;34m        Method for initialization:\u001b[0m\n",
       "\u001b[0;34m\u001b[0m\n",
       "\u001b[0;34m        'k-means++' : selects initial cluster centers for k-mean\u001b[0m\n",
       "\u001b[0;34m        clustering in a smart way to speed up convergence. See section\u001b[0m\n",
       "\u001b[0;34m        Notes in k_init for more details.\u001b[0m\n",
       "\u001b[0;34m\u001b[0m\n",
       "\u001b[0;34m        'random': choose `n_clusters` observations (rows) at random from data\u001b[0m\n",
       "\u001b[0;34m        for the initial centroids.\u001b[0m\n",
       "\u001b[0;34m\u001b[0m\n",
       "\u001b[0;34m        If an array is passed, it should be of shape (n_clusters, n_features)\u001b[0m\n",
       "\u001b[0;34m        and gives the initial centers.\u001b[0m\n",
       "\u001b[0;34m\u001b[0m\n",
       "\u001b[0;34m        If a callable is passed, it should take arguments X, n_clusters and a\u001b[0m\n",
       "\u001b[0;34m        random state and return an initialization.\u001b[0m\n",
       "\u001b[0;34m\u001b[0m\n",
       "\u001b[0;34m    n_init : int, default=10\u001b[0m\n",
       "\u001b[0;34m        Number of time the k-means algorithm will be run with different\u001b[0m\n",
       "\u001b[0;34m        centroid seeds. The final results will be the best output of\u001b[0m\n",
       "\u001b[0;34m        n_init consecutive runs in terms of inertia.\u001b[0m\n",
       "\u001b[0;34m\u001b[0m\n",
       "\u001b[0;34m    max_iter : int, default=300\u001b[0m\n",
       "\u001b[0;34m        Maximum number of iterations of the k-means algorithm for a\u001b[0m\n",
       "\u001b[0;34m        single run.\u001b[0m\n",
       "\u001b[0;34m\u001b[0m\n",
       "\u001b[0;34m    tol : float, default=1e-4\u001b[0m\n",
       "\u001b[0;34m        Relative tolerance with regards to Frobenius norm of the difference\u001b[0m\n",
       "\u001b[0;34m        in the cluster centers of two consecutive iterations to declare\u001b[0m\n",
       "\u001b[0;34m        convergence.\u001b[0m\n",
       "\u001b[0;34m\u001b[0m\n",
       "\u001b[0;34m    verbose : int, default=0\u001b[0m\n",
       "\u001b[0;34m        Verbosity mode.\u001b[0m\n",
       "\u001b[0;34m\u001b[0m\n",
       "\u001b[0;34m    random_state : int, RandomState instance or None, default=None\u001b[0m\n",
       "\u001b[0;34m        Determines random number generation for centroid initialization. Use\u001b[0m\n",
       "\u001b[0;34m        an int to make the randomness deterministic.\u001b[0m\n",
       "\u001b[0;34m        See :term:`Glossary <random_state>`.\u001b[0m\n",
       "\u001b[0;34m\u001b[0m\n",
       "\u001b[0;34m    copy_x : bool, default=True\u001b[0m\n",
       "\u001b[0;34m        When pre-computing distances it is more numerically accurate to center\u001b[0m\n",
       "\u001b[0;34m        the data first. If copy_x is True (default), then the original data is\u001b[0m\n",
       "\u001b[0;34m        not modified. If False, the original data is modified, and put back\u001b[0m\n",
       "\u001b[0;34m        before the function returns, but small numerical differences may be\u001b[0m\n",
       "\u001b[0;34m        introduced by subtracting and then adding the data mean. Note that if\u001b[0m\n",
       "\u001b[0;34m        the original data is not C-contiguous, a copy will be made even if\u001b[0m\n",
       "\u001b[0;34m        copy_x is False. If the original data is sparse, but not in CSR format,\u001b[0m\n",
       "\u001b[0;34m        a copy will be made even if copy_x is False.\u001b[0m\n",
       "\u001b[0;34m\u001b[0m\n",
       "\u001b[0;34m    algorithm : {\"lloyd\", \"elkan\", \"auto\", \"full\"}, default=\"lloyd\"\u001b[0m\n",
       "\u001b[0;34m        K-means algorithm to use. The classical EM-style algorithm is `\"lloyd\"`.\u001b[0m\n",
       "\u001b[0;34m        The `\"elkan\"` variation can be more efficient on some datasets with\u001b[0m\n",
       "\u001b[0;34m        well-defined clusters, by using the triangle inequality. However it's\u001b[0m\n",
       "\u001b[0;34m        more memory intensive due to the allocation of an extra array of shape\u001b[0m\n",
       "\u001b[0;34m        `(n_samples, n_clusters)`.\u001b[0m\n",
       "\u001b[0;34m\u001b[0m\n",
       "\u001b[0;34m        `\"auto\"` and `\"full\"` are deprecated and they will be removed in\u001b[0m\n",
       "\u001b[0;34m        Scikit-Learn 1.3. They are both aliases for `\"lloyd\"`.\u001b[0m\n",
       "\u001b[0;34m\u001b[0m\n",
       "\u001b[0;34m        .. versionchanged:: 0.18\u001b[0m\n",
       "\u001b[0;34m            Added Elkan algorithm\u001b[0m\n",
       "\u001b[0;34m\u001b[0m\n",
       "\u001b[0;34m        .. versionchanged:: 1.1\u001b[0m\n",
       "\u001b[0;34m            Renamed \"full\" to \"lloyd\", and deprecated \"auto\" and \"full\".\u001b[0m\n",
       "\u001b[0;34m            Changed \"auto\" to use \"lloyd\" instead of \"elkan\".\u001b[0m\n",
       "\u001b[0;34m\u001b[0m\n",
       "\u001b[0;34m    Attributes\u001b[0m\n",
       "\u001b[0;34m    ----------\u001b[0m\n",
       "\u001b[0;34m    cluster_centers_ : ndarray of shape (n_clusters, n_features)\u001b[0m\n",
       "\u001b[0;34m        Coordinates of cluster centers. If the algorithm stops before fully\u001b[0m\n",
       "\u001b[0;34m        converging (see ``tol`` and ``max_iter``), these will not be\u001b[0m\n",
       "\u001b[0;34m        consistent with ``labels_``.\u001b[0m\n",
       "\u001b[0;34m\u001b[0m\n",
       "\u001b[0;34m    labels_ : ndarray of shape (n_samples,)\u001b[0m\n",
       "\u001b[0;34m        Labels of each point\u001b[0m\n",
       "\u001b[0;34m\u001b[0m\n",
       "\u001b[0;34m    inertia_ : float\u001b[0m\n",
       "\u001b[0;34m        Sum of squared distances of samples to their closest cluster center,\u001b[0m\n",
       "\u001b[0;34m        weighted by the sample weights if provided.\u001b[0m\n",
       "\u001b[0;34m\u001b[0m\n",
       "\u001b[0;34m    n_iter_ : int\u001b[0m\n",
       "\u001b[0;34m        Number of iterations run.\u001b[0m\n",
       "\u001b[0;34m\u001b[0m\n",
       "\u001b[0;34m    n_features_in_ : int\u001b[0m\n",
       "\u001b[0;34m        Number of features seen during :term:`fit`.\u001b[0m\n",
       "\u001b[0;34m\u001b[0m\n",
       "\u001b[0;34m        .. versionadded:: 0.24\u001b[0m\n",
       "\u001b[0;34m\u001b[0m\n",
       "\u001b[0;34m    feature_names_in_ : ndarray of shape (`n_features_in_`,)\u001b[0m\n",
       "\u001b[0;34m        Names of features seen during :term:`fit`. Defined only when `X`\u001b[0m\n",
       "\u001b[0;34m        has feature names that are all strings.\u001b[0m\n",
       "\u001b[0;34m\u001b[0m\n",
       "\u001b[0;34m        .. versionadded:: 1.0\u001b[0m\n",
       "\u001b[0;34m\u001b[0m\n",
       "\u001b[0;34m    See Also\u001b[0m\n",
       "\u001b[0;34m    --------\u001b[0m\n",
       "\u001b[0;34m    MiniBatchKMeans : Alternative online implementation that does incremental\u001b[0m\n",
       "\u001b[0;34m        updates of the centers positions using mini-batches.\u001b[0m\n",
       "\u001b[0;34m        For large scale learning (say n_samples > 10k) MiniBatchKMeans is\u001b[0m\n",
       "\u001b[0;34m        probably much faster than the default batch implementation.\u001b[0m\n",
       "\u001b[0;34m\u001b[0m\n",
       "\u001b[0;34m    Notes\u001b[0m\n",
       "\u001b[0;34m    -----\u001b[0m\n",
       "\u001b[0;34m    The k-means problem is solved using either Lloyd's or Elkan's algorithm.\u001b[0m\n",
       "\u001b[0;34m\u001b[0m\n",
       "\u001b[0;34m    The average complexity is given by O(k n T), where n is the number of\u001b[0m\n",
       "\u001b[0;34m    samples and T is the number of iteration.\u001b[0m\n",
       "\u001b[0;34m\u001b[0m\n",
       "\u001b[0;34m    The worst case complexity is given by O(n^(k+2/p)) with\u001b[0m\n",
       "\u001b[0;34m    n = n_samples, p = n_features. (D. Arthur and S. Vassilvitskii,\u001b[0m\n",
       "\u001b[0;34m    'How slow is the k-means method?' SoCG2006)\u001b[0m\n",
       "\u001b[0;34m\u001b[0m\n",
       "\u001b[0;34m    In practice, the k-means algorithm is very fast (one of the fastest\u001b[0m\n",
       "\u001b[0;34m    clustering algorithms available), but it falls in local minima. That's why\u001b[0m\n",
       "\u001b[0;34m    it can be useful to restart it several times.\u001b[0m\n",
       "\u001b[0;34m\u001b[0m\n",
       "\u001b[0;34m    If the algorithm stops before fully converging (because of ``tol`` or\u001b[0m\n",
       "\u001b[0;34m    ``max_iter``), ``labels_`` and ``cluster_centers_`` will not be consistent,\u001b[0m\n",
       "\u001b[0;34m    i.e. the ``cluster_centers_`` will not be the means of the points in each\u001b[0m\n",
       "\u001b[0;34m    cluster. Also, the estimator will reassign ``labels_`` after the last\u001b[0m\n",
       "\u001b[0;34m    iteration to make ``labels_`` consistent with ``predict`` on the training\u001b[0m\n",
       "\u001b[0;34m    set.\u001b[0m\n",
       "\u001b[0;34m\u001b[0m\n",
       "\u001b[0;34m    Examples\u001b[0m\n",
       "\u001b[0;34m    --------\u001b[0m\n",
       "\u001b[0;34m\u001b[0m\n",
       "\u001b[0;34m    >>> from sklearn.cluster import KMeans\u001b[0m\n",
       "\u001b[0;34m    >>> import numpy as np\u001b[0m\n",
       "\u001b[0;34m    >>> X = np.array([[1, 2], [1, 4], [1, 0],\u001b[0m\n",
       "\u001b[0;34m    ...               [10, 2], [10, 4], [10, 0]])\u001b[0m\n",
       "\u001b[0;34m    >>> kmeans = KMeans(n_clusters=2, random_state=0).fit(X)\u001b[0m\n",
       "\u001b[0;34m    >>> kmeans.labels_\u001b[0m\n",
       "\u001b[0;34m    array([1, 1, 1, 0, 0, 0], dtype=int32)\u001b[0m\n",
       "\u001b[0;34m    >>> kmeans.predict([[0, 0], [12, 3]])\u001b[0m\n",
       "\u001b[0;34m    array([1, 0], dtype=int32)\u001b[0m\n",
       "\u001b[0;34m    >>> kmeans.cluster_centers_\u001b[0m\n",
       "\u001b[0;34m    array([[10.,  2.],\u001b[0m\n",
       "\u001b[0;34m           [ 1.,  2.]])\u001b[0m\n",
       "\u001b[0;34m    \"\"\"\u001b[0m\u001b[0;34m\u001b[0m\n",
       "\u001b[0;34m\u001b[0m\u001b[0;34m\u001b[0m\n",
       "\u001b[0;34m\u001b[0m    \u001b[0;32mdef\u001b[0m \u001b[0m__init__\u001b[0m\u001b[0;34m(\u001b[0m\u001b[0;34m\u001b[0m\n",
       "\u001b[0;34m\u001b[0m        \u001b[0mself\u001b[0m\u001b[0;34m,\u001b[0m\u001b[0;34m\u001b[0m\n",
       "\u001b[0;34m\u001b[0m        \u001b[0mn_clusters\u001b[0m\u001b[0;34m=\u001b[0m\u001b[0;36m8\u001b[0m\u001b[0;34m,\u001b[0m\u001b[0;34m\u001b[0m\n",
       "\u001b[0;34m\u001b[0m        \u001b[0;34m*\u001b[0m\u001b[0;34m,\u001b[0m\u001b[0;34m\u001b[0m\n",
       "\u001b[0;34m\u001b[0m        \u001b[0minit\u001b[0m\u001b[0;34m=\u001b[0m\u001b[0;34m\"k-means++\"\u001b[0m\u001b[0;34m,\u001b[0m\u001b[0;34m\u001b[0m\n",
       "\u001b[0;34m\u001b[0m        \u001b[0mn_init\u001b[0m\u001b[0;34m=\u001b[0m\u001b[0;36m10\u001b[0m\u001b[0;34m,\u001b[0m\u001b[0;34m\u001b[0m\n",
       "\u001b[0;34m\u001b[0m        \u001b[0mmax_iter\u001b[0m\u001b[0;34m=\u001b[0m\u001b[0;36m300\u001b[0m\u001b[0;34m,\u001b[0m\u001b[0;34m\u001b[0m\n",
       "\u001b[0;34m\u001b[0m        \u001b[0mtol\u001b[0m\u001b[0;34m=\u001b[0m\u001b[0;36m1e-4\u001b[0m\u001b[0;34m,\u001b[0m\u001b[0;34m\u001b[0m\n",
       "\u001b[0;34m\u001b[0m        \u001b[0mverbose\u001b[0m\u001b[0;34m=\u001b[0m\u001b[0;36m0\u001b[0m\u001b[0;34m,\u001b[0m\u001b[0;34m\u001b[0m\n",
       "\u001b[0;34m\u001b[0m        \u001b[0mrandom_state\u001b[0m\u001b[0;34m=\u001b[0m\u001b[0;32mNone\u001b[0m\u001b[0;34m,\u001b[0m\u001b[0;34m\u001b[0m\n",
       "\u001b[0;34m\u001b[0m        \u001b[0mcopy_x\u001b[0m\u001b[0;34m=\u001b[0m\u001b[0;32mTrue\u001b[0m\u001b[0;34m,\u001b[0m\u001b[0;34m\u001b[0m\n",
       "\u001b[0;34m\u001b[0m        \u001b[0malgorithm\u001b[0m\u001b[0;34m=\u001b[0m\u001b[0;34m\"lloyd\"\u001b[0m\u001b[0;34m,\u001b[0m\u001b[0;34m\u001b[0m\n",
       "\u001b[0;34m\u001b[0m    \u001b[0;34m)\u001b[0m\u001b[0;34m:\u001b[0m\u001b[0;34m\u001b[0m\n",
       "\u001b[0;34m\u001b[0m        \u001b[0msuper\u001b[0m\u001b[0;34m(\u001b[0m\u001b[0;34m)\u001b[0m\u001b[0;34m.\u001b[0m\u001b[0m__init__\u001b[0m\u001b[0;34m(\u001b[0m\u001b[0;34m\u001b[0m\n",
       "\u001b[0;34m\u001b[0m            \u001b[0mn_clusters\u001b[0m\u001b[0;34m=\u001b[0m\u001b[0mn_clusters\u001b[0m\u001b[0;34m,\u001b[0m\u001b[0;34m\u001b[0m\n",
       "\u001b[0;34m\u001b[0m            \u001b[0minit\u001b[0m\u001b[0;34m=\u001b[0m\u001b[0minit\u001b[0m\u001b[0;34m,\u001b[0m\u001b[0;34m\u001b[0m\n",
       "\u001b[0;34m\u001b[0m            \u001b[0mn_init\u001b[0m\u001b[0;34m=\u001b[0m\u001b[0mn_init\u001b[0m\u001b[0;34m,\u001b[0m\u001b[0;34m\u001b[0m\n",
       "\u001b[0;34m\u001b[0m            \u001b[0mmax_iter\u001b[0m\u001b[0;34m=\u001b[0m\u001b[0mmax_iter\u001b[0m\u001b[0;34m,\u001b[0m\u001b[0;34m\u001b[0m\n",
       "\u001b[0;34m\u001b[0m            \u001b[0mtol\u001b[0m\u001b[0;34m=\u001b[0m\u001b[0mtol\u001b[0m\u001b[0;34m,\u001b[0m\u001b[0;34m\u001b[0m\n",
       "\u001b[0;34m\u001b[0m            \u001b[0mverbose\u001b[0m\u001b[0;34m=\u001b[0m\u001b[0mverbose\u001b[0m\u001b[0;34m,\u001b[0m\u001b[0;34m\u001b[0m\n",
       "\u001b[0;34m\u001b[0m            \u001b[0mrandom_state\u001b[0m\u001b[0;34m=\u001b[0m\u001b[0mrandom_state\u001b[0m\u001b[0;34m,\u001b[0m\u001b[0;34m\u001b[0m\n",
       "\u001b[0;34m\u001b[0m        \u001b[0;34m)\u001b[0m\u001b[0;34m\u001b[0m\n",
       "\u001b[0;34m\u001b[0m\u001b[0;34m\u001b[0m\n",
       "\u001b[0;34m\u001b[0m        \u001b[0mself\u001b[0m\u001b[0;34m.\u001b[0m\u001b[0mcopy_x\u001b[0m \u001b[0;34m=\u001b[0m \u001b[0mcopy_x\u001b[0m\u001b[0;34m\u001b[0m\n",
       "\u001b[0;34m\u001b[0m        \u001b[0mself\u001b[0m\u001b[0;34m.\u001b[0m\u001b[0malgorithm\u001b[0m \u001b[0;34m=\u001b[0m \u001b[0malgorithm\u001b[0m\u001b[0;34m\u001b[0m\n",
       "\u001b[0;34m\u001b[0m\u001b[0;34m\u001b[0m\n",
       "\u001b[0;34m\u001b[0m    \u001b[0;32mdef\u001b[0m \u001b[0m_check_params\u001b[0m\u001b[0;34m(\u001b[0m\u001b[0mself\u001b[0m\u001b[0;34m,\u001b[0m \u001b[0mX\u001b[0m\u001b[0;34m)\u001b[0m\u001b[0;34m:\u001b[0m\u001b[0;34m\u001b[0m\n",
       "\u001b[0;34m\u001b[0m        \u001b[0msuper\u001b[0m\u001b[0;34m(\u001b[0m\u001b[0;34m)\u001b[0m\u001b[0;34m.\u001b[0m\u001b[0m_check_params\u001b[0m\u001b[0;34m(\u001b[0m\u001b[0mX\u001b[0m\u001b[0;34m)\u001b[0m\u001b[0;34m\u001b[0m\n",
       "\u001b[0;34m\u001b[0m\u001b[0;34m\u001b[0m\n",
       "\u001b[0;34m\u001b[0m        \u001b[0;31m# algorithm\u001b[0m\u001b[0;34m\u001b[0m\n",
       "\u001b[0;34m\u001b[0m        \u001b[0;32mif\u001b[0m \u001b[0mself\u001b[0m\u001b[0;34m.\u001b[0m\u001b[0malgorithm\u001b[0m \u001b[0;32mnot\u001b[0m \u001b[0;32min\u001b[0m \u001b[0;34m(\u001b[0m\u001b[0;34m\"lloyd\"\u001b[0m\u001b[0;34m,\u001b[0m \u001b[0;34m\"elkan\"\u001b[0m\u001b[0;34m,\u001b[0m \u001b[0;34m\"auto\"\u001b[0m\u001b[0;34m,\u001b[0m \u001b[0;34m\"full\"\u001b[0m\u001b[0;34m)\u001b[0m\u001b[0;34m:\u001b[0m\u001b[0;34m\u001b[0m\n",
       "\u001b[0;34m\u001b[0m            \u001b[0;32mraise\u001b[0m \u001b[0mValueError\u001b[0m\u001b[0;34m(\u001b[0m\u001b[0;34m\u001b[0m\n",
       "\u001b[0;34m\u001b[0m                \u001b[0;34m\"Algorithm must be either 'lloyd' or 'elkan', \"\u001b[0m\u001b[0;34m\u001b[0m\n",
       "\u001b[0;34m\u001b[0m                \u001b[0;34mf\"got {self.algorithm} instead.\"\u001b[0m\u001b[0;34m\u001b[0m\n",
       "\u001b[0;34m\u001b[0m            \u001b[0;34m)\u001b[0m\u001b[0;34m\u001b[0m\n",
       "\u001b[0;34m\u001b[0m\u001b[0;34m\u001b[0m\n",
       "\u001b[0;34m\u001b[0m        \u001b[0mself\u001b[0m\u001b[0;34m.\u001b[0m\u001b[0m_algorithm\u001b[0m \u001b[0;34m=\u001b[0m \u001b[0mself\u001b[0m\u001b[0;34m.\u001b[0m\u001b[0malgorithm\u001b[0m\u001b[0;34m\u001b[0m\n",
       "\u001b[0;34m\u001b[0m        \u001b[0;32mif\u001b[0m \u001b[0mself\u001b[0m\u001b[0;34m.\u001b[0m\u001b[0m_algorithm\u001b[0m \u001b[0;32min\u001b[0m \u001b[0;34m(\u001b[0m\u001b[0;34m\"auto\"\u001b[0m\u001b[0;34m,\u001b[0m \u001b[0;34m\"full\"\u001b[0m\u001b[0;34m)\u001b[0m\u001b[0;34m:\u001b[0m\u001b[0;34m\u001b[0m\n",
       "\u001b[0;34m\u001b[0m            \u001b[0mwarnings\u001b[0m\u001b[0;34m.\u001b[0m\u001b[0mwarn\u001b[0m\u001b[0;34m(\u001b[0m\u001b[0;34m\u001b[0m\n",
       "\u001b[0;34m\u001b[0m                \u001b[0;34mf\"algorithm='{self._algorithm}' is deprecated, it will be \"\u001b[0m\u001b[0;34m\u001b[0m\n",
       "\u001b[0;34m\u001b[0m                \u001b[0;34m\"removed in 1.3. Using 'lloyd' instead.\"\u001b[0m\u001b[0;34m,\u001b[0m\u001b[0;34m\u001b[0m\n",
       "\u001b[0;34m\u001b[0m                \u001b[0mFutureWarning\u001b[0m\u001b[0;34m,\u001b[0m\u001b[0;34m\u001b[0m\n",
       "\u001b[0;34m\u001b[0m            \u001b[0;34m)\u001b[0m\u001b[0;34m\u001b[0m\n",
       "\u001b[0;34m\u001b[0m            \u001b[0mself\u001b[0m\u001b[0;34m.\u001b[0m\u001b[0m_algorithm\u001b[0m \u001b[0;34m=\u001b[0m \u001b[0;34m\"lloyd\"\u001b[0m\u001b[0;34m\u001b[0m\n",
       "\u001b[0;34m\u001b[0m        \u001b[0;32mif\u001b[0m \u001b[0mself\u001b[0m\u001b[0;34m.\u001b[0m\u001b[0m_algorithm\u001b[0m \u001b[0;34m==\u001b[0m \u001b[0;34m\"elkan\"\u001b[0m \u001b[0;32mand\u001b[0m \u001b[0mself\u001b[0m\u001b[0;34m.\u001b[0m\u001b[0mn_clusters\u001b[0m \u001b[0;34m==\u001b[0m \u001b[0;36m1\u001b[0m\u001b[0;34m:\u001b[0m\u001b[0;34m\u001b[0m\n",
       "\u001b[0;34m\u001b[0m            \u001b[0mwarnings\u001b[0m\u001b[0;34m.\u001b[0m\u001b[0mwarn\u001b[0m\u001b[0;34m(\u001b[0m\u001b[0;34m\u001b[0m\n",
       "\u001b[0;34m\u001b[0m                \u001b[0;34m\"algorithm='elkan' doesn't make sense for a single \"\u001b[0m\u001b[0;34m\u001b[0m\n",
       "\u001b[0;34m\u001b[0m                \u001b[0;34m\"cluster. Using 'lloyd' instead.\"\u001b[0m\u001b[0;34m,\u001b[0m\u001b[0;34m\u001b[0m\n",
       "\u001b[0;34m\u001b[0m                \u001b[0mRuntimeWarning\u001b[0m\u001b[0;34m,\u001b[0m\u001b[0;34m\u001b[0m\n",
       "\u001b[0;34m\u001b[0m            \u001b[0;34m)\u001b[0m\u001b[0;34m\u001b[0m\n",
       "\u001b[0;34m\u001b[0m            \u001b[0mself\u001b[0m\u001b[0;34m.\u001b[0m\u001b[0m_algorithm\u001b[0m \u001b[0;34m=\u001b[0m \u001b[0;34m\"lloyd\"\u001b[0m\u001b[0;34m\u001b[0m\n",
       "\u001b[0;34m\u001b[0m\u001b[0;34m\u001b[0m\n",
       "\u001b[0;34m\u001b[0m    \u001b[0;32mdef\u001b[0m \u001b[0m_warn_mkl_vcomp\u001b[0m\u001b[0;34m(\u001b[0m\u001b[0mself\u001b[0m\u001b[0;34m,\u001b[0m \u001b[0mn_active_threads\u001b[0m\u001b[0;34m)\u001b[0m\u001b[0;34m:\u001b[0m\u001b[0;34m\u001b[0m\n",
       "\u001b[0;34m\u001b[0m        \u001b[0;34m\"\"\"Warn when vcomp and mkl are both present\"\"\"\u001b[0m\u001b[0;34m\u001b[0m\n",
       "\u001b[0;34m\u001b[0m        \u001b[0mwarnings\u001b[0m\u001b[0;34m.\u001b[0m\u001b[0mwarn\u001b[0m\u001b[0;34m(\u001b[0m\u001b[0;34m\u001b[0m\n",
       "\u001b[0;34m\u001b[0m            \u001b[0;34m\"KMeans is known to have a memory leak on Windows \"\u001b[0m\u001b[0;34m\u001b[0m\n",
       "\u001b[0;34m\u001b[0m            \u001b[0;34m\"with MKL, when there are less chunks than available \"\u001b[0m\u001b[0;34m\u001b[0m\n",
       "\u001b[0;34m\u001b[0m            \u001b[0;34m\"threads. You can avoid it by setting the environment\"\u001b[0m\u001b[0;34m\u001b[0m\n",
       "\u001b[0;34m\u001b[0m            \u001b[0;34mf\" variable OMP_NUM_THREADS={n_active_threads}.\"\u001b[0m\u001b[0;34m\u001b[0m\n",
       "\u001b[0;34m\u001b[0m        \u001b[0;34m)\u001b[0m\u001b[0;34m\u001b[0m\n",
       "\u001b[0;34m\u001b[0m\u001b[0;34m\u001b[0m\n",
       "\u001b[0;34m\u001b[0m    \u001b[0;32mdef\u001b[0m \u001b[0mfit\u001b[0m\u001b[0;34m(\u001b[0m\u001b[0mself\u001b[0m\u001b[0;34m,\u001b[0m \u001b[0mX\u001b[0m\u001b[0;34m,\u001b[0m \u001b[0my\u001b[0m\u001b[0;34m=\u001b[0m\u001b[0;32mNone\u001b[0m\u001b[0;34m,\u001b[0m \u001b[0msample_weight\u001b[0m\u001b[0;34m=\u001b[0m\u001b[0;32mNone\u001b[0m\u001b[0;34m)\u001b[0m\u001b[0;34m:\u001b[0m\u001b[0;34m\u001b[0m\n",
       "\u001b[0;34m\u001b[0m        \u001b[0;34m\"\"\"Compute k-means clustering.\u001b[0m\n",
       "\u001b[0;34m\u001b[0m\n",
       "\u001b[0;34m        Parameters\u001b[0m\n",
       "\u001b[0;34m        ----------\u001b[0m\n",
       "\u001b[0;34m        X : {array-like, sparse matrix} of shape (n_samples, n_features)\u001b[0m\n",
       "\u001b[0;34m            Training instances to cluster. It must be noted that the data\u001b[0m\n",
       "\u001b[0;34m            will be converted to C ordering, which will cause a memory\u001b[0m\n",
       "\u001b[0;34m            copy if the given data is not C-contiguous.\u001b[0m\n",
       "\u001b[0;34m            If a sparse matrix is passed, a copy will be made if it's not in\u001b[0m\n",
       "\u001b[0;34m            CSR format.\u001b[0m\n",
       "\u001b[0;34m\u001b[0m\n",
       "\u001b[0;34m        y : Ignored\u001b[0m\n",
       "\u001b[0;34m            Not used, present here for API consistency by convention.\u001b[0m\n",
       "\u001b[0;34m\u001b[0m\n",
       "\u001b[0;34m        sample_weight : array-like of shape (n_samples,), default=None\u001b[0m\n",
       "\u001b[0;34m            The weights for each observation in X. If None, all observations\u001b[0m\n",
       "\u001b[0;34m            are assigned equal weight.\u001b[0m\n",
       "\u001b[0;34m\u001b[0m\n",
       "\u001b[0;34m            .. versionadded:: 0.20\u001b[0m\n",
       "\u001b[0;34m\u001b[0m\n",
       "\u001b[0;34m        Returns\u001b[0m\n",
       "\u001b[0;34m        -------\u001b[0m\n",
       "\u001b[0;34m        self : object\u001b[0m\n",
       "\u001b[0;34m            Fitted estimator.\u001b[0m\n",
       "\u001b[0;34m        \"\"\"\u001b[0m\u001b[0;34m\u001b[0m\n",
       "\u001b[0;34m\u001b[0m        \u001b[0mX\u001b[0m \u001b[0;34m=\u001b[0m \u001b[0mself\u001b[0m\u001b[0;34m.\u001b[0m\u001b[0m_validate_data\u001b[0m\u001b[0;34m(\u001b[0m\u001b[0;34m\u001b[0m\n",
       "\u001b[0;34m\u001b[0m            \u001b[0mX\u001b[0m\u001b[0;34m,\u001b[0m\u001b[0;34m\u001b[0m\n",
       "\u001b[0;34m\u001b[0m            \u001b[0maccept_sparse\u001b[0m\u001b[0;34m=\u001b[0m\u001b[0;34m\"csr\"\u001b[0m\u001b[0;34m,\u001b[0m\u001b[0;34m\u001b[0m\n",
       "\u001b[0;34m\u001b[0m            \u001b[0mdtype\u001b[0m\u001b[0;34m=\u001b[0m\u001b[0;34m[\u001b[0m\u001b[0mnp\u001b[0m\u001b[0;34m.\u001b[0m\u001b[0mfloat64\u001b[0m\u001b[0;34m,\u001b[0m \u001b[0mnp\u001b[0m\u001b[0;34m.\u001b[0m\u001b[0mfloat32\u001b[0m\u001b[0;34m]\u001b[0m\u001b[0;34m,\u001b[0m\u001b[0;34m\u001b[0m\n",
       "\u001b[0;34m\u001b[0m            \u001b[0morder\u001b[0m\u001b[0;34m=\u001b[0m\u001b[0;34m\"C\"\u001b[0m\u001b[0;34m,\u001b[0m\u001b[0;34m\u001b[0m\n",
       "\u001b[0;34m\u001b[0m            \u001b[0mcopy\u001b[0m\u001b[0;34m=\u001b[0m\u001b[0mself\u001b[0m\u001b[0;34m.\u001b[0m\u001b[0mcopy_x\u001b[0m\u001b[0;34m,\u001b[0m\u001b[0;34m\u001b[0m\n",
       "\u001b[0;34m\u001b[0m            \u001b[0maccept_large_sparse\u001b[0m\u001b[0;34m=\u001b[0m\u001b[0;32mFalse\u001b[0m\u001b[0;34m,\u001b[0m\u001b[0;34m\u001b[0m\n",
       "\u001b[0;34m\u001b[0m        \u001b[0;34m)\u001b[0m\u001b[0;34m\u001b[0m\n",
       "\u001b[0;34m\u001b[0m\u001b[0;34m\u001b[0m\n",
       "\u001b[0;34m\u001b[0m        \u001b[0mself\u001b[0m\u001b[0;34m.\u001b[0m\u001b[0m_check_params\u001b[0m\u001b[0;34m(\u001b[0m\u001b[0mX\u001b[0m\u001b[0;34m)\u001b[0m\u001b[0;34m\u001b[0m\n",
       "\u001b[0;34m\u001b[0m        \u001b[0mrandom_state\u001b[0m \u001b[0;34m=\u001b[0m \u001b[0mcheck_random_state\u001b[0m\u001b[0;34m(\u001b[0m\u001b[0mself\u001b[0m\u001b[0;34m.\u001b[0m\u001b[0mrandom_state\u001b[0m\u001b[0;34m)\u001b[0m\u001b[0;34m\u001b[0m\n",
       "\u001b[0;34m\u001b[0m        \u001b[0msample_weight\u001b[0m \u001b[0;34m=\u001b[0m \u001b[0m_check_sample_weight\u001b[0m\u001b[0;34m(\u001b[0m\u001b[0msample_weight\u001b[0m\u001b[0;34m,\u001b[0m \u001b[0mX\u001b[0m\u001b[0;34m,\u001b[0m \u001b[0mdtype\u001b[0m\u001b[0;34m=\u001b[0m\u001b[0mX\u001b[0m\u001b[0;34m.\u001b[0m\u001b[0mdtype\u001b[0m\u001b[0;34m)\u001b[0m\u001b[0;34m\u001b[0m\n",
       "\u001b[0;34m\u001b[0m        \u001b[0mself\u001b[0m\u001b[0;34m.\u001b[0m\u001b[0m_n_threads\u001b[0m \u001b[0;34m=\u001b[0m \u001b[0m_openmp_effective_n_threads\u001b[0m\u001b[0;34m(\u001b[0m\u001b[0;34m)\u001b[0m\u001b[0;34m\u001b[0m\n",
       "\u001b[0;34m\u001b[0m\u001b[0;34m\u001b[0m\n",
       "\u001b[0;34m\u001b[0m        \u001b[0;31m# Validate init array\u001b[0m\u001b[0;34m\u001b[0m\n",
       "\u001b[0;34m\u001b[0m        \u001b[0minit\u001b[0m \u001b[0;34m=\u001b[0m \u001b[0mself\u001b[0m\u001b[0;34m.\u001b[0m\u001b[0minit\u001b[0m\u001b[0;34m\u001b[0m\n",
       "\u001b[0;34m\u001b[0m        \u001b[0minit_is_array_like\u001b[0m \u001b[0;34m=\u001b[0m \u001b[0m_is_arraylike_not_scalar\u001b[0m\u001b[0;34m(\u001b[0m\u001b[0minit\u001b[0m\u001b[0;34m)\u001b[0m\u001b[0;34m\u001b[0m\n",
       "\u001b[0;34m\u001b[0m        \u001b[0;32mif\u001b[0m \u001b[0minit_is_array_like\u001b[0m\u001b[0;34m:\u001b[0m\u001b[0;34m\u001b[0m\n",
       "\u001b[0;34m\u001b[0m            \u001b[0minit\u001b[0m \u001b[0;34m=\u001b[0m \u001b[0mcheck_array\u001b[0m\u001b[0;34m(\u001b[0m\u001b[0minit\u001b[0m\u001b[0;34m,\u001b[0m \u001b[0mdtype\u001b[0m\u001b[0;34m=\u001b[0m\u001b[0mX\u001b[0m\u001b[0;34m.\u001b[0m\u001b[0mdtype\u001b[0m\u001b[0;34m,\u001b[0m \u001b[0mcopy\u001b[0m\u001b[0;34m=\u001b[0m\u001b[0;32mTrue\u001b[0m\u001b[0;34m,\u001b[0m \u001b[0morder\u001b[0m\u001b[0;34m=\u001b[0m\u001b[0;34m\"C\"\u001b[0m\u001b[0;34m)\u001b[0m\u001b[0;34m\u001b[0m\n",
       "\u001b[0;34m\u001b[0m            \u001b[0mself\u001b[0m\u001b[0;34m.\u001b[0m\u001b[0m_validate_center_shape\u001b[0m\u001b[0;34m(\u001b[0m\u001b[0mX\u001b[0m\u001b[0;34m,\u001b[0m \u001b[0minit\u001b[0m\u001b[0;34m)\u001b[0m\u001b[0;34m\u001b[0m\n",
       "\u001b[0;34m\u001b[0m\u001b[0;34m\u001b[0m\n",
       "\u001b[0;34m\u001b[0m        \u001b[0;31m# subtract of mean of x for more accurate distance computations\u001b[0m\u001b[0;34m\u001b[0m\n",
       "\u001b[0;34m\u001b[0m        \u001b[0;32mif\u001b[0m \u001b[0;32mnot\u001b[0m \u001b[0msp\u001b[0m\u001b[0;34m.\u001b[0m\u001b[0missparse\u001b[0m\u001b[0;34m(\u001b[0m\u001b[0mX\u001b[0m\u001b[0;34m)\u001b[0m\u001b[0;34m:\u001b[0m\u001b[0;34m\u001b[0m\n",
       "\u001b[0;34m\u001b[0m            \u001b[0mX_mean\u001b[0m \u001b[0;34m=\u001b[0m \u001b[0mX\u001b[0m\u001b[0;34m.\u001b[0m\u001b[0mmean\u001b[0m\u001b[0;34m(\u001b[0m\u001b[0maxis\u001b[0m\u001b[0;34m=\u001b[0m\u001b[0;36m0\u001b[0m\u001b[0;34m)\u001b[0m\u001b[0;34m\u001b[0m\n",
       "\u001b[0;34m\u001b[0m            \u001b[0;31m# The copy was already done above\u001b[0m\u001b[0;34m\u001b[0m\n",
       "\u001b[0;34m\u001b[0m            \u001b[0mX\u001b[0m \u001b[0;34m-=\u001b[0m \u001b[0mX_mean\u001b[0m\u001b[0;34m\u001b[0m\n",
       "\u001b[0;34m\u001b[0m\u001b[0;34m\u001b[0m\n",
       "\u001b[0;34m\u001b[0m            \u001b[0;32mif\u001b[0m \u001b[0minit_is_array_like\u001b[0m\u001b[0;34m:\u001b[0m\u001b[0;34m\u001b[0m\n",
       "\u001b[0;34m\u001b[0m                \u001b[0minit\u001b[0m \u001b[0;34m-=\u001b[0m \u001b[0mX_mean\u001b[0m\u001b[0;34m\u001b[0m\n",
       "\u001b[0;34m\u001b[0m\u001b[0;34m\u001b[0m\n",
       "\u001b[0;34m\u001b[0m        \u001b[0;31m# precompute squared norms of data points\u001b[0m\u001b[0;34m\u001b[0m\n",
       "\u001b[0;34m\u001b[0m        \u001b[0mx_squared_norms\u001b[0m \u001b[0;34m=\u001b[0m \u001b[0mrow_norms\u001b[0m\u001b[0;34m(\u001b[0m\u001b[0mX\u001b[0m\u001b[0;34m,\u001b[0m \u001b[0msquared\u001b[0m\u001b[0;34m=\u001b[0m\u001b[0;32mTrue\u001b[0m\u001b[0;34m)\u001b[0m\u001b[0;34m\u001b[0m\n",
       "\u001b[0;34m\u001b[0m\u001b[0;34m\u001b[0m\n",
       "\u001b[0;34m\u001b[0m        \u001b[0;32mif\u001b[0m \u001b[0mself\u001b[0m\u001b[0;34m.\u001b[0m\u001b[0m_algorithm\u001b[0m \u001b[0;34m==\u001b[0m \u001b[0;34m\"elkan\"\u001b[0m\u001b[0;34m:\u001b[0m\u001b[0;34m\u001b[0m\n",
       "\u001b[0;34m\u001b[0m            \u001b[0mkmeans_single\u001b[0m \u001b[0;34m=\u001b[0m \u001b[0m_kmeans_single_elkan\u001b[0m\u001b[0;34m\u001b[0m\n",
       "\u001b[0;34m\u001b[0m        \u001b[0;32melse\u001b[0m\u001b[0;34m:\u001b[0m\u001b[0;34m\u001b[0m\n",
       "\u001b[0;34m\u001b[0m            \u001b[0mkmeans_single\u001b[0m \u001b[0;34m=\u001b[0m \u001b[0m_kmeans_single_lloyd\u001b[0m\u001b[0;34m\u001b[0m\n",
       "\u001b[0;34m\u001b[0m            \u001b[0mself\u001b[0m\u001b[0;34m.\u001b[0m\u001b[0m_check_mkl_vcomp\u001b[0m\u001b[0;34m(\u001b[0m\u001b[0mX\u001b[0m\u001b[0;34m,\u001b[0m \u001b[0mX\u001b[0m\u001b[0;34m.\u001b[0m\u001b[0mshape\u001b[0m\u001b[0;34m[\u001b[0m\u001b[0;36m0\u001b[0m\u001b[0;34m]\u001b[0m\u001b[0;34m)\u001b[0m\u001b[0;34m\u001b[0m\n",
       "\u001b[0;34m\u001b[0m\u001b[0;34m\u001b[0m\n",
       "\u001b[0;34m\u001b[0m        \u001b[0mbest_inertia\u001b[0m\u001b[0;34m,\u001b[0m \u001b[0mbest_labels\u001b[0m \u001b[0;34m=\u001b[0m \u001b[0;32mNone\u001b[0m\u001b[0;34m,\u001b[0m \u001b[0;32mNone\u001b[0m\u001b[0;34m\u001b[0m\n",
       "\u001b[0;34m\u001b[0m\u001b[0;34m\u001b[0m\n",
       "\u001b[0;34m\u001b[0m        \u001b[0;32mfor\u001b[0m \u001b[0mi\u001b[0m \u001b[0;32min\u001b[0m \u001b[0mrange\u001b[0m\u001b[0;34m(\u001b[0m\u001b[0mself\u001b[0m\u001b[0;34m.\u001b[0m\u001b[0m_n_init\u001b[0m\u001b[0;34m)\u001b[0m\u001b[0;34m:\u001b[0m\u001b[0;34m\u001b[0m\n",
       "\u001b[0;34m\u001b[0m            \u001b[0;31m# Initialize centers\u001b[0m\u001b[0;34m\u001b[0m\n",
       "\u001b[0;34m\u001b[0m            \u001b[0mcenters_init\u001b[0m \u001b[0;34m=\u001b[0m \u001b[0mself\u001b[0m\u001b[0;34m.\u001b[0m\u001b[0m_init_centroids\u001b[0m\u001b[0;34m(\u001b[0m\u001b[0;34m\u001b[0m\n",
       "\u001b[0;34m\u001b[0m                \u001b[0mX\u001b[0m\u001b[0;34m,\u001b[0m \u001b[0mx_squared_norms\u001b[0m\u001b[0;34m=\u001b[0m\u001b[0mx_squared_norms\u001b[0m\u001b[0;34m,\u001b[0m \u001b[0minit\u001b[0m\u001b[0;34m=\u001b[0m\u001b[0minit\u001b[0m\u001b[0;34m,\u001b[0m \u001b[0mrandom_state\u001b[0m\u001b[0;34m=\u001b[0m\u001b[0mrandom_state\u001b[0m\u001b[0;34m\u001b[0m\n",
       "\u001b[0;34m\u001b[0m            \u001b[0;34m)\u001b[0m\u001b[0;34m\u001b[0m\n",
       "\u001b[0;34m\u001b[0m            \u001b[0;32mif\u001b[0m \u001b[0mself\u001b[0m\u001b[0;34m.\u001b[0m\u001b[0mverbose\u001b[0m\u001b[0;34m:\u001b[0m\u001b[0;34m\u001b[0m\n",
       "\u001b[0;34m\u001b[0m                \u001b[0mprint\u001b[0m\u001b[0;34m(\u001b[0m\u001b[0;34m\"Initialization complete\"\u001b[0m\u001b[0;34m)\u001b[0m\u001b[0;34m\u001b[0m\n",
       "\u001b[0;34m\u001b[0m\u001b[0;34m\u001b[0m\n",
       "\u001b[0;34m\u001b[0m            \u001b[0;31m# run a k-means once\u001b[0m\u001b[0;34m\u001b[0m\n",
       "\u001b[0;34m\u001b[0m            \u001b[0mlabels\u001b[0m\u001b[0;34m,\u001b[0m \u001b[0minertia\u001b[0m\u001b[0;34m,\u001b[0m \u001b[0mcenters\u001b[0m\u001b[0;34m,\u001b[0m \u001b[0mn_iter_\u001b[0m \u001b[0;34m=\u001b[0m \u001b[0mkmeans_single\u001b[0m\u001b[0;34m(\u001b[0m\u001b[0;34m\u001b[0m\n",
       "\u001b[0;34m\u001b[0m                \u001b[0mX\u001b[0m\u001b[0;34m,\u001b[0m\u001b[0;34m\u001b[0m\n",
       "\u001b[0;34m\u001b[0m                \u001b[0msample_weight\u001b[0m\u001b[0;34m,\u001b[0m\u001b[0;34m\u001b[0m\n",
       "\u001b[0;34m\u001b[0m                \u001b[0mcenters_init\u001b[0m\u001b[0;34m,\u001b[0m\u001b[0;34m\u001b[0m\n",
       "\u001b[0;34m\u001b[0m                \u001b[0mmax_iter\u001b[0m\u001b[0;34m=\u001b[0m\u001b[0mself\u001b[0m\u001b[0;34m.\u001b[0m\u001b[0mmax_iter\u001b[0m\u001b[0;34m,\u001b[0m\u001b[0;34m\u001b[0m\n",
       "\u001b[0;34m\u001b[0m                \u001b[0mverbose\u001b[0m\u001b[0;34m=\u001b[0m\u001b[0mself\u001b[0m\u001b[0;34m.\u001b[0m\u001b[0mverbose\u001b[0m\u001b[0;34m,\u001b[0m\u001b[0;34m\u001b[0m\n",
       "\u001b[0;34m\u001b[0m                \u001b[0mtol\u001b[0m\u001b[0;34m=\u001b[0m\u001b[0mself\u001b[0m\u001b[0;34m.\u001b[0m\u001b[0m_tol\u001b[0m\u001b[0;34m,\u001b[0m\u001b[0;34m\u001b[0m\n",
       "\u001b[0;34m\u001b[0m                \u001b[0mx_squared_norms\u001b[0m\u001b[0;34m=\u001b[0m\u001b[0mx_squared_norms\u001b[0m\u001b[0;34m,\u001b[0m\u001b[0;34m\u001b[0m\n",
       "\u001b[0;34m\u001b[0m                \u001b[0mn_threads\u001b[0m\u001b[0;34m=\u001b[0m\u001b[0mself\u001b[0m\u001b[0;34m.\u001b[0m\u001b[0m_n_threads\u001b[0m\u001b[0;34m,\u001b[0m\u001b[0;34m\u001b[0m\n",
       "\u001b[0;34m\u001b[0m            \u001b[0;34m)\u001b[0m\u001b[0;34m\u001b[0m\n",
       "\u001b[0;34m\u001b[0m\u001b[0;34m\u001b[0m\n",
       "\u001b[0;34m\u001b[0m            \u001b[0;31m# determine if these results are the best so far\u001b[0m\u001b[0;34m\u001b[0m\n",
       "\u001b[0;34m\u001b[0m            \u001b[0;31m# we chose a new run if it has a better inertia and the clustering is\u001b[0m\u001b[0;34m\u001b[0m\n",
       "\u001b[0;34m\u001b[0m            \u001b[0;31m# different from the best so far (it's possible that the inertia is\u001b[0m\u001b[0;34m\u001b[0m\n",
       "\u001b[0;34m\u001b[0m            \u001b[0;31m# slightly better even if the clustering is the same with potentially\u001b[0m\u001b[0;34m\u001b[0m\n",
       "\u001b[0;34m\u001b[0m            \u001b[0;31m# permuted labels, due to rounding errors)\u001b[0m\u001b[0;34m\u001b[0m\n",
       "\u001b[0;34m\u001b[0m            \u001b[0;32mif\u001b[0m \u001b[0mbest_inertia\u001b[0m \u001b[0;32mis\u001b[0m \u001b[0;32mNone\u001b[0m \u001b[0;32mor\u001b[0m \u001b[0;34m(\u001b[0m\u001b[0;34m\u001b[0m\n",
       "\u001b[0;34m\u001b[0m                \u001b[0minertia\u001b[0m \u001b[0;34m<\u001b[0m \u001b[0mbest_inertia\u001b[0m\u001b[0;34m\u001b[0m\n",
       "\u001b[0;34m\u001b[0m                \u001b[0;32mand\u001b[0m \u001b[0;32mnot\u001b[0m \u001b[0m_is_same_clustering\u001b[0m\u001b[0;34m(\u001b[0m\u001b[0mlabels\u001b[0m\u001b[0;34m,\u001b[0m \u001b[0mbest_labels\u001b[0m\u001b[0;34m,\u001b[0m \u001b[0mself\u001b[0m\u001b[0;34m.\u001b[0m\u001b[0mn_clusters\u001b[0m\u001b[0;34m)\u001b[0m\u001b[0;34m\u001b[0m\n",
       "\u001b[0;34m\u001b[0m            \u001b[0;34m)\u001b[0m\u001b[0;34m:\u001b[0m\u001b[0;34m\u001b[0m\n",
       "\u001b[0;34m\u001b[0m                \u001b[0mbest_labels\u001b[0m \u001b[0;34m=\u001b[0m \u001b[0mlabels\u001b[0m\u001b[0;34m\u001b[0m\n",
       "\u001b[0;34m\u001b[0m                \u001b[0mbest_centers\u001b[0m \u001b[0;34m=\u001b[0m \u001b[0mcenters\u001b[0m\u001b[0;34m\u001b[0m\n",
       "\u001b[0;34m\u001b[0m                \u001b[0mbest_inertia\u001b[0m \u001b[0;34m=\u001b[0m \u001b[0minertia\u001b[0m\u001b[0;34m\u001b[0m\n",
       "\u001b[0;34m\u001b[0m                \u001b[0mbest_n_iter\u001b[0m \u001b[0;34m=\u001b[0m \u001b[0mn_iter_\u001b[0m\u001b[0;34m\u001b[0m\n",
       "\u001b[0;34m\u001b[0m\u001b[0;34m\u001b[0m\n",
       "\u001b[0;34m\u001b[0m        \u001b[0;32mif\u001b[0m \u001b[0;32mnot\u001b[0m \u001b[0msp\u001b[0m\u001b[0;34m.\u001b[0m\u001b[0missparse\u001b[0m\u001b[0;34m(\u001b[0m\u001b[0mX\u001b[0m\u001b[0;34m)\u001b[0m\u001b[0;34m:\u001b[0m\u001b[0;34m\u001b[0m\n",
       "\u001b[0;34m\u001b[0m            \u001b[0;32mif\u001b[0m \u001b[0;32mnot\u001b[0m \u001b[0mself\u001b[0m\u001b[0;34m.\u001b[0m\u001b[0mcopy_x\u001b[0m\u001b[0;34m:\u001b[0m\u001b[0;34m\u001b[0m\n",
       "\u001b[0;34m\u001b[0m                \u001b[0mX\u001b[0m \u001b[0;34m+=\u001b[0m \u001b[0mX_mean\u001b[0m\u001b[0;34m\u001b[0m\n",
       "\u001b[0;34m\u001b[0m            \u001b[0mbest_centers\u001b[0m \u001b[0;34m+=\u001b[0m \u001b[0mX_mean\u001b[0m\u001b[0;34m\u001b[0m\n",
       "\u001b[0;34m\u001b[0m\u001b[0;34m\u001b[0m\n",
       "\u001b[0;34m\u001b[0m        \u001b[0mdistinct_clusters\u001b[0m \u001b[0;34m=\u001b[0m \u001b[0mlen\u001b[0m\u001b[0;34m(\u001b[0m\u001b[0mset\u001b[0m\u001b[0;34m(\u001b[0m\u001b[0mbest_labels\u001b[0m\u001b[0;34m)\u001b[0m\u001b[0;34m)\u001b[0m\u001b[0;34m\u001b[0m\n",
       "\u001b[0;34m\u001b[0m        \u001b[0;32mif\u001b[0m \u001b[0mdistinct_clusters\u001b[0m \u001b[0;34m<\u001b[0m \u001b[0mself\u001b[0m\u001b[0;34m.\u001b[0m\u001b[0mn_clusters\u001b[0m\u001b[0;34m:\u001b[0m\u001b[0;34m\u001b[0m\n",
       "\u001b[0;34m\u001b[0m            \u001b[0mwarnings\u001b[0m\u001b[0;34m.\u001b[0m\u001b[0mwarn\u001b[0m\u001b[0;34m(\u001b[0m\u001b[0;34m\u001b[0m\n",
       "\u001b[0;34m\u001b[0m                \u001b[0;34m\"Number of distinct clusters ({}) found smaller than \"\u001b[0m\u001b[0;34m\u001b[0m\n",
       "\u001b[0;34m\u001b[0m                \u001b[0;34m\"n_clusters ({}). Possibly due to duplicate points \"\u001b[0m\u001b[0;34m\u001b[0m\n",
       "\u001b[0;34m\u001b[0m                \u001b[0;34m\"in X.\"\u001b[0m\u001b[0;34m.\u001b[0m\u001b[0mformat\u001b[0m\u001b[0;34m(\u001b[0m\u001b[0mdistinct_clusters\u001b[0m\u001b[0;34m,\u001b[0m \u001b[0mself\u001b[0m\u001b[0;34m.\u001b[0m\u001b[0mn_clusters\u001b[0m\u001b[0;34m)\u001b[0m\u001b[0;34m,\u001b[0m\u001b[0;34m\u001b[0m\n",
       "\u001b[0;34m\u001b[0m                \u001b[0mConvergenceWarning\u001b[0m\u001b[0;34m,\u001b[0m\u001b[0;34m\u001b[0m\n",
       "\u001b[0;34m\u001b[0m                \u001b[0mstacklevel\u001b[0m\u001b[0;34m=\u001b[0m\u001b[0;36m2\u001b[0m\u001b[0;34m,\u001b[0m\u001b[0;34m\u001b[0m\n",
       "\u001b[0;34m\u001b[0m            \u001b[0;34m)\u001b[0m\u001b[0;34m\u001b[0m\n",
       "\u001b[0;34m\u001b[0m\u001b[0;34m\u001b[0m\n",
       "\u001b[0;34m\u001b[0m        \u001b[0mself\u001b[0m\u001b[0;34m.\u001b[0m\u001b[0mcluster_centers_\u001b[0m \u001b[0;34m=\u001b[0m \u001b[0mbest_centers\u001b[0m\u001b[0;34m\u001b[0m\n",
       "\u001b[0;34m\u001b[0m        \u001b[0mself\u001b[0m\u001b[0;34m.\u001b[0m\u001b[0m_n_features_out\u001b[0m \u001b[0;34m=\u001b[0m \u001b[0mself\u001b[0m\u001b[0;34m.\u001b[0m\u001b[0mcluster_centers_\u001b[0m\u001b[0;34m.\u001b[0m\u001b[0mshape\u001b[0m\u001b[0;34m[\u001b[0m\u001b[0;36m0\u001b[0m\u001b[0;34m]\u001b[0m\u001b[0;34m\u001b[0m\n",
       "\u001b[0;34m\u001b[0m        \u001b[0mself\u001b[0m\u001b[0;34m.\u001b[0m\u001b[0mlabels_\u001b[0m \u001b[0;34m=\u001b[0m \u001b[0mbest_labels\u001b[0m\u001b[0;34m\u001b[0m\n",
       "\u001b[0;34m\u001b[0m        \u001b[0mself\u001b[0m\u001b[0;34m.\u001b[0m\u001b[0minertia_\u001b[0m \u001b[0;34m=\u001b[0m \u001b[0mbest_inertia\u001b[0m\u001b[0;34m\u001b[0m\n",
       "\u001b[0;34m\u001b[0m        \u001b[0mself\u001b[0m\u001b[0;34m.\u001b[0m\u001b[0mn_iter_\u001b[0m \u001b[0;34m=\u001b[0m \u001b[0mbest_n_iter\u001b[0m\u001b[0;34m\u001b[0m\n",
       "\u001b[0;34m\u001b[0m        \u001b[0;32mreturn\u001b[0m \u001b[0mself\u001b[0m\u001b[0;34m\u001b[0m\u001b[0;34m\u001b[0m\u001b[0m\n",
       "\u001b[0;31mFile:\u001b[0m           /usr/local/lib/python3.9/dist-packages/sklearn/cluster/_kmeans.py\n",
       "\u001b[0;31mType:\u001b[0m           ABCMeta\n",
       "\u001b[0;31mSubclasses:\u001b[0m     \n"
      ]
     },
     "metadata": {},
     "output_type": "display_data"
    }
   ],
   "source": [
    "??KMeans"
   ]
  },
  {
   "cell_type": "code",
   "execution_count": null,
   "id": "7878ddee-28a4-4191-813f-ad4d8253f726",
   "metadata": {},
   "outputs": [
    {
     "data": {
      "text/plain": [
       "\u001b[0;31mSignature:\u001b[0m \u001b[0mkm\u001b[0m\u001b[0;34m.\u001b[0m\u001b[0mfit\u001b[0m\u001b[0;34m(\u001b[0m\u001b[0mX\u001b[0m\u001b[0;34m,\u001b[0m \u001b[0my\u001b[0m\u001b[0;34m=\u001b[0m\u001b[0;32mNone\u001b[0m\u001b[0;34m,\u001b[0m \u001b[0msample_weight\u001b[0m\u001b[0;34m=\u001b[0m\u001b[0;32mNone\u001b[0m\u001b[0;34m)\u001b[0m\u001b[0;34m\u001b[0m\u001b[0;34m\u001b[0m\u001b[0m\n",
       "\u001b[0;31mSource:\u001b[0m   \n",
       "    \u001b[0;32mdef\u001b[0m \u001b[0mfit\u001b[0m\u001b[0;34m(\u001b[0m\u001b[0mself\u001b[0m\u001b[0;34m,\u001b[0m \u001b[0mX\u001b[0m\u001b[0;34m,\u001b[0m \u001b[0my\u001b[0m\u001b[0;34m=\u001b[0m\u001b[0;32mNone\u001b[0m\u001b[0;34m,\u001b[0m \u001b[0msample_weight\u001b[0m\u001b[0;34m=\u001b[0m\u001b[0;32mNone\u001b[0m\u001b[0;34m)\u001b[0m\u001b[0;34m:\u001b[0m\u001b[0;34m\u001b[0m\n",
       "\u001b[0;34m\u001b[0m        \u001b[0;34m\"\"\"Compute k-means clustering.\u001b[0m\n",
       "\u001b[0;34m\u001b[0m\n",
       "\u001b[0;34m        Parameters\u001b[0m\n",
       "\u001b[0;34m        ----------\u001b[0m\n",
       "\u001b[0;34m        X : {array-like, sparse matrix} of shape (n_samples, n_features)\u001b[0m\n",
       "\u001b[0;34m            Training instances to cluster. It must be noted that the data\u001b[0m\n",
       "\u001b[0;34m            will be converted to C ordering, which will cause a memory\u001b[0m\n",
       "\u001b[0;34m            copy if the given data is not C-contiguous.\u001b[0m\n",
       "\u001b[0;34m            If a sparse matrix is passed, a copy will be made if it's not in\u001b[0m\n",
       "\u001b[0;34m            CSR format.\u001b[0m\n",
       "\u001b[0;34m\u001b[0m\n",
       "\u001b[0;34m        y : Ignored\u001b[0m\n",
       "\u001b[0;34m            Not used, present here for API consistency by convention.\u001b[0m\n",
       "\u001b[0;34m\u001b[0m\n",
       "\u001b[0;34m        sample_weight : array-like of shape (n_samples,), default=None\u001b[0m\n",
       "\u001b[0;34m            The weights for each observation in X. If None, all observations\u001b[0m\n",
       "\u001b[0;34m            are assigned equal weight.\u001b[0m\n",
       "\u001b[0;34m\u001b[0m\n",
       "\u001b[0;34m            .. versionadded:: 0.20\u001b[0m\n",
       "\u001b[0;34m\u001b[0m\n",
       "\u001b[0;34m        Returns\u001b[0m\n",
       "\u001b[0;34m        -------\u001b[0m\n",
       "\u001b[0;34m        self : object\u001b[0m\n",
       "\u001b[0;34m            Fitted estimator.\u001b[0m\n",
       "\u001b[0;34m        \"\"\"\u001b[0m\u001b[0;34m\u001b[0m\n",
       "\u001b[0;34m\u001b[0m        \u001b[0mX\u001b[0m \u001b[0;34m=\u001b[0m \u001b[0mself\u001b[0m\u001b[0;34m.\u001b[0m\u001b[0m_validate_data\u001b[0m\u001b[0;34m(\u001b[0m\u001b[0;34m\u001b[0m\n",
       "\u001b[0;34m\u001b[0m            \u001b[0mX\u001b[0m\u001b[0;34m,\u001b[0m\u001b[0;34m\u001b[0m\n",
       "\u001b[0;34m\u001b[0m            \u001b[0maccept_sparse\u001b[0m\u001b[0;34m=\u001b[0m\u001b[0;34m\"csr\"\u001b[0m\u001b[0;34m,\u001b[0m\u001b[0;34m\u001b[0m\n",
       "\u001b[0;34m\u001b[0m            \u001b[0mdtype\u001b[0m\u001b[0;34m=\u001b[0m\u001b[0;34m[\u001b[0m\u001b[0mnp\u001b[0m\u001b[0;34m.\u001b[0m\u001b[0mfloat64\u001b[0m\u001b[0;34m,\u001b[0m \u001b[0mnp\u001b[0m\u001b[0;34m.\u001b[0m\u001b[0mfloat32\u001b[0m\u001b[0;34m]\u001b[0m\u001b[0;34m,\u001b[0m\u001b[0;34m\u001b[0m\n",
       "\u001b[0;34m\u001b[0m            \u001b[0morder\u001b[0m\u001b[0;34m=\u001b[0m\u001b[0;34m\"C\"\u001b[0m\u001b[0;34m,\u001b[0m\u001b[0;34m\u001b[0m\n",
       "\u001b[0;34m\u001b[0m            \u001b[0mcopy\u001b[0m\u001b[0;34m=\u001b[0m\u001b[0mself\u001b[0m\u001b[0;34m.\u001b[0m\u001b[0mcopy_x\u001b[0m\u001b[0;34m,\u001b[0m\u001b[0;34m\u001b[0m\n",
       "\u001b[0;34m\u001b[0m            \u001b[0maccept_large_sparse\u001b[0m\u001b[0;34m=\u001b[0m\u001b[0;32mFalse\u001b[0m\u001b[0;34m,\u001b[0m\u001b[0;34m\u001b[0m\n",
       "\u001b[0;34m\u001b[0m        \u001b[0;34m)\u001b[0m\u001b[0;34m\u001b[0m\n",
       "\u001b[0;34m\u001b[0m\u001b[0;34m\u001b[0m\n",
       "\u001b[0;34m\u001b[0m        \u001b[0mself\u001b[0m\u001b[0;34m.\u001b[0m\u001b[0m_check_params\u001b[0m\u001b[0;34m(\u001b[0m\u001b[0mX\u001b[0m\u001b[0;34m)\u001b[0m\u001b[0;34m\u001b[0m\n",
       "\u001b[0;34m\u001b[0m        \u001b[0mrandom_state\u001b[0m \u001b[0;34m=\u001b[0m \u001b[0mcheck_random_state\u001b[0m\u001b[0;34m(\u001b[0m\u001b[0mself\u001b[0m\u001b[0;34m.\u001b[0m\u001b[0mrandom_state\u001b[0m\u001b[0;34m)\u001b[0m\u001b[0;34m\u001b[0m\n",
       "\u001b[0;34m\u001b[0m        \u001b[0msample_weight\u001b[0m \u001b[0;34m=\u001b[0m \u001b[0m_check_sample_weight\u001b[0m\u001b[0;34m(\u001b[0m\u001b[0msample_weight\u001b[0m\u001b[0;34m,\u001b[0m \u001b[0mX\u001b[0m\u001b[0;34m,\u001b[0m \u001b[0mdtype\u001b[0m\u001b[0;34m=\u001b[0m\u001b[0mX\u001b[0m\u001b[0;34m.\u001b[0m\u001b[0mdtype\u001b[0m\u001b[0;34m)\u001b[0m\u001b[0;34m\u001b[0m\n",
       "\u001b[0;34m\u001b[0m        \u001b[0mself\u001b[0m\u001b[0;34m.\u001b[0m\u001b[0m_n_threads\u001b[0m \u001b[0;34m=\u001b[0m \u001b[0m_openmp_effective_n_threads\u001b[0m\u001b[0;34m(\u001b[0m\u001b[0;34m)\u001b[0m\u001b[0;34m\u001b[0m\n",
       "\u001b[0;34m\u001b[0m\u001b[0;34m\u001b[0m\n",
       "\u001b[0;34m\u001b[0m        \u001b[0;31m# Validate init array\u001b[0m\u001b[0;34m\u001b[0m\n",
       "\u001b[0;34m\u001b[0m        \u001b[0minit\u001b[0m \u001b[0;34m=\u001b[0m \u001b[0mself\u001b[0m\u001b[0;34m.\u001b[0m\u001b[0minit\u001b[0m\u001b[0;34m\u001b[0m\n",
       "\u001b[0;34m\u001b[0m        \u001b[0minit_is_array_like\u001b[0m \u001b[0;34m=\u001b[0m \u001b[0m_is_arraylike_not_scalar\u001b[0m\u001b[0;34m(\u001b[0m\u001b[0minit\u001b[0m\u001b[0;34m)\u001b[0m\u001b[0;34m\u001b[0m\n",
       "\u001b[0;34m\u001b[0m        \u001b[0;32mif\u001b[0m \u001b[0minit_is_array_like\u001b[0m\u001b[0;34m:\u001b[0m\u001b[0;34m\u001b[0m\n",
       "\u001b[0;34m\u001b[0m            \u001b[0minit\u001b[0m \u001b[0;34m=\u001b[0m \u001b[0mcheck_array\u001b[0m\u001b[0;34m(\u001b[0m\u001b[0minit\u001b[0m\u001b[0;34m,\u001b[0m \u001b[0mdtype\u001b[0m\u001b[0;34m=\u001b[0m\u001b[0mX\u001b[0m\u001b[0;34m.\u001b[0m\u001b[0mdtype\u001b[0m\u001b[0;34m,\u001b[0m \u001b[0mcopy\u001b[0m\u001b[0;34m=\u001b[0m\u001b[0;32mTrue\u001b[0m\u001b[0;34m,\u001b[0m \u001b[0morder\u001b[0m\u001b[0;34m=\u001b[0m\u001b[0;34m\"C\"\u001b[0m\u001b[0;34m)\u001b[0m\u001b[0;34m\u001b[0m\n",
       "\u001b[0;34m\u001b[0m            \u001b[0mself\u001b[0m\u001b[0;34m.\u001b[0m\u001b[0m_validate_center_shape\u001b[0m\u001b[0;34m(\u001b[0m\u001b[0mX\u001b[0m\u001b[0;34m,\u001b[0m \u001b[0minit\u001b[0m\u001b[0;34m)\u001b[0m\u001b[0;34m\u001b[0m\n",
       "\u001b[0;34m\u001b[0m\u001b[0;34m\u001b[0m\n",
       "\u001b[0;34m\u001b[0m        \u001b[0;31m# subtract of mean of x for more accurate distance computations\u001b[0m\u001b[0;34m\u001b[0m\n",
       "\u001b[0;34m\u001b[0m        \u001b[0;32mif\u001b[0m \u001b[0;32mnot\u001b[0m \u001b[0msp\u001b[0m\u001b[0;34m.\u001b[0m\u001b[0missparse\u001b[0m\u001b[0;34m(\u001b[0m\u001b[0mX\u001b[0m\u001b[0;34m)\u001b[0m\u001b[0;34m:\u001b[0m\u001b[0;34m\u001b[0m\n",
       "\u001b[0;34m\u001b[0m            \u001b[0mX_mean\u001b[0m \u001b[0;34m=\u001b[0m \u001b[0mX\u001b[0m\u001b[0;34m.\u001b[0m\u001b[0mmean\u001b[0m\u001b[0;34m(\u001b[0m\u001b[0maxis\u001b[0m\u001b[0;34m=\u001b[0m\u001b[0;36m0\u001b[0m\u001b[0;34m)\u001b[0m\u001b[0;34m\u001b[0m\n",
       "\u001b[0;34m\u001b[0m            \u001b[0;31m# The copy was already done above\u001b[0m\u001b[0;34m\u001b[0m\n",
       "\u001b[0;34m\u001b[0m            \u001b[0mX\u001b[0m \u001b[0;34m-=\u001b[0m \u001b[0mX_mean\u001b[0m\u001b[0;34m\u001b[0m\n",
       "\u001b[0;34m\u001b[0m\u001b[0;34m\u001b[0m\n",
       "\u001b[0;34m\u001b[0m            \u001b[0;32mif\u001b[0m \u001b[0minit_is_array_like\u001b[0m\u001b[0;34m:\u001b[0m\u001b[0;34m\u001b[0m\n",
       "\u001b[0;34m\u001b[0m                \u001b[0minit\u001b[0m \u001b[0;34m-=\u001b[0m \u001b[0mX_mean\u001b[0m\u001b[0;34m\u001b[0m\n",
       "\u001b[0;34m\u001b[0m\u001b[0;34m\u001b[0m\n",
       "\u001b[0;34m\u001b[0m        \u001b[0;31m# precompute squared norms of data points\u001b[0m\u001b[0;34m\u001b[0m\n",
       "\u001b[0;34m\u001b[0m        \u001b[0mx_squared_norms\u001b[0m \u001b[0;34m=\u001b[0m \u001b[0mrow_norms\u001b[0m\u001b[0;34m(\u001b[0m\u001b[0mX\u001b[0m\u001b[0;34m,\u001b[0m \u001b[0msquared\u001b[0m\u001b[0;34m=\u001b[0m\u001b[0;32mTrue\u001b[0m\u001b[0;34m)\u001b[0m\u001b[0;34m\u001b[0m\n",
       "\u001b[0;34m\u001b[0m\u001b[0;34m\u001b[0m\n",
       "\u001b[0;34m\u001b[0m        \u001b[0;32mif\u001b[0m \u001b[0mself\u001b[0m\u001b[0;34m.\u001b[0m\u001b[0m_algorithm\u001b[0m \u001b[0;34m==\u001b[0m \u001b[0;34m\"elkan\"\u001b[0m\u001b[0;34m:\u001b[0m\u001b[0;34m\u001b[0m\n",
       "\u001b[0;34m\u001b[0m            \u001b[0mkmeans_single\u001b[0m \u001b[0;34m=\u001b[0m \u001b[0m_kmeans_single_elkan\u001b[0m\u001b[0;34m\u001b[0m\n",
       "\u001b[0;34m\u001b[0m        \u001b[0;32melse\u001b[0m\u001b[0;34m:\u001b[0m\u001b[0;34m\u001b[0m\n",
       "\u001b[0;34m\u001b[0m            \u001b[0mkmeans_single\u001b[0m \u001b[0;34m=\u001b[0m \u001b[0m_kmeans_single_lloyd\u001b[0m\u001b[0;34m\u001b[0m\n",
       "\u001b[0;34m\u001b[0m            \u001b[0mself\u001b[0m\u001b[0;34m.\u001b[0m\u001b[0m_check_mkl_vcomp\u001b[0m\u001b[0;34m(\u001b[0m\u001b[0mX\u001b[0m\u001b[0;34m,\u001b[0m \u001b[0mX\u001b[0m\u001b[0;34m.\u001b[0m\u001b[0mshape\u001b[0m\u001b[0;34m[\u001b[0m\u001b[0;36m0\u001b[0m\u001b[0;34m]\u001b[0m\u001b[0;34m)\u001b[0m\u001b[0;34m\u001b[0m\n",
       "\u001b[0;34m\u001b[0m\u001b[0;34m\u001b[0m\n",
       "\u001b[0;34m\u001b[0m        \u001b[0mbest_inertia\u001b[0m\u001b[0;34m,\u001b[0m \u001b[0mbest_labels\u001b[0m \u001b[0;34m=\u001b[0m \u001b[0;32mNone\u001b[0m\u001b[0;34m,\u001b[0m \u001b[0;32mNone\u001b[0m\u001b[0;34m\u001b[0m\n",
       "\u001b[0;34m\u001b[0m\u001b[0;34m\u001b[0m\n",
       "\u001b[0;34m\u001b[0m        \u001b[0;32mfor\u001b[0m \u001b[0mi\u001b[0m \u001b[0;32min\u001b[0m \u001b[0mrange\u001b[0m\u001b[0;34m(\u001b[0m\u001b[0mself\u001b[0m\u001b[0;34m.\u001b[0m\u001b[0m_n_init\u001b[0m\u001b[0;34m)\u001b[0m\u001b[0;34m:\u001b[0m\u001b[0;34m\u001b[0m\n",
       "\u001b[0;34m\u001b[0m            \u001b[0;31m# Initialize centers\u001b[0m\u001b[0;34m\u001b[0m\n",
       "\u001b[0;34m\u001b[0m            \u001b[0mcenters_init\u001b[0m \u001b[0;34m=\u001b[0m \u001b[0mself\u001b[0m\u001b[0;34m.\u001b[0m\u001b[0m_init_centroids\u001b[0m\u001b[0;34m(\u001b[0m\u001b[0;34m\u001b[0m\n",
       "\u001b[0;34m\u001b[0m                \u001b[0mX\u001b[0m\u001b[0;34m,\u001b[0m \u001b[0mx_squared_norms\u001b[0m\u001b[0;34m=\u001b[0m\u001b[0mx_squared_norms\u001b[0m\u001b[0;34m,\u001b[0m \u001b[0minit\u001b[0m\u001b[0;34m=\u001b[0m\u001b[0minit\u001b[0m\u001b[0;34m,\u001b[0m \u001b[0mrandom_state\u001b[0m\u001b[0;34m=\u001b[0m\u001b[0mrandom_state\u001b[0m\u001b[0;34m\u001b[0m\n",
       "\u001b[0;34m\u001b[0m            \u001b[0;34m)\u001b[0m\u001b[0;34m\u001b[0m\n",
       "\u001b[0;34m\u001b[0m            \u001b[0;32mif\u001b[0m \u001b[0mself\u001b[0m\u001b[0;34m.\u001b[0m\u001b[0mverbose\u001b[0m\u001b[0;34m:\u001b[0m\u001b[0;34m\u001b[0m\n",
       "\u001b[0;34m\u001b[0m                \u001b[0mprint\u001b[0m\u001b[0;34m(\u001b[0m\u001b[0;34m\"Initialization complete\"\u001b[0m\u001b[0;34m)\u001b[0m\u001b[0;34m\u001b[0m\n",
       "\u001b[0;34m\u001b[0m\u001b[0;34m\u001b[0m\n",
       "\u001b[0;34m\u001b[0m            \u001b[0;31m# run a k-means once\u001b[0m\u001b[0;34m\u001b[0m\n",
       "\u001b[0;34m\u001b[0m            \u001b[0mlabels\u001b[0m\u001b[0;34m,\u001b[0m \u001b[0minertia\u001b[0m\u001b[0;34m,\u001b[0m \u001b[0mcenters\u001b[0m\u001b[0;34m,\u001b[0m \u001b[0mn_iter_\u001b[0m \u001b[0;34m=\u001b[0m \u001b[0mkmeans_single\u001b[0m\u001b[0;34m(\u001b[0m\u001b[0;34m\u001b[0m\n",
       "\u001b[0;34m\u001b[0m                \u001b[0mX\u001b[0m\u001b[0;34m,\u001b[0m\u001b[0;34m\u001b[0m\n",
       "\u001b[0;34m\u001b[0m                \u001b[0msample_weight\u001b[0m\u001b[0;34m,\u001b[0m\u001b[0;34m\u001b[0m\n",
       "\u001b[0;34m\u001b[0m                \u001b[0mcenters_init\u001b[0m\u001b[0;34m,\u001b[0m\u001b[0;34m\u001b[0m\n",
       "\u001b[0;34m\u001b[0m                \u001b[0mmax_iter\u001b[0m\u001b[0;34m=\u001b[0m\u001b[0mself\u001b[0m\u001b[0;34m.\u001b[0m\u001b[0mmax_iter\u001b[0m\u001b[0;34m,\u001b[0m\u001b[0;34m\u001b[0m\n",
       "\u001b[0;34m\u001b[0m                \u001b[0mverbose\u001b[0m\u001b[0;34m=\u001b[0m\u001b[0mself\u001b[0m\u001b[0;34m.\u001b[0m\u001b[0mverbose\u001b[0m\u001b[0;34m,\u001b[0m\u001b[0;34m\u001b[0m\n",
       "\u001b[0;34m\u001b[0m                \u001b[0mtol\u001b[0m\u001b[0;34m=\u001b[0m\u001b[0mself\u001b[0m\u001b[0;34m.\u001b[0m\u001b[0m_tol\u001b[0m\u001b[0;34m,\u001b[0m\u001b[0;34m\u001b[0m\n",
       "\u001b[0;34m\u001b[0m                \u001b[0mx_squared_norms\u001b[0m\u001b[0;34m=\u001b[0m\u001b[0mx_squared_norms\u001b[0m\u001b[0;34m,\u001b[0m\u001b[0;34m\u001b[0m\n",
       "\u001b[0;34m\u001b[0m                \u001b[0mn_threads\u001b[0m\u001b[0;34m=\u001b[0m\u001b[0mself\u001b[0m\u001b[0;34m.\u001b[0m\u001b[0m_n_threads\u001b[0m\u001b[0;34m,\u001b[0m\u001b[0;34m\u001b[0m\n",
       "\u001b[0;34m\u001b[0m            \u001b[0;34m)\u001b[0m\u001b[0;34m\u001b[0m\n",
       "\u001b[0;34m\u001b[0m\u001b[0;34m\u001b[0m\n",
       "\u001b[0;34m\u001b[0m            \u001b[0;31m# determine if these results are the best so far\u001b[0m\u001b[0;34m\u001b[0m\n",
       "\u001b[0;34m\u001b[0m            \u001b[0;31m# we chose a new run if it has a better inertia and the clustering is\u001b[0m\u001b[0;34m\u001b[0m\n",
       "\u001b[0;34m\u001b[0m            \u001b[0;31m# different from the best so far (it's possible that the inertia is\u001b[0m\u001b[0;34m\u001b[0m\n",
       "\u001b[0;34m\u001b[0m            \u001b[0;31m# slightly better even if the clustering is the same with potentially\u001b[0m\u001b[0;34m\u001b[0m\n",
       "\u001b[0;34m\u001b[0m            \u001b[0;31m# permuted labels, due to rounding errors)\u001b[0m\u001b[0;34m\u001b[0m\n",
       "\u001b[0;34m\u001b[0m            \u001b[0;32mif\u001b[0m \u001b[0mbest_inertia\u001b[0m \u001b[0;32mis\u001b[0m \u001b[0;32mNone\u001b[0m \u001b[0;32mor\u001b[0m \u001b[0;34m(\u001b[0m\u001b[0;34m\u001b[0m\n",
       "\u001b[0;34m\u001b[0m                \u001b[0minertia\u001b[0m \u001b[0;34m<\u001b[0m \u001b[0mbest_inertia\u001b[0m\u001b[0;34m\u001b[0m\n",
       "\u001b[0;34m\u001b[0m                \u001b[0;32mand\u001b[0m \u001b[0;32mnot\u001b[0m \u001b[0m_is_same_clustering\u001b[0m\u001b[0;34m(\u001b[0m\u001b[0mlabels\u001b[0m\u001b[0;34m,\u001b[0m \u001b[0mbest_labels\u001b[0m\u001b[0;34m,\u001b[0m \u001b[0mself\u001b[0m\u001b[0;34m.\u001b[0m\u001b[0mn_clusters\u001b[0m\u001b[0;34m)\u001b[0m\u001b[0;34m\u001b[0m\n",
       "\u001b[0;34m\u001b[0m            \u001b[0;34m)\u001b[0m\u001b[0;34m:\u001b[0m\u001b[0;34m\u001b[0m\n",
       "\u001b[0;34m\u001b[0m                \u001b[0mbest_labels\u001b[0m \u001b[0;34m=\u001b[0m \u001b[0mlabels\u001b[0m\u001b[0;34m\u001b[0m\n",
       "\u001b[0;34m\u001b[0m                \u001b[0mbest_centers\u001b[0m \u001b[0;34m=\u001b[0m \u001b[0mcenters\u001b[0m\u001b[0;34m\u001b[0m\n",
       "\u001b[0;34m\u001b[0m                \u001b[0mbest_inertia\u001b[0m \u001b[0;34m=\u001b[0m \u001b[0minertia\u001b[0m\u001b[0;34m\u001b[0m\n",
       "\u001b[0;34m\u001b[0m                \u001b[0mbest_n_iter\u001b[0m \u001b[0;34m=\u001b[0m \u001b[0mn_iter_\u001b[0m\u001b[0;34m\u001b[0m\n",
       "\u001b[0;34m\u001b[0m\u001b[0;34m\u001b[0m\n",
       "\u001b[0;34m\u001b[0m        \u001b[0;32mif\u001b[0m \u001b[0;32mnot\u001b[0m \u001b[0msp\u001b[0m\u001b[0;34m.\u001b[0m\u001b[0missparse\u001b[0m\u001b[0;34m(\u001b[0m\u001b[0mX\u001b[0m\u001b[0;34m)\u001b[0m\u001b[0;34m:\u001b[0m\u001b[0;34m\u001b[0m\n",
       "\u001b[0;34m\u001b[0m            \u001b[0;32mif\u001b[0m \u001b[0;32mnot\u001b[0m \u001b[0mself\u001b[0m\u001b[0;34m.\u001b[0m\u001b[0mcopy_x\u001b[0m\u001b[0;34m:\u001b[0m\u001b[0;34m\u001b[0m\n",
       "\u001b[0;34m\u001b[0m                \u001b[0mX\u001b[0m \u001b[0;34m+=\u001b[0m \u001b[0mX_mean\u001b[0m\u001b[0;34m\u001b[0m\n",
       "\u001b[0;34m\u001b[0m            \u001b[0mbest_centers\u001b[0m \u001b[0;34m+=\u001b[0m \u001b[0mX_mean\u001b[0m\u001b[0;34m\u001b[0m\n",
       "\u001b[0;34m\u001b[0m\u001b[0;34m\u001b[0m\n",
       "\u001b[0;34m\u001b[0m        \u001b[0mdistinct_clusters\u001b[0m \u001b[0;34m=\u001b[0m \u001b[0mlen\u001b[0m\u001b[0;34m(\u001b[0m\u001b[0mset\u001b[0m\u001b[0;34m(\u001b[0m\u001b[0mbest_labels\u001b[0m\u001b[0;34m)\u001b[0m\u001b[0;34m)\u001b[0m\u001b[0;34m\u001b[0m\n",
       "\u001b[0;34m\u001b[0m        \u001b[0;32mif\u001b[0m \u001b[0mdistinct_clusters\u001b[0m \u001b[0;34m<\u001b[0m \u001b[0mself\u001b[0m\u001b[0;34m.\u001b[0m\u001b[0mn_clusters\u001b[0m\u001b[0;34m:\u001b[0m\u001b[0;34m\u001b[0m\n",
       "\u001b[0;34m\u001b[0m            \u001b[0mwarnings\u001b[0m\u001b[0;34m.\u001b[0m\u001b[0mwarn\u001b[0m\u001b[0;34m(\u001b[0m\u001b[0;34m\u001b[0m\n",
       "\u001b[0;34m\u001b[0m                \u001b[0;34m\"Number of distinct clusters ({}) found smaller than \"\u001b[0m\u001b[0;34m\u001b[0m\n",
       "\u001b[0;34m\u001b[0m                \u001b[0;34m\"n_clusters ({}). Possibly due to duplicate points \"\u001b[0m\u001b[0;34m\u001b[0m\n",
       "\u001b[0;34m\u001b[0m                \u001b[0;34m\"in X.\"\u001b[0m\u001b[0;34m.\u001b[0m\u001b[0mformat\u001b[0m\u001b[0;34m(\u001b[0m\u001b[0mdistinct_clusters\u001b[0m\u001b[0;34m,\u001b[0m \u001b[0mself\u001b[0m\u001b[0;34m.\u001b[0m\u001b[0mn_clusters\u001b[0m\u001b[0;34m)\u001b[0m\u001b[0;34m,\u001b[0m\u001b[0;34m\u001b[0m\n",
       "\u001b[0;34m\u001b[0m                \u001b[0mConvergenceWarning\u001b[0m\u001b[0;34m,\u001b[0m\u001b[0;34m\u001b[0m\n",
       "\u001b[0;34m\u001b[0m                \u001b[0mstacklevel\u001b[0m\u001b[0;34m=\u001b[0m\u001b[0;36m2\u001b[0m\u001b[0;34m,\u001b[0m\u001b[0;34m\u001b[0m\n",
       "\u001b[0;34m\u001b[0m            \u001b[0;34m)\u001b[0m\u001b[0;34m\u001b[0m\n",
       "\u001b[0;34m\u001b[0m\u001b[0;34m\u001b[0m\n",
       "\u001b[0;34m\u001b[0m        \u001b[0mself\u001b[0m\u001b[0;34m.\u001b[0m\u001b[0mcluster_centers_\u001b[0m \u001b[0;34m=\u001b[0m \u001b[0mbest_centers\u001b[0m\u001b[0;34m\u001b[0m\n",
       "\u001b[0;34m\u001b[0m        \u001b[0mself\u001b[0m\u001b[0;34m.\u001b[0m\u001b[0m_n_features_out\u001b[0m \u001b[0;34m=\u001b[0m \u001b[0mself\u001b[0m\u001b[0;34m.\u001b[0m\u001b[0mcluster_centers_\u001b[0m\u001b[0;34m.\u001b[0m\u001b[0mshape\u001b[0m\u001b[0;34m[\u001b[0m\u001b[0;36m0\u001b[0m\u001b[0;34m]\u001b[0m\u001b[0;34m\u001b[0m\n",
       "\u001b[0;34m\u001b[0m        \u001b[0mself\u001b[0m\u001b[0;34m.\u001b[0m\u001b[0mlabels_\u001b[0m \u001b[0;34m=\u001b[0m \u001b[0mbest_labels\u001b[0m\u001b[0;34m\u001b[0m\n",
       "\u001b[0;34m\u001b[0m        \u001b[0mself\u001b[0m\u001b[0;34m.\u001b[0m\u001b[0minertia_\u001b[0m \u001b[0;34m=\u001b[0m \u001b[0mbest_inertia\u001b[0m\u001b[0;34m\u001b[0m\n",
       "\u001b[0;34m\u001b[0m        \u001b[0mself\u001b[0m\u001b[0;34m.\u001b[0m\u001b[0mn_iter_\u001b[0m \u001b[0;34m=\u001b[0m \u001b[0mbest_n_iter\u001b[0m\u001b[0;34m\u001b[0m\n",
       "\u001b[0;34m\u001b[0m        \u001b[0;32mreturn\u001b[0m \u001b[0mself\u001b[0m\u001b[0;34m\u001b[0m\u001b[0;34m\u001b[0m\u001b[0m\n",
       "\u001b[0;31mFile:\u001b[0m      /usr/local/lib/python3.9/dist-packages/sklearn/cluster/_kmeans.py\n",
       "\u001b[0;31mType:\u001b[0m      method\n"
      ]
     },
     "metadata": {},
     "output_type": "display_data"
    }
   ],
   "source": [
    "??km.fit"
   ]
  },
  {
   "cell_type": "code",
   "execution_count": null,
   "id": "552eb67a-b6a9-4f81-975f-84cd257d3a6c",
   "metadata": {},
   "outputs": [],
   "source": []
  },
  {
   "cell_type": "code",
   "execution_count": null,
   "id": "6ae69d88-315e-4459-aed9-2a9a56eedd89",
   "metadata": {},
   "outputs": [],
   "source": []
  },
  {
   "cell_type": "code",
   "execution_count": null,
   "id": "89cd072f-c2a9-4807-9b13-3c39e69d8809",
   "metadata": {},
   "outputs": [],
   "source": []
  },
  {
   "cell_type": "code",
   "execution_count": null,
   "id": "e9eedb24-bdbf-4338-a360-6dd2a8fb39b6",
   "metadata": {},
   "outputs": [],
   "source": []
  },
  {
   "cell_type": "code",
   "execution_count": null,
   "id": "65275773-ce0c-49d6-92e3-c1bc547abd1d",
   "metadata": {},
   "outputs": [],
   "source": []
  },
  {
   "cell_type": "markdown",
   "id": "6163dc7a-3ce4-4177-8058-c9942153716e",
   "metadata": {},
   "source": [
    "## Mean shift "
   ]
  },
  {
   "cell_type": "markdown",
   "id": "8421aa35-a0ee-4ed6-9dcc-3d923a6793fe",
   "metadata": {},
   "source": [
    "Most widely known clustering algorithm is __k-means__. Mean shift clustering is a newer and less well-known approach, but it has some important advantages:\n",
    "\n",
    "* It doesn't require selecting the number of clusters in advance, but instead just requires a bandwidth to be specified, which can be easily chosen automatically\n",
    "* It can handle clusters of any shape, whereas k-means (without using special extensions) requires that clusters be roughly ball shaped.\n",
    "\n",
    "The algorithm is as follows:\n",
    "\n",
    "* For each data point x in the sample X, find the distance between that point x and every other point in X\n",
    "* Create weights for each point in X by using the Gaussian kernel of that point's distance to x\n",
    "    * This weighting approach penalizes points further away from x\n",
    "    * The rate at which the weights fall to zero is determined by the bandwidth, which is the standard deviation of the Gaussian\n",
    "* Update x as the weighted average of all other points in X, weighted based on the previous step\n",
    "\n",
    "This will iteratively push points that are close together even closer to their mass gravity center until they are next to each other."
   ]
  },
  {
   "cell_type": "code",
   "execution_count": null,
   "id": "9b8f1323-738b-420d-b6ae-0af0aaeda770",
   "metadata": {},
   "outputs": [
    {
     "data": {
      "text/plain": [
       "tensor([ 9.222, 11.604])"
      ]
     },
     "execution_count": null,
     "metadata": {},
     "output_type": "execute_result"
    }
   ],
   "source": [
    "midp = data.mean(0)\n",
    "midp"
   ]
  },
  {
   "cell_type": "code",
   "execution_count": null,
   "id": "571f41ae-8761-413e-80b6-f582f46d2b2f",
   "metadata": {},
   "outputs": [
    {
     "data": {
      "image/png": "[encoded data removed]",
      "text/plain": [
       "<Figure size 432x288 with 1 Axes>"
      ]
     },
     "metadata": {
      "needs_background": "light"
     },
     "output_type": "display_data"
    }
   ],
   "source": [
    "plot_data([midp]*6, data, n_samples)"
   ]
  },
  {
   "cell_type": "code",
   "execution_count": null,
   "id": "7fbe6173-6b3f-4100-8b74-438d0e9e281d",
   "metadata": {},
   "outputs": [],
   "source": [
    "# gaussian kernel for data (d) and bandwidth (bw)\n",
    "def gaussian(d, bw): return torch.exp(-0.5 * (d/bw)**2) / (bw*math.sqrt(2*math.pi))"
   ]
  },
  {
   "cell_type": "code",
   "execution_count": null,
   "id": "9677370d-3bfd-41d8-bc05-f9dceab225bd",
   "metadata": {},
   "outputs": [],
   "source": [
    "def plot_func(f):\n",
    "    x = torch.linspace(0,10,100)\n",
    "    plt.plot(x, f(x))"
   ]
  },
  {
   "cell_type": "code",
   "execution_count": null,
   "id": "584ca044-3a3b-40a4-ab02-3b02e540e503",
   "metadata": {},
   "outputs": [
    {
     "data": {
      "image/png": "[encoded data removed]",
      "text/plain": [
       "<Figure size 432x288 with 1 Axes>"
      ]
     },
     "metadata": {
      "needs_background": "light"
     },
     "output_type": "display_data"
    }
   ],
   "source": [
    "plot_func(partial(gaussian, bw=2.5))"
   ]
  },
  {
   "cell_type": "markdown",
   "id": "dcd895ee-bd6e-4727-a0e4-0d2fbc1f5d61",
   "metadata": {},
   "source": [
    "Guassian kernel is used to lookup the weights depending on the distance between points - the larger the distance, the smaller the weight."
   ]
  },
  {
   "cell_type": "markdown",
   "id": "9876beeb-a118-4d44-ab24-eefbb0027197",
   "metadata": {},
   "source": [
    "In our implementation, we choose the bandwidth to be 2.5.\n",
    "\n",
    "One easy way to choose bandwidth is to find which bandwidth covers one third of the data."
   ]
  },
  {
   "cell_type": "code",
   "execution_count": null,
   "id": "56ee5b33-802e-47e8-a683-266fd9473f37",
   "metadata": {},
   "outputs": [],
   "source": [
    "X = data.clone() # copy of data\n",
    "x = X[0] # single point"
   ]
  },
  {
   "cell_type": "code",
   "execution_count": null,
   "id": "3817ffd6-f8b3-46fc-9b8d-d8063ba6f9d2",
   "metadata": {},
   "outputs": [
    {
     "data": {
      "text/plain": [
       "tensor([26.204, 26.349])"
      ]
     },
     "execution_count": null,
     "metadata": {},
     "output_type": "execute_result"
    }
   ],
   "source": [
    "x"
   ]
  },
  {
   "cell_type": "code",
   "execution_count": null,
   "id": "36001298-7e3d-44e4-afad-e4c4aff80aa8",
   "metadata": {},
   "outputs": [
    {
     "data": {
      "text/plain": [
       "(torch.Size([1500, 2]), torch.Size([2]))"
      ]
     },
     "execution_count": null,
     "metadata": {},
     "output_type": "execute_result"
    }
   ],
   "source": [
    "X.shape, x.shape"
   ]
  },
  {
   "cell_type": "markdown",
   "id": "ad3ebae7-aa9b-439f-97f7-ebcd6fce557f",
   "metadata": {},
   "source": [
    "We need to calculate the distance between each point and the remaining data. The shape of the data is (1500, 2) and the shape of a single point is (2). Accoridng to the rules of broadcasting those shapes are compatible:\n",
    "\n",
    "    X ->       (1500, 2)\n",
    "    x ->          (1, 2)\n",
    "    x ->       (1500, 2)"
   ]
  },
  {
   "cell_type": "code",
   "execution_count": null,
   "id": "8c82f8f0-a585-4dc1-b0ae-dab0f7073a8a",
   "metadata": {},
   "outputs": [
    {
     "data": {
      "text/plain": [
       "tensor([[ 0.000,  0.000],\n",
       "        [ 0.513, -3.865],\n",
       "        [-4.227, -2.345],\n",
       "        ...,\n",
       "        [-4.568, 17.025],\n",
       "        [-3.151, 22.389],\n",
       "        [-4.964, 21.040]])"
      ]
     },
     "execution_count": null,
     "metadata": {},
     "output_type": "execute_result"
    }
   ],
   "source": [
    "x - X"
   ]
  },
  {
   "cell_type": "markdown",
   "id": "ffe6a4a7-b123-4b4c-9122-30852d2f5829",
   "metadata": {},
   "source": [
    "I prefer to be explicit and directly add extra dimension by indexing into x with np.newaxis, which is equal to None"
   ]
  },
  {
   "cell_type": "code",
   "execution_count": null,
   "id": "5cf1fa93-8a88-4471-a00c-c194dd33f096",
   "metadata": {},
   "outputs": [
    {
     "data": {
      "text/plain": [
       "tensor([[ 0.000,  0.000],\n",
       "        [ 0.513, -3.865],\n",
       "        [-4.227, -2.345],\n",
       "        ...,\n",
       "        [-4.568, 17.025],\n",
       "        [-3.151, 22.389],\n",
       "        [-4.964, 21.040]])"
      ]
     },
     "execution_count": null,
     "metadata": {},
     "output_type": "execute_result"
    }
   ],
   "source": [
    "x[None] - X"
   ]
  },
  {
   "cell_type": "markdown",
   "id": "ca759010-fc16-407f-a269-889c1429c222",
   "metadata": {},
   "source": [
    "We calcalate the distance for each point by subtracting from broadcasted point matrix of all other points, summing the squared the difference and taking the square root. \n",
    "\n",
    "For a single point ($x_{1},y_{1}$) it is as follows: $\\sqrt{(x_{1}-x_{2})^2 + (y_{1}-y_{2})^2}$"
   ]
  },
  {
   "cell_type": "code",
   "execution_count": null,
   "id": "490a90d0-3d8b-4567-b2d0-803271372707",
   "metadata": {},
   "outputs": [
    {
     "data": {
      "text/plain": [
       "(tensor([0.000, 3.899, 4.834, 3.726, 6.273, 4.122, 6.560, 6.002]),\n",
       " torch.Size([1500]))"
      ]
     },
     "execution_count": null,
     "metadata": {},
     "output_type": "execute_result"
    }
   ],
   "source": [
    "distance = (((x[None] - X)**2).sum(1)).sqrt()\n",
    "distance[:8], distance.shape"
   ]
  },
  {
   "cell_type": "markdown",
   "id": "a9227d04-145a-4735-91fa-2355a0579b96",
   "metadata": {},
   "source": [
    "We can rewrite the square and multiplication operating in distance with the following Einstein summation"
   ]
  },
  {
   "cell_type": "code",
   "execution_count": null,
   "id": "224ae0e9-b59b-4571-aba0-8b3868b467ce",
   "metadata": {},
   "outputs": [
    {
     "data": {
      "text/plain": [
       "tensor([0.000, 3.899, 4.834, 3.726, 6.273, 4.122, 6.560, 6.002])"
      ]
     },
     "execution_count": null,
     "metadata": {},
     "output_type": "execute_result"
    }
   ],
   "source": [
    "diff = (x[None] - X)\n",
    "diff.shape\n",
    "\n",
    "ein_distance = torch.einsum('ik,ik->i', diff, diff).sqrt()\n",
    "ein_distance[:8]"
   ]
  },
  {
   "cell_type": "markdown",
   "id": "d79e6b73-6a43-4c22-b404-e1aff8954681",
   "metadata": {},
   "source": [
    "Now we have the distances and we need to weight them according to the Gaussian distribution (close distances get higher weights, greated distacnes get less)"
   ]
  },
  {
   "cell_type": "code",
   "execution_count": null,
   "id": "6429b3bb-3df3-4296-8fb5-660c5cc8f6ca",
   "metadata": {},
   "outputs": [
    {
     "data": {
      "text/plain": [
       "tensor([    0.160,     0.047,     0.025,  ...,     0.000,     0.000,     0.000])"
      ]
     },
     "execution_count": null,
     "metadata": {},
     "output_type": "execute_result"
    }
   ],
   "source": [
    "weight = gaussian(distance, bw=2.5)\n",
    "weight"
   ]
  },
  {
   "cell_type": "markdown",
   "id": "cdcce3d3-a4cc-4fbd-afe7-da28d60268fd",
   "metadata": {},
   "source": [
    "Note, that almost all of the weights are basically zero. This means that they can actually be ignored in the weighted sum calcualtion!"
   ]
  },
  {
   "cell_type": "code",
   "execution_count": null,
   "id": "318d3e69-d78f-432d-9c65-fd10b64ea73b",
   "metadata": {},
   "outputs": [
    {
     "data": {
      "text/plain": [
       "tensor(0.160)"
      ]
     },
     "execution_count": null,
     "metadata": {},
     "output_type": "execute_result"
    }
   ],
   "source": [
    "max(weight)"
   ]
  },
  {
   "cell_type": "code",
   "execution_count": null,
   "id": "4694bc32-0e72-482d-99eb-d37ab76fa55c",
   "metadata": {},
   "outputs": [
    {
     "data": {
      "image/png": "[encoded data removed]",
      "text/plain": [
       "<Figure size 1440x720 with 1 Axes>"
      ]
     },
     "metadata": {
      "needs_background": "light"
     },
     "output_type": "display_data"
    }
   ],
   "source": [
    "plt.figure(figsize=(20,10))\n",
    "plt.imshow(weight.reshape(15,100)>0.01, cmap='gray', interpolation='nearest');"
   ]
  },
  {
   "cell_type": "markdown",
   "id": "1c0ca2ab-d983-455f-96fd-4b619e2154e0",
   "metadata": {},
   "source": [
    "We need to get the weighted average of the data points: $\\frac{\\sum_{i}{x_{i}*w_{i}}}{\\sum_{i}{w_{i}}}$"
   ]
  },
  {
   "cell_type": "code",
   "execution_count": null,
   "id": "790a9d65-df12-46fd-9c1f-781d6dede5c6",
   "metadata": {},
   "outputs": [
    {
     "data": {
      "text/plain": [
       "(torch.Size([1500]), torch.Size([1500, 2]))"
      ]
     },
     "execution_count": null,
     "metadata": {},
     "output_type": "execute_result"
    }
   ],
   "source": [
    "weight.shape, X.shape"
   ]
  },
  {
   "cell_type": "code",
   "execution_count": null,
   "id": "debb5c26-b35f-4374-bf31-640e0576cabf",
   "metadata": {},
   "outputs": [
    {
     "data": {
      "text/plain": [
       "tensor([[    4.182,     4.205],\n",
       "        [    1.215,     1.429],\n",
       "        [    0.749,     0.706],\n",
       "        ...,\n",
       "        [    0.000,     0.000],\n",
       "        [    0.000,     0.000],\n",
       "        [    0.000,     0.000]])"
      ]
     },
     "execution_count": null,
     "metadata": {},
     "output_type": "execute_result"
    }
   ],
   "source": [
    "X * weight[:,None]"
   ]
  },
  {
   "cell_type": "code",
   "execution_count": null,
   "id": "71e127be-7a13-47af-9af9-2ce5e85a3b3a",
   "metadata": {},
   "outputs": [],
   "source": [
    "def one_update(X):\n",
    "    for i, x in enumerate(X):\n",
    "        dist = (((x[None] - X)**2).sum(1)).sqrt()\n",
    "        weight = gaussian(dist, bw=2.5)\n",
    "        # we move each point to the direction of the weighted average distance\n",
    "        X[i] = (X * weight[:, None]).sum(0)/weight.sum()"
   ]
  },
  {
   "cell_type": "code",
   "execution_count": null,
   "id": "501cab1a-aec4-40ec-89f8-166946c06e65",
   "metadata": {},
   "outputs": [],
   "source": [
    "def meanshift(data):\n",
    "    X = data.clone()\n",
    "    for i in range(5):\n",
    "        one_update(X)\n",
    "    return X"
   ]
  },
  {
   "cell_type": "code",
   "execution_count": null,
   "id": "bc97f1b8-b205-46a0-98b7-c1d7a12ba918",
   "metadata": {},
   "outputs": [
    {
     "name": "stdout",
     "output_type": "stream",
     "text": [
      "CPU times: user 1.12 s, sys: 0 ns, total: 1.12 s\n",
      "Wall time: 1.13 s\n"
     ]
    }
   ],
   "source": [
    "%time X = mean_shift(data)"
   ]
  },
  {
   "cell_type": "code",
   "execution_count": null,
   "id": "f0a9d8d2-d236-4ed0-b567-a1fefcad2ce4",
   "metadata": {},
   "outputs": [
    {
     "data": {
      "image/png": "[encoded data removed]",
      "text/plain": [
       "<Figure size 432x288 with 1 Axes>"
      ]
     },
     "metadata": {
      "needs_background": "light"
     },
     "output_type": "display_data"
    }
   ],
   "source": [
    "plot_data(centroids+2, X, n_samples)"
   ]
  },
  {
   "cell_type": "markdown",
   "id": "4c551967-3092-4b87-b1b8-04f5d1150deb",
   "metadata": {},
   "source": [
    "###  Animation"
   ]
  },
  {
   "cell_type": "code",
   "execution_count": null,
   "id": "47441db7-58c8-4c1c-9015-9654b76a1fd2",
   "metadata": {},
   "outputs": [],
   "source": [
    "from matplotlib.animation import FuncAnimation\n",
    "from IPython.display import HTML"
   ]
  },
  {
   "cell_type": "code",
   "execution_count": null,
   "id": "510a771e-1388-4770-9a26-efa42e2ae6c0",
   "metadata": {},
   "outputs": [],
   "source": [
    "def do_one(d):\n",
    "    if d: one_update(X)\n",
    "    ax.clear()\n",
    "    plot_data(centroids+2, X, n_samples, ax=ax)"
   ]
  },
  {
   "cell_type": "code",
   "execution_count": null,
   "id": "cbb79656-1d28-4535-8efd-577f55e3d616",
   "metadata": {},
   "outputs": [
    {
     "data": {
      "text/html": [
       "\n",
       "<link rel=\"stylesheet\"\n",
       "href=\"https://maxcdn.bootstrapcdn.com/font-awesome/4.4.0/css/font-awesome.min.css\">\n",
       "<script language=\"javascript\">\n",
       "  function isInternetExplorer() {\n",
       "    ua = navigator.userAgent;\n",
       "    /* MSIE used to detect old browsers and Trident used to newer ones*/\n",
       "    return ua.indexOf(\"MSIE \") > -1 || ua.indexOf(\"Trident/\") > -1;\n",
       "  }\n",
       "\n",
       "  /* Define the Animation class */\n",
       "  function Animation(frames, img_id, slider_id, interval, loop_select_id){\n",
       "    this.img_id = img_id;\n",
       "    this.slider_id = slider_id;\n",
       "    this.loop_select_id = loop_select_id;\n",
       "    this.interval = interval;\n",
       "    this.current_frame = 0;\n",
       "    this.direction = 0;\n",
       "    this.timer = null;\n",
       "    this.frames = new Array(frames.length);\n",
       "\n",
       "    for (var i=0; i<frames.length; i++)\n",
       "    {\n",
       "     this.frames[i] = new Image();\n",
       "     this.frames[i].src = frames[i];\n",
       "    }\n",
       "    var slider = document.getElementById(this.slider_id);\n",
       "    slider.max = this.frames.length - 1;\n",
       "    if (isInternetExplorer()) {\n",
       "        // switch from oninput to onchange because IE <= 11 does not conform\n",
       "        // with W3C specification. It ignores oninput and onchange behaves\n",
       "        // like oninput. In contrast, Microsoft Edge behaves correctly.\n",
       "        slider.setAttribute('onchange', slider.getAttribute('oninput'));\n",
       "        slider.setAttribute('oninput', null);\n",
       "    }\n",
       "    this.set_frame(this.current_frame);\n",
       "  }\n",
       "\n",
       "  Animation.prototype.get_loop_state = function(){\n",
       "    var button_group = document[this.loop_select_id].state;\n",
       "    for (var i = 0; i < button_group.length; i++) {\n",
       "        var button = button_group[i];\n",
       "        if (button.checked) {\n",
       "            return button.value;\n",
       "        }\n",
       "    }\n",
       "    return undefined;\n",
       "  }\n",
       "\n",
       "  Animation.prototype.set_frame = function(frame){\n",
       "    this.current_frame = frame;\n",
       "    document.getElementById(this.img_id).src =\n",
       "            this.frames[this.current_frame].src;\n",
       "    document.getElementById(this.slider_id).value = this.current_frame;\n",
       "  }\n",
       "\n",
       "  Animation.prototype.next_frame = function()\n",
       "  {\n",
       "    this.set_frame(Math.min(this.frames.length - 1, this.current_frame + 1));\n",
       "  }\n",
       "\n",
       "  Animation.prototype.previous_frame = function()\n",
       "  {\n",
       "    this.set_frame(Math.max(0, this.current_frame - 1));\n",
       "  }\n",
       "\n",
       "  Animation.prototype.first_frame = function()\n",
       "  {\n",
       "    this.set_frame(0);\n",
       "  }\n",
       "\n",
       "  Animation.prototype.last_frame = function()\n",
       "  {\n",
       "    this.set_frame(this.frames.length - 1);\n",
       "  }\n",
       "\n",
       "  Animation.prototype.slower = function()\n",
       "  {\n",
       "    this.interval /= 0.7;\n",
       "    if(this.direction > 0){this.play_animation();}\n",
       "    else if(this.direction < 0){this.reverse_animation();}\n",
       "  }\n",
       "\n",
       "  Animation.prototype.faster = function()\n",
       "  {\n",
       "    this.interval *= 0.7;\n",
       "    if(this.direction > 0){this.play_animation();}\n",
       "    else if(this.direction < 0){this.reverse_animation();}\n",
       "  }\n",
       "\n",
       "  Animation.prototype.anim_step_forward = function()\n",
       "  {\n",
       "    this.current_frame += 1;\n",
       "    if(this.current_frame < this.frames.length){\n",
       "      this.set_frame(this.current_frame);\n",
       "    }else{\n",
       "      var loop_state = this.get_loop_state();\n",
       "      if(loop_state == \"loop\"){\n",
       "        this.first_frame();\n",
       "      }else if(loop_state == \"reflect\"){\n",
       "        this.last_frame();\n",
       "        this.reverse_animation();\n",
       "      }else{\n",
       "        this.pause_animation();\n",
       "        this.last_frame();\n",
       "      }\n",
       "    }\n",
       "  }\n",
       "\n",
       "  Animation.prototype.anim_step_reverse = function()\n",
       "  {\n",
       "    this.current_frame -= 1;\n",
       "    if(this.current_frame >= 0){\n",
       "      this.set_frame(this.current_frame);\n",
       "    }else{\n",
       "      var loop_state = this.get_loop_state();\n",
       "      if(loop_state == \"loop\"){\n",
       "        this.last_frame();\n",
       "      }else if(loop_state == \"reflect\"){\n",
       "        this.first_frame();\n",
       "        this.play_animation();\n",
       "      }else{\n",
       "        this.pause_animation();\n",
       "        this.first_frame();\n",
       "      }\n",
       "    }\n",
       "  }\n",
       "\n",
       "  Animation.prototype.pause_animation = function()\n",
       "  {\n",
       "    this.direction = 0;\n",
       "    if (this.timer){\n",
       "      clearInterval(this.timer);\n",
       "      this.timer = null;\n",
       "    }\n",
       "  }\n",
       "\n",
       "  Animation.prototype.play_animation = function()\n",
       "  {\n",
       "    this.pause_animation();\n",
       "    this.direction = 1;\n",
       "    var t = this;\n",
       "    if (!this.timer) this.timer = setInterval(function() {\n",
       "        t.anim_step_forward();\n",
       "    }, this.interval);\n",
       "  }\n",
       "\n",
       "  Animation.prototype.reverse_animation = function()\n",
       "  {\n",
       "    this.pause_animation();\n",
       "    this.direction = -1;\n",
       "    var t = this;\n",
       "    if (!this.timer) this.timer = setInterval(function() {\n",
       "        t.anim_step_reverse();\n",
       "    }, this.interval);\n",
       "  }\n",
       "</script>\n",
       "\n",
       "<style>\n",
       ".animation {\n",
       "    display: inline-block;\n",
       "    text-align: center;\n",
       "}\n",
       "input[type=range].anim-slider {\n",
       "    width: 374px;\n",
       "    margin-left: auto;\n",
       "    margin-right: auto;\n",
       "}\n",
       ".anim-buttons {\n",
       "    margin: 8px 0px;\n",
       "}\n",
       ".anim-buttons button {\n",
       "    padding: 0;\n",
       "    width: 36px;\n",
       "}\n",
       ".anim-state label {\n",
       "    margin-right: 8px;\n",
       "}\n",
       ".anim-state input {\n",
       "    margin: 0;\n",
       "    vertical-align: middle;\n",
       "}\n",
       "</style>\n",
       "\n",
       "<div class=\"animation\">\n",
       "  <img id=\"_anim_img4bd475cf54d6467ca535acf0c5e77ae4\">\n",
       "  <div class=\"anim-controls\">\n",
       "    <input id=\"_anim_slider4bd475cf54d6467ca535acf0c5e77ae4\" type=\"range\" class=\"anim-slider\"\n",
       "           name=\"points\" min=\"0\" max=\"1\" step=\"1\" value=\"0\"\n",
       "           oninput=\"anim4bd475cf54d6467ca535acf0c5e77ae4.set_frame(parseInt(this.value));\">\n",
       "    <div class=\"anim-buttons\">\n",
       "      <button title=\"Decrease speed\" aria-label=\"Decrease speed\" onclick=\"anim4bd475cf54d6467ca535acf0c5e77ae4.slower()\">\n",
       "          <i class=\"fa fa-minus\"></i></button>\n",
       "      <button title=\"First frame\" aria-label=\"First frame\" onclick=\"anim4bd475cf54d6467ca535acf0c5e77ae4.first_frame()\">\n",
       "        <i class=\"fa fa-fast-backward\"></i></button>\n",
       "      <button title=\"Previous frame\" aria-label=\"Previous frame\" onclick=\"anim4bd475cf54d6467ca535acf0c5e77ae4.previous_frame()\">\n",
       "          <i class=\"fa fa-step-backward\"></i></button>\n",
       "      <button title=\"Play backwards\" aria-label=\"Play backwards\" onclick=\"anim4bd475cf54d6467ca535acf0c5e77ae4.reverse_animation()\">\n",
       "          <i class=\"fa fa-play fa-flip-horizontal\"></i></button>\n",
       "      <button title=\"Pause\" aria-label=\"Pause\" onclick=\"anim4bd475cf54d6467ca535acf0c5e77ae4.pause_animation()\">\n",
       "          <i class=\"fa fa-pause\"></i></button>\n",
       "      <button title=\"Play\" aria-label=\"Play\" onclick=\"anim4bd475cf54d6467ca535acf0c5e77ae4.play_animation()\">\n",
       "          <i class=\"fa fa-play\"></i></button>\n",
       "      <button title=\"Next frame\" aria-label=\"Next frame\" onclick=\"anim4bd475cf54d6467ca535acf0c5e77ae4.next_frame()\">\n",
       "          <i class=\"fa fa-step-forward\"></i></button>\n",
       "      <button title=\"Last frame\" aria-label=\"Last frame\" onclick=\"anim4bd475cf54d6467ca535acf0c5e77ae4.last_frame()\">\n",
       "          <i class=\"fa fa-fast-forward\"></i></button>\n",
       "      <button title=\"Increase speed\" aria-label=\"Increase speed\" onclick=\"anim4bd475cf54d6467ca535acf0c5e77ae4.faster()\">\n",
       "          <i class=\"fa fa-plus\"></i></button>\n",
       "    </div>\n",
       "    <form title=\"Repetition mode\" aria-label=\"Repetition mode\" action=\"#n\" name=\"_anim_loop_select4bd475cf54d6467ca535acf0c5e77ae4\"\n",
       "          class=\"anim-state\">\n",
       "      <input type=\"radio\" name=\"state\" value=\"once\" id=\"_anim_radio1_4bd475cf54d6467ca535acf0c5e77ae4\"\n",
       "             checked>\n",
       "      <label for=\"_anim_radio1_4bd475cf54d6467ca535acf0c5e77ae4\">Once</label>\n",
       "      <input type=\"radio\" name=\"state\" value=\"loop\" id=\"_anim_radio2_4bd475cf54d6467ca535acf0c5e77ae4\"\n",
       "             >\n",
       "      <label for=\"_anim_radio2_4bd475cf54d6467ca535acf0c5e77ae4\">Loop</label>\n",
       "      <input type=\"radio\" name=\"state\" value=\"reflect\" id=\"_anim_radio3_4bd475cf54d6467ca535acf0c5e77ae4\"\n",
       "             >\n",
       "      <label for=\"_anim_radio3_4bd475cf54d6467ca535acf0c5e77ae4\">Reflect</label>\n",
       "    </form>\n",
       "  </div>\n",
       "</div>\n",
       "\n",
       "\n",
       "<script language=\"javascript\">\n",
       "  /* Instantiate the Animation class. */\n",
       "  /* The IDs given should match those used in the template above. */\n",
       "  (function() {\n",
       "    var img_id = \"_anim_img4bd475cf54d6467ca535acf0c5e77ae4\";\n",
       "    var slider_id = \"_anim_slider4bd475cf54d6467ca535acf0c5e77ae4\";\n",
       "    var loop_select_id = \"_anim_loop_select4bd475cf54d6467ca535acf0c5e77ae4\";\n",
       "    var frames = new Array(5);\n",
       "    \n",
       "  frames[0] = \"data:image/png;base64,iVBORw0KGgoAAAANSUhEUgAAAbAAAAEgCAYAAADVKCZpAAAAOXRFWHRTb2Z0d2FyZQBNYXRwbG90\\\n",
       "bGliIHZlcnNpb24zLjUuMiwgaHR0cHM6Ly9tYXRwbG90bGliLm9yZy8qNh9FAAAACXBIWXMAAAsT\\\n",
       "AAALEwEAmpwYAABQKklEQVR4nO3deXxU1f3/8dch+0L2EJJASNhEjCwSEFAkUdypIlV/Uq1LbXGr\\\n",
       "pdhasfZboK1L61ZrKRUXtNViXTBS3JeERUQIArLInpCVkD0kM1k5vz/u3MtMGELYkpnk83w8eCS5\\\n",
       "d5Yz1ObN59zPOVdprRFCCCG8Ta+uHoAQQghxMiTAhBBCeCUJMCGEEF5JAkwIIYRXkgATQgjhlSTA\\\n",
       "hBBCeCUJMCGEEF5JAkwIIYRXkgATQgjhlSTAhBBCeCUJMCGEEF5JAkwIIYRXkgATQgjhlSTAhBBC\\\n",
       "eCUJMCGEEF5JAkwIIYRXkgATQgjhlSTAhBBCeCUJMCGEEF5JAkwIIYRXkgATQgjhlSTAhBBCeCUJ\\\n",
       "MCGEEF5JAkwIIYRXkgATQgjhlSTAhBBCeCUJMCGEEF5JAkwIIYRXkgATQgjhlSTAhBBCeCUJMCGE\\\n",
       "EF5JAkwIIYRXkgATQgjhlSTAhBBCeCXfrh7AmRITE6OTk5O7ehhCCOFVNmzYUK61ju3qcXREtw2w\\\n",
       "5ORkcnJyunoYQgjhVZRS+7t6DB3lkVOISikfpdRGpdRyx88pSqlvlFJ7lFL/VUr5d/UYhRBCdC2P\\\n",
       "DDBgFvC9089/Bp7VWg8GqoA7u2RUQgghPIbHBZhSqh9wNfCS42cFXAy843jIa8C0LhmcEEIIj+Fx\\\n",
       "AQb8FfgNcNjxczRQrbVucfxcCCR2wbiEEEJ4EI8KMKXUVOCg1nrDST5/plIqRymVU1ZWdppHJ4QQ\\\n",
       "wpN4VIABFwDXKKXygDcxpg6fAyKUUmbHZD+gyN2TtdaLtNZpWuu02Fiv6AIVQghxkjwqwLTWD2ut\\\n",
       "+2mtk4GbgC+11jcDWcD1jofdBrzfRUPsXuor4KvnjK9CCOFlPCrA2vEQ8IBSag/GNbGXu3g83cOm\\\n",
       "1+Gz3xtfhRDCy3jsQmatdTaQ7fh+HzCuK8fTLY26xfXrsdRXGCE36hYIie74OSGEOIO8pQITZ0JI\\\n",
       "NFww6/jB016ldjqrOJnSFEKcAI+twIQHaa9S62gV1xFmGIIRrEII0Q4JsO7udEzxmZXaiZ47Uacz\\\n",
       "DIUQ3Z5MIXZ3ZlWz7oWOT885T+WdyrTeiT63o1OaQgiBVGDdn1nNNNlcp+fcVWbmsSYbrHjiyGuc\\\n",
       "7LSeTAkKIc4gCbDuzqxq6ivAP/hIoK1bZIRUkw0yHjaOmYEz+SG49A+uU3kn0KlY0QDR0dGuU4L1\\\n",
       "FVSseIHoyXdJhSWEOC1kCrGnOGp6Trf5Cgy9CoZcBqk3HHms8zWurMch6zH3U4uO8Jv340mMODeV\\\n",
       "Xbt2ubznrmXPMOKm3zHv/ps76xMLIbo5qcB6qnF3gX/IkSqpvgI+/S3s/hSSL4TYWUeOt51WLN4I\\\n",
       "McPg678Zx1Ovh71ZzNsYy/xlxl1wMjIyyPpgKUPr17IrZDwZv3qF4kOa+Ys/gaR5zJs3r/M/sxCi\\\n",
       "W5EA66nadg9uet0IryGXuU4XOk8rTp4DeSuNx9mrjPPN9fDpb5n3ykfMX9FkPa24uJiM9EksusqX\\\n",
       "mR9piqsbrHPz58+HJhvzHnlIFkELIU6aTCEKw6hbjOte0/7pGibm8XF3wbiZgDKOa8dXvxAq0h7k\\\n",
       "xe9c/1OaxjRsNSFMXWLHVh3ItDa3cHvxxUVUrHhBtrISHq+yvokXVuylsr7p+A8WnUoCrKcq2w1v\\\n",
       "3GB8Bfct7G07Fdctgv1fGecSRjqul11P9FnjyFq7mYT4voARXrOYxbM8SzLJPMuzzGKWFWIJMeFk\\\n",
       "ffaJ0dDh3CwiO3EID/R2TgGPf7SDt3MKunooog0JsJ7KvN716W+P/Zh1ixxryBYZoVKw1jg+MB2C\\\n",
       "o4znf/RryHqcoYnRZD39ExJ6K7LJJo88kklmMYtJJpk88sgmm4T4vmR99glDq74wXtd5+lA2FxYe\\\n",
       "6Ia0/jx85TCmDI+TSszDSID1VGPvguAYOHdGO4uWnToV1y2CfdkQNQiufMroVIwaaBxb8QRsep2h\\\n",
       "U25n0cyJVFPNfOa7vN185lNNNYtefImh9WthxZ+t51nM6UrZiUOcYR2ZFjQfA3DX5EF8vr1UKjEP\\\n",
       "I00cPVF9BXw6B2zlsPIxKN995JzzwuNxd4GtEra8DUkXGMcr98LWd4w1ZZX7jGMRA6BsN7s+uoaZ\\\n",
       "i3YSQQRzmevylnOZy2xmM3PmTKM7cfJDgLLWiLHpdaONX4hOYE4LghFOzirrm3g7pwBbUwvPfbHH\\\n",
       "eswNaf0BoyIzH3NDWn+iQvw7d/DCIhVYT1NfAZl3G6EVNQhS0mHi/UY7/NCrjlRAZbuNx+3+1Aiq\\\n",
       "nR/AgImOF9HGY0b9GHyDoHo/u754lYy/7aT4kCaddGva8A7usKYT00k3uhOvmsauxOuNBdQh0Uem\\\n",
       "Dj/69ZEpSyHOoCnD48g4K5Ypw+OOOnck3BQPXzmMS1KCAYgK8eeuyYOICvHn7ZwC/rR03VHVmDR8\\\n",
       "dC6pwLqL423a67yey2yXTxhtTOUNucw4BkZlBUeukYX3h6AosFdC8kWQPAmrE7FwLbTYqbBBxms2\\\n",
       "ig8ZU46ZZAKQTTbVVDOb2aSTbh0vLjlARvpkvtuy1XXHjvpyY0rSeXG1EKeJc9X0+fZSsnaWMaJf\\\n",
       "EcH+vlYlVVnfREVdIxcOjmHy0Fh+P3cu8z59lxXZWQwdOtR6rdHhdg79Zzb7Qn4Gk/9oHTfDz9bU\\\n",
       "Yr2ueVyqtdNPAqy7ON6+g223iRp6FWx921jblXq9sXi5qd54TFM9RCRBYCTUFMDEX4BfkPE6TXZj\\\n",
       "AXPeKug7EurKiU4Zzc/SPmV+ls16u0wySeiteP3/DWDmf/PJPJTpMpyfXTHSCC9w3e4qJEaugYlj\\\n",
       "ajt1dyJTea+tyeW5L/Zga2rhtokpANiaWl2mEt/OKWDRqlwAtv7vJTYvewlwLMzPMkJs165dXHf1\\\n",
       "5dSUl/KXx/9EkL8P8+bNo7K+CVtTC7MuGQJgva7z922nK8WpkQDrLtq7FUl9hRFKk+cYa7lCoo1m\\\n",
       "jRV/NjoKARLHwscPwtifAQrWv3T066x4Avo5boxtttMD5H7JvIt8IeJs5r9n7MSR0FuRdVswQ0cO\\\n",
       "JiuwnIwlvSiuOATA3OvOZt7zbxwZm3Pl2N6mv3L35x7vSIXTSrC/z1HXqdqnrK/mdGBlfRPB/j4u\\\n",
       "17cq6hp584Vn2Py/l61nFhcXk5GRwaJFi/jpz2ZyoKTYOjd/vtGwFJ/xY577Yg8PXzmMG9L6u7yu\\\n",
       "+dqnk1yHk2tg3Ud7tyJZ94IRVubU3FfPHdn30OwizLzLuNaVm22E3NifQWCE8XgN5K42vm927KjR\\\n",
       "O8H46hNgfO03jnn338LcX/+chHA/I7wSo6HvKIZOf4Sszz8jIb4vc++4nHn/XnVyrfPSZt/jmS3t\\\n",
       "oF2uU3UkHK4ZlcCFg2Ooqm/k2c92ub1OFRXiT0Crje1Z77kcn8Y0bMU2pk6dSkOJzc3C/Be5JCXY\\\n",
       "Govz9TLn708nWZ8mFVj34tzNt+tDp0rF8S/PZvuRxgwwdt1Y94IxLWivgvyv4JqFULEPNr0BzTaI\\\n",
       "GWI8Pd9RcZXvNL6G9oHWJqOTEaB8FxSuY9656dw/M4DomD7GuZwXYchlDB03k+/WriS64EOjs9Ec\\\n",
       "Z5PNmNbsyLSh3PBSOFwzKhHjP0x9VAXirjKprG/iT8u3s3pPOauNgo1gfx/AdXqvsr6JXkG9efBv\\\n",
       "/+Hlh++grLTEWph/Ldcyn/nMZS7JJAPGVHnf+ASysrIYnBTP4CTaHcfp5Fw19lQeFWBKqUBgJRCA\\\n",
       "MbZ3tNZzlVIpwJtANLAB+LHWWtp82jIrlLzVR0LqgllGReUf7NrAYYaAf4jx9eu/GdfGksbC30Yb\\\n",
       "4eUbCEOuxKrczGYOAL8QI6ACwqGlARqqjePle4g+exJcMh/2fgYF64z33PQ60U31RiW462PYvwb2\\\n",
       "fmlUgJf+4ejK0d104em8+7PwSs7t78H+Pjz+0Q6C/X1dpg+dr3XNvvQs63lZO8s4PyWSppbD+Pv6\\\n",
       "MGV4HJHBRrCYi5Qr6ppYtGofsy4ZzOqV2WRkZJBdnM21XGstzAeOLMxPSOC9Dz4hq8QHn8g6Pt9e\\\n",
       "agVWe636p4NZ2fVknjaF2AhcrLUeCYwCrlBKjQf+DDyrtR4MVAF3dt0QPcCxtlwyFwJf9pjrguCQ\\\n",
       "aKPaKVhrNGSY+x1ajR/qSGPHV88dWfMVc7YRbFveNdZ6Xfk0DMww2u5/4HhcYw20NhrTjREDoLbQ\\\n",
       "uD5WsAYyfgs/fNlpLEeuQQBGBTd5jvuKSqYLhRvOu2LYmlqZdclglx0yKuub2LDf2Gh6w/5qa5rQ\\\n",
       "fN74gTFsLKjhm9xKZv4rh7zyegCWbSrm8Y92sL2kBoD3NxXjE5nA039b0O7C/Kf/toCFG208/tEO\\\n",
       "/rR8u8uUnvmePblCOtOU1p7ZsqyUCgZWA/cAHwB9tdYtSqkJwDyt9eXtPT8tLU3n5OR0wki7wFfP\\\n",
       "Gb/cL/1DxyuSN24wKqGYIXDHJ0aAta1yzNed/JAx3bj9fajef+Q1hlwGN7995HlmJQVGMA67Bpbe\\\n",
       "CaFxRojuWAZFG6DPcAiONrodt75tTFmWfnek+nL3GaRho0fq6LTbCyv28vhHO5h1yRBy8ir5am8F\\\n",
       "FwyKJi05kue+2MOg2BD2ltWTcVYsv5s6nP+uL2Dt3nLK65oYmxxJ9q4yauwtJEcHk1dhY0BUMJPP\\\n",
       "iiXQtxefbi8lr8LGeeF2vnj6PnpVNFn7epryyGM2szkc7U/o9D+SPnYE5ySEE+Tvw20Tk4/qkATv\\\n",
       "aaVXSm3QWqd19Tg6wqOmEAGUUj4Y04SDgQXAXqBaa93ieEghkNhFw/MMJ3Mt6LLHoCrXWMCcebdR\\\n",
       "hbl73aZ6QMGB74zwCgyHhhpjPdhljxmPM5tC0n4GPv4QPcRos9/7mfGc6v2w6i9HpjHNjkX/YGPK\\\n",
       "csWfjcpr0MVH78ThfO1Opgt7nI7skHFDWn8rFGxNLXy115iJ+GpvBeckhHPh4GgSIoJoaG4la2cZ\\\n",
       "tqYtfJNbab3Oyt3l1NiNXydRIf60Htbsr7Txv83FVNmaOT8lkmD7QT5/6hccqjzINKZZC/Odr4Gl\\\n",
       "k05mRSYs/T8OJf2dRXsrePjKYVZAOX8WkFb6M8HjAkxr3QqMUkpFAO8Bwzr6XKXUTGAmQFJS0nEe\\\n",
       "7cVO5pd7rKPyMps41r1g3JjS+VqZ2fCx4okj4RQxANa/CKN+ZLwGYE0BKozH+AYZoTThF0ZbftwI\\\n",
       "OPsa4/pXQ7URfudcd+Tml+BaWZmVn3ntLm/10bd1ET3CsRoTKuub+MWSjazeU46tqZXZlw61mi7s\\\n",
       "Ta1sLqxhZD+jAlq9x3VqvaDSRligL7UNRmj1jwzi0rPj+GT7Ab7Nr6Z3oNHMUWVrJjLYjzXb93Ng\\\n",
       "8f20HDJe53gL82srDvLhn+9m3AMvMzY5ihdW7LVC1tbUgq2plWtGJbj9XOLUeFyAmbTW1UqpLGAC\\\n",
       "EKGU8nVUYf2AomM8ZxGwCIwpxE4brLcIiTaCoe2OHC6VnOOvLSQKpj5lbClVvd/YvNeslFKvN6op\\\n",
       "swmjtcmYCmyqN34edLFxDayh2piy/H9LjMrqs98bzxt6lRGklz1mhKL5/uZeiI6mD6nAepb2pg/f\\\n",
       "zilg9R6j43XD/kr2lhkNE1OGx7H7YB3f5FYS7O/D/RcPYe2+cgoq7RTXNBAZ7EdxjbH0o3+ksRj/\\\n",
       "u6Ja6ptarSrsUEMrgX69GNqnN98V1eATFEbIiMuo+WqJ9f6ZZBIaGUvsJXOp+2wBmTWZLuMLHXk5\\\n",
       "xY1+PP/lbrJ2lgFGpRXs7+toNPGRyusM8KgAU0rFAs2O8AoCLsVo4MgCrsfoRLwNeL/rRtlNmCHU\\\n",
       "9hpT6g1GZZZ6g/Hzrg+NQEm+0Pj5s98b4ecfDOm/MyqwSb8xAiv1BmOK0DkQzdcPdpr2dG7lv/lt\\\n",
       "14rSDFizoUSugfUY7U0fGtVMKxv2V7J6TwVz39/G6j3lfLLNqKL6RwZZwfFNrtHEccGgaP4wLZVl\\\n",
       "m4qoqm8ma+dBCqrsXDAoml9ddhbPfLaLhPAAPtleSo29hfK6Ruv9kqbcRj5YIeYTGkXEDX/CJzKR\\\n",
       "tHP/zopn78dWbbzf8Kt/QuoP7mRAdAj7K+qZOWngUZWkVF5nhkcFGBAPvOa4DtYLeEtrvVwptR14\\\n",
       "Uyn1J2Aj8HJ7LyLacbwtp5wDK3aW++tt9WXGNGPUQJjx1pHqygw2MEJn1C3ud9kwr6WZX52ZjzOn\\\n",
       "FY81TtHttLfbe1SIP7MvHWodr6hrZPWecsoOGaGTEBHELeMHMGV4HM2tW1m9p4JzEsP5fHspt01M\\\n",
       "4VdvbaKgyg7AOYnhnDcgktd/er7xxm9v5q0NhUQEHanWrjgnjuJ+v2BjRBA7V2QSN+NxfCITCQ/y\\\n",
       "JW3EcIb95TVemnM7Yy+/npjJt/BNbiWltY3kVdgI9ve1KkhpdT+zPCrAtNbfAaPdHN8HjOv8EXVD\\\n",
       "x2sAaXu+7fW2C2ZB1uPG95X7jE1/zYYQcy9F83HHCsvYIUbldSrjFN2O8y97s8sQXKsx5y2gokMD\\\n",
       "GJscxfNf7uZ3U4czKDaUyvomxgyIZMyAKMzdOtbuq2D66ES+3ltOQ4smyM919VBRtRFsAX69rK7E\\\n",
       "PWX1fJtfza0//SWHb/kpX+yzUVLbQFigH/9amw/A1fNe59xB/Vi0cp81tn6RQfxu6vAz/VclHDwq\\\n",
       "wLxFS1UVNUuXEj59Or6RkV09nBPjrgHkRPYjBGNhdJPNaIW/7DHXzXidpxBPJITajkG6EHsMd9e+\\\n",
       "3E29tX2cGWxP3ziK19bkYu7M8dwXe5g5aSDbims4LymCrJ1l5JbX09CiCfRVVNU3W+vD3s4p4FeX\\\n",
       "nYX/l7sZEtebRSv3MSg2xHrPfeU2Jg3pQ8mmHVZr/oWDjSnt1Xsq6BVorBsbEBXMt/nVPHzlMAbF\\\n",
       "hp7QZxUnTwLsJNQsXcrBJ58CIPpOL19Tbd4fzLkb0fmcc6g4/3z5H49+rbahcyIhdLypTdFtubv2\\\n",
       "5W7q7VjXyN7OKbA29J11yRAevnIYq3aX8dXeCqtxY1xyFFW2JmrsLfxr7X4iQ/z5rrCarJ1lPHzl\\\n",
       "MBbfMY7K+iZ2lx4ia2cZvQN9SIwI5IFLh5IcYwTalOFxVuPIsk3FDI8Po6HlMErBA5eexfq8yuNe\\\n",
       "6zrTu3P0NBJgJyF8+nSXr17Hed2Ved+vo7oRcd2aymyuOFbInOrCY5ky7LE62uhgnjd33jCrmCnD\\\n",
       "41i5q8xR+Rh7I04ZHseflm8nNjSAgg2FBPr5EOLvS429hcSIQECTtbOMCwfHYGtqobK+iagQf56+\\\n",
       "cRRTnsmmsr6ZQw2trM+r5LwBkdyQ1t+qnIzA3E3GWbFW48ikIZXWOTPo3FVZ0tRxekmAnQTfyEjv\\\n",
       "rrza7pk45DL3665G3XLkMWY4mcfBNbTaht2JhphMGfZYx2t0cJ52u2vyIJfrYzek9ef3mVuPLGZe\\\n",
       "W2Htjfj0jaP4xZKNAOwrr7caNK4+N8G6H9iG/VU898UeNuyvZsyACG6bmMJLt47lgbc2cdGQGJdd\\\n",
       "NMzbuIBm1iVDuGZUAiP6FQHKCi/zmptzK/2JfFZxYiTAehLnyguMr8kXHrtqcl435u76mBlaTTZA\\\n",
       "G/skyhoucZq1nXZzrmLezimwwmtQbCgXDY21uhh/9dYmVu8pJ+OsWO6/2FiEPzy+N3enGwGSk1fF\\\n",
       "V3sriOsd4NilvpzvCmv43dThzBiX5PaanHn/MfNal7lZsPNjpgyPY/zAUqmyOoEEmIc7rQ0j7qYA\\\n",
       "Y48TNO1VRmYlZu4yP/khGJQh04DitGo77eZcxdyQ1p+Vu4zrXZEhfi5djFk7y8g4K5anbxxlLYQe\\\n",
       "nhDGL5Z8S3PrYWu9WENLKwCBvr0cW099xze5VdYOGn9avp3fTR1udT+CcSdnc9rRFBXi7zLVKE0a\\\n",
       "Z54EmIc7HQ0jVghePhXfSzl9AeOu+7C9qUPZoFechGNNu5lTi3+YlmpdczI5h54ZLLamVt7fVERe\\\n",
       "hQ2ACwdHM2ZAFKP7R/DHD7YzJimStzYUcuSuCZo/Ld/umA7cbgUhwHNf7Ha7u4Y0aXQuCbAu1JHq\\\n",
       "6nQ0jLiGYBdO7UmnoTiN2guLtqEXFeJPsL8PeRU2IoL8uGZkAr+8dKhVJaUP60NlfROD+oS6NGFU\\\n",
       "2ZoAowIz38/sdHQ3RShNGp1LAuw0Ol4gtT3ftrpy9/zT0TByxrsmOxpM0mkoTqMTDYsb0vpbDRaJ\\\n",
       "kUFHTfE5h96gyaHWscV3GHsoRKYduR52rOlBadLoZFrrbvlnzJgxurOVv/SS3n7WMF3+0kvWsebK\\\n",
       "Sl3+0kvWV+fzzuecn79/5swjx8rL3b/XMY53ibpyrVf/1fgqhAerqGvU/8zeoyvqGrt6KB4LyNEe\\\n",
       "8Du8I3+kAjuN3FU6zlWWeTz04oupePllwqdPd6muwqdPp37dOupXrKRm6VKeLyjgxRdfJCsri4Gx\\\n",
       "sVZ1tq+sjIyMDH72s58xb968zvuAxyIt8MJLtFchyS4Z3qfX8R8i3GmpqqLi5ZdpqaqyjpnTfeb0\\\n",
       "X0tVFYdtdqJ+cgeHbcZ+a9F33kndl19y8MmnqFm61OW1ABKeeIKY++7jiXfeYf78+RQXF5ORkcGG\\\n",
       "f/yDg08+xYZ//IOMjAyKi4uZP3++ZwSYEN2AeY3LbNQQnk8qsJPkrjuw7TWsihdfpPKVxfj2S6Sl\\\n",
       "sIhewUFE33nnUZVa1etvUL5gAYdtdmLv/zlPfvYpT338sfVexcXFTH/+ef40ejS/e/55iktLrXPz\\\n",
       "588HkCATwuFkKylpwPA+EmAnyAyp0IsvBtxPFx622egVHIxtw7fGcwqLCJl8UTtNFNr6WlFRwRs5\\\n",
       "OS5npzGN7NJsfvLxx0QQwTSmWXeDBXhx0SJujowk5dZbvW9zYSFOs5NtZZcGDO8jAXaCzJCqX7eO\\\n",
       "hCeecAkMM6AO2+wcfPIpAkePAiBw1CiXxx4JOju9goMImTQJ+9athE2dik+vXiy97z6mL1hAcUkJ\\\n",
       "05jGLGZxLdcyn/nMZS7JJAPGXWITEhJYeu+9tCz8JzWhoUd1LHr1zvlCnASppHoOCbATFDRmDL2i\\\n",
       "Iq1GC+fAMK+BtVRV0Ss4iJaKCho2biL4vNFUvf4GoAmbOpXDNjsx993LYbuN8gULCJ4wAdvXX1M3\\\n",
       "zmjXDfv36yy97z6mPfUU2dXZXMu1JJPMYhYDkEce2WTTNzz8SINH375uK7xutXO+EB0glVTPoYyu\\\n",
       "ye4nLS1N57SZijtZzlVM8Zw51K9Yid/AFJLfeOOYVU1LVRVVr78OKA432Kl8+RUAK6z8BqYQNHo0\\\n",
       "te8uJeLmH+GfkEDQmDGUPfc3/Aem4BsRwVfBwVz305+6hBfAHdxBHnm8cddd/Oif/+zw2KUCE0Ic\\\n",
       "j1Jqg9Y6ravH0RFSgXWAcxUTN2cOpY6vbQPBCC2j0jpsb6DylVfwG5BEyIUXWo9pPXSIXuHhNO/L\\\n",
       "RTc1A1C3ejVJ//wnpU88ge3rr2kuPcDuHTu5u/QAEUQwl7ku7zOXucxmNr96801G3Xknw8eOPebY\\\n",
       "vX7nfCGEOAZpo++A8OnT6fPgrwmfPp2AlBSSXniBgJSUox5Xs3Qp5QsWUL7gHzR8/z0AzfvzacrN\\\n",
       "JXjiBAAat27lcI1xF9eA4WeDjw8t+/PJ/9lM/BL7ETxhArU338wdxUWU2mykk04yyeSRZ1VeySST\\\n",
       "TjoHamq45LLL2LVrl9u2fiGE6M48qgJTSvUH/gXEYbTmLdJaP6eUigL+CyQDecCNWutO+U3d3hSc\\\n",
       "8zkwmjcibv4RTbm5hP/wepr27+dwczOHbTYif3wrDdu/53B1NUFjxxIybiw1y5dDq7ETdkthIdX/\\\n",
       "+Q++99zN1ffdR2ljI4DVbZhNNtVUM5vZpJNuHT9QXU1GejrZDz1Ey8J/UvfVVwQOO5teQUFE3nKz\\\n",
       "TBsKIbotjwowoAX4ldb6W6VUb2CDUuoz4HbgC631E0qpOcAc4KHOGFB7TRDO67cAl4aM5gMHaCku\\\n",
       "BqChrIzS/D9xuLoav4Ep9Pvbc/hGRhIyaRKFv/41vhGRBI0cgW9EBCGTJnF9ZCR/d1Rp4Og2jI/n\\\n",
       "6bNG8fDq1WS2ZLqM40cjR5Fy660Ub99O/YqV2NZ8DWCtOxNCiO7IowJMa10ClDi+P6SU+h5IBK4F\\\n",
       "0h0Pew3IppMCrP2NcI0GmMN2Gw07jHUngWcPI/TCC/AfMoTSRx8l8Nxzaa2spPflV1D27LMEjR4N\\\n",
       "GNWbfcMGwi+/nMqXX+FwbS0Jf/kzxQ89xL0BgRyOjuYfFcaN+uJjY8nKzmaAnx8D58zh5hUrrMXM\\\n",
       "90ZH85urrgQgKPVcAgYNAhS9goLO3Oa9QgjhATwqwJwppZKB0cA3QJwj3AAOYEwxdor2miAib7mF\\\n",
       "XsHBHLbZsa35mpDJFxH9s5/hGxlJ2fN/p3l/PuFTf0DkI4+Qd/PNHK6upvbdpTTnF9B8sJSW/fn4\\\n",
       "DkgCoDk/n/zb70A3GLc9n5V6Lr3y9/NWQQFvTJpE5CefcuDbb4nb/B1L77+faX/5C9P9/Pj1lCmA\\\n",
       "our11ylf8A/6PPhrqbqEED2CRzZxKKVCgXeBX2qta53POXZLdtv7r5SaqZTKUUrllJWVnfI42jZG\\\n",
       "tFRVUfrkk+z/yU9ozM21wi3ylpvp8+CviZszh5qlSx2PN6szO8Vz5tC8LxcCA/EfNgz7+vW07M9H\\\n",
       "BQUZIdavn/HZGhrwiY0lcNQo/Pv347FXX+WT628g2c+f8gULjPb7AUkk+/nz5S9n8/OYWHoFBVO+\\\n",
       "YAGgiLnvPg7bbG4bOaTJQwjR3XhcgCml/DDC6w2t9VLH4VKlVLzjfDxw0N1ztdaLtNZpWuu02NjY\\\n",
       "k3p/51/05vWvqtdfp+z55yl64FdUvvwKtjVfU/rEEy6b8EbfeSe1yz/g4JNPUfTArwibOpU+D/6a\\\n",
       "XkGB1K9YSa+ICGho4HBdnfE5e/dG2+0EjR1L0ouLUCEhABy22WjYtAn7+hwqF79K/ymX0LBpkzG4\\\n",
       "wECa9+dT+corxMRE0+fBXxN1x+34DUwhZNKF9AoOonzBP47aJNj5s5gBK2EmhPB2HjWFqJRSwMvA\\\n",
       "91rrZ5xOLQNuA55wfH3/TI3B3e1PDtvsjioHgsaORfn5EjdnzlGb8JpVl+3rr6ld/gGx9//cERKK\\\n",
       "uq9W07CpmtDJF+GfkMChrGzsOTmgNdVvv2OVlH79+9MrIICGzZvxjY+3drM/9PkXNOfn4zcgyZiW\\\n",
       "dHQY5t91F837cilfuJC4OXOoX7fO2qfR3WcJnz5dducQQnQLHhVgwAXAj4EtSqlNjmO/xQiut5RS\\\n",
       "dwL7gRvP1ACcf9E7bw1lhJNq05quXb5G3nIL9evWYV+fQ/26b4isMh7bKziIhk2bCZ44Ad+ISMKn\\\n",
       "TydozBiKf/MQhxuMBc+m4DHn4RsRScPmzbSUlFC7dCl9Hvw1/V8wFjrHzZnjsgYt5p57aMrLw69f\\\n",
       "P6rffpv6FSupTU0l8pZbOGyzEXPffS6fpe1nFEIIb+VRAaa1Xg2oY5y+pDPG4K5pwzcyktj77z/q\\\n",
       "sWYTh3MQKF8/AOzrc6h6/XVi77+f0Isvpn7dOgIGD6Z8wQLsW7cQlJpKc37+Ua/ZKyCQw3YbQWlp\\\n",
       "+A9MIfi80VYAJb3wgvU4c1rwsM1O8/58qvf/h+AJE8xROBZVG00dbdeCye4cQojuwKMCzNuYQdCY\\\n",
       "m0vxnDkEDBpkNFokJTnCycjiui+/pH7FSoJSUwmZfJHj+3OJuvMn2Dd/R8DQofQKCqRXYCAA5Qv+\\\n",
       "AYA9J4eQyRfRdilyS1UVRQ/8CtvXXxP1k58Qc999mBsF1335pUuguquyZH9EIUR3IAF2Ao71i7/0\\\n",
       "iSeoX7GSptw8Yu67l7CpU6l+5x1sG7+lMTfXZcourLqaA03NtFRV0pSbhz0nh94Z6VZF1JibS/Xy\\\n",
       "5bTsz8cvKcntrvc1S5di+9qxWDkokMhbbqZm6VJ8IiKsKc/2AkqugQkhugMJsBNgrrU6bLO5TCnG\\\n",
       "zZlDQUEBzfty6RUcjE9EBIeysmjel0vpE0+Q9MILVrCYG/aaAeQ3MMVqugCjWmvZn0/I5IuIuece\\\n",
       "yhcudDkPRhAettk5bLcBioqXXjIWQzuaSY4XUHINTAjRHXhcG71nUy5fzXZ0n4gIkt94w1qHVfX6\\\n",
       "GzTvy8VvYAox99zj0spev2IlwRMmEPWTOwhKS6N5Xy61y5db72BuHBw3Zw7lCxdSv2IldV9+6TIK\\\n",
       "38hIIm+5mca9eylfsMDaONhsJnHefNgdc+pTpg+FEN5MKrATEHnLzfQKPrJFU9tKp1dwEAeffIqY\\\n",
       "++61AuRYrezmbh32nByc+1bMcKl4+WXqV6wkZPJFx7xRpXk+bs4cl2tf0qQhhOgJJMBOQNtgaDsV\\\n",
       "1zag3B1zfn7bQHTm7rXaOx/QJrCkUUMI0d3JHZlPkacGRcXLL3Pwyadkb0QhxAmROzL3IJ7a0SeN\\\n",
       "GkKI7k4C7BR5alDIdTAhRHcnXYgnqe1Gvp4yfdiZG/VWNVSxeOtiqhpkU2AhROeTADtJzru7e5LO\\\n",
       "HFfmnkye2fAMmXsyz/h7CSFEWzKFeJI6a+rwRJtEOnNKc9rgaS5fhRCiM0kXooeTbkIhRGfypi5E\\\n",
       "mUL0cMfbVeNkyfUrIbqGrbaG9cvexVZb09VD8XoSYB7uTG37JNevhOga27I/Z+Ubi9mW/XlXD8Xr\\\n",
       "yTWwHkquXwnRuWy1NWzL/pyBY84H4Jz0KV08Iu8nFVgPFRkYyR2pdxAZeHoqu/amJGW6UvQU7U0P\\\n",
       "mpXXvg3fMPaaHxIcFn5SryOOkAATp0V7U5InMl0pYSc62+kMi/amB89Jn8JFN9/RocpLphk7RqYQ\\\n",
       "xSmraqjC3mLnnpH3uJ2SPJHpSjPsAO5IveM0jlII98ywABh7zQ9P6LnmtOA56VMIDgu3wsldSAWH\\\n",
       "hXf49dt7HXGEx1VgSqlXlFIHlVJbnY5FKaU+U0rtdnz1jG0vBFUNVTyy+hEWbl5IkG8QkYGRLlVU\\\n",
       "RUWF2+nKiooKt9XWtMHTeGDMAy5hJ1WZOJNOpDJqq22lZIaUu+nBE6n02nsdcYTHBRjwKnBFm2Nz\\\n",
       "gC+01kOALxw/izOgo2FhPm7JjiWsKlpFSlgK6f3TgSNV1O0P3M6IESPYtWuXy3N37drFiBEjuP2B\\\n",
       "24+aWnQXdtIxKc4kd2HR0bDpaPjZamv4+B/P8tErL7idFqyoqDi5wfdwHhdgWuuVQGWbw9cCrzm+\\\n",
       "fw2Y1plj6m7aC6m2YXGsx5qP23hwI+Pjx5Nbm8usL2eRW5PLtMHTGPjNQJYtXEZxcTHnTzqf9VvW\\\n",
       "U9VQxePLHyc9PZ3i4mKWLVzGwG8GHndq0V1V1tHPI0RHOYfW6b4GtS37c/757//wXNZa/Pslu5wz\\\n",
       "/0E3b968kxprj6a19rg/QDKw1ennaqfvlfPPx/ozZswYLdx7ZcsrOvXVVP3KlleOOldpr9SvbHlF\\\n",
       "V9orXR57z2f3WMcq7ZV6wcYF+raPbtOpr6bqp9Y/pX+w9Ac69dVU/YOlP9C/eOgXGnD5E9EnQs9a\\\n",
       "MEv7Rvgede6ae66xXvt0fx4hnNXXVOt177+j62uqjzq37v139FM3Xm2dX/f+O7q8sMDla9vnffXf\\\n",
       "1/VTN16tv/rv60e9vvP3v53zkPXfe3x8vN65c6fWWuudO3fqhIQE69zcuXM79Dmcx3q6ATnaA3Kg\\\n",
       "I3+8rolDa62VUm73v1JKzQRmAiQlJXXquLyJc1NFVUMVmXsymTZ4GpGBkdYUnlnVpPdPZ03RGlYV\\\n",
       "reL+L+8nyCeI5PBk3tz5JiNjRwKwtXwrf7zgj/zfV//H7uLdfPHSF67vxzSyD2bz3H3PEUEE6aST\\\n",
       "SaZ1/sMlH/L6j17n/gvvP+XPI0R72mvYcG6cMKcV1y97l5VvLKZg+xZyN+ZYz7PV1rDp4+Xkb98C\\\n",
       "gFZHvz7AyjcWs2jJf3npzbetYyUlJWRkZPD8X5/l7rvvoazyyITT/PnzAY5bjUmTh8FbAqxUKRWv\\\n",
       "tS5RSsUDB909SGu9CFgExl6InTlAbxIZGMm0wdPI3JOJvcXOws0LsbfYCfINsoLMnCJcf2A9yeHJ\\\n",
       "rD2wls1lmwEori8GwLeX8Z9PTmkO3x78lteufI3MPZnsfGEnT//0aVqqW5jGNGYxi2u5lvnMZy5z\\\n",
       "SSYZgEwyCYsN45cv/hKfUB+qGqpOal2aGbpCHEtHFhGbXYRtuwqbGxpobmwkOjGJpsYGbLU1bPxk\\\n",
       "OWvfXQJAyug0kkeMYekT8zj/upuY8MMZNDU2kDxiDDFDh7P8xX+5vM80ppFdnM0Pb/x/RBDBNKa5\\\n",
       "/IPuxRdf5P777yc6Otrt51j//rsc3L+Xi++4p8c3eXjcNbBjWAbc5vj+NuD9LhyL13F3jci5Xf2B\\\n",
       "MQ8AuFz7Su+fTkpYCquKVpFXmwfAyNiRjO87nscufIwHxjzA3Alzuf2c2xnTZwyVDZXk1+az/sB6\\\n",
       "ZkyawR/+/Qfi4+PJJps88kgmmcUsJplk8sgjm2x8I3z55Yu/JHlQMgs3L5QmDXHGtF1EDBx1Dcls\\\n",
       "tDCvfZmhpxXkLF/K3m/XsfadJWzL/hxzDigpdRRX3Dubb957k9yNOXzz3ptoBWvfWcLHC56hfNd2\\\n",
       "np/7CAkJCQDWP+ie5VmSSeZZnmUWs5jmuKyfkJBAVlaW2/AyP0fO8qXkb9nMin+/dOb+wryEx1Vg\\\n",
       "SqklQDoQo5QqBOYCTwBvKaXuBPYDN3bdCL2Pu7VVztNuZuu7WYEBZBdkk1uby6TESTw49kE+yv0I\\\n",
       "gBnDZhAZGElSWBJLdixhR+UONhzcwIaDG3hzx5s0tDbQfLiZ3076LavvW82Hv/uQ+cxnMUemVeYz\\\n",
       "n2qqmfXoLH55+S+t4zIFKM6UtlNu7qYSt2V/Tu7GHFJGp1mV2Mo3FjPhhzNIGZ1G7sYcklJH0dTY\\\n",
       "wLALJuMXGGi9XlhsHBF9Ezj/upvYv3kDANWlxaSMTuOKm29lxCWXk5GRQXZxNtdyrfUPOsD6B118\\\n",
       "fDxZWVkMHTrUGre7dWa2mhoO7t/L5B//tHP+8jyYxwWY1nrGMU5d0qkD8UJtr2eZ3F0jajvt1vba\\\n",
       "15CIIaSEpXDXiLuICIhga/lWVhWtIsg3iPT+6UbHYW0uABH+EVQ3VdPQ2gCAvcXO7f++nTVPrSGC\\\n",
       "COYy12Wcc5nLbGbz9qNvc++Uexk6dOgxpwCP9ZmEOBFtFxE7B5q76UXnRckDx5xPU1MjzQ0NtLa2\\\n",
       "sPadJfgHBLpUcps//QCAPevWcDBvH+ekX8qh8jIm//inBIeF0w/49Z238cAfHz/mP+huHTee6JBg\\\n",
       "l3G3DdrgsHAm//gnZ+YvyQt5XICJk3esXSxO5BqR+RoRARFUN1bz0KqH6B/an7UH1jK+73iK64q5\\\n",
       "9aNbqW6sJsI/gsGRg8kpzWFk7Egq7BWEB4Szbss6cp/IpaW6hXTSrWlD52tg6aSTWZzJRekXMWvR\\\n",
       "LO6ecrfbgFqyY4l1je7eUfeenr8o0eM5B5rZqNHc0IBfYOBRj1m/7F02/O/IHc4jE/oxcMz5VvBF\\\n",
       "90smNDoWpaBw53YO7N5BZEI/qooL2fnVCmyHaln50Qc89+Hn7f6D7tVPsxjyzJ/5+dPPW+ekWaN9\\\n",
       "EmDdSNtKy7l6Adx+3zY0pg2exvoD61lVtAqAoroiiuqKmJQ4idSYVBZuXghAoE8g1U3VjO07lov6\\\n",
       "XWQ1g4Q2h1rhBVgXp7PJpppqZjPbpQuxtKSU3//494T+L/SkuxCFOBVmODQ1Nlgdh1fcO9tqkDgn\\\n",
       "fQpNjQ3Ya2vZ/91GqooL2frlp+z9dh1VxYWE9YmjrqIMgNDIaFJGp3H+dTdRvHMbtpoaPn/3vyzM\\\n",
       "XkutvZFpXHnsf9DZM3n0jbe57K77rWnEE9l+qieSAOtG2lZazhVZ225Ds8Pw0QsfdQmxyMBIHr3w\\\n",
       "UZbsWIK9xQ5AkG8QM4bNoLqxmsw9mZTUl9AvtB8NrQ0cqDtA39C+XJlyJQDL9iwjcnIkZe+XHRkH\\\n",
       "mcTHx/PUX59i1r2zyKzIdBn3qB+MYuq5U91+phnDZrhcmxPiZLS9luTMDAlbbQ2le3eTuzGHD/72\\\n",
       "FxLOGs7oy6cSHBbOBTfczPpl71J9oJikc0exe/3X1JSWEJnQj8CQUGoPlgIQldifi26+3dEpuA+f\\\n",
       "3uFWeMHx/0F3oLSU9PR0XvvLY1xwzXU9vsvweCTAujHnimzJjiUux9cUG2u7frPyN/zlor8ArlVZ\\\n",
       "2+m6qoYqnlz/JCX1JQDsqdkDQGFdIWCEnL3FTlF9EYNuHARghZhvhC+3Pn8r7/d6n4QHE8j/Sz6N\\\n",
       "lcb/odN+nEbDJQ1kF2STEp7i8n7mmM3GESFOlrumDedQMx8z+cc/pbWlmfwtm8nfspnSvbutasxs\\\n",
       "qS/a+T01pSVE9I1n0Hnj6H/OSJY98ydam5upLCpg08fLyVluTDnGDxnGFRPH89YXK6yxZJJJ37g4\\\n",
       "lr+8nJkzZ5JZnOky1qsnX8h3/3uHQ4V5LpWgOJoEWDfmXJE5VzKRgZGM7jOatSVrWVuy1qq2Xt32\\\n",
       "Krk1uZTby3lw7IMAPLn+Se4acRd/3/R31pasZUzcGJJ6J/FV8VcolNFC31jJkIghPLzqYQB60Yu4\\\n",
       "6+IY1WcUXy39isQHE9mitpBfm0/fAX2Z99487r3+Xi6YfgF///PfyS7IJr1/urVwOrsg26oYwVgo\\\n",
       "3bZSFOJEuLuW5BxqTY0NrH1nCU2NDSScNZz8LZuJiEsgd2MOy555HAXEDR6KX0AA+Vs3kZQ6itbW\\\n",
       "FnKWL2VPzlpam5sBOFRVQYFjcTNATXkZ46JDsY8dxf/WbwIgLCiAJx/4BX1aG/jwf8u46gfXUFxs\\\n",
       "rK2cO3cuv3lgNh//41lyN+awLftzqzo8VgXZk0mA9RBtpxdnDJvBxoMbWVuyFoAdFTsA+DL/S2qa\\\n",
       "athSvoUQ3xCK6osoPFRodRy2HG5hX80+DtqMteSHmg+xtmQtpfWlVDdVE+gTSG1zLePjxzNs5jAK\\\n",
       "RhYQExVD/qF8UsJSyK3NpTGqkb3f7yU6Otpam/ZR7kcs3LzQuv52z8h7uGfkPWw8uJFVRavI3JMp\\\n",
       "i5XFaeUcaps+Xg6A0jDqiqn4BwQS3S+Zjxc+Q9H3xo0xCr/fyjnplxIUFk7vmFi2ZX8GQPWBYhLP\\\n",
       "TuVQRRm1B0upKy8jsHcYDYdqsVVV4BsQyOSURBrq61mXV8jdk8fhW1/LyjcWk5Q6iqcfnM0Df3mG\\\n",
       "mTNnWjtwXHHvbDZ+spzmhgaXvRnhxG/50p1JgPVAZnPHb8//rVX92FvsoOCHg3/I79f8nurGaqob\\\n",
       "q0kMSeT8+POpa6qjrKGMzWWbCfULBaBPUB8GRQwiNSaVgWEDeWzdY0yIn8CHeR/S3NrM1vKt+Ib6\\\n",
       "Ut1Uzfj48db7OTePmNfpzMCyt9gZFGFMQc4YNoMZw2a4NJ8IcTLcBYBzg8SoK6a6rOsC2PDhUuy1\\\n",
       "NQSEhBIR1xffgEAKtn+HvbaGoh1bGX/9DOy1tZTm7qWlsQF9+DAAiWenEtN/AOUF+wFN0ffbCOsT\\\n",
       "xw8nx3LhkCJCAvyJSRqAf1CgtT3Vy3/8PVfeeTcVRYWs+PdLTP7xT/EPCHTZlmr89TNc2v6lGvOe\\\n",
       "nTjEaWSGRnZBNnek3kF2QTavbnuVYVHDeG7jc9hb7QT0CgCgtqmWN3e+ia3FBkBArwDqmusAiA2K\\\n",
       "5dVtrxLkG8SyfcuoaqyisrGSSYmT2HBwAzmlOST1NvakHN1nNCnhKUfdKsXcad6c4nx126vsqNzB\\\n",
       "ws0LmZ09myU7lhx3DZjsRi+OZ+CY80kZnWat9WqPGXZ9Bgwiom88jfV1BISEUvT9VoJCexPYuzcZ\\\n",
       "t93NBTfcTHhsHw7s3kHpvj0cKi8jNCaW+spKa13Y4ZZW4ocMI2VUGuF9+hAS4A9ARcF+ohOTiB8y\\\n",
       "DIDagjxstTV8ufif5G7M4cvF/7Ru1aIVfP2usfYsOCxc7tbsRCqwbs7dQuC27fbm1zXFa6ymjMbD\\\n",
       "jUQGRFLVaIRCcngytmYbvxn7Gx7/5nHy6/Lx9fFlUuIkzutzHpUNldhb7MQHx1NQV8B1g66jxFbC\\\n",
       "bcNv4z87/mN1KbY3NnMclQ2VrC1Zy4bSDWwo3UCQb1C704dyF2dhOlZ1sm/DN1a1464xwrlCGzjm\\\n",
       "fAq2b2HwuIkc3L+X6gMltDa3kHTuSPK3GPuBVhTm0XfwYGrKDtI7JpbW5mZsNdXGrTJKiwkMDbOm\\\n",
       "HgFKdhtT9Ilnp1JfWUnh91sp/H4rSecaG2IXfr+VjZ8sp8+AgeRv2cThFmMZyjnpU9j4yXLSpk63\\\n",
       "9mGUtWFHSIB1c+5+uR9rF470/un831f/R2l9Ken905k6cCp//favaK2ZO3Gu1SX4995/57FvHuNQ\\\n",
       "4yFWFa3C1mxjw8ENTEqcxHt73wPgoO0g+YfyKThUQFFdEakxqUdNBz6y+hFrvZm5ubB5zuxq7EgL\\\n",
       "vexGL0zHulZ0TvoUa0d5szHCmXMomFtKAeRv2UxkQj+KdmxlzA+m09TQiK26ioSzzmFb9udWpRUe\\\n",
       "Fw811YRERhMWE8fh1hZKdtcSEBKKj58ftuoqwvrEkTT8XL5+d4nRwTh2AkPGTqTm4EFqSktQGsZe\\\n",
       "+0MqivKtcYKxr6K5lZW5A4hcBzNIgHVz7f1yNysgs/Nv2uBpXJJ0Cc9seIaE0ASSwpK4qN9FpPdP\\\n",
       "t/ZCvDLlSrILshndZ7TVJaiUsq5fJYYmklebR3JYMvk78ymqK7LeyzmwAFYVrWJS4iQrvJyD9kR2\\\n",
       "3ZDd6IXpWNVJcFg4V9w726Vtvm21ZoaC8xZSfQcOobmxEc4bx4E9uzjgqKTWvP06iUPP5pz0Syna\\\n",
       "sY2M2+5i06f/s/ZSzN2YY+3G0XfIMGzVVaSMSmPUFVM5sM9Ya+bvH8A3771prSc764LJbsdpjqX/\\\n",
       "8HMZOOZ81i97V65/OUiAdXPOv9zbTtmZobGmaA1rD6zF3mJnxrAZ2Fvs2Fvs1jZOzjtzfJz7Mbm1\\\n",
       "uYyPH89NZ91EXm0ePx/1c1747gVWFa3igTEP8Mj4R8itySWvNg97i53NZZtZU7yG/EP5VmCZ2k4f\\\n",
       "ShUlTkV7O1e0Pbfxk+VW6/zoy6e6DTO/wEC+fteogAodU4KBob3pHR3L1+8uIenckVQfKKbCsWZr\\\n",
       "W/bnJJx1DoDLbhwHdu/Azz+Abdmfc/51NwFgO1RL7sYcIuISqCouZN+Gb4hO7Ofy/uZu+UG9e7vc\\\n",
       "nwykGxEkwHqUtlWOyzWnA2vZeHCj1UzxzIZnGN93PPeMvIcrU64kNSbVartPCUthbclaJiZM5JHx\\\n",
       "j7B462KrmjLXc9lb7KwtWcs9I+8hzD/MOu+8nsusvJwrQFnrJc4k56rLvCWK0u1PPYJRAUUnJlk7\\\n",
       "cBxybB3VZ8Agkkec5xJ8X739Brkbc4gbNIQLbrgZW20NvoEBFO/cTv6WzUd2tndc/xo8djzB4eFu\\\n",
       "r2m1HZdc/3IlAdaDmIFlhsy0wdOsHej3Vu+11ls574c4MXEiKeEp3DvqXrdTjlUNVdhb7Nwz8h7r\\\n",
       "GpdzWzzAg2MfZGzfsUcFlPNNM80KT6YCxZnkHAjuWuePFQxBvXsTHB5OTWkJKaPTGHXZDzhUUc7g\\\n",
       "cRNJPMvoJDRvdFmw1VjIbAZkcFg4/gGBVniZFdj5193kEn7ma5g74+/b8M1RN+CUvRFdSYD1IOZ0\\\n",
       "4uKti10qMXP/Q+fpReef2z4fsBo6Fm9dzMLNC3lgzANHTQWaAXWsLkLzsef1OQ8wglWIM8m5gmkb\\\n",
       "Bu6CwTnwnO/O/MXif1B7sJSPFzzDjD89abW3r33nyF2aR11xZH9P87lawf7NG8jdmEP/4ece9Z7m\\\n",
       "+5kNJ8calzBIgPVAJ3J/sBN9LefnpfdPZ/2B9W6Dyfl6XOaeTFYVrWJs37Eu+yEKcbqdaAXTNvDM\\\n",
       "a2Km6tJiq6vR3LW+paER38AA7IcOuVxX8ws0FiaPv34GF918h9tmEucpy/7Dz5WpwuOQAOvm3K0D\\\n",
       "Ox1de86ve6zX+ij3I1YVrSI1JvWorkLn63HSwCE8lbsbYZohpZUxTWhu9+S8a/3KNxZbO9vD0dev\\\n",
       "nDsI217nMt8vOrFfZ31MryUB1s2dqUW+p/q6zqHVkUCVOzMLT+EfEGjdZsUMqwP7XHeth6OrKOfb\\\n",
       "tji3wktjxsmTAOvm2rvJ5fG2Z2rvce6qprbPae9eXidaBcpuGz2bp+z/564rsO0CaeeqzV0V1fY1\\\n",
       "2lZ5nvJZvYHXBJhS6grgOcAHeElr/UQXD8krtHeTy1PZnsldAJnrxuwtdu4dde9pXWAs04w9W2fu\\\n",
       "xm6rrWHTx8vRCqvSMrWtlo618Lg9x6u4ZOf5jvOKAFNK+QALgEuBQmC9UmqZ1np7147M+3Q0CDwt\\\n",
       "MGS3jZ6tM6fZtmV/bjVqmFs3mdw1gZxoY8jxHi9Tih2ntNZdPYbjUkpNAOZprS93/PwwgNb68WM9\\\n",
       "Jy0tTefk5HTSCAXIdSrRPbRXgfUESqkNWuu0rh5HR3hFBQYkAgVOPxcCx78vguhUUiWJ7iA4LJyJ\\\n",
       "N97c1cMQHdCt7gemlJqplMpRSuWUlZV19XCEEEKcQd4SYEVAf6ef+zmOudBaL9Jap2mt02JjYztt\\\n",
       "cEIIITqftwTYemCIUipFKeUP3AQs6+IxCSGE6EJecQ1Ma92ilPo58AlGG/0rWuttXTwsIYQQXcgr\\\n",
       "AgxAa/0h8GFXj0MIIYRn8JYpRCGEEMKFBJgQQgivJAEmhBDCK0mACSGE8EoSYEIIIbySBJgQQgiv\\\n",
       "JAEmhBDCK0mACSGE8EoSYEIIIbySBJgQQgivJAEmhBDCK0mACSGE8EoSYEIIIbySBJgQQgivJAEm\\\n",
       "hBDCK0mACSGE8EoSYEIIIbySBJgQQgivJAEmhBDCK0mACSGE8EoeE2BKqRuUUtuUUoeVUmltzj2s\\\n",
       "lNqjlNqplLq8q8YohBDCc/h29QCcbAWmAy84H1RKDQduAs4BEoDPlVJDtdatnT9EIYQQnsJjKjCt\\\n",
       "9fda651uTl0LvKm1btRa5wJ7gHGdOzohhBCexmMCrB2JQIHTz4WOY0IIIXqwTp1CVEp9DvR1c+oR\\\n",
       "rfX7p+H1ZwIzAZKSkk715YQQQniwTg0wrfWUk3haEdDf6ed+jmPuXn8RsAggLS1Nn8R7CSGE8BLe\\\n",
       "MIW4DLhJKRWglEoBhgDrunhMQgghupjHBJhS6jqlVCEwAfhAKfUJgNZ6G/AWsB34GLhPOhCFEEJ4\\\n",
       "TBu91vo94L1jnHsUeLRzRySEEMKTeUwFJoQQQpwICTAhhBBeSQJMCCGEV5IAE0II4ZUkwIQQQngl\\\n",
       "CTAhhBBeSQJMCCGEV5IAE0II4ZUkwIQQQnglCTAhhBBeSQJMCCGEV5IAE0II4ZUkwIQQQnglCTAh\\\n",
       "hBBeSQJMCCGEV5IAE0II4ZUkwIQQQnglCTAhhBBeSQJMCCHOAHtdE99+uh97XVNXD6Xb8pgAU0o9\\\n",
       "qZTaoZT6Tin1nlIqwuncw0qpPUqpnUqpy7twmEII0SHfrynh66V7+X5NSVcPpdvymAADPgNStdYj\\\n",
       "gF3AwwBKqeHATcA5wBXAP5RSPl02SiGE6ICzJ8YzYfogzp4Yf9zHSrV2cjwmwLTWn2qtWxw/rgX6\\\n",
       "Ob6/FnhTa92otc4F9gDjumKMQgjRUUGh/px32QCCQv2P+1ip1k6Ob1cP4Bh+AvzX8X0iRqCZCh3H\\\n",
       "hBCiWzCrtI5Ua+KITg0wpdTnQF83px7RWr/veMwjQAvwxkm8/kxgJkBSUtIpjFQIITqPWa2JE9Op\\\n",
       "Aaa1ntLeeaXU7cBU4BKttXYcLgL6Oz2sn+OYu9dfBCwCSEtL0+4eI4QQJ8Je18T3a0o4e2J8h6YD\\\n",
       "O4MnjqkreMw1MKXUFcBvgGu01janU8uAm5RSAUqpFGAIsK4rxiiE6HnM61NbsgqP2WhxrCYM83hV\\\n",
       "af0JNWkcr6lDrpkZPOka2N+BAOAzpRTAWq313VrrbUqpt4DtGFOL92mtW7twnEKIbqRtNdP2Z/O6\\\n",
       "lP1QE+s/yKOlsZVxPxjo8tyWxlbWf5AH4DIVaAZN0a4q8rdWWucrKiqIjo4+aiyF+0s4uLOJ5sZW\\\n",
       "cty8nkmumRk8pgLTWg/WWvfXWo9y/Lnb6dyjWutBWuuztNYfdeU4hRDdS9tqpu3P5vUpX39j9U7x\\\n",
       "3mqrovouq5Cvl+5Fg9uW+bMnxjPq0v402lroOziMlJExzJs3jxEjRrBr1y6Xx+7atYvzxozmd7/9\\\n",
       "PS1NrSSlRpEyMsbtmE+kw7E786QKTAghOpW9romWxlbSrk4+qqppG0YjMvpxcH8t+VsrWf32bvK3\\\n",
       "VjLq0v4kpUYxdFwckXEhR71+UKg/lSX1lO6rBWDOrx9h0evPAZCRkUFWVhZDhw5l165dZGRkUFZR\\\n",
       "ykcV/yLhnQhGh1/LanYz5fbhPT6ojsVjKjAhhOhs368pYf0HefgF+Fgh0ba6Ma9HAUy5fThjr04m\\\n",
       "Mj6EsVcn4+fvQ/7WSnI3lx/zPdKuSiY8Noj1ZUut8AIoLi4mIyODDz74gIyMDIqLi61zL7/5N1bl\\\n",
       "/Zf8rZV8l1WIva6Jdf/bxzf/2yeLnZ1IgAkheixzt4yUkTHHbJpwnlI0Q23zZwUADBkX1+5UH0DJ\\\n",
       "nhqKCg7w4Yp3XI5PYxq2YhtTp07FVmxjGtNczn+5/n3qGmpQHAnanA/yenzjhjOZQhRC9FhmtfXt\\\n",
       "p/utZgtzys5s0DDDyZxSNNfnFO6qonhvNUU7ql2m+tw3gZzHxTM/5oqrLqOypoxpTGMWs7iWa5nP\\\n",
       "fOYyl2SSAcgkk4SEBD5a/gktZb2t921pbEUjjRvOJMCEEF7vVNdFnT0x3uoUNF/n81e3W52DZ0+M\\\n",
       "t44nnRPFluxCSnbXABAY4kv+1kreeSKHlNGxgFGhNTe2MiKjn/W879fAfVc8yYKPHyS7JptruZZk\\\n",
       "klnMYgDyyCObbBISEqxrY86f7dyMfi6fTdaCSYAJIboBc5oP3LedO3P+xW8+9+yJ8Uy5fbhT2JSQ\\\n",
       "v7WSpNQozp4Yz4ZP9rP5swJsh5ooLzhEY72xbWvv6EAOVTQAUFvewObPCgiPDQKwpv6+XrqX5kZj\\\n",
       "5c/UmycRMfRxfvXHnzKf+VZ4AcxnPtVUM+/uZ+ifkGyN1TlInT/bd1mF5HyQR3NjK+c72vp7Ggkw\\\n",
       "IYTXO5F1Uc5hB7gEnxkQbV8vb5PRpFFRUEdkXAhFO6oBSEqNoqbUTkiUP4fKGjisNQf21NJvWCS2\\\n",
       "uibKv6+j7+AwGuqa2LqimD6jNE+99HsiiGAuc13GNZe5zGY2c594kIDmKG77zZVWkEbEBVlTmdba\\\n",
       "syYjFNVJ/Y11D9LEIYTweieyLsr5NifHuuWJ8+ttySqkpsxOWEwg4XFBVBTVAZA4LILgUH8Kd1QR\\\n",
       "1TeU6341hqvuHsHYq5PRaLatKKZ0Xy0H9tRSUVRPaXUBdz80g5KSYtJJJ5lk8sjjDu4gjzySSSad\\\n",
       "dGpsFcx5+k5e+8tHpIyMISk1iupSO6vf3m2Fl7n2LCk1iiHj4s7EX6lXkApMCNGjmOHUdirx20/3\\\n",
       "H3U9yV7XRP72CuN5vf3YtsJodY8fHI5C0ScljKTUKOIHh/Ptp/tJGRlD4c4qSvbUEDsgBD9/X2KT\\\n",
       "w6isKOdv//sVNTbjtTLJBCCbbKqpZjazSSfdOm6G2NARnzPl9uHWNKLZVFK0qwoF5G+tZPeAUnwD\\\n",
       "fHrktTAJMCFEj+S8zVOfAWFut276LquQ0txDAPj49iLt6mRamlrJ3VROTZmd8sJDNNQZ18Pyt1ay\\\n",
       "bVURtWXGNTFff18Sh0aigfDeUUw8+2o+2vAv67UzySQ8OJrf/eg5Xv7gz2SWZLqM78rJ13P2ecl8\\\n",
       "v6aEC28YQu7Qcpfrc30GhDFh+iCaG1s7fP2vu5EAE0L0SM6dh3GOMLD2PWxznal3TCB9ksOsrsKa\\\n",
       "Mju+/r1oqGshIi6ItKuSAaxmi9CoANBY+yP2HRzG1Wm34eOrWP7NawBEhcVy35VPMuqsVD6+9xOm\\\n",
       "TJlCWWUpADddeRcXJt3IN8v2UbSj2qVRw/n6nNm27+eowHoadeSuJd1LWlqazsnJ6ephCCE82LE2\\\n",
       "8rUdamLzZwWMvLQ/fv4+FO2qomR3Df2GRXLRjKGsXLKLwh1VBIb40lDfwtirk2lqamXft2Ucqmiw\\\n",
       "uhPjBobh69+L3lGB7FhzgGET43jpzef5/Jv3uOfSvxAXYdwpKiIuiJaQSmbNv43LJlzHrHt+g5+/\\\n",
       "D3ZH80fCkHCuuOvcDk0Rnmp7vVJqg9Y67YSf2AWkiUMI0WO1bf4wpxXNrkN/fx/8AnysNV+FO6pY\\\n",
       "/fZuovuHAtBQb1Rg9joj8IzwCrBa6339e1G0o5ri3dUA1FU2cWHSjfznbx9y9c2TSJ2cQGCIL9Wl\\\n",
       "dnodiuThG15k6vl3sOmzArRjfADFu2v4LqvQ7Wdoe+uVnnSrFQkwIUSP5hwAZ0+MN1rjy+wkpUZx\\\n",
       "bkY/UkbGEBYbCEBYTCD5Wyspy6tl5KX96TcskupSOxXF9QDEDQzDbGwPjw1i8oyzSBwWQW1ZA2Gx\\\n",
       "gYycYjwnONCYjuwdHWSF4KT/N5R+A/pa4aeAczP60W9YpPWzO20D61idld2RXAMTQvRobRdBmwua\\\n",
       "U0bGsCWrkOK91dSWNZCUGkVkfAibPyugeHcNCUMjiXFUYhFxQY4qTXOoooGAYF8u/H9D2La6mJqD\\\n",
       "dgBqyxrYkl1I4Y4qCndUEdTb3+V61vdrSqgutRMWG8jAUbHWzhuX/fQcl27JttquWTOryp5AAkwI\\\n",
       "0aMdaxH07nWlVhNGv2GR9BkQxtBxcbQ0tZK3uZzNX+TT3HAYgPhB4UyYPoi874ypx0ZbC1uyC62m\\\n",
       "DjCqt7SrkukzIAwFpIyMcQkm26EmekcHUlvWgK//0bvjH0tPCqy2JMCEED1a2wAwt2jqOziM1MmJ\\\n",
       "VJXWEx4XRM4HeZTsrUahqK8+smt9WGygVS2ljIwh6/UdoI3bqPSODmTP+oM02lqoLW8g58M8a9Nf\\\n",
       "cwNhk7nDPfTs3TVOhASYEEI4McPjwJ5afHyNJgzdanRrF+2opu/gMGIHhGKraSQ0KpBLbhsOwDf/\\\n",
       "24cCEodGkvNBHvnbKjlU0UCjrYXEYREolLUY+bzLBhxV+TU3ttLS1Iqfvw/nZvQ7alyyee/RJMCE\\\n",
       "EMKJGR4aaGlqpWhHNX2Sw0gcGmndPmXC9EEuu3k0N7ZaC6EThoSTdnWytVNGRFwQ518zkIJtlfQd\\\n",
       "FO5yrcp5l/vjbcjrvPBa7tJs8JgAU0r9EbgWOAwcBG7XWhcrpRTwHHAVYHMc/7brRiqE6M6CQv0Z\\\n",
       "5wgTe12T1WxhrhP7LquQlsZWqkrrWf32bvK3VjL26mQSh0U4WuZrGHBuDGdPjKdkbw2FO6pYtyyX\\\n",
       "wh1VTJg+yOV1DjjOw/F30Wh7y5eeet3LmccEGPCk1vr/AJRSvwB+D9wNXAkMcfw5H1jo+CqEEMd1\\\n",
       "KlNvba+PBYX64xfgw9dL91K6v5b8rZX0G2ZsFzV5xlnsWleK4sguGX0HhVO4o4ro/qH0Hx7lcgsX\\\n",
       "s2Izb9nSkbE43/JFeFCAaa1rnX4M4ciNT68F/qWNLUPWKqUilFLxWuvuv0pPCHHKTuReYR1hhkfK\\\n",
       "yBhyh5bT0tjK+g/y8AvwcZkGtNc1oYC0q5MZ0eZmlGdPjMd+qInygjouvGFIh4O1J3ccuuMxAQag\\\n",
       "lHoUuBWoATIchxOBAqeHFTqOSYAJIY7rRO4V1hHOIRJ5WQj2uiZrN3hn368pYf0Heda0YVuVJfUU\\\n",
       "7qgid3M5kZeFuH0vadxoX6fuxKGU+lwptdXNn2sBtNaPaK37A28APz+J15+plMpRSuWUlZWd7uEL\\\n",
       "IbzQidwr7HS+fns7YmzJKrSmH53P9+RtoU5Gp1ZgWuspHXzoG8CHwFygCOjvdK6f45i7118ELAJj\\\n",
       "M9+TH6kQoic5E5WOu+k+832aHLvc9x0U7vJ+bac7T3f12N14zF6ISqkhTj9eC+xwfL8MuFUZxgM1\\\n",
       "cv1LCHE6daTSaVsdncr7+Pv7MGH6IEa0We/Vtmo709Wjt/Oka2BPKKXOwmij34/RgQhGJXYVsAej\\\n",
       "jf6OrhmeEKK76kilczqaQdrey6stadI4MXI/MCGE6ICe0lDhTfcD86QKTAghPJZUR57HY66BCSGE\\\n",
       "ECdCAkwIIYRXkgATQgjhlSTAhBBCeCUJMCGEEF5JAkwIIYRXkgATQgjhlbrtQmalVBnGjh6dJQYo\\\n",
       "78T3O5Pks3iu7vR55LN4pgFa69iuHkRHdNsA62xKqRxvWb1+PPJZPFd3+jzyWcSpkilEIYQQXkkC\\\n",
       "TAghhFeSADt9FnX1AE4j+Syeqzt9Hvks4pTINTAhhBBeSSowIYQQXkkC7BQopZ5USu1QSn2nlHpP\\\n",
       "KRXhdO5hpdQepdROpdTlXTjMDlNK3aCU2qaUOqyUSmtzzhs/zxWO8e5RSs3p6vGcCKXUK0qpg0qp\\\n",
       "rU7HopRSnymldju+RnblGDtKKdVfKZWllNru+O9rluO4t36eQKXUOqXUZsfnme84nqKU+sbx39t/\\\n",
       "lVLd96ZhHkIC7NR8BqRqrUcAu4CHAZRSw4GbgHOAK4B/KKV8umyUHbcVmA6sdD7ojZ/HMb4FwJXA\\\n",
       "cGCG43N4i1cx/q6dzQG+0FoPAb5w/OwNWoBfaa2HA+OB+xz/W3jr52kELtZajwRGAVcopcYDfwae\\\n",
       "1VoPBqqAO7tuiD2DBNgp0Fp/qrVucfy4Fujn+P5a4E2tdaPWOhfYA4zrijGeCK3191rrnW5OeePn\\\n",
       "GQfs0Vrv01o3AW9ifA6voLVeCVS2OXwt8Jrj+9eAaZ05ppOltS7RWn/r+P4Q8D2QiPd+Hq21rnP8\\\n",
       "6Of4o4GLgXccx73m83gzCbDT5yfAR47vE4ECp3OFjmPeyhs/jzeO+XjitNYlju8PAHFdOZiToZRK\\\n",
       "BkYD3+DFn0cp5aOU2gQcxJiJ2QtUO/2Dtjv89+bxfLt6AJ5OKfU50NfNqUe01u87HvMIxjTJG505\\\n",
       "tpPRkc8jPJ/WWiulvKqFWCkVCrwL/FJrXauUss552+fRWrcCoxzXvd8DhnXtiHomCbDj0FpPae+8\\\n",
       "Uup2YCpwiT6yJqEI6O/0sH6OY13ueJ/nGDz287TDG8d8PKVKqXitdYlSKh7jX/9eQSnlhxFeb2it\\\n",
       "lzoOe+3nMWmtq5VSWcAEIEIp5euowrrDf28eT6YQT4FS6grgN8A1Wmub06llwE1KqQClVAowBFjX\\\n",
       "FWM8Tbzx86wHhjg6w/wxmlCWdfGYTtUy4DbH97cBXlExK6PUehn4Xmv9jNMpb/08sWbHsVIqCLgU\\\n",
       "47peFnC942Fe83m8mSxkPgVKqT1AAFDhOLRWa32349wjGNfFWjCmTD5y/yqeQyl1HfA8EAtUA5u0\\\n",
       "1pc7znnj57kK+CvgA7yitX60a0fUcUqpJUA6xi7npcBcIBN4C0jCuNPCjVrrto0eHkcpdSGwCtgC\\\n",
       "HHYc/i3GdTBv/DwjMJo0fDCKgLe01n9QSg3EaBaKAjYCt2itG7tupN2fBJgQQgivJFOIQgghvJIE\\\n",
       "mBBCCK8kASaEEMIrSYAJIYTwShJgQgghvJIEmBBCCK8kASaEEMIrSYAJIYTwShJgQgghvJIEmBBC\\\n",
       "CK8kASaEEMIrSYAJIYTwShJgQgghvJIEmBBCCK8kASaEEMIrSYAJIYTwShJgQgghvJIEmBBCCK8k\\\n",
       "ASaEEMIrSYAJIYTwSv8fN/IE4Iilw4oAAAAASUVORK5CYII=\\\n",
       "\"\n",
       "  frames[1] = \"data:image/png;base64,iVBORw0KGgoAAAANSUhEUgAAAbAAAAEgCAYAAADVKCZpAAAAOXRFWHRTb2Z0d2FyZQBNYXRwbG90\\\n",
       "bGliIHZlcnNpb24zLjUuMiwgaHR0cHM6Ly9tYXRwbG90bGliLm9yZy8qNh9FAAAACXBIWXMAAAsT\\\n",
       "AAALEwEAmpwYAAAo9klEQVR4nO3de3hV1Z3/8feXSwgBISFGIFwMCgGBxgvBW21NlHopVDNYOzr6\\\n",
       "q6UOGVt1KJ3qT2unSTpja2t/Mra1aqgytvroaKXREa2ITawWEYIiDQoBDHJJgBCSALkQQtbvj3Ph\\\n",
       "JARIIMk5O+fzep4855y199lZ6yHhk7X2WuuYcw4RERGv6RPuCoiIiJwMBZiIiHiSAkxERDxJASYi\\\n",
       "Ip6kABMREU9SgImIiCcpwERExJMUYCIi4kkKMBER8SQFmIiIeJICTEREPEkBJiIinqQAExERT1KA\\\n",
       "iYiIJynARETEkxRgIiLiSQowERHxJAWYiIh4kgJMREQ8SQEmIiKepAATERFPUoCJiIgnKcBERMST\\\n",
       "FGAiIuJJCjAREfEkBZiIiHiSAkxERDxJASYiIp6kABMREU9SgImIiCcpwERExJMUYCIi4kkKMBER\\\n",
       "8SQFmIiIeFK/cFegu5x++ukuJSUl3NUQEfGU1atX73HOJYW7Hh3RawMsJSWF4uLicFdDRMRTzOzz\\\n",
       "cNehozSEKCIinqQAExERT1KAiYiIJynARETEkxRgIiLiSQowOSlVVVWdKhcR6WoKsGhVVwV/e9T3\\\n",
       "2Em5ubmkpaVRWlraqry0tJS0tDRyc3O7qJIiIsemAItWa56Ft37se+yE3Nxc8vLyKC8vJzMzMxhi\\\n",
       "paWlZGZmUl5eTl5enkJMRLqdAixatO1xnXcrfOUnvseOnM+R8AooLy8nM+NylixZEgyvAIWYiHQ3\\\n",
       "BVi0aNvjGpQIX5znewSo3AjP3eh7bOf8qqoqFi5c2OqSWWRRX9HIrFmzqC+vJ4usVscXLlyoe2Ii\\\n",
       "0m167VZS0kagp3WsHtfSH8LGpb7nt7x01PmJiYkUFhYGe1pZZDGPeVzP9eSRRw45pJACQAEFJCcn\\\n",
       "U1hYSGJiYjc2SkSimXpg0aJtj6vtEOFVP4UJV8GX7vWVgy+81jzrO6euitTKNyhcspjk5GSKKGIL\\\n",
       "W0ghhUUsIoUUtrCFIoqC4ZWamhqetopIVFCARavAEOGiq2HrKih9HbKegG3LjwwdBs4puANWPglv\\\n",
       "/ZjUuhXk5+dTQw155LW6ZB551FBDfn6+wktEup0CLBrVVUFTHQw7G/ZshFe/cySokqbAkNGwcqHv\\\n",
       "+VmZvqHFur0w4SpK+55DdnY28cSTQ06ry+aQQzzxZGdnHzXFXkSkqynAotGaZ+Gdn8Okr/qGDa97\\\n",
       "3Pe4cSm88I+wbzvUboP/uQXi/EOOO9dQuuINMr/2DcrLy8kgIzhsOIc5weHEDDKOmmIvEq204L97\\\n",
       "KcCiUWAK/fm3QfIFsP4ViD8T+sVCS/OR8w43wrrFAFRVbCXzD02U76kFfBM1HuVR5jOfLWxhPvN5\\\n",
       "lEcpoAAgGGL6RZVopQX/3U8BFo0CEzpKXoJ3HoLlv4ZVC6G58ehzXQsAiYd3Mfc8a3WogALikuN4\\\n",
       "7bXXiEuOC4ZXwNy5czULUaKSFvz3DAVYtKqrgs2FIQUn+FHo05/cjFhyLo8JFiUnDqGwsJCZM2dS\\\n",
       "WFhIcnJy8FhOTo5+OSUqtbvgPzNTC/67gQIsmoQuVl7zLGxfGXKw5fjvdb4fldxrRpBzeQzJCbEU\\\n",
       "LlsanG2YmpoaDDGFl0SrYy74L6/Xgv9uoIXM0aCuyhdYm/8CnxX5yrKegFVPQc3nHbyI/95YYw25\\\n",
       "376GuzN+SeLYCa3OSE1NZe3atRo2lKilBf89Sz2w3qjtIuXAeq4Rab5p8UkToX4vTL7ON4kDO+7l\\\n",
       "AHCHjzwfkXZUeAXoF1GiXehoRFcv+N9b18ST72xmb11TN7bAOyIqwMws1sxWmtnHZrbOzPL85ePM\\\n",
       "7AMz22Rm/2NmMSe6VlRru+9hYNbhF78HZ2f6Jm288QPfY+wQwPlmICamQv/Bx75ufIrvcefa4O4c\\\n",
       "J/uRLCK9TWi4pKamdsuC/5eKt/GzN9bzUvG2rqy6Z0XaEOJB4Arn3AEz6w+8Z2ZvAN8HFjjnXjCz\\\n",
       "J4DbgcfDWdGI1nbfw8Csw9CyA3t8w4kH62HYWbD3M6gqhUvvhq0f+O6PJU2Gg/tgcBKkfAnO/+aR\\\n",
       "PRPXPOtbDP3Oz32PmT/s8WaKhMPeuiZeKt7GjeljGDYohs2VB8h5pYRDhx0flO2lvukw+3dt5fF7\\\n",
       "j73gfz7zyc7O7nQP7Mb0Ma0eo11E9cCczwH/y/7+LwdcAfzRX/4MtLkLKq213fewvWOXfc+3eHnH\\\n",
       "Sl94DTvbd7z/IBh7ke/5oTrfouamA77eW9IE372z4MewBIYeOzAEKeIhxxuqe2Z5GT97Yz1PFG3i\\\n",
       "yXc28+OCEt7bVMUHZXu5bPzp7N7+GT/5zj+ys6LrF/wPGxTDv1x+NsMGaRAKIq8Hhpn1BVYD44HH\\\n",
       "gM1AjXMusMJ2OzAqTNXrPQYl+sJo5ZOAwdSvQ8kfAQfOH0jjr4ItRb7tptY8eyQUA725C7MhJu7Y\\\n",
       "O9yLeNDeuib+7cU1FG6o5MXibeR/M52zkwYHe14Nh3wzdj/eXssHZXuZPGIwsf360NjcwqQEx2N3\\\n",
       "387hA3sBgmsjiyiihhrmM58MMo5a8K/JTycnonpgAM65w86584DRwIXApI6+18yyzazYzIorKyu7\\\n",
       "q4q9x6BE39Dfhdm+zXzBNyQYM9DXy8q8H+a8eewPvjxeT0/EA9rraT2zvIzCDZXE9uvD5so6cl5Z\\\n",
       "x4K3NvDPz6ziZ2+sZ2lJBX0MPtpaDcAnOw/Q2NxCvz7w1fSJfPNb3271PQooYP/gPqR9+6cMGDFQ\\\n",
       "C/67UMQFWIBzrgYoBC4B4s0s0FscDew4xnvynXPpzrn0pKSknqmolxxr0kVg0gfOF1YX/suRj1IB\\\n",
       "hZT0Wu1Nimho8vWwGptbiO3Xh8ED+vLo25v4cGsNAFv2NtDioOmwa3Wt5hb4p/zlvNLnUoZ+8eZg\\\n",
       "edLwkUy/87+oTUrj0n/9lRb8d6GIGkI0syTgkHOuxswGAl8Bfo4vyL4OvADcBrwSvlp6UGAdWGDS\\\n",
       "BRwZBoTWkz4GJfrOL7jjyAdchp4r0ovMmDycFZ9VMWPycMDXI/ukYl/weGNzC2+u29Xh6zUeBmgh\\\n",
       "4bJbAGj59G3u+uXvmfWlafz6Lxv50azJHL7Bt05s7ty5Cq9TFFEBBowEnvHfB+sDvOice83MPgFe\\\n",
       "MLP/BD4CngpnJT0n0MO6/L72hwND72sFzt+41DfJQ/e3pBdb9skuCjdUcvFZuzj78sG8VLyN9zbt\\\n",
       "Cd7TAt8sss4w/3viL7uFc7P+D0+XHGT4mL0smnOh74QkLfjvKhEVYM65tcD57ZR/hu9+mJyMtj2s\\\n",
       "rj5fxKPaTku/MX0MKz6rCt4DC4RYR/Q1uOXiM8k6bxTff3ENW6rq2Xt4ANlfGnHUtHeFV9cw5zr7\\\n",
       "94U3pKenu+Li4nBXo+cFhgsVPiInZW9dE//6/Ie8t+nIveJ+fYzmFkcfgxYHF4wZysfbawncBjst\\\n",
       "ti/PzLmIC85MCF7jxieWs7myjsyJSUd6Xx5gZqudc+nhrkdHROwkDjlJbXfhEJFOGTYohmlnDgPg\\\n",
       "onHDmHflBN6c/2UyJybR4g+suAH9uOsK33Zql40/nXfuuSIYXoFr5H8zncyJSfxo1uQeb0O0iKgh\\\n",
       "ROkCbXfhEJFOu+3SFOJi+gZ32wD4f984jyfe2cy6HbXkXT+VhLiYo84JdXbSYE/1vLxIQ4giIhKk\\\n",
       "IUQREZFupgATERFPUoCJiIgnKcBERMSTFGAiIuJJCjAREfEkBVgEa66upuqpp2iurg53VUREIo4C\\\n",
       "rAdVVVV1qrx28WJ2P/xLahcv7s5qiYh4kgKsh+Tm5pKWlnbUx4eXlpaSlpbW7scqDJ09mzPu+QFD\\\n",
       "Z8/uoVqKiHiHAuw4umoILzc3l7y8vODHhwdCrLS0lMzMTMrLy8nLyzsqxPolJJB4++30S0ho56oi\\\n",
       "ItFNAXYcXTGEFwivgECILVmyJBheAe2FmIiItE8BdhynOoRXVVXFwoULW5VlkUV9eT2zZs2ivrye\\\n",
       "LLJaHV+4cOEx74mJiMgRCrDjONUhvMTERAoLC0lOTgZ84TWPeSxgASmksIAFzGNeMMSSk5MpLCzU\\\n",
       "h92JiHSAAqybpaamBkOsiCK2sIUUUljEIlJIYQtbKKIoGF6pqanhrrKIiCcowLpB28kfqamp5Ofn\\\n",
       "U0MNeeS1OjePPGqoIT8/X+ElItIJCrBOaK6upvLXv6by17/hYFlZ8HnbWYptJ3+UlpaSnZ1NPPHk\\\n",
       "kNPq3BxyiCee7Ozso6bYi4jIsekTmTuhdvFi9jz2WwDqVq6kYdUqAFoaGmj4+1pwMPI/fsLgK66g\\\n",
       "buVKBk6bxgcPPsjsxx6jvKKCLLKCw4Z55JFDDimkkEEGBeUFZGZmahhRRKSDFGAd0FxdTe3ixQyc\\\n",
       "No24Sy4hZtw4DhQW+g4OGEDdypUcLCkBYNuddzL02mupe+ev7Nq8meveeYfdzc0AFFAAQBFF1FDD\\\n",
       "fOb7wstfHphiv3btWk3kEBE5gYgaQjSzMWZWaGafmNk6M5vnLx9mZm+Z2Ub/Y4+u7A0MCVb+6lfU\\\n",
       "v/8++5e9RXNFhe/gwYMcDBn6O/RZGdV/fJk+w4czePsOvjF6TKtrFVBAXHIcr732GnHJccHwCpg7\\\n",
       "d67CS0SkAyIqwIBm4N+cc5OBi4E7zWwycB/wtnNuAvC2/3X3V8Y/GWPwFVdwxj0/IPaccwA4vLuy\\\n",
       "9YlNTa1eHt61i5ZduwD47oAB/OvkKcFjgdmGM2fObDXFHiAnJ0cLmUVEOiiihhCdcxVAhf/5fjP7\\\n",
       "FBgFXA9k+E97BigC/m931yfQ8wJIvP12mquraWlspObFl+DQoQ5f547Dh+lzwQW8WFHR6h5XYIp9\\\n",
       "ZmYmc+fOVXiJiHRCRAVYKDNLAc4HPgCG+8MNYCcwvLu+b3N1NdXPPgc4hsyaBcDgK65g1y8epmHt\\\n",
       "Wg7t3Nmp8AKwQYPIrqvj5okTGV1fT9VTTzF09mz6JSSQmpqqe14iIichIgPMzAYDLwPfc87tM7Pg\\\n",
       "MeecMzN3jPdlA9kAY8eOPanv7Ztp+BgAfeLiSLz9dqqeeoq9Tz99UtcDcHV1AJxWsZNtd3yHlpoa\\\n",
       "WuobSLr7LgCFl4jISYi4ADOz/vjC6znnXGAX3V1mNtI5V2FmI4Hd7b3XOZcP5AOkp6e3G3InMnT2\\\n",
       "bFrqGwAX3ANx6OzZNFftpfqPf8Tt23fk5NhYaGxsrxG+Yw0NwaK+w4dj/frRvGMHcOT+WqAnJiIi\\\n",
       "nRNRkzjM19V6CvjUOfdIyKFXgdv8z28DXumuOvRLSCDp7rtIuvvuYLD0S0hg+L33MDb/SYiJCZ4b\\\n",
       "d8H5rd47ZPZsBl3+ZXCO/mckEf9P/8TA6emAb2JH/+SR9B09CoCmsjJ9WKWIyCmItB7YF4H/A/zd\\\n",
       "zNb4y34IPAS8aGa3A58D3+ipCgXWgA2dPZuG1auhqYn+Z47ltCtnEH/j19n32hJaGhroMzCWhFtv\\\n",
       "BWDLLbdw6LMyDqVsZ/SvfkX1s89R/+GH1L//PgCDLv8yw++7jwN/+Ys+rFJE5CSZcyc10hbx0tPT\\\n",
       "XXFx8Slfp+qpp9j98C+PCp3jDfsdLCtj10MPMfy++xgwbhzQenJIwq23athQRCKSma12zqWHux4d\\\n",
       "oQA7gebqasrvu4+6d/7KGff8gMTbb++C2omIRCYvBVhE3QOLRP0SEkh+6KFT+mDL9rTdsV5ERDpH\\\n",
       "AdYBp/rBlu1pu2O9iIh0TqRN4ogaoVP0RUSk8xRgYRLo1YmIyMnREKKIiHiSAkxERDxJASYiIp6k\\\n",
       "ABMREU9SgImIiCcpwERExJMUYCIi4kkKMBER8SQFmIiIeJICTEREPEkBJiIinqQAExERT1KAiYiI\\\n",
       "JynARETEkxRgIiLiSQqwXq66sZpFJYuobqwOd1VERLqUAqyXK9hUwCOrH6FgU0GH36PQExEviLgA\\\n",
       "M7OnzWy3mZWElA0zs7fMbKP/MSGcdfSSrPFZfH/a98kan9Xh93Q29KqqqjpVLiLSFSIuwID/Bq5p\\\n",
       "U3Yf8LZzbgLwtv+1dEBCbAJzps4hIbbjmd+Z0MvNzSUtLY3S0tJW5aWlpaSlpZGbm9vJGouIdEzE\\\n",
       "BZhz7q/A3jbF1wPP+J8/A2T1ZJ2iTUdDLzc3l7y8PMrLy8nMzAyGWGlpKZmZmZSXl5OXl6cQE+lC\\\n",
       "GvE4IuIC7BiGO+cq/M93AsPDWRk5El4BgRBbsmRJMLwCFGIiXUMjHm045yLuC0gBSkJe17Q5Xn2M\\\n",
       "92UDxUDx2LFjnXSPPXv2uOTkZAcEv7LIcvHEO8DFE++yyGp1PDk52e3ZsyfcVRfxrJycnFa/Txs2\\\n",
       "bHDOObdhw4ZWv485OTmn9H2AYhcBOdCRr7BXoN1KHR1gG4CR/ucjgQ0nusa0adM6+u8lJyH0lyaL\\\n",
       "LFdIoVvEIpdCilvEIldIYTDEQn/ZRKTzQsMrNMRee+21o/6YPNUQ81KAeWUI8VXgNv/z24BXwliX\\\n",
       "qHKsKfWpqakUFhaSnJxMEUVsYQsppLCIRaSQwha2UEQRycnJFBYWkpqaGqYWiHhD/b5aVr36MvX7\\\n",
       "aluVV1VVsXDhwlZlWWRRX17PrFmzqC+vJ6vNtICFCxdGxT2xiAswM3seeB+YaGbbzex24CHgK2a2\\\n",
       "EZjhfy094Pn1z/PI6kd4uuTpo4IsNTWV/Px8aqghj7xW78sjjxpqyM/PV3iJdMC6omX89blFrCta\\\n",
       "1qp8YP9+PPqj+xg5ciTgC695zGMBC0ghhQUsYB7zgiEW+KMxMTGxp5vQ4yIuwJxzNzvnRjrn+jvn\\\n",
       "RjvnnnLOVTnnrnTOTXDOzXDOtZ2lKN0kEFh/LvtzcG1YWW0Z3132Xd5e/TbZ2dnEE08OOa3el0MO\\\n",
       "8cRz67dvZdXfV4Wj6iKeUb+vlqaDjVxyw81MyZjRqje2rmgZnxe9ya/+/X6NeLQRcQEmPau9IcJA\\\n",
       "QL23/T1eL3sdgJ31O0kfns7yHcv5yfs/YdnqZcy8aibl5eVkkBH8JZrDnOAvVwYZ1Oyu4aoZVx01\\\n",
       "a0okWtXvq+VvLz1H0bNPs/zF54IhteKPz9M/NhaAP/92QbA3NiVjBl++ZQ5fveWbGvFoo1+4KyA9\\\n",
       "r7qxmoJNBWSNzwruugEwZ+ocAH664qes2LmCD8o/oMk1AdC/T3+27t/K7vrduAOOrT/fysHqgwAU\\\n",
       "UABAEUXUUMN85pNBRrC8ZncNmZmZrF27NiqGNUSAYDBNyZhB3JChwfJAWAX0j41lSsYMAKZkzGDV\\\n",
       "Ky9T9lExIydM4lBjIw379wOwcdOm4454zGc+2dnZ6oFJ7xa6VVTorhtltWXMfXMuu+t3AwTDC+BQ\\\n",
       "yyF21++mD32wwcYZV5zR+poUEJccxwuLX4AzjoRawNy5cxVeElWOdU9rSsYMxn7hPABGTpjExpXv\\\n",
       "86df/IT6Wt/kjYrNvtGKuppq3n/5ed75w+94+Ylf85WvXHXCEY+2mwr0duabNdn7pKenu+Li4nBX\\\n",
       "I+JUN1bz/HrfX383T7oZ8AVaxpgM7lp2F1sPbD3mexNjE7lo5EW8t/09rhx7JQf/fJBfPPgLAOLP\\\n",
       "iGfpsqWUWAk/W/IzKh+ppGZ3DQA5OTnRt8BSol7bHljo64b9+3nz8f9iV9lmWpoPBd8z5IzhNDc2\\\n",
       "Ur+vlomXXs7wcWcx8IxkLr/6avbu2x88L4us4IhHPPGtRjzAN5HjZEc8zGy1cy79lBrfQxRgUWZR\\\n",
       "ySIeWf0I3zn3OwzsN5CG5gYe//hxRg0axY66HR26xqB+g6hrrmPsaWMZv3I8v1/0e5K+n8SMaTO4\\\n",
       "Z/o9FG0rYqqbStY1WcydO1fhJQKsevVl/vrcIi654WZ2fraRso9O8P9Tn74MiI1lSNIZPLvkTd76\\\n",
       "ZGOrw8nJyeTn55Odnd1q5xs4tT8avRRgugcWZQIb9DY0N/DI6ke4aeJNxMfEdzi8AOqa6wDYun8r\\\n",
       "TIe3/+Vtfrf5d7y7412mj5gevJeme14iPlU7trPl448496qZbF33d3asLyEheTTVFTt8S49ppyPR\\\n",
       "cpiD9XVUfl7G1VNTGXH2BP7wv75JVaGzDQsLC1tt3xZNIx4KsCgT2Ki3rLaMkj0lbKzZSE1TTaev\\\n",
       "M7j/YA4cOsDWA1v53ebfcc/0e5g+YjpZ47NaTRIREXjnD79ja8ka9u/dQ3X5dgBqdu2EDo6AWZ8+\\\n",
       "XDXlLHZunsBHFZXce+PXqPjgPUaPGN4qxKJtxEMBFqWKthXx7o53uWniTWyq3kRtU+0J3wMwPG44\\\n",
       "A/oO4P4L72ftnrWs3LmSd3e8y9TTp/Ld874LHBmmhCMzG0WiSej9LoBho8dy+FAzl37jVpa/+Cxb\\\n",
       "S9bgDjd3+HqupYVdn23iG1dezo0D4ti3dTPFr20nbuhQpl93A6mpqVE54qEAi1KhQ4m1TbWMGjyK\\\n",
       "5pZmdtXvor/155Dz3ViO6xvH2CFjWV+9HoDRg0ezevdqNtZs5OZJN/PR7o+OeW31wCRaBWYgBqz+\\\n",
       "38V8+ZY5jJo4iZnz7uH5f7+Hmp3lx7lC+2p3VTDta7OpHDqYhJGjOeSf8BE3ZGjUhRcowKJWYCix\\\n",
       "urGakj0lvLvjXQDGDRlH2b4yLh55MZOGTWL93vWsqFgBwNjBY5k/bT5/K/8bDc0NPF3yNCsqVnDx\\\n",
       "yIu5dty1LCpZRNb4rOC1RaJV6Lquhv372fbJ30meOIVVr77MlIwZZN37Y/6y6AkONx9ix6frjnMl\\\n",
       "Axx9+8cw6YuXMyTxdCZ+8XI+W/0Bhxobef9l3+Ln6dfd0CPtijQKsCgTen8qITaBhNgEHrzsweDU\\\n",
       "+mvHXUvRtqLgIucVFSsYe9pYkgYmsXr3ap5c+yRTT5/K4x8/zsUjLwbg/DPOp2hbkYYNRfzihgwN\\\n",
       "hsq6omXBGYeBx+nX3cCNP/pP6vfV8vJPc9hdtumoayQkj6a6fDsJyaO5/gc/InHUaODIbMaLv34z\\\n",
       "X75lTjAso5ECLMq0t/NGQmxC8P4VwLih4wDfEOCqnat4d8e7zDxrJnH944L3u74/7ftkjMkIhl2A\\\n",
       "hg1FWgsEzFnTLmLM5C8E9zoM3CM7a9p0dpdtYsgZw9m3exejzpnCmClpTLrU19MKvD/Qewvt3YXu\\\n",
       "8BGNFGBRJmNMBqt2riJjTMYJzw30zkJnFIb23uBI2IF6XiLtCe2Nte1FAZx/9SxiBsRy1rSLgoEV\\\n",
       "CKb2zp9+3Q1RO2TYlgIsygRmH04fMb1V+BxL2/tZCimRU9e2F9U24I53vhyhAIsymiEoEn6hodUd\\\n",
       "50cLbeYbZQI9qsAQoIgc7VifjiyRRQEmItLGsXaSl8iiIUQRkTZ0z8kbFGAiIm3onpM3aAhRREQ8\\\n",
       "SQEmIiKepAATERFPUoCJiIgneSbAzOwaM9tgZpvM7L5w10dERMLLEwFmZn2Bx4BrgcnAzWY2Oby1\\\n",
       "EhGRcPJEgAEXApucc58555qAF4Drw1wnEREJI68E2ChgW8jr7f4yERGJUl4JsA4xs2wzKzaz4srK\\\n",
       "ynBXR0REupFXAmwHMCbk9Wh/WSvOuXznXLpzLj0pKanHKiciIj3PKwG2CphgZuPMLAa4CXg1zHUS\\\n",
       "EZEw8sReiM65ZjO7C3gT6As87ZxbF+ZqiYhIGHkiwACcc68Dr4e7HiIiEhm8MoQoIiLSigJMREQ8\\\n",
       "SQEmIiKepAATERFPUoCJiIgnKcBERMSTFGAiIuJJCjAREfEkBZiIiHiSAkxERDxJASYiIp6kABMR\\\n",
       "EU9SgImIiCcpwERExJMUYCIi4kkKMBER8SQFmIiIeJICTEREPEkBJiIinqQAExERT1KAiYiIJynA\\\n",
       "RETEkyImwMzsRjNbZ2YtZpbe5tj9ZrbJzDaY2dXhqqOIiESOfuGuQIgSYDbwZGihmU0GbgKmAMnA\\\n",
       "MjNLdc4d7vkqiohIpIiYHphz7lPn3IZ2Dl0PvOCcO+icKwM2ARf2bO1ERCTSREyAHccoYFvI6+3+\\\n",
       "MhERiWI9OoRoZsuAEe0cesA590oXXD8byAYYO3bsqV5OREQiWI8GmHNuxkm8bQcwJuT1aH9Ze9fP\\\n",
       "B/IB0tPT3Ul8LxER8QgvDCG+CtxkZgPMbBwwAVgZ5jqJiEiYRUyAmdk/mNl24BJgiZm9CeCcWwe8\\\n",
       "CHwC/Bm4UzMQRUQkYqbRO+f+BPzpGMceBB7s2RqJiEgki5gemIiISGcowERExJMUYCIi4kkKMBER\\\n",
       "8SQFmIiIeJICTEREPEkBJiIinqQAExERT1KAiYiIJynARETEkxRgIiLiSQowERHxJAWYiIh4kgJM\\\n",
       "REQ8SQEmIiKepAATERFPUoCJiIgnKcBERMSTFGAiIuJJCjAREfEkBZiIiHiSAkxERDwpYgLMzB42\\\n",
       "s/VmttbM/mRm8SHH7jezTWa2wcyuDmM1RUQkQkRMgAFvAVOdc2lAKXA/gJlNBm4CpgDXAL81s75h\\\n",
       "q6WIiESEiAkw59xS51yz/+UKYLT/+fXAC865g865MmATcGE46igiIpEjYgKsjW8Db/ifjwK2hRzb\\\n",
       "7i8TEZEo1q8nv5mZLQNGtHPoAefcK/5zHgCagedO4vrZQDbA2LFjT6GmIiIS6Xo0wJxzM4533My+\\\n",
       "BcwCrnTOOX/xDmBMyGmj/WXtXT8fyAdIT0937Z0jIiK9Q8QMIZrZNcC9wHXOufqQQ68CN5nZADMb\\\n",
       "B0wAVoajjiIiEjl6tAd2Ar8BBgBvmRnACufcHc65dWb2IvAJvqHFO51zh8NYTxERiQARE2DOufHH\\\n",
       "OfYg8GAPVkdERCJcxAwhiohIx1VVVXWqvDdSgImIeExubi5paWmUlpa2Ki8tLSUtLY3c3NzwVKyH\\\n",
       "KcBERDwkNzeXvLw8ysvLyczMDIZYaWkpmZmZlJeXk5eXFxUhpgATEfGIQHgFBEJsyZIlwfAKiIYQ\\\n",
       "U4CJiHhAVVUVCxcubFWWRRb15fXMmjWL+vJ6sshqdXzhwoW9+p6YAkxExAMSExMpLCxk5MhkwBde\\\n",
       "85jHAhaQQgoLWMA85gVDLDk5mcLCQhITE8NY6+6lABMR6QENB5r4cOnnNBxo6tSxUKmpqRQVFZKc\\\n",
       "nEwRRWxhCymksIhFpJDCFrZQRBFJicMpLCwkNTW1u5oTERRgIiI94NPlFby/eDOfLq9oVd5woIk3\\\n",
       "nvg77y/ezOo3Pw+Wfbj0cyo+q+F/f7OG6l11wfPHJKdw7x3/SQ015JHX6lp55FFDDU888USvDy+I\\\n",
       "oIXMIiK92TmXjgRg3Lmn8+HSzxl37ulsXLmL8s01VGyqBaDso0qmXJbMey9tZGvJXmIH96PxQDPv\\\n",
       "sZGv3XUeAH9+8W/kPHQP8cSTQ06r75FDDvOZz93z7mRq2uReH2LqgYmIdIO2w4IDB8dwwVVnUrpy\\\n",
       "F+8v3sxrv/mYVUu2sGN9Df1iff8V79vTyJLfrGVryV5iBval8UAzMQP78oWM0Xy49HPWflTCnT+6\\\n",
       "ldr6KjLICA4bzmFOcDgxg4yjptj3VuqBiYh0g8CQIcAFV50J+EJt52Zfb2tfZSOjJyXgcOxYXxN8\\\n",
       "X21lAzED+9LU4NvytanhMK8/vpb9dbU8/ModVNXsBqCAAgCKKKKGGuYznwwyguWBEFu7dm2vncih\\\n",
       "HpiISDc459KRXDL77ODQIfhCbfv6akZPSuDcr4xh8LAYanc1HPXeQHgFuMMwOHYoF559TavyAgpw\\\n",
       "cX35t5seZuCIgcHwCpg7d26vDS9QD0xEpFsEhgxDBcJs5PihLFv0CfsqGzt1zZnptwHwxurfAzA0\\\n",
       "LpF7/vFR4mNG8tiDz3HXv98aXMz8w/t/1OsXMivARER6yMDBMZxz6UgWP7w6GF7WB1xLx68x+/Lb\\\n",
       "AVj+6RIeuO0x/jlnFmUf7+GcS0dSeFkhl136ZdJTruaGjH/ujiZEFAWYiEgP+nR5BTW7GhiSFEv/\\\n",
       "AX2o2l5/4jeF6BfTh5nptzHrSzdx7mXjiR3UP9jTS01N5cPVH7F7Q1OrocveSgEmItKDQqfTL/7F\\\n",
       "6g6957TEAYyamMD65Tupq25i7NRhDD9zCKuWbGHgaa2HKkefOZLRZx7nYr2IAkxEpAcF7o19uPRz\\\n",
       "Guua6RfTh+amI2OIw5LjqKtp4mB9M337G4cPOfZXHaR8Yw0AoybFM+NbkwHoN6BvVPS0jkUBJiLS\\\n",
       "QxoONPHp8grOuXRkq57YJ++Vs7F4F3XVTYyZksi0q8/k0+UVwWOfralkX2UjY6cOY8a3JjNwcMwJ\\\n",
       "t52KBgowEZEe0nZtWGDo74s3TKB/TF9WLdlCTEzfVjMYB54W0yq8AD5c+jnNBw+zasmW4LWikQJM\\\n",
       "RKSHBHpd7Q37fSFzdLtDgqHvGTg4hg+Xfs77izeTPjPlqHVm0cacc+GuQ7dIT093xcXF4a6GiEiX\\\n",
       "Ch2GHDg4psuvb2arnXPpXX7hbqAemIiIh7S3QDpaaSspERHxpIgJMDP7DzNba2ZrzGypmSX7y83M\\\n",
       "fmVmm/zHLwh3XUVEJPwiJsCAh51zac6584DXgB/7y68FJvi/soHHw1M9ERGJJBETYM65fSEvBwGB\\\n",
       "2SXXA793PiuAeDOL3mk3IiICRNgkDjN7EPgmUAtk+otHAdtCTtvuL2v9udwiIhJVerQHZmbLzKyk\\\n",
       "na/rAZxzDzjnxgDPAXedxPWzzazYzIorKyu7uvoiIhJBerQH5pyb0cFTnwNeB3KAHcCYkGOj/WXt\\\n",
       "XT8fyAffOrCTr6mIiES6iBlCNLMJzrmN/pfXA+v9z18F7jKzF4CLgFrn3AmHD1evXr3HzD7v4Lc/\\\n",
       "HdjT2Tp7kNrZe0RDG0HtDAfPLDKLmAADHjKziUAL8Dlwh7/8deCrwCagHpjTkYs555I6+o3NrNgr\\\n",
       "K89PhdrZe0RDG0HtlOOLmABzzt1wjHIH3NnD1RERkQgXMdPoRUREOkMB5pMf7gr0ELWz94iGNoLa\\\n",
       "KcfRa3ejFxGR3k09MBER8aSoDjAze9jM1vs3Cf6TmcWHHLvfv4HwBjO7OozVPGVmdqOZrTOzFjNL\\\n",
       "b3OsN7XzGn87NpnZfeGuT1cxs6fNbLeZlYSUDTOzt8xso/8xIZx17ApmNsbMCs3sE//P6zx/ea9p\\\n",
       "q5nFmtlKM/vY38Y8f/k4M/vA/7P7P2bW9R/01QtFdYABbwFTnXNpQClwP4CZTQZuAqYA1wC/NbO+\\\n",
       "YavlqSsBZgN/DS3sTe301/sxfJs/TwZu9revN/hvfP8+oe4D3nbOTQDe9r/2umbg35xzk4GLgTv9\\\n",
       "/4a9qa0HgSucc+cC5wHXmNnFwM+BBc658UA1cHv4qugdUR1gzrmlzrlm/8sV+Hb5AN9C6heccwed\\\n",
       "c2X41qBdGI46dgXn3KfOuQ3tHOpN7bwQ2OSc+8w51wS8gK99nuec+yuwt03x9cAz/ufPAFk9Wafu\\\n",
       "4JyrcM596H++H/gU376nvaat/k3JD/hf9vd/OeAK4I/+ck+3sSdFdYC18W3gDf/zY20g3Nv0pnb2\\\n",
       "prZ0xPCQHWl2AsPDWZmuZmYpwPnAB/SytppZXzNbA+zGNwq0GagJ+WO6t//sdpmIWcjcXcxsGTCi\\\n",
       "nUMPOOde8Z/zAL7hi+d6sm5dqSPtlN7JOefMrNdMJzazwcDLwPecc/vMLHisN7TVOXcYOM9/z/1P\\\n",
       "wKTw1si7en2AnWgDYTP7FjALuNIdWVPQ4Q2EI0UnNkoO5bl2HkdvaktH7DKzkc65Cv/n4+0Od4W6\\\n",
       "gpn1xxdezznnFvuLe2VbnXM1ZlYIXILvcw77+Xthvf1nt8tE9RCimV0D3Atc55yrDzn0KnCTmQ0w\\\n",
       "s3H4Pg16ZTjq2M16UztXARP8s7li8E1OeTXMdepOrwK3+Z/fBni+l22+rtZTwKfOuUdCDvWatppZ\\\n",
       "UmC2s5kNBL6C715fIfB1/2mebmNPiuqFzGa2CRgAVPmLVjjn7vAfewDffbFmfEMZb7R/lchnZv8A\\\n",
       "/BpIAmqANc65q/3HelM7vwr8F9AXeNo592B4a9Q1zOx5IAPfjuW78H3MUAHwIjAW3+bX33DOtZ3o\\\n",
       "4SlmdhnwLvB3fJt6A/wQ332wXtFWM0vDN0mjL74OxIvOuZ+Y2Vn4Jh4NAz4CbnXOHQxfTb0hqgNM\\\n",
       "RES8K6qHEEVExLsUYCIi4kkKMBER8SQFmIiIeJICTEREPEkBJiIinqQAExERT1KAiYiIJynARETE\\\n",
       "kxRgIiLiSQowERHxJAWYiIh4kgJMREQ8SQEmIiKepAATERFPUoCJiIgnKcBERMSTFGAiIuJJCjAR\\\n",
       "EfEkBZiIiHjS/wfvptLV1DBlvAAAAABJRU5ErkJggg==\\\n",
       "\"\n",
       "  frames[2] = \"data:image/png;base64,iVBORw0KGgoAAAANSUhEUgAAAbAAAAEgCAYAAADVKCZpAAAAOXRFWHRTb2Z0d2FyZQBNYXRwbG90\\\n",
       "bGliIHZlcnNpb24zLjUuMiwgaHR0cHM6Ly9tYXRwbG90bGliLm9yZy8qNh9FAAAACXBIWXMAAAsT\\\n",
       "AAALEwEAmpwYAAAX7ElEQVR4nO3df2zk9X3n8ef72EDjRInBWSUMsGfuwEkhdbnDQYkaNXYKgoZV\\\n",
       "cdOmR6RWHIns6ymRNjTSiQSdZqZ35JJrrnvShaa1RbZUlyuhKSxot70UkH1c7i6lJiFbftSTDXEK\\\n",
       "mBYY1vmBG+iSz/3h8eDZtWF3s+Pv9zN+PqTRzvfz+c7s+6v17Mufz/fz/U6klJAkKTf/pOgCJEk6\\\n",
       "EQaYJClLBpgkKUsGmCQpSwaYJClLBpgkKUsGmCQpSwaYJClLBpgkKUsGmCQpSwaYJClLBpgkKUsG\\\n",
       "mCQpSwaYJClLBpgkKUsGmCQpSwaYJClLBpgkKUsGmCQpSwaYJClLBpgkKUsGmCQpSwaYJClLBpgk\\\n",
       "KUsGmCQpSwaYJClLBpgkKUsGmCQpSwaYJClLBpgkKUsGmCQpSwaYJClLBpgkKUsGmCQpS9uKLqBb\\\n",
       "3vSmN6XBwcGiy5CkrDzwwAPPppS2F13HsejZABscHGRubq7oMiQpKxHx3aJrOFZOIeoozWbzuNol\\\n",
       "qQgGmDrUajWGh4dpNBod7Y1Gg+HhYWq1WjGFSdIRDDC11Wo16vU6i4uLjI2NtUOs0WgwNjbG4uIi\\\n",
       "9XrdEJNUCgaYgJfDa9VqiO3fv78dXqsMMUllYICJZrPJ9PR0R9s44ywvLrNz506WF5cZZ7yjf3p6\\\n",
       "2nNikgplgImBgQFmZmaoVCrASnjtYhe72c0gg+xmN7vY1Q6xSqXCzMwMAwMDBVYtaaszwATA0NBQ\\\n",
       "O8RmmWWBBQYZZA97GGSQBRaYZbYdXkNDQ0WXLGmLM8DUNjQ0xNTUFEssUafe0VenzhJLTE1NGV6S\\\n",
       "SsEAU1uj0WBycpJ++qlS7eirUqWffiYnJ49aYi9JRTDABHQulR9ltD1teC3XtqcTRxk9aom9JBUl\\\n",
       "UkpF19AVIyMjyVtJHZtms8nw8HDHUvlxxpllliWW6KefUUbZy952f6VS4cCBAy7kkHpMRDyQUhop\\\n",
       "uo5j4QhMDAwMMDEx0dG2l730VfrYt28ffZW+jvACmJiYMLykY+Tt2brDANsqnm/CzH+CmU+tPD9C\\\n",
       "rVajWn35vNfqasMrr7yyY4k9QLVa9UJm6Rh5e7YuSin15OPiiy9OWmPfx1OqvuHlxwaq1WqqVCpp\\\n",
       "fn6+o31+fj5VKpVUrVa7XKjUO6rVagIS0PG5Wv08rfaV6XMFzKUS/B9+LA/PgW0V//k8WH7m5e3a\\\n",
       "9zbctdlsrjs9uFG7pKMdeXs2WJnZmJqaYnJysuOcM5RnZsNzYCqfF75/zLtuFFKGl3RsvD3b5jDA\\\n",
       "toqfvqroCqQtw9uzbY5STSFGxE8B9wGnsfJt0V9OKVUj4lzgVmAAeAD4jZTSi6/0Xk4hHuH5Jjz4\\\n",
       "3+GiX4fX+SGRNsPq9ZXLi8vt8Fq1wALXcR19lb5S3Z7NKcQT9wLw3pTSzwIXAVdExDuBzwC7U0rn\\\n",
       "AYeADxdXYqZeNwA/t8vwkjaRt2frrlIFWGsRzA9bm69pPRLwXuDLrfZb4IjJY0kqIW/P1l2lCjCA\\\n",
       "iDglIh4EngbuBr4NLKWUDrd2eQI4q6DyJOmYeHu27ttWdAFHSim9BFwUEf3AHcDbjvW1ETEJTALs\\\n",
       "2LGjK/VJ0qtpNpsd32S+eieb1duzXcd1HbdnWw0xb892fEo3AluVUloCZoB3Af0RsRq2ZwNPbvCa\\\n",
       "qZTSSEppZPv27ZtTqKQt77nnX+QP/te3ee75lbVl3p5tc5RqBBYR24F/TCktRcRrgctYWcAxA/wq\\\n",
       "KysRrwHuLK5KSVvdc8+/yL/8D3ev2/dv3vPPAdoXJa9ezLz2y2BnZmY6RmhluYg5N6UKMOBM4JaI\\\n",
       "OIWV0eFtKaV9EfEIcGtE/EfgG8DNRRYpaWv7k7nHj2obe+t2PjByTkfbaihNT093LJVfG2ITExOG\\\n",
       "1wkq1XVgJ5PXgUnqlvVGYF//95dxxutOXXf/nG7PltN1YGUbgUlS6Z3xulNZ+PSVx7y/t2frjtIu\\\n",
       "4pAk6ZUYYJKkLBlgkqQsGWCSpCwZYJKkLBlgkqQsGWCSpCwZYJKkLBlgkqQsGWCSpCwZYJKkLBlg\\\n",
       "kqQsGWA/gWazeVztkqSTxwA7QbVajeHhYRqNRkd7o9FgeHjY7/eRpC4zwE5ArVajXq+zuLjI2NhY\\\n",
       "O8QajUb7W1br9bohJkldZIAdp9XwWrUaYvv37+/4inDAEJOkLjLAjkOz2WR6erqjbZxxlheX2blz\\\n",
       "J8uLy4wz3tE/PT3tOTFJ6gID7DgMDAwwMzNDpVIBVsJrF7vYzW4GGWQ3u9nFrnaIVSoVZmZm/NZV\\\n",
       "SeoCA+w4DQ0NtUNsllkWWGCQQfawh0EGWWCBWWbb4TU0NFR0yZLUkwywEzA0NMTU1BRLLFGn3tFX\\\n",
       "p84SS0xNTRlektRFBtgJaDQaTE5O0k8/VaodfVWq9NPP5OTkUUvsJUknjwF2nNYulR9ltD1teC3X\\\n",
       "tqcTRxk9aom9JOnkipRS0TV0xcjISJqbmzup79lsNhkeHu5YKj/OOLPMssQS/fQzyih72dvur1Qq\\\n",
       "HDhwwIUckrIQEQ+klEaKruNYlGoEFhHnRMRMRDwSEQ9HxK5W+xkRcXdEfKv15+mbVdPhQ4do3nwz\\\n",
       "hw8dYmBggImJiY7+veylr9LHvn376Kv0dYQXwMTEhOElSV1QqgADDgMfTyldALwT+EhEXABcD9yb\\\n",
       "UjofuLe13b0i1oTW926/nad/57N87/bbgZULmavVl897ra42vPLKKzuW2ANUq1UvZJakLin1FGJE\\\n",
       "3Al8rvUYTSk9FRFnArMppbe+0mtPdApx+cEH+e7VH2xvn3rRRfRfdilvfP/72Xb6ywO/Wq3G9PT0\\\n",
       "UUvlV8+RTUxMGF6SspPTFGJpAywiBoH7gLcDf5tS6m+1B3BodXsjJxpgB9/3Pv7xse90tP303zy6\\\n",
       "7r7NZnPd6cGN2iWp7HIKsLJNIQIQEa8H/hT4WErp+2v70krirpu6ETEZEXMRMffMM8+c0N9d+dSn\\\n",
       "OrZPe8c7Ntx3o5AyvCSp+0o3AouI1wD7gK+klH631TbPJk0hStJW5gjsBLWmB28GHl0Nr5a7gGta\\\n",
       "z68B7tzs2iRJ5bKt6AKO8HPAbwB/HREPtto+CXwauC0iPgx8F/i1YsqTJJVFqQIspfRVIDbo/oXN\\\n",
       "rEWSVG6lmkKUJOlYGWCSpCwZYJKkLBlgkqQsGWCSpCwZYJKkLBlgkqQsGWCSpCwZYJKkLBlgkqQs\\\n",
       "GWCSpCwZYJKkLBlgkqQsGWCSpCwZYJKkLBlgkqQsGWCSpCwZYJKkLBlgkqQsGWCSpCwZYJKkLBlg\\\n",
       "kqQsGWCSpCwZYJKkLJUuwCLiCxHxdEQ8tKbtjIi4OyK+1frz9CJr3EqazeZxtUvSZildgAF/CFxx\\\n",
       "RNv1wL0ppfOBe1vb6rJarcbw8DCNRqOjvdFoMDw8TK1WK6YwSaKEAZZSug947ojmq4BbWs9vAcY3\\\n",
       "s6atqFarUa/XWVxcZGxsrB1ijUaDsbExFhcXqdfrhphUoK0+Q1K6ANvAm1NKT7We/x3w5iKL6XWr\\\n",
       "4bVqNcT279/fDq9VhphUDGdIgJRS6R7AIPDQmu2lI/oPbfC6SWAOmNuxY0fS8Xv22WdTpVJJQPsx\\\n",
       "znjqpz8BqZ/+NM54R3+lUknPPvts0aVLW0a1Wu34/M3Pz6eUUpqfn+/4/Far1eN+b2AulSAHjuVR\\\n",
       "eAHrFnV0gM0DZ7aenwnMv9p7XHzxxcf676UjrP0QjDOeZphJe9iTBhlMe9iTZphph9jaD4+k7lsb\\\n",
       "XmtDbN++fUf98nkiIZZTgOUyhXgXcE3r+TXAnQXW0vOGhoaYmZmhUqkwyywLLDDIIHvYwyCDLLDA\\\n",
       "LLNUKhVmZmYYGhoqumRpS2g2m0xPT3e0jTPO8uIyO3fuZHlxmfEjlghMT0/37Dmx0gVYRPwx8P+A\\\n",
       "t0bEExHxYeDTwGUR8S3g0ta2umhoaIipqSmWWKJOvaOvTp0llpiamjK8pE00MDDQ/uUSVsJrF7vY\\\n",
       "zW4GGWQ3u9nFrnaIrf6SOTAwUGDV3RMrI8beMzIykubm5oouI1urqw2XF5fbH45VCyxwHdfRV+lz\\\n",
       "BCYVoJufz4h4IKU0cpJL7orSjcBUvLVL5UcZbU8bXsu17enEUUaPWmIvaXM4Q7LCEZg6NJtNhoeH\\\n",
       "O5bKjzPOLLMssUQ//Ywyyl72tvsrlQoHDhzo2WkKqWwcga1wBKYOAwMDTExMdLTtZS99lT727dtH\\\n",
       "X6WvI7wAJiYmDC9pkzhDskbRyyC79XAZ/cae+4fn0k3fuCnd9I2b0nP/8Ny6+3TzOhNJJ2YzrtPE\\\n",
       "ZfQqs8m/mOTz3/w8n//m5/n5L/08h3506Kh9arUa1Wr1qKXya5fYV6vVrXG1v1QSzpB08hzYFvQz\\\n",
       "t/xMx/ZvXfxbXPv2a9fdt9lsrvvDv1G7pJ/c8ve/x8Oz93Dh6KX0veGNR/Wvvd3b2l8y104vAif0\\\n",
       "S2ZO58C2FV2ANt82tnGYw+3t8fPGN9x3o5AyvKTueOzrD3DHZ6oA3PfFPVz925/lrLe+rWOf1VCa\\\n",
       "np5ed4ZkbGyMiYmJnp8hcQS2BX31ia/y0Xs/yku8xHsq7+Fzl32u6JKkLW911HX/nV/mRz/8Qbv9\\\n",
       "9MrZfGj376/7mm7MkDgCU6m9++x38+A1DxZdhqQ1Hp69h/u+uIcLRy/j4dm72+2X/+bHNnzNVp8h\\\n",
       "McAkqQQuHL20/ecV/3ZXwdXkwQCTpBLoe8Mbeccv/UrRZWTFZfSSpCwZYJKkLBlgkqQsGWCSpCwZ\\\n",
       "YJKkLBlgkqQsGWCSpCwZYJKkLBlgkqQsGWCSpCwZYJKkLBlgkqQsGWCSpCxlE2ARcUVEzEfEwYi4\\\n",
       "vuh6JEnFyiLAIuIU4CbgF4ELgA9GxAXFViVJKlIWAQZcAhxMKT2WUnoRuBW4quCaJEkFyiXAzgIe\\\n",
       "X7P9RKtNkrRF5RJgxyQiJiNiLiLmnnnmmaLLkSR1US4B9iRwzprts1ttHVJKUymlkZTSyPbt2zet\\\n",
       "OEnS5sslwP4KOD8izo2IU4GrgbsKrkmSVKBtRRdwLFJKhyPio8BXgFOAL6SUHi64LElSgbIIMICU\\\n",
       "0p8Bf1Z0HZKkcshlClGSpA4GmCQpSwaYJClLBpgkKUsGmCQpSwaYJClLBpgkKUsGmCQpSwaYJClL\\\n",
       "BpgkKUsGmCQpSwaYJClLBpgkKUsGmCQpSwaYJClLBpgkKUsGmCQpSwaYJClLBpgkKUsGmCQpSwaY\\\n",
       "JClLBpgkKUsGmCQpSwaYJClLpQmwiPhARDwcET+OiJEj+j4REQcjYj4iLi+qRklSeWwruoA1HgLe\\\n",
       "D/zB2saIuAC4GrgQqAD3RMRQSumlzS9RklQWpRmBpZQeTSnNr9N1FXBrSumFlNJ3gIPAJZtbnSSp\\\n",
       "bEoTYK/gLODxNdtPtNokSVvYpk4hRsQ9wFvW6bohpXTnSXj/SWASYMeOHT/p20mSSmxTAyyldOkJ\\\n",
       "vOxJ4Jw122e32tZ7/ylgCmBkZCSdwN8lScpEDlOIdwFXR8RpEXEucD5wf8E1SZIKVpoAi4hfjogn\\\n",
       "gHcB+yPiKwAppYeB24BHgP8JfMQViJKk0iyjTyndAdyxQd+NwI2bW5EkqcxKMwKTJOl4GGCSpCwZ\\\n",
       "YJKkLBlgkqQsGWCSpCwZYJKkLBlgkqQsGWCSpCwZYJKkLBlgkqQsGWCSpCwZYJKkLBlgkqQsGWCS\\\n",
       "pCwZYJKkLBlgkqQsGWCSpCwZYJKkLBlgkqQsGWCSpCwZYJKkLBlgkqQsGWCSpCwZYJKkLBlgkqQs\\\n",
       "lSbAIuJ3IuJvIuJARNwREf1r+j4REQcjYj4iLi+wTElSSZQmwIC7gbenlIaBBvAJgIi4ALgauBC4\\\n",
       "Avi9iDilsColSaVQmgBLKf1FSulwa/NrwNmt51cBt6aUXkgpfQc4CFxSRI2SpPIoTYAd4UPAn7ee\\\n",
       "nwU8vqbviVabJGkL27aZf1lE3AO8ZZ2uG1JKd7b2uQE4DHzxBN5/EpgE2LFjx09QqSSp7DY1wFJK\\\n",
       "l75Sf0T8a2An8AsppdRqfhI4Z81uZ7fa1nv/KWAKYGRkJK23jySpN5RmCjEirgD+HfBLKaXlNV13\\\n",
       "AVdHxGkRcS5wPnB/ETVKkspjU0dgr+JzwGnA3REB8LWU0m+mlB6OiNuAR1iZWvxISumlAuuUJJVA\\\n",
       "aQIspXTeK/TdCNy4ieVIkkquNFOIkqQT12w2j6u9FxhgkpS5Wq3G8PAwjUajo73RaDA8PEytVium\\\n",
       "sC4zwCQpY7VajXq9zuLiImNjY+0QazQajI2Nsbi4SL1e78kQM8AkKVOr4bVqNcT279/fDq9VvRhi\\\n",
       "BpgkZajZbDI9Pd3RNs44y4vL7Ny5k+XFZcYZ7+ifnp7uqXNiBpgkZWhgYICZmRkqlQqwEl672MVu\\\n",
       "djPIILvZzS52tUOsUqkwMzPDwMBAgVWfXAaYJGVqaGioHWKzzLLAAoMMsoc9DDLIAgvMMtsOr6Gh\\\n",
       "oaJLPqkMMEnK2NDQEFNTUyyxRJ16R1+dOkssMTU11XPhBQaYJGWt0WgwOTlJP/1UqXb0VanSTz+T\\\n",
       "k5NHLbHvBQaYJGVq7VL5UUbb04bXcm17OnGU0aOW2PeKePmm771lZGQkzc3NFV2GJHVFs9lkeHi4\\\n",
       "Y6n8OOPMMssSS/TTzyij7GVvu79SqXDgwIFXXMgREQ+klEa6WfvJ4ghMkkrqqceW+KMb/i//o/41\\\n",
       "/uiG/8NTjy21+wYGBpiYmOjYfy976av0sW/fPvoqfR3hBTAxMeEqRElS993xX77OD5o/4tBTy/yg\\\n",
       "+QL37Hmko79Wq1Gtvnzea3W14ZVXXtmxxB6gWq323IXMpbkbvSSp05FfHLXjgjOO2mc1lKanpzuW\\\n",
       "yq8usR8bG2NiYqLnwgs8ByZJpfWlT32NZ//25e/3/dBn381rX3/quvs2m811pwc3at9ITufAHIFJ\\\n",
       "Ukn9q0++85j33Sikeumc15E8ByZJypIBJknKkgEmScqSASZJypIBJknKkgEmScqSASZJylLPXsgc\\\n",
       "Ec8A3y26jk3yJuDZoovYZFvtmLfa8YLHXJR/mlLaXnANx6RnA2wriYi5XK6cP1m22jFvteMFj1mv\\\n",
       "zilESVKWDDBJUpYMsN4wVXQBBdhqx7zVjhc8Zr0Kz4FJkrLkCEySlCUDLFMR8YGIeDgifhwRI0f0\\\n",
       "fSIiDkbEfERcXlSN3RARV7SO62BEXF90Pd0QEV+IiKcj4qE1bWdExN0R8a3Wn6cXWePJFhHnRMRM\\\n",
       "RDzS+rne1Wrv2eOOiJ+KiPsj4putY6632s+NiL9s/Yx/KSLW/wIwGWAZewh4P3Df2saIuAC4GrgQ\\\n",
       "uAL4vYg4ZfPLO/lax3ET8IvABcAHW8fba/6QlX+7ta4H7k0pnQ/c29ruJYeBj6eULgDeCXyk9W/b\\\n",
       "y8f9AvDelNLPAhcBV0TEO4HPALtTSucBh4APF1diuRlgmUopPZpSml+n6yrg1pTSCyml7wAHgUs2\\\n",
       "t7quuQQ4mFJ6LKX0InArK8fbU1JK9wHPHdF8FXBL6/ktwPhm1tRtKaWnUkpfbz3/AfAocBY9fNxp\\\n",
       "xQ9bm69pPRLwXuDLrfaeOuaTzQDrPWcBj6/ZfqLV1gt6+dhezZtTSk+1nv8d8OYii+mmiBgE/gXw\\\n",
       "l/T4cUfEKRHxIPA0cDfwbWAppXS4tctW+hk/btuKLkAbi4h7gLes03VDSunOza5H5ZBSShHRk8uH\\\n",
       "I+L1wJ8CH0spfT8i2n29eNwppZeAiyKiH7gDeFuxFeXFACuxlNKlJ/CyJ4Fz1myf3WrrBb18bK/m\\\n",
       "7yPizJTSUxFxJiu/sfeUiHgNK+H1xZTS7a3mnj9ugJTSUkTMAO8C+iNiW2sUtpV+xo+bU4i95y7g\\\n",
       "6og4LSLOBc4H7i+4ppPlr4DzW6u0TmVlscpdBde0We4Crmk9vwboqRF4rAy1bgYeTSn97pqunj3u\\\n",
       "iNjeGnkREa8FLmPl3N8M8Kut3XrqmE82L2TOVET8MvDfgO3AEvBgSunyVt8NwIdYWdn1sZTSnxdV\\\n",
       "58kWEe8D/itwCvCFlNKNxVZ08kXEHwOjrNyZ/O+BKrAXuA3Ywcq3LPxaSunIhR7Zioh3A/8b+Gvg\\\n",
       "x63mT7JyHqwnjzsihllZpHEKK4OJ21JKvx0R/4yVBUpnAN8Afj2l9EJxlZaXASZJypJTiJKkLBlg\\\n",
       "kqQsGWCSpCwZYJKkLBlgkqQsGWCSpCwZYJKkLBlgkqQsGWCSpCwZYJKkLBlgkqQsGWCSpCwZYJKk\\\n",
       "LBlgkqQsGWCSpCwZYJKkLBlgkqQsGWCSpCwZYJKkLBlgkqQs/X9A91aLaswPpAAAAABJRU5ErkJg\\\n",
       "gg==\\\n",
       "\"\n",
       "  frames[3] = \"data:image/png;base64,iVBORw0KGgoAAAANSUhEUgAAAbAAAAEgCAYAAADVKCZpAAAAOXRFWHRTb2Z0d2FyZQBNYXRwbG90\\\n",
       "bGliIHZlcnNpb24zLjUuMiwgaHR0cHM6Ly9tYXRwbG90bGliLm9yZy8qNh9FAAAACXBIWXMAAAsT\\\n",
       "AAALEwEAmpwYAAAWVklEQVR4nO3db2xk13mY8eetZCshgpY2vYg1krZUYU0c2WFciBBstB9IxYaV\\\n",
       "7qJigiRVgAaqYpAIoAprwUArRx9mpqgAB0WzNVoHLQlb1gcjiuBEK4GbNJUVEmqBJg7VuGv9yY43\\\n",
       "MV1LVC1pYjYJCMiQ/fYDZ0ac3aXEXS955wyfHzDYmXOH3HOhpZ65d85cRmYiSVJp/k7VE5Ak6XIY\\\n",
       "MElSkQyYJKlIBkySVCQDJkkqkgGTJBXJgEmSimTAJElFMmCSpCIZMElSkQyYJKlIBkySVCQDJkkq\\\n",
       "kgGTJBXJgEmSimTAJElFMmCSpCIZMElSkQyYJKlIBkySVCQDJkkqkgGTJBXJgEmSimTAJElFMmCS\\\n",
       "pCIZMElSkQyYJKlIBkySVCQDJkkqkgGTJBXJgEmSimTAJElFMmCSpCIZMElSka6uegL75T3veU9O\\\n",
       "Tk5WPQ1JKsozzzzzWmYeqXoeezGyAZucnGRtba3qaUhSUSLiW1XPYa88hagBnU7nksYlqSoGTH3N\\\n",
       "ZpOpqSna7fbAeLvdZmpqimazWc3EJOkiDJiA7Xi1Wi02NjaYnZ3tR6zdbjM7O8vGxgatVsuISRoa\\\n",
       "Bkz9ePX0Inb69Ol+vHqMmKRhYcAOuU6nw9LS0sDYHHNsbWxx/Phxtja2mGNuYPvS0pLviUmqnAE7\\\n",
       "5CYmJlhZWaFWqwHb8TrBCU5ykkkmOclJTnCiH7FarcbKygoTExMVzlqSDJiAer3ej9gqq6yzziST\\\n",
       "PMRDTDLJOuusstqPV71er3rKkmTAtK1er7O4uMgmm7RoDWxr0WKTTRYXF42XpKFhwARsrzZcWFhg\\\n",
       "nHEaNAa2NWgwzjgLCwsXLLGXpKoYMA0slZ9hpn/a8G7u7p9OnGHmgiX2klSlyMyq57Avpqen00tJ\\\n",
       "vb1Op8PU1NTAUvk55lhllU02GWecGWY4xan+9lqtxpkzZ1zIIY2giHgmM6ernsdeeAR2yE1MTDA/\\\n",
       "Pz8wdopTjNXGWF5eZqw2NhAvgPn5eeMlXQIv0bY/DJhoNps0Gm++79VbbXjs2LGBJfYAjUbDDzJL\\\n",
       "l8BLtO2jzBzJ2y233JLaofF337zt9pRGI2u1Wp49e3Zg/OzZs1mr1bLRaOzzJKXR0mg0Ekhg4Ger\\\n",
       "9zPV2zZMP1vAWg7B/8P3cvM9sMOi+fd23P9/uz6t0+lc9PTgbuOSLu78S7TB9tmNxcVFFhYWBt53\\\n",
       "huE5u+F7YCrWbpEyXtLeeYm2g2HAJOkK8xJtB2OoTiFGxI8ATwPXsP3bor+cmY2IuBF4BJgAngF+\\\n",
       "JTO/91bfy1OIkqrW+4zl1sZWP14966xzH/cxVhsbqku0eQrx8r0O3JaZPw18CLg9Ij4M/AZwMjPf\\\n",
       "B3wX+ER1U5SkvfESbftrqALWXQTzt92H7+jeErgN+HJ3/GE47+SxJA0hL9G2v4YqYAARcVVEfA14\\\n",
       "BXgS+AtgMzPf6D7lReC6iqYnSXviJdr239VVT+B8mfl94EMRMQ48Brx/r18bEQvAAsDRo0f3ZX6S\\\n",
       "9HY6nc7AbzPvXc2md4m2+7hv4BJtvYh5ibZLM3RHYD2ZuQmsAB8BxiOiF9vrgZd2+ZrFzJzOzOkj\\\n",
       "R44czEQl6Txeou1gDFXAIuJI98iLiPhR4GPAC2yH7Be6T7sLeLySCUrSDpP3n+7fzucl2vbfsJ1C\\\n",
       "vBZ4OCKuYjuuj2bmckQ8DzwSEf8W+DPg81VOUpL2ohelpaWlgaXyvd+CPjs7y/z8vPG6TEP1ObAr\\\n",
       "yc+BSdpvO4+81j9zbNfnlXSJtpI+BzZsR2CSVIy3itZOXqJtfwzVe2CSJO2VAZMkFcmASZKKZMAk\\\n",
       "SUUyYJKkIhkwSVKRDJgkqUgGTJJUJAMmSSqSAZMkFcmASZKKZMAkSUUyYJep0+lc0rgk6coyYJeh\\\n",
       "2WwyNTVFu90eGG+320xNTfm7fSTpABiwS9RsNmm1WmxsbDA7O9uPWLvdZnZ2lo2NDVqtlhGTpH1m\\\n",
       "wC5BL149vYidPn26H68eIyZJ+8uA7VGn02FpaWlgbI45tja2OH78OFsbW8wxN7B9aWnJ98QkaZ8Y\\\n",
       "sD2amJhgZWWFWq0GbMfrBCc4yUkmmeQkJznBiX7EarUaKysr/sZVSdonBuwS1Ov1fsRWWWWddSaZ\\\n",
       "5CEeYpJJ1llnldV+vOr1etVTlqSRZcAuUb1eZ3FxkU02adEa2NaixSabLC4uGi9J2mcG7BK1220W\\\n",
       "FhYYZ5wGjYFtDRqMM87CwsIFS+wlSVeWAbsEO5fKzzDTP214N3f3TyfOMHPBEntJ0pUXmVn1HPbF\\\n",
       "9PR0rq2tXbHv1+l0mJqaGlgqP8ccq6yyySbjjDPDDKc41d9eq9U4c+aMCzkkFSMinsnM6arnsRdD\\\n",
       "dQQWETdExEpEPB8Rz0XEie74uyPiyYj4RvfPdx303CYmJpifnx8YO8UpxmpjLC8vM1YbG4gXwPz8\\\n",
       "vPGSpH0yVAED3gA+lZk3Ax8G7omIm4H7gacy8ybgqe7jA9dsNmk03nzfq7fa8NixYwNL7AEajYYf\\\n",
       "ZJakfXR11RPYKTNfBl7u3v+biHgBuA64A5jpPu1hYBX41/sxhxfe/5P9+z/55y9csL0XpaWlpYGl\\\n",
       "8r0l9rOzs8zPzxsvSdpnQ/seWERMAk8DHwT+T2aOd8cD+G7v8W4u9z2wtwtYT6fTuejpwd3GJakE\\\n",
       "vgf2Q4qIHwN+F/hkZv71zm25XdyLVjciFiJiLSLWXn311X2d426RMl6SdDCG6hQiQES8g+14fSkz\\\n",
       "f687/J2IuDYzX46Ia4FXLva1mbkILML2Edjl/P1vddQlSRoeQ3UE1j09+Hnghcz8zR2bngDu6t6/\\\n",
       "C3j8oOcmSRouw3YE9o+AXwG+HhFf6479OvAZ4NGI+ATwLeCXqpmeJGlYDFXAMvN/ALHL5p85yLlI\\\n",
       "kobbUJ1ClCRprwyYJKlIBkySVCQDJkkqkgGTJBXJgEmSimTAJElFMmCSpCIZMElSkQyYJKlIBkyS\\\n",
       "VCQDJkkqkgGTJBXJgEmSimTAJElFMmCSpCIZMElSkQyYJKlIBkySVCQDJkkqkgGTJBXJgEmSimTA\\\n",
       "JElFMmCSpCIZMElSkYYuYBHxhYh4JSKe3TH27oh4MiK+0f3zXVXO8bDodDqXNC5JB2noAgZ8Ebj9\\\n",
       "vLH7gacy8ybgqe5j7aNms8nU1BTtdntgvN1uMzU1RbPZrGZikvoO+4vMoQtYZj4N/NV5w3cAD3fv\\\n",
       "PwzMHeScDptms0mr1WJjY4PZ2dl+xNrtNrOzs2xsbNBqtYyYVCFfZAKZOXQ3YBJ4dsfjzR33Y+fj\\\n",
       "3W633HJL6tI1Go0EBm61Wi2Xl5ezVqtdsK3RaFQ9ZenQ2flzWqvV8uzZs5mZefbs2YGf08v5+QTW\\\n",
       "cgg6sJdb5RO46KTeImDdx9/d5esWgDVg7ejRo3v976Wu11577YJIzTGX44wnkOOM5xxzF8Tttdde\\\n",
       "q3rq0qGx3y8ySwrY0J1C3MV3IuJagO6fr1zsSZm5mJnTmTl95MiRA53gKJiYmGBlZYVarQbAHHOc\\\n",
       "4AQnOckkk5zkJCc4wVz3DG6tVmNlZYWJiYkKZy0dHp1Oh6WlpYGxOebY2tji+PHjbG1s9X8+e5aW\\\n",
       "lkb2PbFSAvYEcFf3/l3A4xXOZaTV6/V+xFZZZZ11JpnkIR5ikknWWWeV1X686vV61VOWDg1fZA4a\\\n",
       "uoBFxG8D/xP4iYh4MSI+AXwG+FhEfAP4aPex9km9XmdxcZFNNmnRGtjWosUmmywuLhovqQK+yHxT\\\n",
       "bJ/yHD3T09O5trZW9TSK1FttuLWx1X9l17POOvdxH2O1sZH/4ZCG2enTpzl+/Hg/Xj13czfrrLO8\\\n",
       "vMyxY8cu+ftGxDOZOX0l57pfhu4ITNXauVR+hpn+K7reD8Ukk8wwc8ESe0kHp91us7CwwDjjNGgM\\\n",
       "bGvQYJxxFhYWRv7n04Cpr9Pp9OMFcIpTfJbPch/39Y+8PstnOcUpgH7ERvUNYmkY+SLzTQZMfRMT\\\n",
       "E8zPzw+MneIUY7UxlpeXGauN9ePVMz8/P7JvEEvDxheZgwyYBjSbTRqNN09J9N4IPnbs2MDqJ4BG\\\n",
       "o3E4Pu0vDQlfZJ6n6g+i7dfNK3Hs7oNf/GD/tptGozHwCf+e3if9vQKHVB2vxLF9cxXiIfRTD/9U\\\n",
       "//7X7/r6rs/rdDoXfeW227ikK+Pf/7Pj/fuf+p3liz6n2WyytLR0wWrg3ntk8/Pzl3WGpKRViFdX\\\n",
       "PQENr90iZbyk6jWbTe69994Lfh7r9Tpnzpw5FD+nBuwQequjLknlOOwvMg2YJA2Z3U4bapCrECVJ\\\n",
       "RTJgkqQiGTBJUpEMmCSpSAZMklQkAyZJKpIBkyQVyYBJkopkwCRJRTJgkqQiGTBJUpEMmCSpSAZM\\\n",
       "klQkAyZJKpIBkyQVqZiARcTtEXE2Is5FxP1Vz0eSVK0iAhYRVwGfA34WuBn45Yi4udpZSZKqVETA\\\n",
       "gFuBc5n5l5n5PeAR4I6K5yRJqlApAbsO+PaOxy92xyRJh1QpAduTiFiIiLWIWHv11Verno4kaR+V\\\n",
       "ErCXgBt2PL6+OzYgMxczczozp48cOXJgk5MkHbxSAvanwE0RcWNEvBO4E3ii4jlJkip0ddUT2IvM\\\n",
       "fCMi/iXwh8BVwBcy87mKpyVJqlARAQPIzN8Hfr/qeUiShkMppxAlSRpgwCRJRTJgkqQiGTBJUpEM\\\n",
       "mCSpSAZMklQkAyZJKpIBkyQVyYBJkopkwCRJRTJgkqQiGTBJUpEMmCSpSAZMklQkAyZJKpIBkyQV\\\n",
       "yYBJkopkwCRJRTJgkqQiGTBJUpEMmCSpSAZMklQkAyZJKpIBkyQVaWgCFhG/GBHPRcQPImL6vG2f\\\n",
       "johzEXE2Ij5e1RwlScPj6qonsMOzwM8D/2XnYETcDNwJfACoAV+JiHpmfv/gpyhJGhZDcwSWmS9k\\\n",
       "5tmLbLoDeCQzX8/MbwLngFsPdnaSpGEzNAF7C9cB397x+MXumCTpEDvQU4gR8RXgvRfZ9EBmPn4F\\\n",
       "vv8CsABw9OjRH/bbSZKG2IEGLDM/ehlf9hJww47H13fHLvb9F4FFgOnp6byMv0uSVIgSTiE+AdwZ\\\n",
       "EddExI3ATcBXK56TJKliQxOwiPi5iHgR+AhwOiL+ECAznwMeBZ4H/itwjysQJUlDs4w+Mx8DHttl\\\n",
       "24PAgwc7I0nSMBuaIzBJki6FAZMkFcmASZKKZMAkSUUyYJKkIhkwSVKRDJgkqUgGTJJUJAMmSSqS\\\n",
       "AZMkFcmASZKKZMAkSUUyYJKkIhkwSVKRDJgkqUgGTJJUJAMmSSqSAZMkFcmASZKKZMAkSUUyYJKk\\\n",
       "IhkwSVKRDJgkqUgGTJJUpKEJWET8u4j484g4ExGPRcT4jm2fjohzEXE2Ij5e4TQlSUNiaAIGPAl8\\\n",
       "MDOngDbwaYCIuBm4E/gAcDvwWxFxVWWzlCQNhaEJWGb+t8x8o/vwj4Hru/fvAB7JzNcz85vAOeDW\\\n",
       "KuYoSRoeQxOw8/wq8Afd+9cB396x7cXumCTpELv6IP+yiPgK8N6LbHogMx/vPucB4A3gS5fx/ReA\\\n",
       "BYCjR4/+EDOVJA27Aw1YZn70rbZHxL8AjgM/k5nZHX4JuGHH067vjl3s+y8CiwDT09N5sedIkkbD\\\n",
       "0JxCjIjbgX8F/NPM3Nqx6Qngzoi4JiJuBG4CvlrFHCVJw+NAj8Dexn8CrgGejAiAP87MX8vM5yLi\\\n",
       "UeB5tk8t3pOZ369wnpKkITA0AcvM973FtgeBBw9wOpKkITc0pxAlSZev0+lc0vgoMGCSVLhms8nU\\\n",
       "1BTtdntgvN1uMzU1RbPZrGZi+8yASVLBms0mrVaLjY0NZmdn+xFrt9vMzs6ysbFBq9UayYgZMEkq\\\n",
       "VC9ePb2InT59uh+vnlGMmAGTpAJ1Oh2WlpYGxuaYY2tji+PHj7O1scUccwPbl5aWRuo9MQMmSQWa\\\n",
       "mJhgZWWFWq0GbMfrBCc4yUkmmeQkJznBiX7EarUaKysrTExMVDjrK8uASVKh6vV6P2KrrLLOOpNM\\\n",
       "8hAPMckk66yzymo/XvV6veopX1EGTJIKVq/XWVxcZJNNWrQGtrVosckmi4uLIxcvMGCSVLR2u83C\\\n",
       "wgLjjNOgMbCtQYNxxllYWLhgif0oMGCSVKidS+VnmOmfNrybu/unE2eYuWCJ/aiINy/6Plqmp6dz\\\n",
       "bW2t6mlI0r7odDpMTU0NLJWfY45VVtlkk3HGmWGGU5zqb6/Vapw5c+YtF3JExDOZOb2fc79SPAKT\\\n",
       "pAJNTEwwPz8/MHaKU4zVxlheXmasNjYQL4D5+fmRWoU4NBfzlSRd6HO/9kf9+/f859sGtvU+mNz7\\\n",
       "MPPO1YYrKysDH2ZuNBoj90FmAyZJBetFaWlpaWCp/M6Izc/Pj1y8wIBJUvGazSb33nvvBacH6/X6\\\n",
       "277nVTIDJklD7PzThrvZLVKjGi9wEYckqVAGTJJUJAMmSSqSAZMkFcmASZKKZMAkSUUyYJKkIo3s\\\n",
       "xXwj4lXgW1XP4wC8B3it6kkcMPf5cHCfq/H3M/NIxXPYk5EN2GEREWulXDn6SnGfDwf3WW/HU4iS\\\n",
       "pCIZMElSkQxY+RarnkAF3OfDwX3WW/I9MElSkTwCkyQVyYAVKiJ+MSKei4gfRMT0eds+HRHnIuJs\\\n",
       "RHy8qjleaRFxe3efzkXE/VXPZ79ExBci4pWIeHbH2Lsj4smI+Eb3z3dVOccrLSJuiIiViHi+++/6\\\n",
       "RHd8ZPc7In4kIr4aEf+7u8+t7viNEfEn3X/nvxMR76x6rsPKgJXrWeDngad3DkbEzcCdwAeA24Hf\\\n",
       "ioirDn56V1Z3Hz4H/CxwM/DL3X0dRV9k+7/dTvcDT2XmTcBT3cej5A3gU5l5M/Bh4J7uf99R3u/X\\\n",
       "gdsy86eBDwG3R8SHgd8ATmbm+4DvAp+oborDzYAVKjNfyMyzF9l0B/BIZr6emd8EzgG3Huzs9sWt\\\n",
       "wLnM/MvM/B7wCNv7OnIy82ngr84bvgN4uHv/YWDuIOe03zLz5cz8X937fwO8AFzHCO93bvvb7sN3\\\n",
       "dG8J3AZ8uTs+Uvt8pRmw0XMd8O0dj1/sjpVuVPdrr348M1/u3v+/wI9XOZn9FBGTwD8E/oQR3++I\\\n",
       "uCoivga8AjwJ/AWwmZlvdJ9y2P6dX5Krq56AdhcRXwHee5FND2Tm4wc9Hw2HzMyIGMnlwxHxY8Dv\\\n",
       "Ap/MzL+OiP62UdzvzPw+8KGIGAceA95f7YzKYsCGWGZ+9DK+7CXghh2Pr++OlW5U92uvvhMR12bm\\\n",
       "yxFxLduv2EdKRLyD7Xh9KTN/rzs88vsNkJmbEbECfAQYj4iru0dhh+3f+SXxFOLoeQK4MyKuiYgb\\\n",
       "gZuAr1Y8pyvhT4Gbuiu03sn2QpUnKp7TQXoCuKt7/y5gpI7AY/tQ6/PAC5n5mzs2jex+R8SR7pEX\\\n",
       "EfGjwMfYfu9vBfiF7tNGap+vND/IXKiI+DngPwJHgE3ga5n58e62B4BfZXtl1ycz8w+qmueVFBH/\\\n",
       "BPgPwFXAFzLzwWpntD8i4reBGbavTP4doAGcAh4FjrL9WxZ+KTPPX+hRrIj4x8B/B74O/KA7/Ots\\\n",
       "vw82kvsdEVNsL9K4iu2DiUcz899ExD9ge5HSu4E/A/55Zr5e3UyHlwGTJBXJU4iSpCIZMElSkQyY\\\n",
       "JKlIBkySVCQDJkkqkgGTJBXJgEmSimTAJElFMmCSpCIZMElSkQyYJKlIBkySVCQDJkkqkgGTJBXJ\\\n",
       "gEmSimTAJElFMmCSpCIZMElSkQyYJKlIBkySVKT/D5RssyhVmjiVAAAAAElFTkSuQmCC\\\n",
       "\"\n",
       "  frames[4] = \"data:image/png;base64,iVBORw0KGgoAAAANSUhEUgAAAbAAAAEgCAYAAADVKCZpAAAAOXRFWHRTb2Z0d2FyZQBNYXRwbG90\\\n",
       "bGliIHZlcnNpb24zLjUuMiwgaHR0cHM6Ly9tYXRwbG90bGliLm9yZy8qNh9FAAAACXBIWXMAAAsT\\\n",
       "AAALEwEAmpwYAAAWUElEQVR4nO3db2xk13mY8eetZCshApQ2vYg1krZUYU0d2WFciBBstB9IxYaV\\\n",
       "7iJigvxRgAaqYpAIoAprwUArRx9mpqgAB0WzNVoHLQlb1gcjiuBEK4GbNJFVEmqBJg7VuGv9yY43\\\n",
       "MV1LVC1pYjYJCMiQ/fYDZ0ac3aXEXS955wyfH0DszLlD7rnQjp65d85cRmYiSVJp/l7VE5Ak6XIY\\\n",
       "MElSkQyYJKlIBkySVCQDJkkqkgGTJBXJgEmSimTAJElFMmCSpCIZMElSkQyYJKlIBkySVCQDJkkq\\\n",
       "kgGTJBXJgEmSimTAJElFMmCSpCIZMElSkQyYJKlIBkySVCQDJkkqkgGTJBXJgEmSimTAJElFMmCS\\\n",
       "pCIZMElSkQyYJKlIBkySVCQDJkkqkgGTJBXJgEmSimTAJElFMmCSpCIZMElSka6uegL75T3veU9O\\\n",
       "Tk5WPQ1JKsozzzzzWmYeqXoeezGyAZucnGRtba3qaUhSUSLiW1XPYa88hagBnU7nksYlqSoGTH3N\\\n",
       "ZpOpqSna7fbAeLvdZmpqimazWc3EJOkiDJiA7Xi1Wi02NjaYnZ3tR6zdbjM7O8vGxgatVsuISRoa\\\n",
       "Bkz9ePX0Inb69Ol+vHqMmKRhYcAOuU6nw9LS0sDYHHNsbWxx/Phxtja2mGNuYPvS0pLviUmqnAE7\\\n",
       "5CYmJlhZWaFWqwHb8TrBCU5ykkkmOclJTnCiH7FarcbKygoTExMVzlqSDJiAer3ej9gqq6yzziST\\\n",
       "PMRDTDLJOuusstqPV71er3rKkmTAtK1er7O4uMgmm7RoDWxr0WKTTRYXF42XpKFhwARsrzZcWFhg\\\n",
       "nHEaNAa2NWgwzjgLCwsXLLGXpKoYMA0slZ9hpn/a8G7u7p9OnGHmgiX2klSlyMyq57Avpqen00tJ\\\n",
       "vb1Op8PU1NTAUvk55lhllU02GWecGWY4xan+9lqtxpkzZ1zIIY2giHgmM6ernsdeeAR2yE1MTDA/\\\n",
       "Pz8wdopTjNXGWF5eZqw2NhAvgPn5eeMlXQIv0bY/DJhoNps0Gm++79VbbXjs2LGBJfYAjUbDDzJL\\\n",
       "l8BLtO2jzBzJr1tuuSV1aRqNRtZqtTx79uzA+NmzZ7NWq2Wj0ahmYlKhGo1GAgkMPLd6z6netmF6\\\n",
       "bgFrOQT/D9/Ll++BHRbNv7/j9v/b9WGdTueipwd3G5d0cedfog22z24sLi6ysLAw8L4zDM/ZDd8D\\\n",
       "U7F2i5TxkvbOS7QdDAMmSVeYl2g7GEN1CjEifgR4GriG7d8W/eXMbETEjcAjwATwDPCrmfm9t/pZ\\\n",
       "nkKUVLXeZyy3Nrb68epZZ537uI+x2thQXaLNU4iX73Xgtsz8KeBDwO0R8WHgN4GTmfk+4LvAJ6qb\\\n",
       "oiTtjZdo219DFbDuIpi/6959R/crgduAL3fHH4bzTh5L0hDyEm37a6gCBhARV0XE14BXgCeBvwQ2\\\n",
       "M/ON7kNeBK6raHqStCdeom3/XV31BM6Xmd8HPhQR48BjwPv3+r0RsQAsABw9enRf5idJb6fT6Qz8\\\n",
       "NvPe1Wx6l2i7j/sGLtHWi5iXaLs0Q3cE1pOZm8AK8BFgPCJ6sb0eeGmX71nMzOnMnD5y5MjBTFSS\\\n",
       "zuMl2g7GUAUsIo50j7yIiB8FPga8wHbIfqH7sLuAxyuZoCTtMHn/6f7X+bxE2/4btlOI1wIPR8RV\\\n",
       "bMf10cxcjojngUci4t8Cfw58vspJStJe9KK0tLQ0sFS+91vQZ2dnmZ+fN16Xaag+B3Yl+TkwSftt\\\n",
       "55HX+meO7fq4ki7RVtLnwIbtCEySivFW0drJS7Ttj6F6D0ySpL0yYJKkIhkwSVKRDJgkqUgGTJJU\\\n",
       "JAMmSSqSAZMkFcmASZKKZMAkSUUyYJKkIhkwSVKRDJgkqUgG7DJ1Op1LGpckXVkG7DI0m02mpqZo\\\n",
       "t9sD4+12m6mpKX+3jyQdAAN2iZrNJq1Wi42NDWZnZ/sRa7fbzM7OsrGxQavVMmKStM8M2CXoxaun\\\n",
       "F7HTp0/349VjxCRpfxmwPep0OiwtLQ2MzTHH1sYWx48fZ2tjiznmBrYvLS35npgk7RMDtkcTExOs\\\n",
       "rKxQq9WA7Xid4AQnOckkk5zkJCc40Y9YrVZjZWXF37gqSfvEgF2Cer3ej9gqq6yzziSTPMRDTDLJ\\\n",
       "OuusstqPV71er3rKkjSyDNglqtfrLC4usskmLVoD21q02GSTxcVF4yVJ+8yAXaJ2u83CwgLjjNOg\\\n",
       "MbCtQYNxxllYWLhgib0k6coyYJdg51L5GWb6pw3v5u7+6cQZZi5YYi9JuvIiM6uew76Ynp7OtbW1\\\n",
       "K/bzOp0OU1NTA0vl55hjlVU22WSccWaY4RSn+ttrtRpnzpxxIYekYkTEM5k5XfU89mKojsAi4oaI\\\n",
       "WImI5yPiuYg40R1/d0Q8GRHf6P75roOe28TEBPPz8wNjpzjFWG2M5eVlxmpjA/ECmJ+fN16StE+G\\\n",
       "KmDAG8CnMvNm4MPAPRFxM3A/8FRm3gQ81b1/4JrNJo3Gm+979VYbHjt2bGCJPUCj0fCDzJK0j66u\\\n",
       "egI7ZebLwMvd238bES8A1wF3ADPdhz0MrAL/ej/m8ML7f6J/+yf+4oULtveitLS0NLBUvrfEfnZ2\\\n",
       "lvn5eeMlSftsaN8Di4hJ4Gngg8D/yczx7ngA3+3d383lvgf2dgHr6XQ6Fz09uNu4JJXA98B+SBHx\\\n",
       "Y8DvAZ/MzL/ZuS23i3vR6kbEQkSsRcTaq6++uq9z3C1SxkuSDsZQnUIEiIh3sB2vL2Xm73eHvxMR\\\n",
       "12bmyxFxLfDKxb43MxeBRdg+Arucv/+tjrokScNjqI7AuqcHPw+8kJm/tWPTE8Bd3dt3AY8f9Nwk\\\n",
       "ScNl2I7A/gnwq8DXI+Jr3bHfAD4DPBoRnwC+BfxSNdOTJA2LoQpYZv4PIHbZ/NMHORdJ0nAbqlOI\\\n",
       "kiTtlQGTJBXJgEmSimTAJElFMmCSpCIZMElSkQyYJKlIBkySVCQDJkkqkgGTJBXJgEmSimTAJElF\\\n",
       "MmCSpCIZMElSkQyYJKlIBkySVCQDJkkqkgGTJBXJgEmSimTAJElFMmCSpCIZMElSkQyYJKlIBkyS\\\n",
       "VCQDJkkq0tAFLCK+EBGvRMSzO8beHRFPRsQ3un++q8o5HhadTueSxiXpIA1dwIAvArefN3Y/8FRm\\\n",
       "3gQ81b2vfdRsNpmamqLdbg+Mt9ttpqamaDab1UxMUt9hf5E5dAHLzKeBvz5v+A7g4e7th4G5g5zT\\\n",
       "YdNsNmm1WmxsbDA7O9uPWLvdZnZ2lo2NDVqtlhGTKuSLTCAzh+4LmASe3XF/c8ft2Hl/t69bbrkl\\\n",
       "dekajUYCA1+1Wi2Xl5ezVqtdsK3RaFQ9ZenQ2fk8rdVqefbs2czMPHv27MDz9HKen8BaDkEH9vJV\\\n",
       "+QQuOqm3CFj3/nd3+b4FYA1YO3r06F7/e6nrtddeuyBSc8zlOOMJ5DjjOcfcBXF77bXXqp66dGjs\\\n",
       "94vMkgI2dKcQd/GdiLgWoPvnKxd7UGYuZuZ0Zk4fOXLkQCc4CiYmJlhZWaFWqwEwxxwnOMFJTjLJ\\\n",
       "JCc5yQlOMNc9g1ur1VhZWWFiYqLCWUuHR6fTYWlpaWBsjjm2NrY4fvw4Wxtb/ednz9LS0si+J1ZK\\\n",
       "wJ4A7urevgt4vMK5jLR6vd6P2CqrrLPOJJM8xENMMsk666yy2o9XvV6vesrSoeGLzEFDF7CI+B3g\\\n",
       "fwL/KCJejIhPAJ8BPhYR3wA+2r2vfVKv11lcXGSTTVq0Bra1aLHJJouLi8ZLqoAvMt8U26c8R8/0\\\n",
       "9HSura1VPY0i9VYbbm1s9V/Z9ayzzn3cx1htbOSfHNIwO336NMePH+/Hq+du7maddZaXlzl27Ngl\\\n",
       "/9yIeCYzp6/kXPfL0B2BqVo7l8rPMNN/Rdd7UkwyyQwzFyyxl3Rw2u02CwsLjDNOg8bAtgYNxhln\\\n",
       "YWFh5J+fBkx9nU6nHy+AU5zis3yW+7ivf+T1WT7LKU4B9CM2qm8QS8PIF5lvMmDqm5iYYH5+fmDs\\\n",
       "FKcYq42xvLzMWG2sH6+e+fn5kX2DWBo2vsgcZMA0oNls0mi8eUqi90bwsWPHBlY/ATQajcPxaX9p\\\n",
       "SPgi8zxVfxBtv768EsfuPvjFD/a/dtNoNAY+4d/T+6S/V+CQquOVOLa/XIV4CP3kwz/Zv/31u76+\\\n",
       "6+M6nc5FX7ntNi7pyvj3v3y8f/tTv7t80cc0m02WlpYuWA3ce49sfn7+ss6QlLQK8eqqJ6DhtVuk\\\n",
       "jJdUvWazyb333nvB87Fer3PmzJlD8Tw1YIfQWx11SSrHYX+RacAkacjsdtpQg1yFKEkqkgGTJBXJ\\\n",
       "gEmSimTAJElFMmCSpCIZMElSkQyYJKlIBkySVCQDJkkqkgGTJBXJgEmSimTAJElFMmCSpCIZMElS\\\n",
       "kQyYJKlIxQQsIm6PiLMRcS4i7q96PpKkahURsIi4Cvgc8DPAzcCvRMTN1c5KklSlIgIG3Aqcy8y/\\\n",
       "yszvAY8Ad1Q8J0lShUoJ2HXAt3fcf7E7Jkk6pEoJ2J5ExEJErEXE2quvvlr1dCRJ+6iUgL0E3LDj\\\n",
       "/vXdsQGZuZiZ05k5feTIkQObnCTp4JUSsD8DboqIGyPincCdwBMVz0mSVKGrq57AXmTmGxHxL4E/\\\n",
       "Aq4CvpCZz1U8LUlShYoIGEBm/gHwB1XPQ5I0HEo5hShJ0gADJkkqkgGTJBXJgEmSimTAJElFMmCS\\\n",
       "pCIZMElSkQyYJKlIBkySVCQDJkkqkgGTJBXJgEmSimTAJElFMmCSpCIZMElSkQyYJKlIBkySVCQD\\\n",
       "JkkqkgGTJBXJgEmSimTAJElFMmCSpCIZMElSkQyYJKlIQxOwiPjFiHguIn4QEdPnbft0RJyLiLMR\\\n",
       "8fGq5ihJGh5XVz2BHZ4Ffh74LzsHI+Jm4E7gA0AN+EpE1DPz+wc/RUnSsBiaI7DMfCEzz15k0x3A\\\n",
       "I5n5emZ+EzgH3Hqws5MkDZuhCdhbuA749o77L3bHJEmH2IGeQoyIrwDvvcimBzLz8Svw8xeABYCj\\\n",
       "R4/+sD9OkjTEDjRgmfnRy/i2l4Abdty/vjt2sZ+/CCwCTE9P52X8XZKkQpRwCvEJ4M6IuCYibgRu\\\n",
       "Ar5a8ZwkSRUbmoBFxM9FxIvAR4DTEfFHAJn5HPAo8DzwX4F7XIEoSRqaZfSZ+Rjw2C7bHgQePNgZ\\\n",
       "SZKG2dAcgUmSdCkMmCSpSAZMklQkAyZJKpIBkyQVyYBJkopkwCRJRTJgkqQiGTBJUpEMmCSpSAZM\\\n",
       "klQkAyZJKpIBkyQVyYBJkopkwCRJRTJgkqQiGTBJUpEMmCSpSAZMklQkAyZJKpIBkyQVyYBJkopk\\\n",
       "wCRJRTJgkqQiDU3AIuLfRcRfRMSZiHgsIsZ3bPt0RJyLiLMR8fEKpylJGhJDEzDgSeCDmTkFtIFP\\\n",
       "A0TEzcCdwAeA24HfjoirKpulJGkoDE3AMvOPM/ON7t0/Aa7v3r4DeCQzX8/MbwLngFurmKMkaXgM\\\n",
       "TcDO82vAH3ZvXwd8e8e2F7tjkqRD7OqD/Msi4ivAey+y6YHMfLz7mAeAN4AvXcbPXwAWAI4ePfpD\\\n",
       "zFSSNOwONGCZ+dG32h4R/wI4Dvx0ZmZ3+CXghh0Pu747drGfvwgsAkxPT+fFHiNJGg1DcwoxIm4H\\\n",
       "/hXws5m5tWPTE8CdEXFNRNwI3AR8tYo5SpKGx4Eegb2N/wRcAzwZEQB/kpm/npnPRcSjwPNsn1q8\\\n",
       "JzO/X+E8JUlDYGgClpnve4ttDwIPHuB0JElDbmhOIUqSLl+n07mk8VFgwCSpcM1mk6mpKdrt9sB4\\\n",
       "u91mamqKZrNZzcT2mQGTpII1m01arRYbGxvMzs72I9Zut5mdnWVjY4NWqzWSETNgklSoXrx6ehE7\\\n",
       "ffp0P149oxgxAyZJBep0OiwtLQ2MzTHH1sYWx48fZ2tjiznmBrYvLS2N1HtiBkySCjQxMcHKygq1\\\n",
       "Wg3YjtcJTnCSk0wyyUlOcoIT/YjVajVWVlaYmJiocNZXlgGTpELV6/V+xFZZZZ11JpnkIR5ikknW\\\n",
       "WWeV1X686vV61VO+ogyYJBWsXq+zuLjIJpu0aA1sa9Fik00WFxdHLl5gwCSpaO12m4WFBcYZp0Fj\\\n",
       "YFuDBuOMs7CwcMES+1FgwCSpUDuXys8w0z9teDd3908nzjBzwRL7URFvXvR9tExPT+fa2lrV05Ck\\\n",
       "fdHpdJiamhpYKj/HHKussskm44wzwwynONXfXqvVOHPmzFsu5IiIZzJzej/nfqV4BCZJBZqYmGB+\\\n",
       "fn5g7BSnGKuNsby8zFhtbCBeAPPz8yO1CnFoLuYrSbrQ5379v/Vv3/OfbxvY1vtgcu/DzDtXG66s\\\n",
       "rAx8mLnRaIzcB5kNmCQVrBelpaWlgaXyOyM2Pz8/cvECAyZJxWs2m9x7770XnB6s1+tv+55XyQyY\\\n",
       "JA2x808b7ma3SI1qvMBFHJKkQhkwSVKRDJgkqUgGTJJUJAMmSSqSAZMkFcmASZKKNLIX842IV4Fv\\\n",
       "VT2PA/Ae4LWqJ3HA3OfDwX2uxj/IzCMVz2FPRjZgh0VErJVy5egrxX0+HNxnvR1PIUqSimTAJElF\\\n",
       "MmDlW6x6AhVwnw8H91lvyffAJElF8ghMklQkA1agiPjFiHguIn4QEdPnbft0RJyLiLMR8fGq5rgf\\\n",
       "IuL27n6di4j7q57PfomIL0TEKxHx7I6xd0fEkxHxje6f76pyjldaRNwQESsR8Xz33/aJ7vjI7ndE\\\n",
       "/EhEfDUi/nd3n1vd8Rsj4k+7/85/NyLeWfVch5UBK9OzwM8DT+8cjIibgTuBDwC3A78dEVcd/PSu\\\n",
       "vO5+fA74GeBm4Fe6+zuKvsj2f7+d7geeysybgKe690fJG8CnMvNm4MPAPd3/vqO8368Dt2XmTwEf\\\n",
       "Am6PiA8DvwmczMz3Ad8FPlHdFIebAStQZr6QmWcvsukO4JHMfD0zvwmcA2492Nntm1uBc5n5V5n5\\\n",
       "PeARtvd35GTm08Bfnzd8B/Bw9/bDwNxBzmm/ZebLmfm/urf/FngBuI4R3u/c9nfdu+/ofiVwG/Dl\\\n",
       "7vhI7fOVZsBGy3XAt3fcf7E7NgpGed/24scz8+Xu7f8L/HiVk9lPETEJ/GPgTxnx/Y6IqyLia8Ar\\\n",
       "wJPAXwKbmflG9yGH7d/5Jbm66gno4iLiK8B7L7Lpgcx8/KDno+GRmRkRI7l8OCJ+DPg94JOZ+TcR\\\n",
       "0d82ivudmd8HPhQR48BjwPurnVFZDNiQysyPXsa3vQTcsOP+9d2xUTDK+7YX34mIazPz5Yi4lu1X\\\n",
       "7CMlIt7Bdry+lJm/3x0e+f0GyMzNiFgBPgKMR8TV3aOww/bv/JJ4CnG0PAHcGRHXRMSNwE3AVyue\\\n",
       "05XyZ8BN3RVa72R7scoTFc/pID0B3NW9fRcwUkfhsX2o9Xnghcz8rR2bRna/I+JI98iLiPhR4GNs\\\n",
       "v/e3AvxC92Ejtc9Xmh9kLlBE/BzwH4EjwCbwtcz8eHfbA8Cvsb2q65OZ+YdVzfNKi4h/BvwH4Crg\\\n",
       "C5n5YLUz2h8R8TvADNtXJv8O0ABOAY8CR9n+LQu/lJnnL/QoVkT8U+C/A18HftAd/g223wcbyf2O\\\n",
       "iCm2F2lcxfbBxKOZ+W8i4h+yvUjp3cCfA/88M1+vbqbDy4BJkorkKURJUpEMmCSpSAZMklQkAyZJ\\\n",
       "KpIBkyQVyYBJkopkwCRJRTJgkqQiGTBJUpEMmCSpSAZMklQkAyZJKpIBkyQVyYBJkopkwCRJRTJg\\\n",
       "kqQiGTBJUpEMmCSpSAZMklQkAyZJKtL/B4JQt3tiTzSAAAAAAElFTkSuQmCC\\\n",
       "\"\n",
       "\n",
       "\n",
       "    /* set a timeout to make sure all the above elements are created before\n",
       "       the object is initialized. */\n",
       "    setTimeout(function() {\n",
       "        anim4bd475cf54d6467ca535acf0c5e77ae4 = new Animation(frames, img_id, slider_id, 500.0,\n",
       "                                 loop_select_id);\n",
       "    }, 0);\n",
       "  })()\n",
       "</script>\n"
      ],
      "text/plain": [
       "<IPython.core.display.HTML object>"
      ]
     },
     "execution_count": null,
     "metadata": {},
     "output_type": "execute_result"
    }
   ],
   "source": [
    "# create animation\n",
    "X = data.clone()\n",
    "fig, ax = plt.subplots()\n",
    "# frames - number of times func (`do_one`) is called\n",
    "ani = FuncAnimation(fig, do_one, frames=5, interval=500, repeat=False)\n",
    "plt.close()\n",
    "HTML(ani.to_jshtml())"
   ]
  },
  {
   "cell_type": "markdown",
   "id": "c95a5ee7-54cb-4881-ad4a-f0d833156bb2",
   "metadata": {},
   "source": [
    "### GPU batched algorithm"
   ]
  },
  {
   "cell_type": "markdown",
   "id": "f36b0ac5-7c82-4ab4-8d5d-bd1cd20d5153",
   "metadata": {},
   "source": [
    "To accelerate the algorithm, we can run it on a GPU. The main issue is the loop through each data point (1500 in total). This loope cannot be optimized by GPU. Besides, calling GPU calculation inside Python loop can eve increase the total time due to the GPU overheards.\n",
    "\n",
    "So our goal is to get rid of the loop by using batched of data."
   ]
  },
  {
   "cell_type": "code",
   "execution_count": null,
   "id": "a1d4db53-3b7b-4672-b3e7-c1ca22009f7f",
   "metadata": {},
   "outputs": [
    {
     "data": {
      "text/plain": [
       "(torch.Size([5, 2]), torch.Size([1500, 2]))"
      ]
     },
     "execution_count": null,
     "metadata": {},
     "output_type": "execute_result"
    }
   ],
   "source": [
    "bs=5\n",
    "X = data.clone()\n",
    "x = X[:bs]\n",
    "x.shape, X.shape"
   ]
  },
  {
   "cell_type": "markdown",
   "id": "db52f48e-33a7-4366-a077-68d05b06aa3a",
   "metadata": {},
   "source": [
    "We need to calculate the difference between each point in a batch and every other point"
   ]
  },
  {
   "cell_type": "code",
   "execution_count": null,
   "id": "4f45b823-bf91-4322-816f-3b5cc70dc2c9",
   "metadata": {},
   "outputs": [],
   "source": [
    "#    (5, 2)\n",
    "# (1500, 2)\n",
    "\n",
    "# (5, 1500, 2)\n",
    "# (1, 1500, 2)"
   ]
  },
  {
   "cell_type": "code",
   "execution_count": null,
   "id": "18754f24-149a-4ae3-8313-c6263f526687",
   "metadata": {},
   "outputs": [
    {
     "data": {
      "text/plain": [
       "torch.Size([5, 1500, 2])"
      ]
     },
     "execution_count": null,
     "metadata": {},
     "output_type": "execute_result"
    }
   ],
   "source": [
    "(x[:,None,:] - X[None]).shape"
   ]
  },
  {
   "cell_type": "markdown",
   "id": "fe673fff-6cfc-4cdf-9632-f3a7a3cdbd35",
   "metadata": {},
   "source": [
    "Note, that we can leave trailing dimensions and not specify `:`"
   ]
  },
  {
   "cell_type": "code",
   "execution_count": null,
   "id": "558628ee-199d-4de2-85af-1e64a9223fac",
   "metadata": {},
   "outputs": [
    {
     "data": {
      "text/plain": [
       "torch.Size([5, 1500, 2])"
      ]
     },
     "execution_count": null,
     "metadata": {},
     "output_type": "execute_result"
    }
   ],
   "source": [
    "(x[:,None] - X[None]).shape"
   ]
  },
  {
   "cell_type": "markdown",
   "id": "33933465-d582-445a-9009-d9cc4e6d900e",
   "metadata": {},
   "source": [
    "We sum across the last dimension"
   ]
  },
  {
   "cell_type": "code",
   "execution_count": null,
   "id": "6e3d4b9f-6ba5-4ca1-8037-f034a83f9c9e",
   "metadata": {},
   "outputs": [
    {
     "data": {
      "text/plain": [
       "tensor([[ 0.000,  3.899,  4.834,  ..., 17.628, 22.610, 21.617],\n",
       "        [ 3.899,  0.000,  4.978,  ..., 21.499, 26.508, 25.500],\n",
       "        [ 4.834,  4.978,  0.000,  ..., 19.373, 24.757, 23.396],\n",
       "        [ 3.726,  0.185,  4.969,  ..., 21.335, 26.336, 25.333],\n",
       "        [ 6.273,  5.547,  1.615,  ..., 20.775, 26.201, 24.785]])"
      ]
     },
     "execution_count": null,
     "metadata": {},
     "output_type": "execute_result"
    }
   ],
   "source": [
    "((x[:,None] - X[None])**2).sum(-1).sqrt()"
   ]
  },
  {
   "cell_type": "code",
   "execution_count": null,
   "id": "41237c84-8d47-456e-9822-31e1681d47ef",
   "metadata": {},
   "outputs": [],
   "source": [
    "def dist_b(a, b): return ((a[:, None] - b[None])**2).sum(-1).sqrt()"
   ]
  },
  {
   "cell_type": "code",
   "execution_count": null,
   "id": "9780113c-af9c-4169-81b6-4baa376127ca",
   "metadata": {},
   "outputs": [
    {
     "data": {
      "text/plain": [
       "torch.Size([5, 1500])"
      ]
     },
     "execution_count": null,
     "metadata": {},
     "output_type": "execute_result"
    }
   ],
   "source": [
    "dist_b(x, X).shape"
   ]
  },
  {
   "cell_type": "code",
   "execution_count": null,
   "id": "d7dfbb0c-0454-457b-ad6b-3b52e9a46ffb",
   "metadata": {},
   "outputs": [],
   "source": [
    "weights = gaussian(dist_b(x, X), bw=2)"
   ]
  },
  {
   "cell_type": "code",
   "execution_count": null,
   "id": "4b2ada89-c481-405f-8c64-7cc9dc840602",
   "metadata": {},
   "outputs": [
    {
     "data": {
      "text/plain": [
       "(torch.Size([5, 1500]), torch.Size([1500, 2]))"
      ]
     },
     "execution_count": null,
     "metadata": {},
     "output_type": "execute_result"
    }
   ],
   "source": [
    "weights.shape, X.shape"
   ]
  },
  {
   "cell_type": "code",
   "execution_count": null,
   "id": "9a3e2bde-7c8d-4f65-bb6e-cb19300729a0",
   "metadata": {},
   "outputs": [
    {
     "data": {
      "text/plain": [
       "torch.Size([5, 1500, 2])"
      ]
     },
     "execution_count": null,
     "metadata": {},
     "output_type": "execute_result"
    }
   ],
   "source": [
    "(weights[...,None] * X[None]).shape"
   ]
  },
  {
   "cell_type": "markdown",
   "id": "02c69961-ef87-4f2f-9b55-6fa6d250ae94",
   "metadata": {},
   "source": [
    "The resulting shape is (5, 1500, 2). Which is the distance for each of our 5 examples (which consists of 2 coordinates) to each of the 1500 data points. So we sum over the second dimension"
   ]
  },
  {
   "cell_type": "code",
   "execution_count": null,
   "id": "1b923abe-e31d-49d8-a17b-2d74220dee11",
   "metadata": {},
   "outputs": [
    {
     "data": {
      "text/plain": [
       "tensor([[367.870, 386.231],\n",
       "        [518.332, 588.680],\n",
       "        [329.665, 330.782],\n",
       "        [527.617, 598.217],\n",
       "        [231.302, 234.155]])"
      ]
     },
     "execution_count": null,
     "metadata": {},
     "output_type": "execute_result"
    }
   ],
   "source": [
    "(weights[...,None] * X[None]).sum(1)"
   ]
  },
  {
   "cell_type": "markdown",
   "id": "0895fcc2-182d-4568-8583-5a758f3e4c5f",
   "metadata": {},
   "source": [
    "Note, that we multiply and sum up, which means, we can calculate this as an Einstein sum"
   ]
  },
  {
   "cell_type": "code",
   "execution_count": null,
   "id": "66a33f77-e3c5-4458-8a21-2b377f819b23",
   "metadata": {},
   "outputs": [
    {
     "data": {
      "text/plain": [
       "tensor([[367.870, 386.231],\n",
       "        [518.332, 588.680],\n",
       "        [329.665, 330.782],\n",
       "        [527.617, 598.217],\n",
       "        [231.302, 234.155]])"
      ]
     },
     "execution_count": null,
     "metadata": {},
     "output_type": "execute_result"
    }
   ],
   "source": [
    "torch.einsum('ik,kj->ij', weights, X)"
   ]
  },
  {
   "cell_type": "markdown",
   "id": "49fa5ea6-b38f-43df-8caf-e836a4106dc0",
   "metadata": {},
   "source": [
    "But this means that we are actually just matrix multiplying!"
   ]
  },
  {
   "cell_type": "code",
   "execution_count": null,
   "id": "d3bdd860-ab50-4710-adc7-e1c504ad5e2e",
   "metadata": {},
   "outputs": [
    {
     "data": {
      "text/plain": [
       "tensor([[367.870, 386.231],\n",
       "        [518.332, 588.680],\n",
       "        [329.665, 330.782],\n",
       "        [527.617, 598.217],\n",
       "        [231.302, 234.155]])"
      ]
     },
     "execution_count": null,
     "metadata": {},
     "output_type": "execute_result"
    }
   ],
   "source": [
    "weights @ X"
   ]
  },
  {
   "cell_type": "code",
   "execution_count": null,
   "id": "4b4158c6-64fb-4e4c-a5a0-84b4d9a5ea9a",
   "metadata": {},
   "outputs": [],
   "source": [
    "num = weights @ X"
   ]
  },
  {
   "cell_type": "code",
   "execution_count": null,
   "id": "14c13fa5-30b6-4a26-908d-90354582890a",
   "metadata": {},
   "outputs": [],
   "source": [
    "div = weights.sum(1, keepdim=True)"
   ]
  },
  {
   "cell_type": "code",
   "execution_count": null,
   "id": "4a4eb034-64fd-4c41-8bc8-a5f9f4873e56",
   "metadata": {},
   "outputs": [
    {
     "data": {
      "text/plain": [
       "tensor([[26.376, 27.692],\n",
       "        [26.101, 29.643],\n",
       "        [28.892, 28.990],\n",
       "        [26.071, 29.559],\n",
       "        [29.323, 29.685]])"
      ]
     },
     "execution_count": null,
     "metadata": {},
     "output_type": "execute_result"
    }
   ],
   "source": [
    "num / div"
   ]
  },
  {
   "cell_type": "markdown",
   "id": "2d4a12bb-f5d1-4d34-ae53-c12f3e542aa2",
   "metadata": {},
   "source": [
    "Now let's combine it all in a single function"
   ]
  },
  {
   "cell_type": "code",
   "execution_count": null,
   "id": "b3748de2-fc99-460a-be2d-61c4bf7929bc",
   "metadata": {},
   "outputs": [],
   "source": [
    "def meanshift(data, bs=64):\n",
    "    n = len(data)\n",
    "    X = data.clone()\n",
    "    for it in range(5):\n",
    "        for i in range(0, n, bs):\n",
    "            s = slice(i, min(i+bs, n))\n",
    "            weights = gaussian(dist_b(X[s],X), bw=2.5)\n",
    "            div = weights.sum(dim=1, keepdim=True)\n",
    "            X[s] = weights @ X / div\n",
    "    return X        "
   ]
  },
  {
   "cell_type": "code",
   "execution_count": null,
   "id": "95f07fb3-7640-41e9-866f-6cde532709cd",
   "metadata": {},
   "outputs": [],
   "source": [
    "data = data.cuda()"
   ]
  },
  {
   "cell_type": "code",
   "execution_count": null,
   "id": "1ccff768-1898-4974-b60b-0e795a0e59e5",
   "metadata": {},
   "outputs": [],
   "source": [
    "X = meanshift(data, bs=64).cpu()"
   ]
  },
  {
   "cell_type": "code",
   "execution_count": null,
   "id": "5e1edc3f-cea0-4e9d-9d93-988b78e77d3b",
   "metadata": {},
   "outputs": [
    {
     "name": "stdout",
     "output_type": "stream",
     "text": [
      "5.48 ms ± 352 µs per loop (mean ± std. dev. of 7 runs, 5 loops each)\n"
     ]
    }
   ],
   "source": [
    "%timeit -n 5 _ = meanshift(data, bs=256).cpu()"
   ]
  },
  {
   "cell_type": "code",
   "execution_count": null,
   "id": "67aef878-fbc4-4d92-af46-0c8c43fb492f",
   "metadata": {},
   "outputs": [
    {
     "data": {
      "image/png": "[encoded data removed]",
      "text/plain": [
       "<Figure size 432x288 with 1 Axes>"
      ]
     },
     "metadata": {
      "needs_background": "light"
     },
     "output_type": "display_data"
    }
   ],
   "source": [
    "plot_data(centroids+2, X, n_samples)"
   ]
  },
  {
   "cell_type": "code",
   "execution_count": null,
   "id": "0c1a049c-5ae5-40fa-b142-e8da148448ff",
   "metadata": {},
   "outputs": [],
   "source": []
  }
 ],
 "metadata": {
  "kernelspec": {
   "display_name": "python3",
   "language": "python",
   "name": "python3"
  }
 },
 "nbformat": 4,
 "nbformat_minor": 5
}
